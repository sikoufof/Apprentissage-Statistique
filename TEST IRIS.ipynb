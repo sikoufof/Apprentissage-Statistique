{
 "cells": [
  {
   "cell_type": "code",
   "execution_count": 5,
   "metadata": {},
   "outputs": [
    {
     "data": {
      "text/html": [
       "<div>\n",
       "<style scoped>\n",
       "    .dataframe tbody tr th:only-of-type {\n",
       "        vertical-align: middle;\n",
       "    }\n",
       "\n",
       "    .dataframe tbody tr th {\n",
       "        vertical-align: top;\n",
       "    }\n",
       "\n",
       "    .dataframe thead th {\n",
       "        text-align: right;\n",
       "    }\n",
       "</style>\n",
       "<table border=\"1\" class=\"dataframe\">\n",
       "  <thead>\n",
       "    <tr style=\"text-align: right;\">\n",
       "      <th></th>\n",
       "      <th>sepal_length</th>\n",
       "      <th>sepal_width</th>\n",
       "      <th>petal_length</th>\n",
       "      <th>petal_width</th>\n",
       "      <th>species</th>\n",
       "      <th>species_id</th>\n",
       "    </tr>\n",
       "  </thead>\n",
       "  <tbody>\n",
       "    <tr>\n",
       "      <th>0</th>\n",
       "      <td>5.1</td>\n",
       "      <td>3.5</td>\n",
       "      <td>1.4</td>\n",
       "      <td>0.2</td>\n",
       "      <td>setosa</td>\n",
       "      <td>1</td>\n",
       "    </tr>\n",
       "    <tr>\n",
       "      <th>1</th>\n",
       "      <td>4.9</td>\n",
       "      <td>3.0</td>\n",
       "      <td>1.4</td>\n",
       "      <td>0.2</td>\n",
       "      <td>setosa</td>\n",
       "      <td>1</td>\n",
       "    </tr>\n",
       "    <tr>\n",
       "      <th>2</th>\n",
       "      <td>4.7</td>\n",
       "      <td>3.2</td>\n",
       "      <td>1.3</td>\n",
       "      <td>0.2</td>\n",
       "      <td>setosa</td>\n",
       "      <td>1</td>\n",
       "    </tr>\n",
       "    <tr>\n",
       "      <th>3</th>\n",
       "      <td>4.6</td>\n",
       "      <td>3.1</td>\n",
       "      <td>1.5</td>\n",
       "      <td>0.2</td>\n",
       "      <td>setosa</td>\n",
       "      <td>1</td>\n",
       "    </tr>\n",
       "    <tr>\n",
       "      <th>4</th>\n",
       "      <td>5.0</td>\n",
       "      <td>3.6</td>\n",
       "      <td>1.4</td>\n",
       "      <td>0.2</td>\n",
       "      <td>setosa</td>\n",
       "      <td>1</td>\n",
       "    </tr>\n",
       "    <tr>\n",
       "      <th>...</th>\n",
       "      <td>...</td>\n",
       "      <td>...</td>\n",
       "      <td>...</td>\n",
       "      <td>...</td>\n",
       "      <td>...</td>\n",
       "      <td>...</td>\n",
       "    </tr>\n",
       "    <tr>\n",
       "      <th>145</th>\n",
       "      <td>6.7</td>\n",
       "      <td>3.0</td>\n",
       "      <td>5.2</td>\n",
       "      <td>2.3</td>\n",
       "      <td>virginica</td>\n",
       "      <td>3</td>\n",
       "    </tr>\n",
       "    <tr>\n",
       "      <th>146</th>\n",
       "      <td>6.3</td>\n",
       "      <td>2.5</td>\n",
       "      <td>5.0</td>\n",
       "      <td>1.9</td>\n",
       "      <td>virginica</td>\n",
       "      <td>3</td>\n",
       "    </tr>\n",
       "    <tr>\n",
       "      <th>147</th>\n",
       "      <td>6.5</td>\n",
       "      <td>3.0</td>\n",
       "      <td>5.2</td>\n",
       "      <td>2.0</td>\n",
       "      <td>virginica</td>\n",
       "      <td>3</td>\n",
       "    </tr>\n",
       "    <tr>\n",
       "      <th>148</th>\n",
       "      <td>6.2</td>\n",
       "      <td>3.4</td>\n",
       "      <td>5.4</td>\n",
       "      <td>2.3</td>\n",
       "      <td>virginica</td>\n",
       "      <td>3</td>\n",
       "    </tr>\n",
       "    <tr>\n",
       "      <th>149</th>\n",
       "      <td>5.9</td>\n",
       "      <td>3.0</td>\n",
       "      <td>5.1</td>\n",
       "      <td>1.8</td>\n",
       "      <td>virginica</td>\n",
       "      <td>3</td>\n",
       "    </tr>\n",
       "  </tbody>\n",
       "</table>\n",
       "<p>150 rows × 6 columns</p>\n",
       "</div>"
      ],
      "text/plain": [
       "     sepal_length  sepal_width  petal_length  petal_width    species  \\\n",
       "0             5.1          3.5           1.4          0.2     setosa   \n",
       "1             4.9          3.0           1.4          0.2     setosa   \n",
       "2             4.7          3.2           1.3          0.2     setosa   \n",
       "3             4.6          3.1           1.5          0.2     setosa   \n",
       "4             5.0          3.6           1.4          0.2     setosa   \n",
       "..            ...          ...           ...          ...        ...   \n",
       "145           6.7          3.0           5.2          2.3  virginica   \n",
       "146           6.3          2.5           5.0          1.9  virginica   \n",
       "147           6.5          3.0           5.2          2.0  virginica   \n",
       "148           6.2          3.4           5.4          2.3  virginica   \n",
       "149           5.9          3.0           5.1          1.8  virginica   \n",
       "\n",
       "     species_id  \n",
       "0             1  \n",
       "1             1  \n",
       "2             1  \n",
       "3             1  \n",
       "4             1  \n",
       "..          ...  \n",
       "145           3  \n",
       "146           3  \n",
       "147           3  \n",
       "148           3  \n",
       "149           3  \n",
       "\n",
       "[150 rows x 6 columns]"
      ]
     },
     "execution_count": 5,
     "metadata": {},
     "output_type": "execute_result"
    }
   ],
   "source": [
    "import plotly.express as px\n",
    "\n",
    "df = px.data.iris()\n",
    "df \n",
    "features = [\"sepal_width\", \"sepal_length\", \"petal_width\", \"petal_length\"]\n",
    "fig = px.scatter_matrix(df, dimensions=features, color=\"species\")\n",
    "fig.show()"
   ]
  },
  {
   "cell_type": "code",
   "execution_count": 2,
   "metadata": {},
   "outputs": [
    {
     "name": "stderr",
     "output_type": "stream",
     "text": [
      "c:\\Users\\SCD UM\\Anaconda3\\lib\\site-packages\\sklearn\\manifold\\_t_sne.py:780: FutureWarning:\n",
      "\n",
      "The default initialization in TSNE will change from 'random' to 'pca' in 1.2.\n",
      "\n",
      "c:\\Users\\SCD UM\\Anaconda3\\lib\\site-packages\\sklearn\\manifold\\_t_sne.py:790: FutureWarning:\n",
      "\n",
      "The default learning rate in TSNE will change from 200.0 to 'auto' in 1.2.\n",
      "\n"
     ]
    },
    {
     "data": {
      "application/vnd.plotly.v1+json": {
       "config": {
        "plotlyServerURL": "https://plot.ly"
       },
       "data": [
        {
         "hovertemplate": "species=setosa<br>0=%{x}<br>1=%{y}<extra></extra>",
         "legendgroup": "setosa",
         "marker": {
          "color": "#636efa",
          "symbol": "circle"
         },
         "mode": "markers",
         "name": "setosa",
         "orientation": "v",
         "showlegend": true,
         "type": "scatter",
         "x": [
          11.203381538391113,
          11.37282943725586,
          10.731367111206055,
          10.426812171936035,
          11.41380500793457,
          10.62907886505127,
          9.846573829650879,
          10.758933067321777,
          10.945525169372559,
          10.916740417480469,
          11.296732902526855,
          10.106170654296875,
          11.225285530090332,
          10.683374404907227,
          11.943778991699219,
          11.463371276855469,
          11.629549980163574,
          10.962324142456055,
          10.740304946899414,
          10.916054725646973,
          10.054426193237305,
          10.759654998779297,
          12.607532501220703,
          9.724876403808594,
          9.46678352355957,
          11.25736141204834,
          10.132583618164062,
          10.918724060058594,
          11.212019920349121,
          10.125227928161621,
          10.419758796691895,
          10.282330513000488,
          11.186108589172363,
          11.501545906066895,
          10.916740417480469,
          11.687835693359375,
          11.892300605773926,
          10.916740417480469,
          10.700681686401367,
          10.795616149902344,
          11.489882469177246,
          11.671204566955566,
          10.279662132263184,
          9.715995788574219,
          9.919859886169434,
          11.219789505004883,
          10.70861530303955,
          10.331002235412598,
          11.210128784179688,
          11.073227882385254
         ],
         "xaxis": "x",
         "y": [
          22.376367568969727,
          24.752634048461914,
          25.16218376159668,
          25.31012535095215,
          22.26905059814453,
          20.273693084716797,
          24.99319076538086,
          23.055084228515625,
          26.076416015625,
          24.35641860961914,
          20.926794052124023,
          23.759090423583984,
          25.07819175720215,
          26.413740158081055,
          19.853239059448242,
          19.438779830932617,
          20.429794311523438,
          22.316999435424805,
          19.903945922851562,
          21.141748428344727,
          21.530794143676758,
          21.495697021484375,
          24.534345626831055,
          22.634288787841797,
          23.69684410095215,
          24.301204681396484,
          22.804410934448242,
          21.988889694213867,
          22.413766860961914,
          24.596599578857422,
          24.51363754272461,
          21.692716598510742,
          20.18221664428711,
          19.785139083862305,
          24.35641860961914,
          23.829391479492188,
          21.319849014282227,
          24.35641860961914,
          26.058887481689453,
          22.725568771362305,
          22.73520278930664,
          26.3792724609375,
          25.904464721679688,
          22.325050354003906,
          20.719303131103516,
          25.10724449157715,
          20.999454498291016,
          25.29551124572754,
          21.146705627441406,
          23.407087326049805
         ],
         "yaxis": "y"
        },
        {
         "hovertemplate": "species=versicolor<br>0=%{x}<br>1=%{y}<extra></extra>",
         "legendgroup": "versicolor",
         "marker": {
          "color": "#EF553B",
          "symbol": "circle"
         },
         "mode": "markers",
         "name": "versicolor",
         "orientation": "v",
         "showlegend": true,
         "type": "scatter",
         "x": [
          -6.634748935699463,
          -5.896517276763916,
          -6.255396842956543,
          -6.152753829956055,
          -5.7971601486206055,
          -6.21687126159668,
          -5.17836332321167,
          -6.264244079589844,
          -6.2672810554504395,
          -6.870673179626465,
          -6.346282482147217,
          -5.707952499389648,
          -4.803289413452148,
          -5.1874003410339355,
          -6.4937543869018555,
          -6.6021809577941895,
          -6.4909348487854,
          -5.415360927581787,
          -3.7143266201019287,
          -5.727616310119629,
          -3.8480141162872314,
          -5.1508941650390625,
          -4.411885738372803,
          -5.337726593017578,
          -6.304983615875244,
          -6.445887565612793,
          -6.141441822052002,
          -5.471013069152832,
          -5.428782939910889,
          -5.509010314941406,
          -5.876526355743408,
          -5.81318473815918,
          -5.574233055114746,
          -3.3731138706207275,
          -6.901487350463867,
          -4.746460437774658,
          -6.2252397537231445,
          -3.934582471847534,
          -6.26242733001709,
          -6.266156196594238,
          -6.71957540512085,
          -5.394553184509277,
          -5.544342517852783,
          -6.2193121910095215,
          -6.301401615142822,
          -5.996982097625732,
          -6.0361528396606445,
          -5.929502487182617,
          -6.16118049621582,
          -5.9375810623168945
         ],
         "xaxis": "x",
         "y": [
          -12.773394584655762,
          -11.294950485229492,
          -13.110589027404785,
          -6.3035173416137695,
          -11.80751895904541,
          -8.523351669311523,
          -11.449214935302734,
          -4.797328472137451,
          -11.853565216064453,
          -6.39470100402832,
          -4.930803298950195,
          -8.718482971191406,
          -6.499583721160889,
          -10.562567710876465,
          -6.144495964050293,
          -11.8128023147583,
          -8.699557304382324,
          -7.153000831604004,
          -9.428370475769043,
          -6.355700969696045,
          -11.349834442138672,
          -7.995649337768555,
          -12.498516082763672,
          -10.218185424804688,
          -10.66362476348877,
          -11.527443885803223,
          -12.698081970214844,
          -13.592742919921875,
          -9.829073905944824,
          -5.70098876953125,
          -5.9585089683532715,
          -5.715181827545166,
          -6.90038537979126,
          -12.649504661560059,
          -8.373774528503418,
          -10.68499755859375,
          -12.42682933807373,
          -9.231761932373047,
          -7.6871562004089355,
          -6.591529369354248,
          -7.427961826324463,
          -10.404541969299316,
          -6.947665691375732,
          -4.842592239379883,
          -7.3542280197143555,
          -7.961693286895752,
          -7.921717166900635,
          -9.835542678833008,
          -4.673108100891113,
          -7.4769158363342285
         ],
         "yaxis": "y"
        },
        {
         "hovertemplate": "species=virginica<br>0=%{x}<br>1=%{y}<extra></extra>",
         "legendgroup": "virginica",
         "marker": {
          "color": "#00cc96",
          "symbol": "circle"
         },
         "mode": "markers",
         "name": "virginica",
         "orientation": "v",
         "showlegend": true,
         "type": "scatter",
         "x": [
          -1.579246997833252,
          -2.5847432613372803,
          -3.2959423065185547,
          -3.8119900226593018,
          -3.1787803173065186,
          -3.4066202640533447,
          -7.761749744415283,
          -3.75100040435791,
          -4.294388771057129,
          -2.3880486488342285,
          -2.653055429458618,
          -3.5521068572998047,
          -3.0578970909118652,
          -2.2338175773620605,
          -1.909522533416748,
          -2.1271188259124756,
          -3.601992130279541,
          -2.6840391159057617,
          -3.662775993347168,
          -2.8197646141052246,
          -2.6866629123687744,
          -2.295729160308838,
          -3.5937087535858154,
          -3.9476399421691895,
          -2.7378005981445312,
          -3.5693142414093018,
          -3.9732015132904053,
          -3.728055715560913,
          -3.555759906768799,
          -3.9686195850372314,
          -3.747539758682251,
          -2.6858739852905273,
          -3.4322524070739746,
          -4.271724224090576,
          -3.9561851024627686,
          -3.228769540786743,
          -1.6344603300094604,
          -3.537475109100342,
          -3.761500835418701,
          -2.8255615234375,
          -2.429152250289917,
          -2.3719875812530518,
          -2.5846805572509766,
          -2.6069865226745605,
          -2.1000664234161377,
          -2.497804880142212,
          -3.562152624130249,
          -2.9618966579437256,
          -1.5756208896636963,
          -3.0775396823883057
         ],
         "xaxis": "x",
         "y": [
          -17.47324562072754,
          -12.418822288513184,
          -18.310298919677734,
          -15.603277206420898,
          -17.053791046142578,
          -19.73303985595703,
          -7.317025661468506,
          -19.14990997314453,
          -16.922990798950195,
          -18.910472869873047,
          -15.313647270202637,
          -14.814724922180176,
          -16.899118423461914,
          -12.228858947753906,
          -12.85782527923584,
          -16.08020782470703,
          -15.792313575744629,
          -19.902074813842773,
          -20.033512115478516,
          -10.924689292907715,
          -17.729291915893555,
          -12.056452751159668,
          -19.854753494262695,
          -12.811017036437988,
          -17.407203674316406,
          -18.65877342224121,
          -12.272021293640137,
          -12.02436351776123,
          -16.26142120361328,
          -18.449026107788086,
          -19.057580947875977,
          -19.883302688598633,
          -16.393817901611328,
          -13.072063446044922,
          -14.241377830505371,
          -19.409292221069336,
          -16.82484245300293,
          -15.687219619750977,
          -11.690704345703125,
          -16.87516975402832,
          -17.163665771484375,
          -16.265100479125977,
          -12.417835235595703,
          -17.90962791442871,
          -17.531648635864258,
          -16.178239822387695,
          -13.217124938964844,
          -15.377680778503418,
          -16.273569107055664,
          -12.269739151000977
         ],
         "yaxis": "y"
        }
       ],
       "layout": {
        "legend": {
         "title": {
          "text": "species"
         },
         "tracegroupgap": 0
        },
        "margin": {
         "t": 60
        },
        "template": {
         "data": {
          "bar": [
           {
            "error_x": {
             "color": "#2a3f5f"
            },
            "error_y": {
             "color": "#2a3f5f"
            },
            "marker": {
             "line": {
              "color": "#E5ECF6",
              "width": 0.5
             },
             "pattern": {
              "fillmode": "overlay",
              "size": 10,
              "solidity": 0.2
             }
            },
            "type": "bar"
           }
          ],
          "barpolar": [
           {
            "marker": {
             "line": {
              "color": "#E5ECF6",
              "width": 0.5
             },
             "pattern": {
              "fillmode": "overlay",
              "size": 10,
              "solidity": 0.2
             }
            },
            "type": "barpolar"
           }
          ],
          "carpet": [
           {
            "aaxis": {
             "endlinecolor": "#2a3f5f",
             "gridcolor": "white",
             "linecolor": "white",
             "minorgridcolor": "white",
             "startlinecolor": "#2a3f5f"
            },
            "baxis": {
             "endlinecolor": "#2a3f5f",
             "gridcolor": "white",
             "linecolor": "white",
             "minorgridcolor": "white",
             "startlinecolor": "#2a3f5f"
            },
            "type": "carpet"
           }
          ],
          "choropleth": [
           {
            "colorbar": {
             "outlinewidth": 0,
             "ticks": ""
            },
            "type": "choropleth"
           }
          ],
          "contour": [
           {
            "colorbar": {
             "outlinewidth": 0,
             "ticks": ""
            },
            "colorscale": [
             [
              0,
              "#0d0887"
             ],
             [
              0.1111111111111111,
              "#46039f"
             ],
             [
              0.2222222222222222,
              "#7201a8"
             ],
             [
              0.3333333333333333,
              "#9c179e"
             ],
             [
              0.4444444444444444,
              "#bd3786"
             ],
             [
              0.5555555555555556,
              "#d8576b"
             ],
             [
              0.6666666666666666,
              "#ed7953"
             ],
             [
              0.7777777777777778,
              "#fb9f3a"
             ],
             [
              0.8888888888888888,
              "#fdca26"
             ],
             [
              1,
              "#f0f921"
             ]
            ],
            "type": "contour"
           }
          ],
          "contourcarpet": [
           {
            "colorbar": {
             "outlinewidth": 0,
             "ticks": ""
            },
            "type": "contourcarpet"
           }
          ],
          "heatmap": [
           {
            "colorbar": {
             "outlinewidth": 0,
             "ticks": ""
            },
            "colorscale": [
             [
              0,
              "#0d0887"
             ],
             [
              0.1111111111111111,
              "#46039f"
             ],
             [
              0.2222222222222222,
              "#7201a8"
             ],
             [
              0.3333333333333333,
              "#9c179e"
             ],
             [
              0.4444444444444444,
              "#bd3786"
             ],
             [
              0.5555555555555556,
              "#d8576b"
             ],
             [
              0.6666666666666666,
              "#ed7953"
             ],
             [
              0.7777777777777778,
              "#fb9f3a"
             ],
             [
              0.8888888888888888,
              "#fdca26"
             ],
             [
              1,
              "#f0f921"
             ]
            ],
            "type": "heatmap"
           }
          ],
          "heatmapgl": [
           {
            "colorbar": {
             "outlinewidth": 0,
             "ticks": ""
            },
            "colorscale": [
             [
              0,
              "#0d0887"
             ],
             [
              0.1111111111111111,
              "#46039f"
             ],
             [
              0.2222222222222222,
              "#7201a8"
             ],
             [
              0.3333333333333333,
              "#9c179e"
             ],
             [
              0.4444444444444444,
              "#bd3786"
             ],
             [
              0.5555555555555556,
              "#d8576b"
             ],
             [
              0.6666666666666666,
              "#ed7953"
             ],
             [
              0.7777777777777778,
              "#fb9f3a"
             ],
             [
              0.8888888888888888,
              "#fdca26"
             ],
             [
              1,
              "#f0f921"
             ]
            ],
            "type": "heatmapgl"
           }
          ],
          "histogram": [
           {
            "marker": {
             "pattern": {
              "fillmode": "overlay",
              "size": 10,
              "solidity": 0.2
             }
            },
            "type": "histogram"
           }
          ],
          "histogram2d": [
           {
            "colorbar": {
             "outlinewidth": 0,
             "ticks": ""
            },
            "colorscale": [
             [
              0,
              "#0d0887"
             ],
             [
              0.1111111111111111,
              "#46039f"
             ],
             [
              0.2222222222222222,
              "#7201a8"
             ],
             [
              0.3333333333333333,
              "#9c179e"
             ],
             [
              0.4444444444444444,
              "#bd3786"
             ],
             [
              0.5555555555555556,
              "#d8576b"
             ],
             [
              0.6666666666666666,
              "#ed7953"
             ],
             [
              0.7777777777777778,
              "#fb9f3a"
             ],
             [
              0.8888888888888888,
              "#fdca26"
             ],
             [
              1,
              "#f0f921"
             ]
            ],
            "type": "histogram2d"
           }
          ],
          "histogram2dcontour": [
           {
            "colorbar": {
             "outlinewidth": 0,
             "ticks": ""
            },
            "colorscale": [
             [
              0,
              "#0d0887"
             ],
             [
              0.1111111111111111,
              "#46039f"
             ],
             [
              0.2222222222222222,
              "#7201a8"
             ],
             [
              0.3333333333333333,
              "#9c179e"
             ],
             [
              0.4444444444444444,
              "#bd3786"
             ],
             [
              0.5555555555555556,
              "#d8576b"
             ],
             [
              0.6666666666666666,
              "#ed7953"
             ],
             [
              0.7777777777777778,
              "#fb9f3a"
             ],
             [
              0.8888888888888888,
              "#fdca26"
             ],
             [
              1,
              "#f0f921"
             ]
            ],
            "type": "histogram2dcontour"
           }
          ],
          "mesh3d": [
           {
            "colorbar": {
             "outlinewidth": 0,
             "ticks": ""
            },
            "type": "mesh3d"
           }
          ],
          "parcoords": [
           {
            "line": {
             "colorbar": {
              "outlinewidth": 0,
              "ticks": ""
             }
            },
            "type": "parcoords"
           }
          ],
          "pie": [
           {
            "automargin": true,
            "type": "pie"
           }
          ],
          "scatter": [
           {
            "marker": {
             "colorbar": {
              "outlinewidth": 0,
              "ticks": ""
             }
            },
            "type": "scatter"
           }
          ],
          "scatter3d": [
           {
            "line": {
             "colorbar": {
              "outlinewidth": 0,
              "ticks": ""
             }
            },
            "marker": {
             "colorbar": {
              "outlinewidth": 0,
              "ticks": ""
             }
            },
            "type": "scatter3d"
           }
          ],
          "scattercarpet": [
           {
            "marker": {
             "colorbar": {
              "outlinewidth": 0,
              "ticks": ""
             }
            },
            "type": "scattercarpet"
           }
          ],
          "scattergeo": [
           {
            "marker": {
             "colorbar": {
              "outlinewidth": 0,
              "ticks": ""
             }
            },
            "type": "scattergeo"
           }
          ],
          "scattergl": [
           {
            "marker": {
             "colorbar": {
              "outlinewidth": 0,
              "ticks": ""
             }
            },
            "type": "scattergl"
           }
          ],
          "scattermapbox": [
           {
            "marker": {
             "colorbar": {
              "outlinewidth": 0,
              "ticks": ""
             }
            },
            "type": "scattermapbox"
           }
          ],
          "scatterpolar": [
           {
            "marker": {
             "colorbar": {
              "outlinewidth": 0,
              "ticks": ""
             }
            },
            "type": "scatterpolar"
           }
          ],
          "scatterpolargl": [
           {
            "marker": {
             "colorbar": {
              "outlinewidth": 0,
              "ticks": ""
             }
            },
            "type": "scatterpolargl"
           }
          ],
          "scatterternary": [
           {
            "marker": {
             "colorbar": {
              "outlinewidth": 0,
              "ticks": ""
             }
            },
            "type": "scatterternary"
           }
          ],
          "surface": [
           {
            "colorbar": {
             "outlinewidth": 0,
             "ticks": ""
            },
            "colorscale": [
             [
              0,
              "#0d0887"
             ],
             [
              0.1111111111111111,
              "#46039f"
             ],
             [
              0.2222222222222222,
              "#7201a8"
             ],
             [
              0.3333333333333333,
              "#9c179e"
             ],
             [
              0.4444444444444444,
              "#bd3786"
             ],
             [
              0.5555555555555556,
              "#d8576b"
             ],
             [
              0.6666666666666666,
              "#ed7953"
             ],
             [
              0.7777777777777778,
              "#fb9f3a"
             ],
             [
              0.8888888888888888,
              "#fdca26"
             ],
             [
              1,
              "#f0f921"
             ]
            ],
            "type": "surface"
           }
          ],
          "table": [
           {
            "cells": {
             "fill": {
              "color": "#EBF0F8"
             },
             "line": {
              "color": "white"
             }
            },
            "header": {
             "fill": {
              "color": "#C8D4E3"
             },
             "line": {
              "color": "white"
             }
            },
            "type": "table"
           }
          ]
         },
         "layout": {
          "annotationdefaults": {
           "arrowcolor": "#2a3f5f",
           "arrowhead": 0,
           "arrowwidth": 1
          },
          "autotypenumbers": "strict",
          "coloraxis": {
           "colorbar": {
            "outlinewidth": 0,
            "ticks": ""
           }
          },
          "colorscale": {
           "diverging": [
            [
             0,
             "#8e0152"
            ],
            [
             0.1,
             "#c51b7d"
            ],
            [
             0.2,
             "#de77ae"
            ],
            [
             0.3,
             "#f1b6da"
            ],
            [
             0.4,
             "#fde0ef"
            ],
            [
             0.5,
             "#f7f7f7"
            ],
            [
             0.6,
             "#e6f5d0"
            ],
            [
             0.7,
             "#b8e186"
            ],
            [
             0.8,
             "#7fbc41"
            ],
            [
             0.9,
             "#4d9221"
            ],
            [
             1,
             "#276419"
            ]
           ],
           "sequential": [
            [
             0,
             "#0d0887"
            ],
            [
             0.1111111111111111,
             "#46039f"
            ],
            [
             0.2222222222222222,
             "#7201a8"
            ],
            [
             0.3333333333333333,
             "#9c179e"
            ],
            [
             0.4444444444444444,
             "#bd3786"
            ],
            [
             0.5555555555555556,
             "#d8576b"
            ],
            [
             0.6666666666666666,
             "#ed7953"
            ],
            [
             0.7777777777777778,
             "#fb9f3a"
            ],
            [
             0.8888888888888888,
             "#fdca26"
            ],
            [
             1,
             "#f0f921"
            ]
           ],
           "sequentialminus": [
            [
             0,
             "#0d0887"
            ],
            [
             0.1111111111111111,
             "#46039f"
            ],
            [
             0.2222222222222222,
             "#7201a8"
            ],
            [
             0.3333333333333333,
             "#9c179e"
            ],
            [
             0.4444444444444444,
             "#bd3786"
            ],
            [
             0.5555555555555556,
             "#d8576b"
            ],
            [
             0.6666666666666666,
             "#ed7953"
            ],
            [
             0.7777777777777778,
             "#fb9f3a"
            ],
            [
             0.8888888888888888,
             "#fdca26"
            ],
            [
             1,
             "#f0f921"
            ]
           ]
          },
          "colorway": [
           "#636efa",
           "#EF553B",
           "#00cc96",
           "#ab63fa",
           "#FFA15A",
           "#19d3f3",
           "#FF6692",
           "#B6E880",
           "#FF97FF",
           "#FECB52"
          ],
          "font": {
           "color": "#2a3f5f"
          },
          "geo": {
           "bgcolor": "white",
           "lakecolor": "white",
           "landcolor": "#E5ECF6",
           "showlakes": true,
           "showland": true,
           "subunitcolor": "white"
          },
          "hoverlabel": {
           "align": "left"
          },
          "hovermode": "closest",
          "mapbox": {
           "style": "light"
          },
          "paper_bgcolor": "white",
          "plot_bgcolor": "#E5ECF6",
          "polar": {
           "angularaxis": {
            "gridcolor": "white",
            "linecolor": "white",
            "ticks": ""
           },
           "bgcolor": "#E5ECF6",
           "radialaxis": {
            "gridcolor": "white",
            "linecolor": "white",
            "ticks": ""
           }
          },
          "scene": {
           "xaxis": {
            "backgroundcolor": "#E5ECF6",
            "gridcolor": "white",
            "gridwidth": 2,
            "linecolor": "white",
            "showbackground": true,
            "ticks": "",
            "zerolinecolor": "white"
           },
           "yaxis": {
            "backgroundcolor": "#E5ECF6",
            "gridcolor": "white",
            "gridwidth": 2,
            "linecolor": "white",
            "showbackground": true,
            "ticks": "",
            "zerolinecolor": "white"
           },
           "zaxis": {
            "backgroundcolor": "#E5ECF6",
            "gridcolor": "white",
            "gridwidth": 2,
            "linecolor": "white",
            "showbackground": true,
            "ticks": "",
            "zerolinecolor": "white"
           }
          },
          "shapedefaults": {
           "line": {
            "color": "#2a3f5f"
           }
          },
          "ternary": {
           "aaxis": {
            "gridcolor": "white",
            "linecolor": "white",
            "ticks": ""
           },
           "baxis": {
            "gridcolor": "white",
            "linecolor": "white",
            "ticks": ""
           },
           "bgcolor": "#E5ECF6",
           "caxis": {
            "gridcolor": "white",
            "linecolor": "white",
            "ticks": ""
           }
          },
          "title": {
           "x": 0.05
          },
          "xaxis": {
           "automargin": true,
           "gridcolor": "white",
           "linecolor": "white",
           "ticks": "",
           "title": {
            "standoff": 15
           },
           "zerolinecolor": "white",
           "zerolinewidth": 2
          },
          "yaxis": {
           "automargin": true,
           "gridcolor": "white",
           "linecolor": "white",
           "ticks": "",
           "title": {
            "standoff": 15
           },
           "zerolinecolor": "white",
           "zerolinewidth": 2
          }
         }
        },
        "xaxis": {
         "anchor": "y",
         "domain": [
          0,
          1
         ],
         "title": {
          "text": "0"
         }
        },
        "yaxis": {
         "anchor": "x",
         "domain": [
          0,
          1
         ],
         "title": {
          "text": "1"
         }
        }
       }
      }
     },
     "metadata": {},
     "output_type": "display_data"
    }
   ],
   "source": [
    "from sklearn.manifold import TSNE\n",
    "import plotly.express as px\n",
    "\n",
    "df = px.data.iris()\n",
    "\n",
    "features = df.loc[:, :'petal_width']\n",
    "\n",
    "tsne = TSNE(n_components=2, random_state=0)\n",
    "projections = tsne.fit_transform(features)\n",
    "\n",
    "fig = px.scatter(\n",
    "    projections, x=0, y=1,\n",
    "    color=df.species, labels={'color': 'species'}\n",
    ")\n",
    "fig.show()"
   ]
  },
  {
   "cell_type": "code",
   "execution_count": 3,
   "metadata": {},
   "outputs": [
    {
     "name": "stderr",
     "output_type": "stream",
     "text": [
      "c:\\Users\\SCD UM\\Anaconda3\\lib\\site-packages\\sklearn\\manifold\\_t_sne.py:780: FutureWarning:\n",
      "\n",
      "The default initialization in TSNE will change from 'random' to 'pca' in 1.2.\n",
      "\n",
      "c:\\Users\\SCD UM\\Anaconda3\\lib\\site-packages\\sklearn\\manifold\\_t_sne.py:790: FutureWarning:\n",
      "\n",
      "The default learning rate in TSNE will change from 200.0 to 'auto' in 1.2.\n",
      "\n"
     ]
    },
    {
     "data": {
      "application/vnd.plotly.v1+json": {
       "config": {
        "plotlyServerURL": "https://plot.ly"
       },
       "data": [
        {
         "hovertemplate": "species=setosa<br>0=%{x}<br>1=%{y}<br>2=%{z}<extra></extra>",
         "legendgroup": "setosa",
         "marker": {
          "color": "#636efa",
          "size": 8,
          "symbol": "circle"
         },
         "mode": "markers",
         "name": "setosa",
         "scene": "scene",
         "showlegend": true,
         "type": "scatter3d",
         "x": [
          -137.95355224609375,
          47.33108901977539,
          -47.97013854980469,
          -57.65604019165039,
          -2.6635043621063232,
          -66.95069885253906,
          -72.16020965576172,
          -6.016908168792725,
          -21.926776885986328,
          -6.381687164306641,
          -35.8790283203125,
          -62.84597396850586,
          -90.7013168334961,
          -46.96847915649414,
          -21.477554321289062,
          13.107635498046875,
          1.4073823690414429,
          35.59281539916992,
          55.79325866699219,
          -69.99256134033203,
          8.757789611816406,
          1.597251296043396,
          -73.84557342529297,
          -117.81160736083984,
          -77.31990814208984,
          0.9759088754653931,
          -88.68128204345703,
          45.663124084472656,
          -16.462133407592773,
          -56.55087661743164,
          -17.287805557250977,
          -133.13662719726562,
          -25.854209899902344,
          123.39718627929688,
          -48.34589385986328,
          -105.02496337890625,
          -149.3858642578125,
          -45.059574127197266,
          -90.247314453125,
          -57.493438720703125,
          -41.94132995605469,
          -67.23719787597656,
          72.60579681396484,
          -104.0909652709961,
          -106.47018432617188,
          -106.58198547363281,
          32.36170959472656,
          -63.10106658935547,
          -133.986572265625,
          -74.9722671508789
         ],
         "y": [
          -55.79658508300781,
          21.16073226928711,
          -82.40252685546875,
          100.16426849365234,
          -93.47257995605469,
          84.75646209716797,
          -117.24748229980469,
          -49.382625579833984,
          -123.6197509765625,
          -85.0418701171875,
          40.80442810058594,
          -7.655882358551025,
          -48.06661605834961,
          -114.63420104980469,
          84.61572265625,
          -57.07133102416992,
          174.59446716308594,
          -75.03878784179688,
          -27.096899032592773,
          44.567169189453125,
          19.244047164916992,
          -132.86888122558594,
          -142.99563598632812,
          25.6005859375,
          33.57390594482422,
          -49.489952087402344,
          -6.73734712600708,
          144.8295135498047,
          -15.69528865814209,
          -81.60171508789062,
          -14.169122695922852,
          -22.99827766418457,
          29.88918685913086,
          -77.07223510742188,
          -47.31260681152344,
          -71.29388427734375,
          -8.470608711242676,
          -54.2393913269043,
          -89.32903289794922,
          -4.2371978759765625,
          -32.39930725097656,
          -139.7632293701172,
          -135.8024139404297,
          11.703902244567871,
          63.13931655883789,
          -81.68515014648438,
          -28.62118148803711,
          -94.2249526977539,
          -4.585236072540283,
          -45.044769287109375
         ],
         "z": [
          87.75904846191406,
          -128.13340759277344,
          -74.92770385742188,
          117.28485107421875,
          -117.67083740234375,
          -85.53271484375,
          -65.87493133544922,
          -97.921875,
          -29.80247688293457,
          -65.07530975341797,
          -97.09848022460938,
          -129.6021270751953,
          -122.08399200439453,
          -151.77639770507812,
          -71.16281127929688,
          -30.02083396911621,
          -2.0317907333374023,
          -99.22872161865234,
          -127.40116882324219,
          -55.30451202392578,
          -92.0955810546875,
          -87.73780822753906,
          -104.59777069091797,
          -56.75022888183594,
          -137.57810974121094,
          -154.6597442626953,
          -47.44317626953125,
          43.01875686645508,
          -73.00067901611328,
          -31.019027709960938,
          -131.8578643798828,
          -74.84109497070312,
          -52.707176208496094,
          55.648780822753906,
          -104.92652130126953,
          -45.094303131103516,
          -30.46454620361328,
          -146.56272888183594,
          -150.25782775878906,
          -82.00045013427734,
          -41.78955841064453,
          -12.586153984069824,
          121.43675994873047,
          -95.30863189697266,
          -96.76801300048828,
          -94.06434631347656,
          -76.07109832763672,
          -110.83881378173828,
          -151.61317443847656,
          -69.99369049072266
         ]
        },
        {
         "hovertemplate": "species=versicolor<br>0=%{x}<br>1=%{y}<br>2=%{z}<extra></extra>",
         "legendgroup": "versicolor",
         "marker": {
          "color": "#EF553B",
          "size": 8,
          "symbol": "circle"
         },
         "mode": "markers",
         "name": "versicolor",
         "scene": "scene",
         "showlegend": true,
         "type": "scatter3d",
         "x": [
          75.77539825439453,
          53.932838439941406,
          31.940494537353516,
          127.95499420166016,
          29.74350929260254,
          67.98196411132812,
          4.799944877624512,
          109.09309387207031,
          72.56599426269531,
          164.39654541015625,
          12.620458602905273,
          65.58260345458984,
          134.79652404785156,
          18.68056869506836,
          171.18154907226562,
          -92.14328002929688,
          56.94816970825195,
          147.12979125976562,
          -4.4199395179748535,
          114.15481567382812,
          -9.688338279724121,
          103.51861572265625,
          84.63412475585938,
          65.49838256835938,
          -21.54121208190918,
          37.80326461791992,
          38.61677932739258,
          -6.430049896240234,
          -91.9954605102539,
          143.95770263671875,
          117.1478271484375,
          166.9892578125,
          -148.38104248046875,
          -48.091331481933594,
          113.46665954589844,
          27.277196884155273,
          -69.94290161132812,
          -22.49774169921875,
          117.16729736328125,
          138.86495971679688,
          101.16499328613281,
          37.89781188964844,
          135.50680541992188,
          44.14706039428711,
          101.16706848144531,
          91.0473403930664,
          85.31719970703125,
          79.03804016113281,
          -2.828503131866455,
          -86.48712158203125
         ],
         "y": [
          33.98945236206055,
          47.07773208618164,
          43.575843811035156,
          37.69932556152344,
          45.768306732177734,
          -42.37763595581055,
          67.3534164428711,
          103.8440170288086,
          29.628555297851562,
          30.99904441833496,
          126.84356689453125,
          18.02251625061035,
          -10.456062316894531,
          73.36668395996094,
          32.9569091796875,
          3.989398717880249,
          70.68391418457031,
          76.39329528808594,
          119.38481140136719,
          82.47865295410156,
          31.001697540283203,
          -11.859807968139648,
          -18.89854621887207,
          -31.876527786254883,
          -60.025360107421875,
          6.020465850830078,
          12.548208236694336,
          28.614356994628906,
          66.04376220703125,
          -47.6064338684082,
          -59.359771728515625,
          -10.0768404006958,
          8.754408836364746,
          84.12195587158203,
          43.40484619140625,
          33.6054573059082,
          -36.45738983154297,
          137.30645751953125,
          27.031415939331055,
          68.9373550415039,
          95.74918365478516,
          -6.380367279052734,
          -12.86471939086914,
          145.39540100097656,
          59.73610305786133,
          3.7197861671447754,
          49.372982025146484,
          10.23813533782959,
          151.0947723388672,
          116.64361572265625
         ],
         "z": [
          101.11260986328125,
          13.982146263122559,
          108.74566650390625,
          17.06473731994629,
          52.077972412109375,
          -31.333049774169922,
          -24.661542892456055,
          72.58212280273438,
          53.78138732910156,
          -56.057132720947266,
          -35.430789947509766,
          -40.99565887451172,
          20.31392478942871,
          17.574649810791016,
          -5.094999313354492,
          24.842823028564453,
          -37.921051025390625,
          -12.265594482421875,
          29.826419830322266,
          19.070356369018555,
          -0.5696603059768677,
          -24.230562210083008,
          66.54219818115234,
          19.030349731445312,
          14.125210762023926,
          34.5984001159668,
          79.69415283203125,
          96.26655578613281,
          69.85307312011719,
          -15.065089225769043,
          -51.900630950927734,
          -22.036645889282227,
          35.62611389160156,
          43.36154556274414,
          -100.14559173583984,
          -21.912918090820312,
          25.839832305908203,
          57.79579544067383,
          -43.53302764892578,
          -56.52287673950195,
          -51.414058685302734,
          -9.785038948059082,
          -61.49858474731445,
          -61.54646682739258,
          -21.330411911010742,
          -74.18331146240234,
          -65.58296966552734,
          4.218774795532227,
          -74.95834350585938,
          -30.196971893310547
         ]
        },
        {
         "hovertemplate": "species=virginica<br>0=%{x}<br>1=%{y}<br>2=%{z}<extra></extra>",
         "legendgroup": "virginica",
         "marker": {
          "color": "#00cc96",
          "size": 8,
          "symbol": "circle"
         },
         "mode": "markers",
         "name": "virginica",
         "scene": "scene",
         "showlegend": true,
         "type": "scatter3d",
         "x": [
          -58.44282913208008,
          -20.22613525390625,
          18.72095489501953,
          8.825970649719238,
          32.6114501953125,
          31.644256591796875,
          79.38762664794922,
          51.676788330078125,
          0.672242283821106,
          -1.901087999343872,
          -56.07127380371094,
          44.317230224609375,
          -55.88694763183594,
          -20.760509490966797,
          3.239841938018799,
          -72.30166625976562,
          41.83079147338867,
          76.49421691894531,
          24.66191291809082,
          -48.07936477661133,
          -36.604793548583984,
          -5.950575828552246,
          63.79120635986328,
          -15.412809371948242,
          -21.487934112548828,
          -19.673690795898438,
          -50.590702056884766,
          -46.020896911621094,
          -28.715194702148438,
          -63.51008605957031,
          -74.31636810302734,
          36.91351318359375,
          -28.53628158569336,
          -9.277344703674316,
          24.19413185119629,
          65.4987564086914,
          33.992000579833984,
          10.17984390258789,
          -43.326263427734375,
          -52.17824172973633,
          36.474647521972656,
          -96.89673614501953,
          13.878040313720703,
          -18.331501007080078,
          9.769828796386719,
          -28.976032257080078,
          -85.00633239746094,
          -16.716064453125,
          -75.78973388671875,
          -33.82607650756836
         ],
         "y": [
          -103.47354888916016,
          76.49488830566406,
          -135.02528381347656,
          -51.92518997192383,
          83.00432586669922,
          -1.9643065929412842,
          119.79479217529297,
          -94.77946472167969,
          -95.356689453125,
          -106.50431060791016,
          -11.864640235900879,
          84.74451446533203,
          -6.8399810791015625,
          40.84971237182617,
          104.10680389404297,
          -49.255653381347656,
          -35.80632781982422,
          -120.36809539794922,
          44.62985610961914,
          120.6756362915039,
          27.032665252685547,
          -15.476907730102539,
          23.728408813476562,
          62.391727447509766,
          -75.40522003173828,
          10.760368347167969,
          38.73679733276367,
          37.391353607177734,
          -60.1115608215332,
          -2.9406630992889404,
          -104.85713958740234,
          -119.36591339111328,
          -42.12197494506836,
          20.029151916503906,
          -52.7800407409668,
          -25.802204132080078,
          -78.99353790283203,
          -17.838111877441406,
          7.441503524780273,
          -93.14714050292969,
          111.12193298339844,
          -7.866168975830078,
          52.3251838684082,
          -112.00804138183594,
          -55.8253173828125,
          -28.41046714782715,
          67.96341705322266,
          -12.01710033416748,
          -54.95188903808594,
          68.52481842041016
         ],
         "z": [
          148.2007293701172,
          -142.99484252929688,
          78.92533111572266,
          86.41735076904297,
          -89.67208862304688,
          178.89793395996094,
          -11.815290451049805,
          75.22135162353516,
          95.90988159179688,
          168.23687744140625,
          71.03067016601562,
          78.67254638671875,
          120.96607971191406,
          -177.10121154785156,
          105.03546905517578,
          95.669677734375,
          98.68341827392578,
          33.644569396972656,
          168.61183166503906,
          10.510854721069336,
          141.74765014648438,
          5.625057697296143,
          161.23248291015625,
          60.92393493652344,
          134.61082458496094,
          186.9318084716797,
          63.09541702270508,
          24.13001823425293,
          69.87539672851562,
          180.1438446044922,
          49.642093658447266,
          16.99214744567871,
          107.18608856201172,
          47.53470230102539,
          44.66033172607422,
          152.37326049804688,
          133.26625061035156,
          116.9366226196289,
          1.47138512134552,
          97.6622314453125,
          -128.72608947753906,
          98.25430297851562,
          -152.98001098632812,
          54.94098663330078,
          165.40054321289062,
          149.6046600341797,
          15.927741050720215,
          78.81171417236328,
          139.7991485595703,
          2.757432222366333
         ]
        }
       ],
       "layout": {
        "legend": {
         "title": {
          "text": "species"
         },
         "tracegroupgap": 0
        },
        "margin": {
         "t": 60
        },
        "scene": {
         "domain": {
          "x": [
           0,
           1
          ],
          "y": [
           0,
           1
          ]
         },
         "xaxis": {
          "title": {
           "text": "0"
          }
         },
         "yaxis": {
          "title": {
           "text": "1"
          }
         },
         "zaxis": {
          "title": {
           "text": "2"
          }
         }
        },
        "template": {
         "data": {
          "bar": [
           {
            "error_x": {
             "color": "#2a3f5f"
            },
            "error_y": {
             "color": "#2a3f5f"
            },
            "marker": {
             "line": {
              "color": "#E5ECF6",
              "width": 0.5
             },
             "pattern": {
              "fillmode": "overlay",
              "size": 10,
              "solidity": 0.2
             }
            },
            "type": "bar"
           }
          ],
          "barpolar": [
           {
            "marker": {
             "line": {
              "color": "#E5ECF6",
              "width": 0.5
             },
             "pattern": {
              "fillmode": "overlay",
              "size": 10,
              "solidity": 0.2
             }
            },
            "type": "barpolar"
           }
          ],
          "carpet": [
           {
            "aaxis": {
             "endlinecolor": "#2a3f5f",
             "gridcolor": "white",
             "linecolor": "white",
             "minorgridcolor": "white",
             "startlinecolor": "#2a3f5f"
            },
            "baxis": {
             "endlinecolor": "#2a3f5f",
             "gridcolor": "white",
             "linecolor": "white",
             "minorgridcolor": "white",
             "startlinecolor": "#2a3f5f"
            },
            "type": "carpet"
           }
          ],
          "choropleth": [
           {
            "colorbar": {
             "outlinewidth": 0,
             "ticks": ""
            },
            "type": "choropleth"
           }
          ],
          "contour": [
           {
            "colorbar": {
             "outlinewidth": 0,
             "ticks": ""
            },
            "colorscale": [
             [
              0,
              "#0d0887"
             ],
             [
              0.1111111111111111,
              "#46039f"
             ],
             [
              0.2222222222222222,
              "#7201a8"
             ],
             [
              0.3333333333333333,
              "#9c179e"
             ],
             [
              0.4444444444444444,
              "#bd3786"
             ],
             [
              0.5555555555555556,
              "#d8576b"
             ],
             [
              0.6666666666666666,
              "#ed7953"
             ],
             [
              0.7777777777777778,
              "#fb9f3a"
             ],
             [
              0.8888888888888888,
              "#fdca26"
             ],
             [
              1,
              "#f0f921"
             ]
            ],
            "type": "contour"
           }
          ],
          "contourcarpet": [
           {
            "colorbar": {
             "outlinewidth": 0,
             "ticks": ""
            },
            "type": "contourcarpet"
           }
          ],
          "heatmap": [
           {
            "colorbar": {
             "outlinewidth": 0,
             "ticks": ""
            },
            "colorscale": [
             [
              0,
              "#0d0887"
             ],
             [
              0.1111111111111111,
              "#46039f"
             ],
             [
              0.2222222222222222,
              "#7201a8"
             ],
             [
              0.3333333333333333,
              "#9c179e"
             ],
             [
              0.4444444444444444,
              "#bd3786"
             ],
             [
              0.5555555555555556,
              "#d8576b"
             ],
             [
              0.6666666666666666,
              "#ed7953"
             ],
             [
              0.7777777777777778,
              "#fb9f3a"
             ],
             [
              0.8888888888888888,
              "#fdca26"
             ],
             [
              1,
              "#f0f921"
             ]
            ],
            "type": "heatmap"
           }
          ],
          "heatmapgl": [
           {
            "colorbar": {
             "outlinewidth": 0,
             "ticks": ""
            },
            "colorscale": [
             [
              0,
              "#0d0887"
             ],
             [
              0.1111111111111111,
              "#46039f"
             ],
             [
              0.2222222222222222,
              "#7201a8"
             ],
             [
              0.3333333333333333,
              "#9c179e"
             ],
             [
              0.4444444444444444,
              "#bd3786"
             ],
             [
              0.5555555555555556,
              "#d8576b"
             ],
             [
              0.6666666666666666,
              "#ed7953"
             ],
             [
              0.7777777777777778,
              "#fb9f3a"
             ],
             [
              0.8888888888888888,
              "#fdca26"
             ],
             [
              1,
              "#f0f921"
             ]
            ],
            "type": "heatmapgl"
           }
          ],
          "histogram": [
           {
            "marker": {
             "pattern": {
              "fillmode": "overlay",
              "size": 10,
              "solidity": 0.2
             }
            },
            "type": "histogram"
           }
          ],
          "histogram2d": [
           {
            "colorbar": {
             "outlinewidth": 0,
             "ticks": ""
            },
            "colorscale": [
             [
              0,
              "#0d0887"
             ],
             [
              0.1111111111111111,
              "#46039f"
             ],
             [
              0.2222222222222222,
              "#7201a8"
             ],
             [
              0.3333333333333333,
              "#9c179e"
             ],
             [
              0.4444444444444444,
              "#bd3786"
             ],
             [
              0.5555555555555556,
              "#d8576b"
             ],
             [
              0.6666666666666666,
              "#ed7953"
             ],
             [
              0.7777777777777778,
              "#fb9f3a"
             ],
             [
              0.8888888888888888,
              "#fdca26"
             ],
             [
              1,
              "#f0f921"
             ]
            ],
            "type": "histogram2d"
           }
          ],
          "histogram2dcontour": [
           {
            "colorbar": {
             "outlinewidth": 0,
             "ticks": ""
            },
            "colorscale": [
             [
              0,
              "#0d0887"
             ],
             [
              0.1111111111111111,
              "#46039f"
             ],
             [
              0.2222222222222222,
              "#7201a8"
             ],
             [
              0.3333333333333333,
              "#9c179e"
             ],
             [
              0.4444444444444444,
              "#bd3786"
             ],
             [
              0.5555555555555556,
              "#d8576b"
             ],
             [
              0.6666666666666666,
              "#ed7953"
             ],
             [
              0.7777777777777778,
              "#fb9f3a"
             ],
             [
              0.8888888888888888,
              "#fdca26"
             ],
             [
              1,
              "#f0f921"
             ]
            ],
            "type": "histogram2dcontour"
           }
          ],
          "mesh3d": [
           {
            "colorbar": {
             "outlinewidth": 0,
             "ticks": ""
            },
            "type": "mesh3d"
           }
          ],
          "parcoords": [
           {
            "line": {
             "colorbar": {
              "outlinewidth": 0,
              "ticks": ""
             }
            },
            "type": "parcoords"
           }
          ],
          "pie": [
           {
            "automargin": true,
            "type": "pie"
           }
          ],
          "scatter": [
           {
            "marker": {
             "colorbar": {
              "outlinewidth": 0,
              "ticks": ""
             }
            },
            "type": "scatter"
           }
          ],
          "scatter3d": [
           {
            "line": {
             "colorbar": {
              "outlinewidth": 0,
              "ticks": ""
             }
            },
            "marker": {
             "colorbar": {
              "outlinewidth": 0,
              "ticks": ""
             }
            },
            "type": "scatter3d"
           }
          ],
          "scattercarpet": [
           {
            "marker": {
             "colorbar": {
              "outlinewidth": 0,
              "ticks": ""
             }
            },
            "type": "scattercarpet"
           }
          ],
          "scattergeo": [
           {
            "marker": {
             "colorbar": {
              "outlinewidth": 0,
              "ticks": ""
             }
            },
            "type": "scattergeo"
           }
          ],
          "scattergl": [
           {
            "marker": {
             "colorbar": {
              "outlinewidth": 0,
              "ticks": ""
             }
            },
            "type": "scattergl"
           }
          ],
          "scattermapbox": [
           {
            "marker": {
             "colorbar": {
              "outlinewidth": 0,
              "ticks": ""
             }
            },
            "type": "scattermapbox"
           }
          ],
          "scatterpolar": [
           {
            "marker": {
             "colorbar": {
              "outlinewidth": 0,
              "ticks": ""
             }
            },
            "type": "scatterpolar"
           }
          ],
          "scatterpolargl": [
           {
            "marker": {
             "colorbar": {
              "outlinewidth": 0,
              "ticks": ""
             }
            },
            "type": "scatterpolargl"
           }
          ],
          "scatterternary": [
           {
            "marker": {
             "colorbar": {
              "outlinewidth": 0,
              "ticks": ""
             }
            },
            "type": "scatterternary"
           }
          ],
          "surface": [
           {
            "colorbar": {
             "outlinewidth": 0,
             "ticks": ""
            },
            "colorscale": [
             [
              0,
              "#0d0887"
             ],
             [
              0.1111111111111111,
              "#46039f"
             ],
             [
              0.2222222222222222,
              "#7201a8"
             ],
             [
              0.3333333333333333,
              "#9c179e"
             ],
             [
              0.4444444444444444,
              "#bd3786"
             ],
             [
              0.5555555555555556,
              "#d8576b"
             ],
             [
              0.6666666666666666,
              "#ed7953"
             ],
             [
              0.7777777777777778,
              "#fb9f3a"
             ],
             [
              0.8888888888888888,
              "#fdca26"
             ],
             [
              1,
              "#f0f921"
             ]
            ],
            "type": "surface"
           }
          ],
          "table": [
           {
            "cells": {
             "fill": {
              "color": "#EBF0F8"
             },
             "line": {
              "color": "white"
             }
            },
            "header": {
             "fill": {
              "color": "#C8D4E3"
             },
             "line": {
              "color": "white"
             }
            },
            "type": "table"
           }
          ]
         },
         "layout": {
          "annotationdefaults": {
           "arrowcolor": "#2a3f5f",
           "arrowhead": 0,
           "arrowwidth": 1
          },
          "autotypenumbers": "strict",
          "coloraxis": {
           "colorbar": {
            "outlinewidth": 0,
            "ticks": ""
           }
          },
          "colorscale": {
           "diverging": [
            [
             0,
             "#8e0152"
            ],
            [
             0.1,
             "#c51b7d"
            ],
            [
             0.2,
             "#de77ae"
            ],
            [
             0.3,
             "#f1b6da"
            ],
            [
             0.4,
             "#fde0ef"
            ],
            [
             0.5,
             "#f7f7f7"
            ],
            [
             0.6,
             "#e6f5d0"
            ],
            [
             0.7,
             "#b8e186"
            ],
            [
             0.8,
             "#7fbc41"
            ],
            [
             0.9,
             "#4d9221"
            ],
            [
             1,
             "#276419"
            ]
           ],
           "sequential": [
            [
             0,
             "#0d0887"
            ],
            [
             0.1111111111111111,
             "#46039f"
            ],
            [
             0.2222222222222222,
             "#7201a8"
            ],
            [
             0.3333333333333333,
             "#9c179e"
            ],
            [
             0.4444444444444444,
             "#bd3786"
            ],
            [
             0.5555555555555556,
             "#d8576b"
            ],
            [
             0.6666666666666666,
             "#ed7953"
            ],
            [
             0.7777777777777778,
             "#fb9f3a"
            ],
            [
             0.8888888888888888,
             "#fdca26"
            ],
            [
             1,
             "#f0f921"
            ]
           ],
           "sequentialminus": [
            [
             0,
             "#0d0887"
            ],
            [
             0.1111111111111111,
             "#46039f"
            ],
            [
             0.2222222222222222,
             "#7201a8"
            ],
            [
             0.3333333333333333,
             "#9c179e"
            ],
            [
             0.4444444444444444,
             "#bd3786"
            ],
            [
             0.5555555555555556,
             "#d8576b"
            ],
            [
             0.6666666666666666,
             "#ed7953"
            ],
            [
             0.7777777777777778,
             "#fb9f3a"
            ],
            [
             0.8888888888888888,
             "#fdca26"
            ],
            [
             1,
             "#f0f921"
            ]
           ]
          },
          "colorway": [
           "#636efa",
           "#EF553B",
           "#00cc96",
           "#ab63fa",
           "#FFA15A",
           "#19d3f3",
           "#FF6692",
           "#B6E880",
           "#FF97FF",
           "#FECB52"
          ],
          "font": {
           "color": "#2a3f5f"
          },
          "geo": {
           "bgcolor": "white",
           "lakecolor": "white",
           "landcolor": "#E5ECF6",
           "showlakes": true,
           "showland": true,
           "subunitcolor": "white"
          },
          "hoverlabel": {
           "align": "left"
          },
          "hovermode": "closest",
          "mapbox": {
           "style": "light"
          },
          "paper_bgcolor": "white",
          "plot_bgcolor": "#E5ECF6",
          "polar": {
           "angularaxis": {
            "gridcolor": "white",
            "linecolor": "white",
            "ticks": ""
           },
           "bgcolor": "#E5ECF6",
           "radialaxis": {
            "gridcolor": "white",
            "linecolor": "white",
            "ticks": ""
           }
          },
          "scene": {
           "xaxis": {
            "backgroundcolor": "#E5ECF6",
            "gridcolor": "white",
            "gridwidth": 2,
            "linecolor": "white",
            "showbackground": true,
            "ticks": "",
            "zerolinecolor": "white"
           },
           "yaxis": {
            "backgroundcolor": "#E5ECF6",
            "gridcolor": "white",
            "gridwidth": 2,
            "linecolor": "white",
            "showbackground": true,
            "ticks": "",
            "zerolinecolor": "white"
           },
           "zaxis": {
            "backgroundcolor": "#E5ECF6",
            "gridcolor": "white",
            "gridwidth": 2,
            "linecolor": "white",
            "showbackground": true,
            "ticks": "",
            "zerolinecolor": "white"
           }
          },
          "shapedefaults": {
           "line": {
            "color": "#2a3f5f"
           }
          },
          "ternary": {
           "aaxis": {
            "gridcolor": "white",
            "linecolor": "white",
            "ticks": ""
           },
           "baxis": {
            "gridcolor": "white",
            "linecolor": "white",
            "ticks": ""
           },
           "bgcolor": "#E5ECF6",
           "caxis": {
            "gridcolor": "white",
            "linecolor": "white",
            "ticks": ""
           }
          },
          "title": {
           "x": 0.05
          },
          "xaxis": {
           "automargin": true,
           "gridcolor": "white",
           "linecolor": "white",
           "ticks": "",
           "title": {
            "standoff": 15
           },
           "zerolinecolor": "white",
           "zerolinewidth": 2
          },
          "yaxis": {
           "automargin": true,
           "gridcolor": "white",
           "linecolor": "white",
           "ticks": "",
           "title": {
            "standoff": 15
           },
           "zerolinecolor": "white",
           "zerolinewidth": 2
          }
         }
        }
       }
      }
     },
     "metadata": {},
     "output_type": "display_data"
    }
   ],
   "source": [
    "from sklearn.manifold import TSNE\n",
    "import plotly.express as px\n",
    "\n",
    "df = px.data.iris()\n",
    "\n",
    "features = df.loc[:, :'petal_width']\n",
    "\n",
    "tsne = TSNE(n_components=3, random_state=0)\n",
    "projections = tsne.fit_transform(features, )\n",
    "\n",
    "fig = px.scatter_3d(\n",
    "    projections, x=0, y=1, z=2,\n",
    "    color=df.species, labels={'color': 'species'}\n",
    ")\n",
    "fig.update_traces(marker_size=8)\n",
    "fig.show()"
   ]
  },
  {
   "cell_type": "code",
   "execution_count": 8,
   "metadata": {},
   "outputs": [
    {
     "data": {
      "application/vnd.plotly.v1+json": {
       "config": {
        "plotlyServerURL": "https://plot.ly"
       },
       "data": [
        {
         "hovertemplate": "species=setosa<br>0=%{x}<br>1=%{y}<extra></extra>",
         "legendgroup": "setosa",
         "marker": {
          "color": "#636efa",
          "symbol": "circle"
         },
         "mode": "markers",
         "name": "setosa",
         "orientation": "v",
         "showlegend": true,
         "type": "scatter",
         "x": [
          -0.7750364542007446,
          0.7237775921821594,
          0.26546892523765564,
          0.3274120092391968,
          -0.7572941184043884,
          -1.460580587387085,
          0.1233995258808136,
          -0.6614713072776794,
          0.7792704701423645,
          0.8219203948974609,
          -1.7377598285675049,
          -0.22855977714061737,
          0.6737239360809326,
          0.6341439485549927,
          -1.6019083261489868,
          -1.4819337129592896,
          -1.6245921850204468,
          -0.8743556141853333,
          -1.63288414478302,
          -1.1011741161346436,
          -1.4480863809585571,
          -0.9685773849487305,
          0.13024383783340454,
          -1.1042958498001099,
          -0.2067011594772339,
          0.8546836972236633,
          -0.8128660321235657,
          -1.3270432949066162,
          -1.0653197765350342,
          0.30475255846977234,
          0.6346006989479065,
          -1.5339962244033813,
          -1.2511012554168701,
          -1.4188417196273804,
          0.6762394905090332,
          0.07572738826274872,
          -1.6457222700119019,
          0.761784017086029,
          0.5332246422767639,
          -0.8728302121162415,
          -0.6310638189315796,
          0.7000399827957153,
          0.3892885744571686,
          -1.0063821077346802,
          -1.0334361791610718,
          0.5763925909996033,
          -1.100331425666809,
          0.4511806070804596,
          -1.530527114868164,
          -0.38662537932395935
         ],
         "xaxis": "x",
         "y": [
          -1.4950289726257324,
          -2.8082194328308105,
          -3.4126226902008057,
          -3.5262787342071533,
          -1.2973021268844604,
          -0.8988242149353027,
          -3.442934036254883,
          -1.952294945716858,
          -3.6258745193481445,
          -2.6715922355651855,
          -0.9052747488021851,
          -2.6657745838165283,
          -2.921193838119507,
          -3.7641258239746094,
          -0.48796820640563965,
          -0.4558602273464203,
          -0.5666587352752686,
          -1.2911648750305176,
          -0.7379481196403503,
          -0.703574538230896,
          -1.6381356716156006,
          -1.0599839687347412,
          -3.3544232845306396,
          -1.738462209701538,
          -2.556767702102661,
          -2.660320997238159,
          -1.9725792407989502,
          -1.634452223777771,
          -1.5319205522537231,
          -3.007821559906006,
          -2.7008235454559326,
          -1.5491327047348022,
          -0.6599982976913452,
          -0.4115668833255768,
          -2.5804030895233154,
          -2.2730979919433594,
          -1.2620176076889038,
          -2.6913163661956787,
          -3.7957756519317627,
          -1.7936677932739258,
          -1.4960416555404663,
          -3.487868547439575,
          -3.601623773574829,
          -1.5974229574203491,
          -0.9150846600532532,
          -2.985762596130371,
          -0.8191018104553223,
          -3.425915479660034,
          -1.1516139507293701,
          -2.0492796897888184
         ],
         "yaxis": "y"
        },
        {
         "hovertemplate": "species=versicolor<br>0=%{x}<br>1=%{y}<extra></extra>",
         "legendgroup": "versicolor",
         "marker": {
          "color": "#EF553B",
          "symbol": "circle"
         },
         "mode": "markers",
         "name": "versicolor",
         "orientation": "v",
         "showlegend": true,
         "type": "scatter",
         "x": [
          13.013381004333496,
          13.280976295471191,
          12.857993125915527,
          15.803536415100098,
          13.38362979888916,
          14.972904205322266,
          12.948803901672363,
          16.598522186279297,
          13.176268577575684,
          15.91573429107666,
          16.64848518371582,
          14.54392147064209,
          15.69234561920166,
          13.463555335998535,
          16.028839111328125,
          13.235494613647461,
          14.840407371520996,
          15.421417236328125,
          13.13450813293457,
          16.101552963256836,
          12.444708824157715,
          14.812474250793457,
          11.569136619567871,
          13.659527778625488,
          13.671578407287598,
          13.225820541381836,
          12.954374313354492,
          12.598304748535156,
          13.931597709655762,
          16.238927841186523,
          16.1195068359375,
          16.155284881591797,
          15.698989868164062,
          11.793851852416992,
          15.0120210647583,
          13.154014587402344,
          13.034968376159668,
          13.401528358459473,
          15.426856994628906,
          15.884008407592773,
          15.36601734161377,
          13.56018352508545,
          15.56128978729248,
          16.56220245361328,
          15.395339965820312,
          15.103375434875488,
          15.171365737915039,
          13.845145225524902,
          16.36576271057129,
          15.406454086303711
         ],
         "xaxis": "x",
         "y": [
          6.3647871017456055,
          6.828495025634766,
          6.294968128204346,
          6.5967302322387695,
          6.522177696228027,
          7.26456356048584,
          7.112435817718506,
          6.626546382904053,
          6.40345573425293,
          7.077670097351074,
          6.765477180480957,
          7.0014967918396,
          6.351625919342041,
          7.407461166381836,
          6.933069229125977,
          6.324878215789795,
          7.331753253936768,
          6.635869979858398,
          7.676272392272949,
          6.688259601593018,
          7.764617443084717,
          6.716104984283447,
          7.762166500091553,
          7.386409759521484,
          6.756240367889404,
          6.429463863372803,
          6.368257522583008,
          6.402283191680908,
          7.25164794921875,
          6.767117023468018,
          6.486133098602295,
          6.54801607131958,
          6.670705795288086,
          8.1066312789917,
          7.299593925476074,
          7.298685073852539,
          6.2975616455078125,
          7.707447528839111,
          7.083901405334473,
          6.964123725891113,
          7.22616720199585,
          7.304605007171631,
          6.627723217010498,
          6.644413471221924,
          6.858058452606201,
          7.011414527893066,
          6.866313457489014,
          6.917396545410156,
          6.560722827911377,
          6.842417240142822
         ],
         "yaxis": "y"
        },
        {
         "hovertemplate": "species=virginica<br>0=%{x}<br>1=%{y}<extra></extra>",
         "legendgroup": "virginica",
         "marker": {
          "color": "#00cc96",
          "symbol": "circle"
         },
         "mode": "markers",
         "name": "virginica",
         "orientation": "v",
         "showlegend": true,
         "type": "scatter",
         "x": [
          8.106179237365723,
          11.9458646774292,
          8.040663719177246,
          9.261636734008789,
          8.824531555175781,
          8.124201774597168,
          15.347349166870117,
          7.929071426391602,
          9.206317901611328,
          8.191761016845703,
          8.55514907836914,
          9.413643836975098,
          8.54984188079834,
          12.072412490844727,
          12.116086959838867,
          8.193633079528809,
          9.087307929992676,
          8.39814281463623,
          8.186065673828125,
          11.416040420532227,
          8.350201606750488,
          12.173714637756348,
          8.298450469970703,
          11.718547821044922,
          8.434172630310059,
          7.972956657409668,
          11.970324516296387,
          12.161911964416504,
          8.999549865722656,
          8.209630012512207,
          8.276966094970703,
          8.323406219482422,
          8.96082592010498,
          11.602252960205078,
          10.873358726501465,
          8.026493072509766,
          8.013086318969727,
          8.982682228088379,
          12.320557594299316,
          8.477952003479004,
          8.315925598144531,
          8.512350082397461,
          12.124403953552246,
          8.266623497009277,
          8.156588554382324,
          8.424885749816895,
          11.421608924865723,
          8.752776145935059,
          8.059135437011719,
          12.076754570007324
         ],
         "xaxis": "x",
         "y": [
          9.096755981445312,
          8.259819984436035,
          9.978633880615234,
          8.209322929382324,
          8.939950942993164,
          10.547993659973145,
          7.267709255218506,
          10.289778709411621,
          8.397239685058594,
          9.694376945495605,
          8.095978736877441,
          7.990708351135254,
          8.854560852050781,
          8.484207153320312,
          8.50998306274414,
          8.351997375488281,
          8.12849235534668,
          10.26086711883545,
          10.565441131591797,
          7.974071025848389,
          9.422394752502441,
          8.439096450805664,
          10.563203811645508,
          7.585859775543213,
          9.136635780334473,
          10.09078598022461,
          7.617384910583496,
          7.79536247253418,
          8.54275894165039,
          10.139314651489258,
          10.32530403137207,
          10.206352233886719,
          8.547567367553711,
          7.79307222366333,
          8.088408470153809,
          10.48273754119873,
          8.676154136657715,
          8.199788093566895,
          7.75613260269165,
          8.635578155517578,
          9.026618003845215,
          8.554938316345215,
          8.387771606445312,
          9.468282699584961,
          9.210949897766113,
          8.410173416137695,
          7.765354633331299,
          7.986421585083008,
          8.454497337341309,
          7.931715488433838
         ],
         "yaxis": "y"
        }
       ],
       "layout": {
        "legend": {
         "title": {
          "text": "species"
         },
         "tracegroupgap": 0
        },
        "margin": {
         "t": 60
        },
        "template": {
         "data": {
          "bar": [
           {
            "error_x": {
             "color": "#2a3f5f"
            },
            "error_y": {
             "color": "#2a3f5f"
            },
            "marker": {
             "line": {
              "color": "#E5ECF6",
              "width": 0.5
             },
             "pattern": {
              "fillmode": "overlay",
              "size": 10,
              "solidity": 0.2
             }
            },
            "type": "bar"
           }
          ],
          "barpolar": [
           {
            "marker": {
             "line": {
              "color": "#E5ECF6",
              "width": 0.5
             },
             "pattern": {
              "fillmode": "overlay",
              "size": 10,
              "solidity": 0.2
             }
            },
            "type": "barpolar"
           }
          ],
          "carpet": [
           {
            "aaxis": {
             "endlinecolor": "#2a3f5f",
             "gridcolor": "white",
             "linecolor": "white",
             "minorgridcolor": "white",
             "startlinecolor": "#2a3f5f"
            },
            "baxis": {
             "endlinecolor": "#2a3f5f",
             "gridcolor": "white",
             "linecolor": "white",
             "minorgridcolor": "white",
             "startlinecolor": "#2a3f5f"
            },
            "type": "carpet"
           }
          ],
          "choropleth": [
           {
            "colorbar": {
             "outlinewidth": 0,
             "ticks": ""
            },
            "type": "choropleth"
           }
          ],
          "contour": [
           {
            "colorbar": {
             "outlinewidth": 0,
             "ticks": ""
            },
            "colorscale": [
             [
              0,
              "#0d0887"
             ],
             [
              0.1111111111111111,
              "#46039f"
             ],
             [
              0.2222222222222222,
              "#7201a8"
             ],
             [
              0.3333333333333333,
              "#9c179e"
             ],
             [
              0.4444444444444444,
              "#bd3786"
             ],
             [
              0.5555555555555556,
              "#d8576b"
             ],
             [
              0.6666666666666666,
              "#ed7953"
             ],
             [
              0.7777777777777778,
              "#fb9f3a"
             ],
             [
              0.8888888888888888,
              "#fdca26"
             ],
             [
              1,
              "#f0f921"
             ]
            ],
            "type": "contour"
           }
          ],
          "contourcarpet": [
           {
            "colorbar": {
             "outlinewidth": 0,
             "ticks": ""
            },
            "type": "contourcarpet"
           }
          ],
          "heatmap": [
           {
            "colorbar": {
             "outlinewidth": 0,
             "ticks": ""
            },
            "colorscale": [
             [
              0,
              "#0d0887"
             ],
             [
              0.1111111111111111,
              "#46039f"
             ],
             [
              0.2222222222222222,
              "#7201a8"
             ],
             [
              0.3333333333333333,
              "#9c179e"
             ],
             [
              0.4444444444444444,
              "#bd3786"
             ],
             [
              0.5555555555555556,
              "#d8576b"
             ],
             [
              0.6666666666666666,
              "#ed7953"
             ],
             [
              0.7777777777777778,
              "#fb9f3a"
             ],
             [
              0.8888888888888888,
              "#fdca26"
             ],
             [
              1,
              "#f0f921"
             ]
            ],
            "type": "heatmap"
           }
          ],
          "heatmapgl": [
           {
            "colorbar": {
             "outlinewidth": 0,
             "ticks": ""
            },
            "colorscale": [
             [
              0,
              "#0d0887"
             ],
             [
              0.1111111111111111,
              "#46039f"
             ],
             [
              0.2222222222222222,
              "#7201a8"
             ],
             [
              0.3333333333333333,
              "#9c179e"
             ],
             [
              0.4444444444444444,
              "#bd3786"
             ],
             [
              0.5555555555555556,
              "#d8576b"
             ],
             [
              0.6666666666666666,
              "#ed7953"
             ],
             [
              0.7777777777777778,
              "#fb9f3a"
             ],
             [
              0.8888888888888888,
              "#fdca26"
             ],
             [
              1,
              "#f0f921"
             ]
            ],
            "type": "heatmapgl"
           }
          ],
          "histogram": [
           {
            "marker": {
             "pattern": {
              "fillmode": "overlay",
              "size": 10,
              "solidity": 0.2
             }
            },
            "type": "histogram"
           }
          ],
          "histogram2d": [
           {
            "colorbar": {
             "outlinewidth": 0,
             "ticks": ""
            },
            "colorscale": [
             [
              0,
              "#0d0887"
             ],
             [
              0.1111111111111111,
              "#46039f"
             ],
             [
              0.2222222222222222,
              "#7201a8"
             ],
             [
              0.3333333333333333,
              "#9c179e"
             ],
             [
              0.4444444444444444,
              "#bd3786"
             ],
             [
              0.5555555555555556,
              "#d8576b"
             ],
             [
              0.6666666666666666,
              "#ed7953"
             ],
             [
              0.7777777777777778,
              "#fb9f3a"
             ],
             [
              0.8888888888888888,
              "#fdca26"
             ],
             [
              1,
              "#f0f921"
             ]
            ],
            "type": "histogram2d"
           }
          ],
          "histogram2dcontour": [
           {
            "colorbar": {
             "outlinewidth": 0,
             "ticks": ""
            },
            "colorscale": [
             [
              0,
              "#0d0887"
             ],
             [
              0.1111111111111111,
              "#46039f"
             ],
             [
              0.2222222222222222,
              "#7201a8"
             ],
             [
              0.3333333333333333,
              "#9c179e"
             ],
             [
              0.4444444444444444,
              "#bd3786"
             ],
             [
              0.5555555555555556,
              "#d8576b"
             ],
             [
              0.6666666666666666,
              "#ed7953"
             ],
             [
              0.7777777777777778,
              "#fb9f3a"
             ],
             [
              0.8888888888888888,
              "#fdca26"
             ],
             [
              1,
              "#f0f921"
             ]
            ],
            "type": "histogram2dcontour"
           }
          ],
          "mesh3d": [
           {
            "colorbar": {
             "outlinewidth": 0,
             "ticks": ""
            },
            "type": "mesh3d"
           }
          ],
          "parcoords": [
           {
            "line": {
             "colorbar": {
              "outlinewidth": 0,
              "ticks": ""
             }
            },
            "type": "parcoords"
           }
          ],
          "pie": [
           {
            "automargin": true,
            "type": "pie"
           }
          ],
          "scatter": [
           {
            "marker": {
             "colorbar": {
              "outlinewidth": 0,
              "ticks": ""
             }
            },
            "type": "scatter"
           }
          ],
          "scatter3d": [
           {
            "line": {
             "colorbar": {
              "outlinewidth": 0,
              "ticks": ""
             }
            },
            "marker": {
             "colorbar": {
              "outlinewidth": 0,
              "ticks": ""
             }
            },
            "type": "scatter3d"
           }
          ],
          "scattercarpet": [
           {
            "marker": {
             "colorbar": {
              "outlinewidth": 0,
              "ticks": ""
             }
            },
            "type": "scattercarpet"
           }
          ],
          "scattergeo": [
           {
            "marker": {
             "colorbar": {
              "outlinewidth": 0,
              "ticks": ""
             }
            },
            "type": "scattergeo"
           }
          ],
          "scattergl": [
           {
            "marker": {
             "colorbar": {
              "outlinewidth": 0,
              "ticks": ""
             }
            },
            "type": "scattergl"
           }
          ],
          "scattermapbox": [
           {
            "marker": {
             "colorbar": {
              "outlinewidth": 0,
              "ticks": ""
             }
            },
            "type": "scattermapbox"
           }
          ],
          "scatterpolar": [
           {
            "marker": {
             "colorbar": {
              "outlinewidth": 0,
              "ticks": ""
             }
            },
            "type": "scatterpolar"
           }
          ],
          "scatterpolargl": [
           {
            "marker": {
             "colorbar": {
              "outlinewidth": 0,
              "ticks": ""
             }
            },
            "type": "scatterpolargl"
           }
          ],
          "scatterternary": [
           {
            "marker": {
             "colorbar": {
              "outlinewidth": 0,
              "ticks": ""
             }
            },
            "type": "scatterternary"
           }
          ],
          "surface": [
           {
            "colorbar": {
             "outlinewidth": 0,
             "ticks": ""
            },
            "colorscale": [
             [
              0,
              "#0d0887"
             ],
             [
              0.1111111111111111,
              "#46039f"
             ],
             [
              0.2222222222222222,
              "#7201a8"
             ],
             [
              0.3333333333333333,
              "#9c179e"
             ],
             [
              0.4444444444444444,
              "#bd3786"
             ],
             [
              0.5555555555555556,
              "#d8576b"
             ],
             [
              0.6666666666666666,
              "#ed7953"
             ],
             [
              0.7777777777777778,
              "#fb9f3a"
             ],
             [
              0.8888888888888888,
              "#fdca26"
             ],
             [
              1,
              "#f0f921"
             ]
            ],
            "type": "surface"
           }
          ],
          "table": [
           {
            "cells": {
             "fill": {
              "color": "#EBF0F8"
             },
             "line": {
              "color": "white"
             }
            },
            "header": {
             "fill": {
              "color": "#C8D4E3"
             },
             "line": {
              "color": "white"
             }
            },
            "type": "table"
           }
          ]
         },
         "layout": {
          "annotationdefaults": {
           "arrowcolor": "#2a3f5f",
           "arrowhead": 0,
           "arrowwidth": 1
          },
          "autotypenumbers": "strict",
          "coloraxis": {
           "colorbar": {
            "outlinewidth": 0,
            "ticks": ""
           }
          },
          "colorscale": {
           "diverging": [
            [
             0,
             "#8e0152"
            ],
            [
             0.1,
             "#c51b7d"
            ],
            [
             0.2,
             "#de77ae"
            ],
            [
             0.3,
             "#f1b6da"
            ],
            [
             0.4,
             "#fde0ef"
            ],
            [
             0.5,
             "#f7f7f7"
            ],
            [
             0.6,
             "#e6f5d0"
            ],
            [
             0.7,
             "#b8e186"
            ],
            [
             0.8,
             "#7fbc41"
            ],
            [
             0.9,
             "#4d9221"
            ],
            [
             1,
             "#276419"
            ]
           ],
           "sequential": [
            [
             0,
             "#0d0887"
            ],
            [
             0.1111111111111111,
             "#46039f"
            ],
            [
             0.2222222222222222,
             "#7201a8"
            ],
            [
             0.3333333333333333,
             "#9c179e"
            ],
            [
             0.4444444444444444,
             "#bd3786"
            ],
            [
             0.5555555555555556,
             "#d8576b"
            ],
            [
             0.6666666666666666,
             "#ed7953"
            ],
            [
             0.7777777777777778,
             "#fb9f3a"
            ],
            [
             0.8888888888888888,
             "#fdca26"
            ],
            [
             1,
             "#f0f921"
            ]
           ],
           "sequentialminus": [
            [
             0,
             "#0d0887"
            ],
            [
             0.1111111111111111,
             "#46039f"
            ],
            [
             0.2222222222222222,
             "#7201a8"
            ],
            [
             0.3333333333333333,
             "#9c179e"
            ],
            [
             0.4444444444444444,
             "#bd3786"
            ],
            [
             0.5555555555555556,
             "#d8576b"
            ],
            [
             0.6666666666666666,
             "#ed7953"
            ],
            [
             0.7777777777777778,
             "#fb9f3a"
            ],
            [
             0.8888888888888888,
             "#fdca26"
            ],
            [
             1,
             "#f0f921"
            ]
           ]
          },
          "colorway": [
           "#636efa",
           "#EF553B",
           "#00cc96",
           "#ab63fa",
           "#FFA15A",
           "#19d3f3",
           "#FF6692",
           "#B6E880",
           "#FF97FF",
           "#FECB52"
          ],
          "font": {
           "color": "#2a3f5f"
          },
          "geo": {
           "bgcolor": "white",
           "lakecolor": "white",
           "landcolor": "#E5ECF6",
           "showlakes": true,
           "showland": true,
           "subunitcolor": "white"
          },
          "hoverlabel": {
           "align": "left"
          },
          "hovermode": "closest",
          "mapbox": {
           "style": "light"
          },
          "paper_bgcolor": "white",
          "plot_bgcolor": "#E5ECF6",
          "polar": {
           "angularaxis": {
            "gridcolor": "white",
            "linecolor": "white",
            "ticks": ""
           },
           "bgcolor": "#E5ECF6",
           "radialaxis": {
            "gridcolor": "white",
            "linecolor": "white",
            "ticks": ""
           }
          },
          "scene": {
           "xaxis": {
            "backgroundcolor": "#E5ECF6",
            "gridcolor": "white",
            "gridwidth": 2,
            "linecolor": "white",
            "showbackground": true,
            "ticks": "",
            "zerolinecolor": "white"
           },
           "yaxis": {
            "backgroundcolor": "#E5ECF6",
            "gridcolor": "white",
            "gridwidth": 2,
            "linecolor": "white",
            "showbackground": true,
            "ticks": "",
            "zerolinecolor": "white"
           },
           "zaxis": {
            "backgroundcolor": "#E5ECF6",
            "gridcolor": "white",
            "gridwidth": 2,
            "linecolor": "white",
            "showbackground": true,
            "ticks": "",
            "zerolinecolor": "white"
           }
          },
          "shapedefaults": {
           "line": {
            "color": "#2a3f5f"
           }
          },
          "ternary": {
           "aaxis": {
            "gridcolor": "white",
            "linecolor": "white",
            "ticks": ""
           },
           "baxis": {
            "gridcolor": "white",
            "linecolor": "white",
            "ticks": ""
           },
           "bgcolor": "#E5ECF6",
           "caxis": {
            "gridcolor": "white",
            "linecolor": "white",
            "ticks": ""
           }
          },
          "title": {
           "x": 0.05
          },
          "xaxis": {
           "automargin": true,
           "gridcolor": "white",
           "linecolor": "white",
           "ticks": "",
           "title": {
            "standoff": 15
           },
           "zerolinecolor": "white",
           "zerolinewidth": 2
          },
          "yaxis": {
           "automargin": true,
           "gridcolor": "white",
           "linecolor": "white",
           "ticks": "",
           "title": {
            "standoff": 15
           },
           "zerolinecolor": "white",
           "zerolinewidth": 2
          }
         }
        },
        "xaxis": {
         "anchor": "y",
         "domain": [
          0,
          1
         ],
         "title": {
          "text": "0"
         }
        },
        "yaxis": {
         "anchor": "x",
         "domain": [
          0,
          1
         ],
         "title": {
          "text": "1"
         }
        }
       }
      }
     },
     "metadata": {},
     "output_type": "display_data"
    },
    {
     "data": {
      "application/vnd.plotly.v1+json": {
       "config": {
        "plotlyServerURL": "https://plot.ly"
       },
       "data": [
        {
         "hovertemplate": "species=setosa<br>0=%{x}<br>1=%{y}<br>2=%{z}<extra></extra>",
         "legendgroup": "setosa",
         "marker": {
          "color": "#636efa",
          "size": 5,
          "symbol": "circle"
         },
         "mode": "markers",
         "name": "setosa",
         "scene": "scene",
         "showlegend": true,
         "type": "scatter3d",
         "x": [
          4.667867660522461,
          3.2901971340179443,
          3.0639493465423584,
          2.9976255893707275,
          4.447849273681641,
          5.576484203338623,
          3.1495296955108643,
          4.242771625518799,
          2.7110981941223145,
          3.3350138664245605,
          5.609532833099365,
          3.517177104949951,
          3.1749823093414307,
          2.790809392929077,
          5.9861531257629395,
          5.853633403778076,
          5.753811836242676,
          4.587624549865723,
          5.666783332824707,
          5.265285968780518,
          5.165788650512695,
          5.090848922729492,
          3.384619951248169,
          4.43735933303833,
          3.610769748687744,
          3.3357980251312256,
          4.36681604385376,
          5.02431058883667,
          4.854839324951172,
          3.2144930362701416,
          3.167367696762085,
          5.155528545379639,
          5.545341491699219,
          5.788053512573242,
          3.361994743347168,
          4.037947654724121,
          5.338386058807373,
          3.2209298610687256,
          2.7493772506713867,
          4.694291591644287,
          4.534274101257324,
          2.8018903732299805,
          3.00616717338562,
          4.5594916343688965,
          5.252170085906982,
          3.086577892303467,
          5.244434833526611,
          2.938401460647583,
          5.385595321655273,
          4.185569763183594
         ],
         "y": [
          6.852891445159912,
          5.403728008270264,
          5.947439193725586,
          5.936960220336914,
          7.125130653381348,
          7.275302886962891,
          6.1804728507995605,
          6.782585620880127,
          5.835545063018799,
          5.646405220031738,
          7.391912937164307,
          6.482848644256592,
          5.454859256744385,
          5.87865686416626,
          7.416713237762451,
          7.516139507293701,
          7.363423824310303,
          6.856741428375244,
          7.278122425079346,
          7.647855281829834,
          7.129528999328613,
          7.562243938446045,
          6.239654064178467,
          7.198083400726318,
          6.515338897705078,
          5.446479797363281,
          7.151276111602783,
          7.010041236877441,
          6.865469455718994,
          6.085544109344482,
          5.7374067306518555,
          7.13112735748291,
          7.7751078605651855,
          7.4801025390625,
          5.466254711151123,
          6.265116214752197,
          7.0338263511657715,
          5.569432735443115,
          5.797914981842041,
          6.984394550323486,
          6.752021312713623,
          5.661941051483154,
          6.066487789154053,
          7.336279392242432,
          7.6086273193359375,
          5.627593994140625,
          7.587122917175293,
          5.938884735107422,
          7.305445194244385,
          6.513823986053467
         ],
         "z": [
          14.86292552947998,
          15.357189178466797,
          14.915494918823242,
          15.1700439453125,
          14.860697746276855,
          15.28364086151123,
          14.915756225585938,
          15.036088943481445,
          14.716752052307129,
          15.67873764038086,
          15.013660430908203,
          15.17156982421875,
          15.378748893737793,
          14.769643783569336,
          15.24383544921875,
          15.272133827209473,
          15.1978759765625,
          14.95019245147705,
          15.218667030334473,
          15.295611381530762,
          14.912718772888184,
          15.102042198181152,
          14.777917861938477,
          15.081781387329102,
          15.331374168395996,
          15.577289581298828,
          15.140644073486328,
          14.97092342376709,
          14.795404434204102,
          15.322437286376953,
          15.519143104553223,
          14.873221397399902,
          15.368760108947754,
          15.329951286315918,
          15.45958423614502,
          15.096333503723145,
          14.840319633483887,
          15.562911033630371,
          14.802847862243652,
          15.025483131408691,
          15.06374740600586,
          14.785396575927734,
          14.806755065917969,
          15.150741577148438,
          15.338985443115234,
          15.190437316894531,
          15.333215713500977,
          15.037885665893555,
          14.984660148620605,
          15.074963569641113
         ]
        },
        {
         "hovertemplate": "species=versicolor<br>0=%{x}<br>1=%{y}<br>2=%{z}<extra></extra>",
         "legendgroup": "versicolor",
         "marker": {
          "color": "#EF553B",
          "size": 5,
          "symbol": "circle"
         },
         "mode": "markers",
         "name": "versicolor",
         "scene": "scene",
         "showlegend": true,
         "type": "scatter3d",
         "x": [
          3.6490304470062256,
          3.9649882316589355,
          3.6120619773864746,
          6.302956581115723,
          3.5765397548675537,
          5.205516338348389,
          3.7756495475769043,
          6.66412878036499,
          3.7051353454589844,
          6.199451923370361,
          6.571470260620117,
          4.917863368988037,
          6.033573150634766,
          3.73649525642395,
          6.135585784912109,
          3.8730220794677734,
          5.293584823608398,
          5.651885509490967,
          3.237511396408081,
          6.345334529876709,
          3.0899627208709717,
          4.958935737609863,
          2.680436372756958,
          3.997913360595703,
          4.043723106384277,
          3.908175468444824,
          3.572251558303833,
          3.4185047149658203,
          4.185096263885498,
          6.510011672973633,
          6.523072719573975,
          6.549011707305908,
          5.943421840667725,
          2.313117265701294,
          5.422423362731934,
          3.908341646194458,
          3.81819486618042,
          3.589014768600464,
          5.251009941101074,
          6.161026954650879,
          5.646688938140869,
          3.9547908306121826,
          5.873804092407227,
          6.649970054626465,
          5.708490371704102,
          5.332050323486328,
          5.283437252044678,
          4.221704483032227,
          6.712944507598877,
          5.5515923500061035
         ],
         "y": [
          2.639049768447876,
          2.3134963512420654,
          2.5530214309692383,
          0.5720096230506897,
          2.098864793777466,
          1.0145870447158813,
          2.4294745922088623,
          0.7443575263023376,
          2.197305917739868,
          0.9629058241844177,
          0.8178658485412598,
          1.2231847047805786,
          0.5561761260032654,
          1.856188416481018,
          0.4941374361515045,
          2.4409027099609375,
          1.2386109828948975,
          0.5282468199729919,
          1.6635255813598633,
          0.4519581198692322,
          2.525517463684082,
          1.208683729171753,
          1.9119977951049805,
          1.7392146587371826,
          1.970460057258606,
          2.274447202682495,
          2.4200034141540527,
          2.716559410095215,
          1.700174331665039,
          0.4946678578853607,
          0.4613899886608124,
          0.41184118390083313,
          0.6600894927978516,
          2.351350784301758,
          1.1713225841522217,
          2.267315626144409,
          2.5269031524658203,
          1.6090188026428223,
          0.7261936068534851,
          0.6979753375053406,
          0.803095281124115,
          1.8673015832901,
          0.6234811544418335,
          0.8568584322929382,
          0.9312162399291992,
          0.9296954274177551,
          1.0212023258209229,
          1.728966474533081,
          0.8127699494361877,
          0.7537508010864258
         ],
         "z": [
          1.840336799621582,
          1.3670305013656616,
          1.8048921823501587,
          0.9461672902107239,
          1.5566859245300293,
          0.8812942504882812,
          0.9668995141983032,
          1.5277682542800903,
          1.710235834121704,
          1.1065504550933838,
          1.3910490274429321,
          1.21238374710083,
          1.0731077194213867,
          0.7575533986091614,
          1.4630820751190186,
          1.5993924140930176,
          1.0266010761260986,
          1.1906298398971558,
          1.0224539041519165,
          1.2147736549377441,
          0.6373924016952515,
          1.4502911567687988,
          0.9943296313285828,
          0.9530721306800842,
          1.4792747497558594,
          1.613239049911499,
          1.8592369556427002,
          1.8123446702957153,
          0.877377986907959,
          1.174896001815796,
          1.1452621221542358,
          1.277352213859558,
          1.3780434131622314,
          0.8491114974021912,
          0.9139683246612549,
          0.8235325217247009,
          1.786197543144226,
          1.147720217704773,
          1.1441744565963745,
          1.0395636558532715,
          0.9841588735580444,
          0.8527098894119263,
          1.3240835666656494,
          1.4870100021362305,
          1.1089633703231812,
          1.2501895427703857,
          1.272798776626587,
          1.198348045349121,
          1.5502463579177856,
          1.2917940616607666
         ]
        },
        {
         "hovertemplate": "species=virginica<br>0=%{x}<br>1=%{y}<br>2=%{z}<extra></extra>",
         "legendgroup": "virginica",
         "marker": {
          "color": "#00cc96",
          "size": 5,
          "symbol": "circle"
         },
         "mode": "markers",
         "name": "virginica",
         "scene": "scene",
         "showlegend": true,
         "type": "scatter3d",
         "x": [
          -0.6426705121994019,
          2.4597864151000977,
          -1.145410180091858,
          0.41494062542915344,
          -0.4226331114768982,
          -1.6443264484405518,
          5.774514675140381,
          -1.5154526233673096,
          0.10474292933940887,
          -1.2155406475067139,
          0.029769383370876312,
          0.5113274455070496,
          -0.3273700177669525,
          2.410679578781128,
          2.5379271507263184,
          -0.24536921083927155,
          0.3828262984752655,
          -1.6644352674484253,
          -1.670151948928833,
          2.7771992683410645,
          -0.9023522734642029,
          2.448632001876831,
          -1.6911226511001587,
          2.6093568801879883,
          -0.6855900883674622,
          -1.3912466764450073,
          2.8515305519104004,
          2.893803596496582,
          0.10528125613927841,
          -1.2964860200881958,
          -1.459731101989746,
          -1.5086373090744019,
          -0.06848952919244766,
          2.460381507873535,
          0.8175927400588989,
          -1.6727875471115112,
          -0.5940409302711487,
          0.26716887950897217,
          2.93000864982605,
          -0.3121483623981476,
          -0.6241009831428528,
          -0.11494697630405426,
          2.46968674659729,
          -0.92850661277771,
          -0.8588017821311951,
          -0.18940629065036774,
          2.44625186920166,
          0.2084764689207077,
          -0.4856492280960083,
          2.6162819862365723
         ],
         "y": [
          4.571791172027588,
          3.0241711139678955,
          5.516668319702148,
          4.046767711639404,
          4.545083999633789,
          6.118093490600586,
          1.0728956460952759,
          5.832252502441406,
          4.238604545593262,
          5.354294300079346,
          4.516018867492676,
          4.0350446701049805,
          4.893820762634277,
          2.9393599033355713,
          3.090610980987549,
          4.533154487609863,
          4.273462295532227,
          5.73248815536499,
          5.936800003051758,
          1.8276244401931763,
          5.330057144165039,
          3.0013647079467773,
          6.013518333435059,
          2.119964838027954,
          5.0843305587768555,
          5.646892547607422,
          2.26243257522583,
          2.491288900375366,
          4.2241926193237305,
          5.577446937561035,
          5.746893405914307,
          5.781005859375,
          4.311580181121826,
          2.2132315635681152,
          3.671811819076538,
          5.731142520904541,
          4.483901023864746,
          4.383333683013916,
          2.470135450363159,
          5.093099117279053,
          5.003261566162109,
          4.855198383331299,
          2.9036037921905518,
          5.16757869720459,
          4.983480453491211,
          4.76320743560791,
          2.1494197845458984,
          4.533334255218506,
          4.473379135131836,
          2.707927942276001
         ],
         "z": [
          0.4674288332462311,
          0.8213240504264832,
          0.4673483371734619,
          0.494938462972641,
          0.5993647575378418,
          0.8080844283103943,
          0.9843970537185669,
          0.591587483882904,
          0.7746623754501343,
          0.7542786002159119,
          -0.17964844405651093,
          0.45022937655448914,
          0.32934579253196716,
          0.7476466298103333,
          0.7714079022407532,
          0.041610803455114365,
          0.3172399699687958,
          1.047209620475769,
          0.8312459588050842,
          0.8965397477149963,
          0.46687841415405273,
          0.691734254360199,
          0.8273720145225525,
          0.8922611474990845,
          0.54660964012146,
          0.5845454931259155,
          0.7834341526031494,
          0.5423629879951477,
          0.5664772987365723,
          0.5796727538108826,
          0.7181766629219055,
          0.9863254427909851,
          0.4378197491168976,
          0.896284818649292,
          0.6304947137832642,
          0.9207956194877625,
          0.2888709604740143,
          0.19985929131507874,
          0.5841581225395203,
          0.13480906188488007,
          0.32780009508132935,
          0.014576990157365799,
          0.757071852684021,
          0.5784190893173218,
          0.4771425724029541,
          0.019217003136873245,
          1.0522792339324951,
          0.0778609961271286,
          0.16863253712654114,
          0.6221938729286194
         ]
        }
       ],
       "layout": {
        "legend": {
         "title": {
          "text": "species"
         },
         "tracegroupgap": 0
        },
        "margin": {
         "t": 60
        },
        "scene": {
         "domain": {
          "x": [
           0,
           1
          ],
          "y": [
           0,
           1
          ]
         },
         "xaxis": {
          "title": {
           "text": "0"
          }
         },
         "yaxis": {
          "title": {
           "text": "1"
          }
         },
         "zaxis": {
          "title": {
           "text": "2"
          }
         }
        },
        "template": {
         "data": {
          "bar": [
           {
            "error_x": {
             "color": "#2a3f5f"
            },
            "error_y": {
             "color": "#2a3f5f"
            },
            "marker": {
             "line": {
              "color": "#E5ECF6",
              "width": 0.5
             },
             "pattern": {
              "fillmode": "overlay",
              "size": 10,
              "solidity": 0.2
             }
            },
            "type": "bar"
           }
          ],
          "barpolar": [
           {
            "marker": {
             "line": {
              "color": "#E5ECF6",
              "width": 0.5
             },
             "pattern": {
              "fillmode": "overlay",
              "size": 10,
              "solidity": 0.2
             }
            },
            "type": "barpolar"
           }
          ],
          "carpet": [
           {
            "aaxis": {
             "endlinecolor": "#2a3f5f",
             "gridcolor": "white",
             "linecolor": "white",
             "minorgridcolor": "white",
             "startlinecolor": "#2a3f5f"
            },
            "baxis": {
             "endlinecolor": "#2a3f5f",
             "gridcolor": "white",
             "linecolor": "white",
             "minorgridcolor": "white",
             "startlinecolor": "#2a3f5f"
            },
            "type": "carpet"
           }
          ],
          "choropleth": [
           {
            "colorbar": {
             "outlinewidth": 0,
             "ticks": ""
            },
            "type": "choropleth"
           }
          ],
          "contour": [
           {
            "colorbar": {
             "outlinewidth": 0,
             "ticks": ""
            },
            "colorscale": [
             [
              0,
              "#0d0887"
             ],
             [
              0.1111111111111111,
              "#46039f"
             ],
             [
              0.2222222222222222,
              "#7201a8"
             ],
             [
              0.3333333333333333,
              "#9c179e"
             ],
             [
              0.4444444444444444,
              "#bd3786"
             ],
             [
              0.5555555555555556,
              "#d8576b"
             ],
             [
              0.6666666666666666,
              "#ed7953"
             ],
             [
              0.7777777777777778,
              "#fb9f3a"
             ],
             [
              0.8888888888888888,
              "#fdca26"
             ],
             [
              1,
              "#f0f921"
             ]
            ],
            "type": "contour"
           }
          ],
          "contourcarpet": [
           {
            "colorbar": {
             "outlinewidth": 0,
             "ticks": ""
            },
            "type": "contourcarpet"
           }
          ],
          "heatmap": [
           {
            "colorbar": {
             "outlinewidth": 0,
             "ticks": ""
            },
            "colorscale": [
             [
              0,
              "#0d0887"
             ],
             [
              0.1111111111111111,
              "#46039f"
             ],
             [
              0.2222222222222222,
              "#7201a8"
             ],
             [
              0.3333333333333333,
              "#9c179e"
             ],
             [
              0.4444444444444444,
              "#bd3786"
             ],
             [
              0.5555555555555556,
              "#d8576b"
             ],
             [
              0.6666666666666666,
              "#ed7953"
             ],
             [
              0.7777777777777778,
              "#fb9f3a"
             ],
             [
              0.8888888888888888,
              "#fdca26"
             ],
             [
              1,
              "#f0f921"
             ]
            ],
            "type": "heatmap"
           }
          ],
          "heatmapgl": [
           {
            "colorbar": {
             "outlinewidth": 0,
             "ticks": ""
            },
            "colorscale": [
             [
              0,
              "#0d0887"
             ],
             [
              0.1111111111111111,
              "#46039f"
             ],
             [
              0.2222222222222222,
              "#7201a8"
             ],
             [
              0.3333333333333333,
              "#9c179e"
             ],
             [
              0.4444444444444444,
              "#bd3786"
             ],
             [
              0.5555555555555556,
              "#d8576b"
             ],
             [
              0.6666666666666666,
              "#ed7953"
             ],
             [
              0.7777777777777778,
              "#fb9f3a"
             ],
             [
              0.8888888888888888,
              "#fdca26"
             ],
             [
              1,
              "#f0f921"
             ]
            ],
            "type": "heatmapgl"
           }
          ],
          "histogram": [
           {
            "marker": {
             "pattern": {
              "fillmode": "overlay",
              "size": 10,
              "solidity": 0.2
             }
            },
            "type": "histogram"
           }
          ],
          "histogram2d": [
           {
            "colorbar": {
             "outlinewidth": 0,
             "ticks": ""
            },
            "colorscale": [
             [
              0,
              "#0d0887"
             ],
             [
              0.1111111111111111,
              "#46039f"
             ],
             [
              0.2222222222222222,
              "#7201a8"
             ],
             [
              0.3333333333333333,
              "#9c179e"
             ],
             [
              0.4444444444444444,
              "#bd3786"
             ],
             [
              0.5555555555555556,
              "#d8576b"
             ],
             [
              0.6666666666666666,
              "#ed7953"
             ],
             [
              0.7777777777777778,
              "#fb9f3a"
             ],
             [
              0.8888888888888888,
              "#fdca26"
             ],
             [
              1,
              "#f0f921"
             ]
            ],
            "type": "histogram2d"
           }
          ],
          "histogram2dcontour": [
           {
            "colorbar": {
             "outlinewidth": 0,
             "ticks": ""
            },
            "colorscale": [
             [
              0,
              "#0d0887"
             ],
             [
              0.1111111111111111,
              "#46039f"
             ],
             [
              0.2222222222222222,
              "#7201a8"
             ],
             [
              0.3333333333333333,
              "#9c179e"
             ],
             [
              0.4444444444444444,
              "#bd3786"
             ],
             [
              0.5555555555555556,
              "#d8576b"
             ],
             [
              0.6666666666666666,
              "#ed7953"
             ],
             [
              0.7777777777777778,
              "#fb9f3a"
             ],
             [
              0.8888888888888888,
              "#fdca26"
             ],
             [
              1,
              "#f0f921"
             ]
            ],
            "type": "histogram2dcontour"
           }
          ],
          "mesh3d": [
           {
            "colorbar": {
             "outlinewidth": 0,
             "ticks": ""
            },
            "type": "mesh3d"
           }
          ],
          "parcoords": [
           {
            "line": {
             "colorbar": {
              "outlinewidth": 0,
              "ticks": ""
             }
            },
            "type": "parcoords"
           }
          ],
          "pie": [
           {
            "automargin": true,
            "type": "pie"
           }
          ],
          "scatter": [
           {
            "marker": {
             "colorbar": {
              "outlinewidth": 0,
              "ticks": ""
             }
            },
            "type": "scatter"
           }
          ],
          "scatter3d": [
           {
            "line": {
             "colorbar": {
              "outlinewidth": 0,
              "ticks": ""
             }
            },
            "marker": {
             "colorbar": {
              "outlinewidth": 0,
              "ticks": ""
             }
            },
            "type": "scatter3d"
           }
          ],
          "scattercarpet": [
           {
            "marker": {
             "colorbar": {
              "outlinewidth": 0,
              "ticks": ""
             }
            },
            "type": "scattercarpet"
           }
          ],
          "scattergeo": [
           {
            "marker": {
             "colorbar": {
              "outlinewidth": 0,
              "ticks": ""
             }
            },
            "type": "scattergeo"
           }
          ],
          "scattergl": [
           {
            "marker": {
             "colorbar": {
              "outlinewidth": 0,
              "ticks": ""
             }
            },
            "type": "scattergl"
           }
          ],
          "scattermapbox": [
           {
            "marker": {
             "colorbar": {
              "outlinewidth": 0,
              "ticks": ""
             }
            },
            "type": "scattermapbox"
           }
          ],
          "scatterpolar": [
           {
            "marker": {
             "colorbar": {
              "outlinewidth": 0,
              "ticks": ""
             }
            },
            "type": "scatterpolar"
           }
          ],
          "scatterpolargl": [
           {
            "marker": {
             "colorbar": {
              "outlinewidth": 0,
              "ticks": ""
             }
            },
            "type": "scatterpolargl"
           }
          ],
          "scatterternary": [
           {
            "marker": {
             "colorbar": {
              "outlinewidth": 0,
              "ticks": ""
             }
            },
            "type": "scatterternary"
           }
          ],
          "surface": [
           {
            "colorbar": {
             "outlinewidth": 0,
             "ticks": ""
            },
            "colorscale": [
             [
              0,
              "#0d0887"
             ],
             [
              0.1111111111111111,
              "#46039f"
             ],
             [
              0.2222222222222222,
              "#7201a8"
             ],
             [
              0.3333333333333333,
              "#9c179e"
             ],
             [
              0.4444444444444444,
              "#bd3786"
             ],
             [
              0.5555555555555556,
              "#d8576b"
             ],
             [
              0.6666666666666666,
              "#ed7953"
             ],
             [
              0.7777777777777778,
              "#fb9f3a"
             ],
             [
              0.8888888888888888,
              "#fdca26"
             ],
             [
              1,
              "#f0f921"
             ]
            ],
            "type": "surface"
           }
          ],
          "table": [
           {
            "cells": {
             "fill": {
              "color": "#EBF0F8"
             },
             "line": {
              "color": "white"
             }
            },
            "header": {
             "fill": {
              "color": "#C8D4E3"
             },
             "line": {
              "color": "white"
             }
            },
            "type": "table"
           }
          ]
         },
         "layout": {
          "annotationdefaults": {
           "arrowcolor": "#2a3f5f",
           "arrowhead": 0,
           "arrowwidth": 1
          },
          "autotypenumbers": "strict",
          "coloraxis": {
           "colorbar": {
            "outlinewidth": 0,
            "ticks": ""
           }
          },
          "colorscale": {
           "diverging": [
            [
             0,
             "#8e0152"
            ],
            [
             0.1,
             "#c51b7d"
            ],
            [
             0.2,
             "#de77ae"
            ],
            [
             0.3,
             "#f1b6da"
            ],
            [
             0.4,
             "#fde0ef"
            ],
            [
             0.5,
             "#f7f7f7"
            ],
            [
             0.6,
             "#e6f5d0"
            ],
            [
             0.7,
             "#b8e186"
            ],
            [
             0.8,
             "#7fbc41"
            ],
            [
             0.9,
             "#4d9221"
            ],
            [
             1,
             "#276419"
            ]
           ],
           "sequential": [
            [
             0,
             "#0d0887"
            ],
            [
             0.1111111111111111,
             "#46039f"
            ],
            [
             0.2222222222222222,
             "#7201a8"
            ],
            [
             0.3333333333333333,
             "#9c179e"
            ],
            [
             0.4444444444444444,
             "#bd3786"
            ],
            [
             0.5555555555555556,
             "#d8576b"
            ],
            [
             0.6666666666666666,
             "#ed7953"
            ],
            [
             0.7777777777777778,
             "#fb9f3a"
            ],
            [
             0.8888888888888888,
             "#fdca26"
            ],
            [
             1,
             "#f0f921"
            ]
           ],
           "sequentialminus": [
            [
             0,
             "#0d0887"
            ],
            [
             0.1111111111111111,
             "#46039f"
            ],
            [
             0.2222222222222222,
             "#7201a8"
            ],
            [
             0.3333333333333333,
             "#9c179e"
            ],
            [
             0.4444444444444444,
             "#bd3786"
            ],
            [
             0.5555555555555556,
             "#d8576b"
            ],
            [
             0.6666666666666666,
             "#ed7953"
            ],
            [
             0.7777777777777778,
             "#fb9f3a"
            ],
            [
             0.8888888888888888,
             "#fdca26"
            ],
            [
             1,
             "#f0f921"
            ]
           ]
          },
          "colorway": [
           "#636efa",
           "#EF553B",
           "#00cc96",
           "#ab63fa",
           "#FFA15A",
           "#19d3f3",
           "#FF6692",
           "#B6E880",
           "#FF97FF",
           "#FECB52"
          ],
          "font": {
           "color": "#2a3f5f"
          },
          "geo": {
           "bgcolor": "white",
           "lakecolor": "white",
           "landcolor": "#E5ECF6",
           "showlakes": true,
           "showland": true,
           "subunitcolor": "white"
          },
          "hoverlabel": {
           "align": "left"
          },
          "hovermode": "closest",
          "mapbox": {
           "style": "light"
          },
          "paper_bgcolor": "white",
          "plot_bgcolor": "#E5ECF6",
          "polar": {
           "angularaxis": {
            "gridcolor": "white",
            "linecolor": "white",
            "ticks": ""
           },
           "bgcolor": "#E5ECF6",
           "radialaxis": {
            "gridcolor": "white",
            "linecolor": "white",
            "ticks": ""
           }
          },
          "scene": {
           "xaxis": {
            "backgroundcolor": "#E5ECF6",
            "gridcolor": "white",
            "gridwidth": 2,
            "linecolor": "white",
            "showbackground": true,
            "ticks": "",
            "zerolinecolor": "white"
           },
           "yaxis": {
            "backgroundcolor": "#E5ECF6",
            "gridcolor": "white",
            "gridwidth": 2,
            "linecolor": "white",
            "showbackground": true,
            "ticks": "",
            "zerolinecolor": "white"
           },
           "zaxis": {
            "backgroundcolor": "#E5ECF6",
            "gridcolor": "white",
            "gridwidth": 2,
            "linecolor": "white",
            "showbackground": true,
            "ticks": "",
            "zerolinecolor": "white"
           }
          },
          "shapedefaults": {
           "line": {
            "color": "#2a3f5f"
           }
          },
          "ternary": {
           "aaxis": {
            "gridcolor": "white",
            "linecolor": "white",
            "ticks": ""
           },
           "baxis": {
            "gridcolor": "white",
            "linecolor": "white",
            "ticks": ""
           },
           "bgcolor": "#E5ECF6",
           "caxis": {
            "gridcolor": "white",
            "linecolor": "white",
            "ticks": ""
           }
          },
          "title": {
           "x": 0.05
          },
          "xaxis": {
           "automargin": true,
           "gridcolor": "white",
           "linecolor": "white",
           "ticks": "",
           "title": {
            "standoff": 15
           },
           "zerolinecolor": "white",
           "zerolinewidth": 2
          },
          "yaxis": {
           "automargin": true,
           "gridcolor": "white",
           "linecolor": "white",
           "ticks": "",
           "title": {
            "standoff": 15
           },
           "zerolinecolor": "white",
           "zerolinewidth": 2
          }
         }
        }
       }
      }
     },
     "metadata": {},
     "output_type": "display_data"
    }
   ],
   "source": [
    "from umap import UMAP\n",
    "import plotly.express as px\n",
    "\n",
    "df = px.data.iris()\n",
    "\n",
    "features = df.loc[:, :'petal_width']\n",
    "\n",
    "umap_2d = UMAP(n_components=2, init='random', random_state=0)\n",
    "umap_3d = UMAP(n_components=3, init='random', random_state=0)\n",
    "\n",
    "proj_2d = umap_2d.fit_transform(features)\n",
    "proj_3d = umap_3d.fit_transform(features)\n",
    "\n",
    "fig_2d = px.scatter(\n",
    "    proj_2d, x=0, y=1,\n",
    "    color=df.species, labels={'color': 'species'}\n",
    ")\n",
    "fig_3d = px.scatter_3d(\n",
    "    proj_3d, x=0, y=1, z=2,\n",
    "    color=df.species, labels={'color': 'species'}\n",
    ")\n",
    "fig_3d.update_traces(marker_size=5)\n",
    "\n",
    "fig_2d.show()\n",
    "fig_3d.show()"
   ]
  },
  {
   "cell_type": "code",
   "execution_count": 9,
   "metadata": {},
   "outputs": [
    {
     "data": {
      "application/vnd.plotly.v1+json": {
       "config": {
        "plotlyServerURL": "https://plot.ly"
       },
       "data": [
        {
         "hovertemplate": "digit=0<br>0=%{x}<br>1=%{y}<extra></extra>",
         "legendgroup": "0",
         "marker": {
          "color": "#636efa",
          "symbol": "circle"
         },
         "mode": "markers",
         "name": "0",
         "showlegend": true,
         "type": "scattergl",
         "x": [
          13.21720027923584,
          13.530412673950195,
          13.85062026977539,
          13.571537017822266,
          13.997238159179688,
          13.114190101623535,
          12.999277114868164,
          13.86724853515625,
          13.705455780029297,
          12.639961242675781,
          12.938590049743652,
          13.489755630493164,
          13.699427604675293,
          13.193130493164062,
          13.582950592041016,
          13.38737678527832,
          13.965497970581055,
          13.73472785949707,
          12.912819862365723,
          13.792028427124023,
          13.680543899536133,
          13.247235298156738,
          13.902921676635742,
          13.554948806762695,
          13.02645492553711,
          13.51858901977539,
          13.605621337890625,
          13.170974731445312,
          13.337056159973145,
          13.398332595825195,
          13.416712760925293,
          13.01327133178711,
          12.9542875289917,
          13.09447956085205,
          13.416059494018555,
          13.407438278198242,
          13.436100959777832,
          13.2269287109375,
          12.95997428894043,
          13.063950538635254,
          13.224323272705078,
          13.231201171875,
          13.861040115356445,
          13.164549827575684,
          12.913723945617676,
          13.193412780761719,
          12.859282493591309,
          13.803194046020508,
          13.019070625305176,
          12.960578918457031,
          13.201460838317871,
          13.284270286560059,
          13.534843444824219,
          12.957541465759277,
          13.462320327758789,
          13.635663032531738,
          12.817037582397461,
          13.202765464782715,
          12.634710311889648,
          13.482442855834961,
          13.625027656555176,
          13.012855529785156,
          13.534056663513184,
          13.462803840637207,
          13.304892539978027,
          13.91455364227295,
          13.456470489501953,
          13.952546119689941,
          13.473828315734863,
          13.23543930053711,
          13.745162010192871,
          13.361662864685059,
          13.907504081726074,
          13.970818519592285,
          13.943260192871094,
          13.389659881591797,
          13.671167373657227,
          13.759828567504883,
          12.957902908325195,
          12.760119438171387,
          13.212809562683105,
          13.117791175842285,
          13.296472549438477,
          13.448172569274902,
          13.553707122802734,
          13.805008888244629,
          13.90298080444336,
          14.063589096069336,
          12.859909057617188,
          13.180472373962402,
          13.542608261108398,
          12.826970100402832,
          12.856955528259277,
          13.103394508361816,
          12.736784934997559,
          12.773846626281738,
          12.696538925170898,
          12.894214630126953,
          12.820313453674316,
          12.921955108642578,
          12.777334213256836,
          13.174958229064941,
          13.155317306518555,
          12.892155647277832,
          12.896500587463379,
          13.123523712158203,
          12.996209144592285,
          12.861364364624023,
          12.682012557983398,
          12.978019714355469,
          12.743303298950195,
          12.65732192993164,
          13.19604206085205,
          12.885397911071777,
          13.330852508544922,
          13.352280616760254,
          13.407919883728027,
          13.521660804748535,
          13.576245307922363,
          13.561345100402832,
          13.569945335388184,
          13.46468734741211,
          13.499759674072266,
          13.485883712768555,
          13.485126495361328,
          13.455977439880371,
          13.471287727355957,
          12.897544860839844,
          13.643031120300293,
          13.446589469909668,
          12.671574592590332,
          13.982270240783691,
          13.738038063049316,
          13.720503807067871,
          13.665398597717285,
          13.461181640625,
          13.291507720947266,
          13.475852012634277,
          13.632579803466797,
          13.78061294555664,
          12.770373344421387,
          12.866572380065918,
          12.972633361816406,
          12.80381965637207,
          12.886500358581543,
          12.88694953918457,
          12.85810375213623,
          12.656566619873047,
          12.875492095947266,
          12.700174331665039,
          12.884696006774902,
          12.776390075683594,
          12.992055892944336,
          13.866423606872559,
          13.647903442382812,
          13.860398292541504,
          13.958423614501953,
          13.362760543823242,
          13.86955738067627,
          13.375758171081543,
          13.629289627075195,
          13.809555053710938,
          12.694502830505371,
          13.876032829284668,
          13.540583610534668,
          12.951581001281738,
          13.027575492858887,
          13.124737739562988,
          13.164346694946289,
          13.907818794250488,
          13.256603240966797,
          13.138876914978027,
          13.81234073638916,
          13.260099411010742,
          13.40048885345459,
          13.167211532592773,
          13.564162254333496,
          13.987178802490234
         ],
         "xaxis": "x",
         "y": [
          6.590813159942627,
          6.678308963775635,
          7.684022426605225,
          6.552286148071289,
          7.399984836578369,
          6.941079616546631,
          7.570476531982422,
          7.804603099822998,
          7.758815288543701,
          7.53707218170166,
          7.636597633361816,
          7.745964050292969,
          7.803520202636719,
          7.190188884735107,
          7.4151930809021,
          7.750204086303711,
          7.408899307250977,
          7.05710506439209,
          7.494515419006348,
          7.825267791748047,
          7.920236110687256,
          7.713385105133057,
          7.713709831237793,
          7.841500759124756,
          7.536612033843994,
          7.784039497375488,
          6.694666862487793,
          7.37052583694458,
          6.665201187133789,
          6.593642234802246,
          6.282876014709473,
          6.727322101593018,
          6.79217529296875,
          6.696643352508545,
          6.823660373687744,
          6.685867786407471,
          6.6637067794799805,
          7.344905853271484,
          7.323205947875977,
          7.635614395141602,
          7.585399150848389,
          7.727778911590576,
          7.367202281951904,
          7.526407718658447,
          7.506675720214844,
          7.67818546295166,
          6.895418643951416,
          7.1721906661987305,
          6.818565845489502,
          7.637453556060791,
          7.751266956329346,
          6.93041467666626,
          6.966243743896484,
          6.87259578704834,
          6.836785316467285,
          6.979055404663086,
          6.993302345275879,
          7.082127571105957,
          7.325567722320557,
          6.751010417938232,
          7.402778148651123,
          6.898943901062012,
          6.873020172119141,
          6.64921236038208,
          6.913015842437744,
          7.0571208000183105,
          6.2488932609558105,
          7.325125217437744,
          6.7855424880981445,
          7.538809776306152,
          7.556844711303711,
          6.546618461608887,
          7.8031439781188965,
          7.511982440948486,
          7.314542293548584,
          7.108983516693115,
          7.45914363861084,
          7.152419090270996,
          6.580937385559082,
          6.922346591949463,
          6.522775650024414,
          6.816937446594238,
          6.716217041015625,
          7.163486957550049,
          6.795315265655518,
          6.804876804351807,
          7.517263889312744,
          7.63191032409668,
          6.726123332977295,
          6.573685169219971,
          7.130608558654785,
          6.849759578704834,
          6.855116367340088,
          7.171535015106201,
          6.673356056213379,
          6.7480058670043945,
          6.737697601318359,
          6.560897350311279,
          7.042817115783691,
          6.690162658691406,
          6.79145622253418,
          6.577843189239502,
          7.436097145080566,
          7.317678928375244,
          6.996725082397461,
          7.535089015960693,
          7.362366199493408,
          7.276294708251953,
          7.197023868560791,
          6.958968639373779,
          7.162275791168213,
          7.244032859802246,
          6.693824291229248,
          7.156981468200684,
          6.81742000579834,
          6.393477916717529,
          6.715402126312256,
          6.193995475769043,
          6.4730000495910645,
          6.562505722045898,
          6.3136396408081055,
          6.252159595489502,
          6.200128555297852,
          6.205522060394287,
          6.2455267906188965,
          7.071261405944824,
          6.1957855224609375,
          7.186800479888916,
          7.298098564147949,
          7.3523335456848145,
          7.442862510681152,
          7.688366889953613,
          7.40131139755249,
          7.5760416984558105,
          6.657993793487549,
          6.822853088378906,
          6.581790924072266,
          7.366435527801514,
          7.436627388000488,
          7.709112167358398,
          6.815788745880127,
          7.583801746368408,
          6.813376426696777,
          7.381694793701172,
          7.216332912445068,
          7.077824115753174,
          7.108897686004639,
          7.448291778564453,
          7.525384902954102,
          7.455600738525391,
          6.928518295288086,
          7.222546100616455,
          6.783609867095947,
          7.539707183837891,
          7.618462085723877,
          7.417314529418945,
          7.828372955322266,
          7.290070056915283,
          7.803910732269287,
          6.854022979736328,
          7.651134490966797,
          7.860347747802734,
          7.112791061401367,
          7.709590911865234,
          6.796733856201172,
          7.564652919769287,
          7.616941452026367,
          7.726646900177002,
          6.719595909118652,
          7.432447910308838,
          7.490869045257568,
          6.617973327636719,
          7.412785053253174,
          7.46143913269043,
          6.957268238067627,
          7.705615520477295,
          7.710821628570557,
          7.301461219787598
         ],
         "yaxis": "y"
        },
        {
         "hovertemplate": "digit=1<br>0=%{x}<br>1=%{y}<extra></extra>",
         "legendgroup": "1",
         "marker": {
          "color": "#EF553B",
          "symbol": "circle"
         },
         "mode": "markers",
         "name": "1",
         "showlegend": true,
         "type": "scattergl",
         "x": [
          -7.273225784301758,
          -7.29409122467041,
          -7.492260932922363,
          -7.362506866455078,
          -7.438605785369873,
          -7.477452754974365,
          -7.472740650177002,
          -7.476147651672363,
          -7.326151371002197,
          -7.305202484130859,
          -7.272637367248535,
          -6.935240268707275,
          -7.304717063903809,
          -7.758311748504639,
          -7.355241298675537,
          -7.465284824371338,
          -7.508064270019531,
          -7.495516300201416,
          -7.494638442993164,
          -7.229765892028809,
          -7.484662055969238,
          -7.135184288024902,
          -7.439154624938965,
          -7.400659084320068,
          -7.254791736602783,
          -7.343949794769287,
          -6.685428619384766,
          -7.061895847320557,
          -6.372087478637695,
          -6.573031425476074,
          -6.549848556518555,
          -7.157468318939209,
          -6.890978813171387,
          -6.600554943084717,
          -6.597785949707031,
          -6.696475505828857,
          -7.204657554626465,
          -7.249702453613281,
          -6.48983097076416,
          -7.888490200042725,
          -7.478074550628662,
          -7.502161502838135,
          -7.554110050201416,
          -7.507663249969482,
          -7.04581880569458,
          -7.5442657470703125,
          -7.431457996368408,
          -7.4369988441467285,
          -7.409857273101807,
          -7.472928047180176,
          -7.454057216644287,
          -7.544463634490967,
          -7.121773719787598,
          -6.964672565460205,
          -6.942903518676758,
          -6.945633411407471,
          -6.919257640838623,
          -6.869634628295898,
          -6.987102031707764,
          -6.944250583648682,
          -7.003246307373047,
          -6.9100494384765625,
          -7.057460308074951,
          -6.197454929351807,
          -7.120752334594727,
          -6.44467830657959,
          -6.463029384613037,
          -6.578542232513428,
          -6.324018955230713,
          -6.278782367706299,
          -6.828653812408447,
          -6.359909534454346,
          -6.803409576416016,
          -6.218053817749023,
          -6.171755313873291,
          -6.199941635131836,
          -6.30687141418457,
          -6.35360050201416,
          -7.253722667694092,
          -7.301867961883545,
          -6.8604278564453125,
          -6.187018871307373,
          -6.286473274230957,
          -6.900945663452148,
          -6.298206806182861,
          -6.567255973815918,
          -6.516867637634277,
          -6.935956954956055,
          -6.971560001373291,
          -6.924413681030273,
          -6.449803829193115,
          -6.909550189971924,
          -6.946960926055908,
          -6.89609956741333,
          -7.128024578094482,
          -7.130114555358887,
          -7.069991588592529,
          -7.13148832321167,
          -7.093467712402344,
          -6.909355163574219,
          -7.038283824920654,
          -7.113570690155029,
          -7.114910125732422,
          -7.011813163757324,
          -6.243336200714111,
          -6.368007183074951,
          -7.233310222625732,
          -6.196255683898926,
          -7.014409065246582,
          -6.452528953552246,
          -7.238646507263184,
          -6.817391872406006,
          -7.2023820877075195,
          -6.20150899887085,
          -6.72709846496582,
          -6.839852809906006,
          -6.9216389656066895,
          -7.4043402671813965,
          -7.451670169830322,
          -7.035978317260742,
          -6.471496105194092,
          -7.244524002075195,
          -7.3722310066223145,
          -6.819321155548096,
          -7.184921741485596,
          -7.110655784606934,
          -6.928659915924072,
          -6.819648265838623,
          -6.767895221710205,
          -6.8872199058532715,
          -7.937300205230713,
          -7.122891902923584,
          -7.511286735534668,
          -7.315867900848389,
          -7.334881782531738,
          -7.6274824142456055,
          -7.199168682098389,
          -7.454055309295654,
          -7.331381797790527,
          -7.3509135246276855,
          -7.31161642074585,
          -7.083035469055176,
          -7.113674640655518,
          -7.920987606048584,
          -7.911999225616455,
          -7.7405009269714355,
          -7.797420978546143,
          -7.825829982757568,
          -7.901010513305664,
          -7.924186706542969,
          -7.875466823577881,
          -7.960048675537109,
          -7.693624019622803,
          -7.856261253356934,
          -7.838335037231445,
          -7.935208797454834,
          -7.231500148773193,
          -6.883258819580078,
          -6.739747047424316,
          -7.360684871673584,
          -7.127412796020508,
          -6.860350608825684,
          -7.20278787612915,
          -7.244263172149658,
          -7.356804370880127,
          -7.405655384063721,
          -7.297121047973633,
          -7.362729072570801,
          -7.3796563148498535,
          -6.366589546203613,
          -6.2255144119262695,
          -6.527196884155273,
          -6.283926010131836,
          -6.323669910430908,
          -6.46494197845459,
          -6.2005228996276855,
          -6.197349548339844,
          -6.411990165710449,
          -6.230576992034912,
          -6.442086219787598,
          -6.179279804229736,
          -6.170375347137451
         ],
         "xaxis": "x",
         "y": [
          9.082931518554688,
          10.74328899383545,
          10.732813835144043,
          10.62121868133545,
          10.418330192565918,
          10.582139015197754,
          10.338013648986816,
          10.545594215393066,
          10.302691459655762,
          10.642593383789062,
          9.47681999206543,
          9.18295955657959,
          10.85995101928711,
          11.142518043518066,
          10.866231918334961,
          11.104275703430176,
          10.9171142578125,
          11.01395034790039,
          10.942163467407227,
          10.81391429901123,
          10.952844619750977,
          10.749615669250488,
          11.013644218444824,
          10.698698043823242,
          10.8142728805542,
          10.76691722869873,
          8.733139991760254,
          10.278002738952637,
          8.794266700744629,
          9.203544616699219,
          8.632889747619629,
          10.718734741210938,
          9.044580459594727,
          8.6827392578125,
          8.784358978271484,
          8.623132705688477,
          8.807825088500977,
          8.578797340393066,
          9.283509254455566,
          11.084561347961426,
          10.480944633483887,
          10.713829040527344,
          10.82929801940918,
          10.434661865234375,
          -4.559431552886963,
          10.766853332519531,
          10.346928596496582,
          10.359990119934082,
          10.649579048156738,
          10.600491523742676,
          10.532240867614746,
          10.829598426818848,
          -4.635798454284668,
          -4.4784650802612305,
          -4.45768928527832,
          -4.4617204666137695,
          -4.441741943359375,
          -4.385429859161377,
          -4.504787445068359,
          -4.462188243865967,
          -4.520636081695557,
          -4.429580211639404,
          -4.572723865509033,
          8.834657669067383,
          -4.635064125061035,
          8.826526641845703,
          9.148666381835938,
          9.205340385437012,
          8.70224666595459,
          8.826193809509277,
          8.511429786682129,
          9.09947395324707,
          8.516953468322754,
          9.148088455200195,
          9.066537857055664,
          8.993128776550293,
          9.091282844543457,
          8.934497833251953,
          8.59398365020752,
          8.533097267150879,
          8.527198791503906,
          8.788818359375,
          8.847745895385742,
          -4.413609981536865,
          8.587211608886719,
          9.173868179321289,
          8.783863067626953,
          9.028254508972168,
          9.018918991088867,
          8.60235595703125,
          8.604090690612793,
          -4.4211883544921875,
          -4.431201934814453,
          -4.409377574920654,
          -4.642380714416504,
          -4.643831729888916,
          -4.583896160125732,
          -4.6454057693481445,
          -4.606182098388672,
          -4.421159744262695,
          -4.552377700805664,
          -4.627553939819336,
          -4.628832817077637,
          -4.525004863739014,
          8.698981285095215,
          8.686866760253906,
          8.738964080810547,
          8.701044082641602,
          8.999917030334473,
          9.233938217163086,
          8.723790168762207,
          9.225438117980957,
          8.675570487976074,
          8.60460090637207,
          8.66360092163086,
          9.158073425292969,
          9.082847595214844,
          10.312226295471191,
          10.406911849975586,
          9.499349594116211,
          8.57248592376709,
          9.906005859375,
          8.67292594909668,
          9.187150955200195,
          8.606940269470215,
          9.580648422241211,
          9.073346138000488,
          9.14974594116211,
          9.265280723571777,
          9.402220726013184,
          11.121031761169434,
          9.608254432678223,
          11.10816764831543,
          8.702070236206055,
          8.622715950012207,
          10.8146333694458,
          8.62176513671875,
          10.369959831237793,
          8.569270133972168,
          8.614416122436523,
          8.684024810791016,
          8.967310905456543,
          8.93923568725586,
          11.081779479980469,
          11.147442817687988,
          10.971600532531738,
          11.10824966430664,
          11.153873443603516,
          11.137663841247559,
          11.131453514099121,
          11.12912654876709,
          11.083027839660645,
          10.893057823181152,
          11.143757820129395,
          11.167043685913086,
          11.128019332885742,
          8.872299194335938,
          9.377628326416016,
          9.318236351013184,
          8.636717796325684,
          8.869939804077148,
          9.250067710876465,
          8.8546781539917,
          8.78702449798584,
          8.650656700134277,
          8.643571853637695,
          8.70259952545166,
          8.611828804016113,
          8.61426067352295,
          9.04597282409668,
          8.88539981842041,
          9.181846618652344,
          8.944089889526367,
          8.845006942749023,
          9.115049362182617,
          8.732781410217285,
          8.760583877563477,
          8.71567440032959,
          8.60689640045166,
          9.110128402709961,
          8.74819278717041,
          8.70997142791748
         ],
         "yaxis": "y"
        },
        {
         "hovertemplate": "digit=2<br>0=%{x}<br>1=%{y}<extra></extra>",
         "legendgroup": "2",
         "marker": {
          "color": "#00cc96",
          "symbol": "circle"
         },
         "mode": "markers",
         "name": "2",
         "showlegend": true,
         "type": "scattergl",
         "x": [
          -5.039184093475342,
          8.005269050598145,
          7.617252826690674,
          -5.0458149909973145,
          -5.064737796783447,
          -5.068976402282715,
          -5.085788726806641,
          -5.081437110900879,
          -5.0953898429870605,
          6.977439880371094,
          7.458735942840576,
          -5.040504455566406,
          -4.9911651611328125,
          6.879191875457764,
          6.841148853302002,
          7.550684452056885,
          7.057643890380859,
          6.97252893447876,
          6.856388568878174,
          7.340027809143066,
          7.580565929412842,
          6.982363700866699,
          6.9176530838012695,
          6.852064609527588,
          6.803552150726318,
          6.998335361480713,
          7.303818702697754,
          7.207703590393066,
          7.053619384765625,
          6.744786739349365,
          6.973756790161133,
          7.274466037750244,
          7.053888320922852,
          7.1882123947143555,
          6.725223541259766,
          6.876336097717285,
          7.119704246520996,
          6.743342399597168,
          7.129134654998779,
          7.907873153686523,
          8.23021125793457,
          7.775851726531982,
          8.25308609008789,
          7.888893127441406,
          8.03867244720459,
          8.27383804321289,
          7.984173774719238,
          7.628236770629883,
          7.484206199645996,
          7.383530139923096,
          7.73954963684082,
          -5.042649745941162,
          8.403118133544922,
          7.8518757820129395,
          8.036760330200195,
          7.921644687652588,
          7.925737380981445,
          8.062376976013184,
          7.8629961013793945,
          8.220291137695312,
          7.280385971069336,
          7.045260906219482,
          7.930168628692627,
          7.444178581237793,
          7.968851089477539,
          6.966989994049072,
          6.994764804840088,
          7.072948455810547,
          7.437455177307129,
          7.13505220413208,
          7.396488666534424,
          7.469905376434326,
          7.320051193237305,
          6.920135498046875,
          6.6567158699035645,
          6.984415531158447,
          7.039017200469971,
          7.003429889678955,
          6.7996344566345215,
          7.032690048217773,
          6.674845218658447,
          7.094130039215088,
          6.76052188873291,
          6.6843037605285645,
          7.424417018890381,
          6.644837856292725,
          6.769320487976074,
          7.5520734786987305,
          6.686733722686768,
          0.07150568813085556,
          6.979193210601807,
          7.304765224456787,
          7.071683406829834,
          7.542971611022949,
          7.703677177429199,
          8.33665943145752,
          8.020715713500977,
          8.30887508392334,
          8.316019058227539,
          7.637609481811523,
          7.941466331481934,
          8.359196662902832,
          7.711527347564697,
          7.054018974304199,
          7.66903018951416,
          8.303831100463867,
          8.400909423828125,
          8.26021957397461,
          8.243186950683594,
          8.514017105102539,
          7.86640739440918,
          7.787734031677246,
          7.807237148284912,
          8.434859275817871,
          6.930285930633545,
          7.520395278930664,
          7.100054740905762,
          7.466244697570801,
          7.037229537963867,
          6.7491679191589355,
          7.290383338928223,
          7.334957599639893,
          7.588522911071777,
          7.030293941497803,
          6.648562431335449,
          6.762561321258545,
          7.226275444030762,
          8.409049987792969,
          8.554491996765137,
          8.453109741210938,
          8.524519920349121,
          8.546781539916992,
          8.64835262298584,
          8.513720512390137,
          8.1225004196167,
          8.668620109558105,
          8.19434642791748,
          8.461230278015137,
          8.338830947875977,
          8.375537872314453,
          7.4460062980651855,
          7.398136615753174,
          7.522002696990967,
          7.772222518920898,
          7.602110862731934,
          7.625764846801758,
          7.635094165802002,
          7.596957683563232,
          7.654386043548584,
          6.939849853515625,
          7.6820244789123535,
          7.827920913696289,
          7.6439948081970215,
          7.656329154968262,
          8.624768257141113,
          8.28748893737793,
          8.689743995666504,
          7.712189197540283,
          8.694966316223145,
          6.946508884429932,
          8.602611541748047,
          6.920516490936279,
          7.4003777503967285,
          8.428922653198242,
          7.701692581176758,
          6.999642372131348,
          7.438706398010254,
          6.947916030883789,
          7.477790832519531,
          6.988356113433838,
          7.495855331420898,
          7.606810092926025,
          7.121678352355957,
          7.392420768737793,
          7.704635143280029,
          7.68420934677124,
          7.5501322746276855
         ],
         "xaxis": "x",
         "y": [
          7.138618469238281,
          3.623032569885254,
          3.775073528289795,
          7.109251499176025,
          7.129889488220215,
          7.129313945770264,
          7.154574871063232,
          7.136867523193359,
          7.155848503112793,
          3.4043118953704834,
          3.9685311317443848,
          7.126442909240723,
          7.112426280975342,
          3.60117506980896,
          3.8791611194610596,
          4.1601481437683105,
          4.015186309814453,
          4.017507553100586,
          3.16668438911438,
          3.189579725265503,
          4.36220645904541,
          3.944387674331665,
          3.786316394805908,
          3.116180181503296,
          3.1628363132476807,
          3.9148952960968018,
          3.8179826736450195,
          3.7757067680358887,
          3.753200054168701,
          3.580146551132202,
          3.9652159214019775,
          3.8993287086486816,
          3.6629815101623535,
          3.9048609733581543,
          3.688831329345703,
          3.8688457012176514,
          3.881686210632324,
          3.711535930633545,
          3.6250147819519043,
          3.5473110675811768,
          3.69980788230896,
          3.155404567718506,
          3.738828420639038,
          3.4468190670013428,
          3.533456802368164,
          3.743365526199341,
          3.449692487716675,
          3.254096508026123,
          3.079500436782837,
          3.1911630630493164,
          3.0938851833343506,
          7.1275858879089355,
          4.144805908203125,
          3.915062427520752,
          3.9172744750976562,
          3.9248640537261963,
          3.9367406368255615,
          3.9645473957061768,
          3.9094786643981934,
          3.9741623401641846,
          3.8080244064331055,
          3.373382568359375,
          3.8461389541625977,
          3.8189175128936768,
          3.897597074508667,
          4.281933784484863,
          4.315290927886963,
          4.371363162994385,
          4.464844703674316,
          4.402371406555176,
          4.548819065093994,
          4.520177364349365,
          4.39968204498291,
          4.122446060180664,
          3.597208261489868,
          4.312057018280029,
          4.337923526763916,
          4.273615837097168,
          3.661168336868286,
          3.552635669708252,
          3.5741565227508545,
          3.9375786781311035,
          3.181610345840454,
          3.668804883956909,
          2.992260217666626,
          3.5191409587860107,
          3.192281723022461,
          4.274220943450928,
          3.410341262817383,
          11.395181655883789,
          4.274895191192627,
          3.7121617794036865,
          2.9982504844665527,
          3.6496200561523438,
          3.4097278118133545,
          4.003891468048096,
          3.6861178874969482,
          4.026391983032227,
          3.998849391937256,
          3.242469310760498,
          3.702369451522827,
          4.0522918701171875,
          3.1041464805603027,
          3.4736363887786865,
          3.9644579887390137,
          3.9856178760528564,
          4.230100631713867,
          4.110464572906494,
          3.7827186584472656,
          4.289819717407227,
          3.4298036098480225,
          3.202726364135742,
          3.8975555896759033,
          4.092633247375488,
          3.5709385871887207,
          3.7939867973327637,
          4.299424648284912,
          4.140800476074219,
          4.334689140319824,
          3.658787965774536,
          3.9283647537231445,
          3.9168105125427246,
          4.190371990203857,
          3.895146369934082,
          3.6012191772460938,
          3.7185871601104736,
          3.9677700996398926,
          4.261114597320557,
          4.221163272857666,
          4.240962505340576,
          4.271492004394531,
          4.247158527374268,
          4.301784038543701,
          4.227309703826904,
          3.74088454246521,
          4.315750598907471,
          4.045241832733154,
          4.186904430389404,
          4.047462463378906,
          4.104979038238525,
          3.010995388031006,
          2.9655985832214355,
          3.0311248302459717,
          3.2260499000549316,
          3.020549774169922,
          2.987180233001709,
          2.967763900756836,
          3.0157923698425293,
          3.0357608795166016,
          3.0600228309631348,
          3.126084804534912,
          4.102025508880615,
          2.9952352046966553,
          3.8118183612823486,
          4.281736850738525,
          3.8480076789855957,
          4.329160690307617,
          3.5295886993408203,
          4.341916561126709,
          4.183328151702881,
          4.255539417266846,
          3.492976427078247,
          3.1486213207244873,
          4.247104644775391,
          3.3079795837402344,
          4.230003833770752,
          4.054116725921631,
          3.0639030933380127,
          3.0173864364624023,
          3.0809738636016846,
          2.9857468605041504,
          3.486759662628174,
          4.284301280975342,
          4.0926737785339355,
          3.282837152481079,
          3.0938146114349365,
          2.977125406265259
         ],
         "yaxis": "y"
        },
        {
         "hovertemplate": "digit=3<br>0=%{x}<br>1=%{y}<extra></extra>",
         "legendgroup": "3",
         "marker": {
          "color": "#ab63fa",
          "symbol": "circle"
         },
         "mode": "markers",
         "name": "3",
         "showlegend": true,
         "type": "scattergl",
         "x": [
          1.4955487251281738,
          0.6223373413085938,
          0.3339923918247223,
          0.8163036108016968,
          0.4693383574485779,
          0.7753148078918457,
          0.6534175872802734,
          0.5381595492362976,
          0.5454767346382141,
          0.5762423872947693,
          0.42419812083244324,
          0.5101518630981445,
          -0.45325374603271484,
          0.47522518038749695,
          0.5945206880569458,
          0.41927725076675415,
          0.33479228615760803,
          0.5953673124313354,
          0.7445452213287354,
          0.27504828572273254,
          0.6688414216041565,
          0.5126911997795105,
          0.4867944121360779,
          0.5938602685928345,
          0.37575268745422363,
          0.262751966714859,
          1.5365004539489746,
          1.2285462617874146,
          1.0101789236068726,
          0.9827776551246643,
          1.4103032350540161,
          0.807933509349823,
          1.1474741697311401,
          1.250707745552063,
          1.1902971267700195,
          0.6989870071411133,
          1.5082340240478516,
          1.5630128383636475,
          0.7703113555908203,
          0.6218541860580444,
          0.8626884818077087,
          1.703492283821106,
          1.330281376838684,
          1.6295475959777832,
          1.4910739660263062,
          1.6428598165512085,
          1.574133038520813,
          1.6778916120529175,
          1.6543889045715332,
          1.6608943939208984,
          1.616324543952942,
          1.6187896728515625,
          1.6805098056793213,
          0.2978423535823822,
          0.2750125825405121,
          0.23399554193019867,
          0.31488412618637085,
          0.2889876961708069,
          0.4530169367790222,
          0.21362657845020294,
          0.2851354479789734,
          0.28332358598709106,
          0.2527667284011841,
          0.2553616762161255,
          0.27797892689704895,
          0.27907419204711914,
          0.9058412313461304,
          0.699337363243103,
          1.116292119026184,
          0.5557225346565247,
          0.5762306451797485,
          0.827027440071106,
          0.5270361304283142,
          0.9984056949615479,
          0.6805352568626404,
          0.6508125066757202,
          1.5710824728012085,
          1.5883616209030151,
          1.1588798761367798,
          1.6015472412109375,
          1.3796881437301636,
          1.2142252922058105,
          1.1617298126220703,
          1.3543869256973267,
          1.2635045051574707,
          0.5145144462585449,
          0.4691452383995056,
          0.7311015129089355,
          1.4610378742218018,
          1.200760841369629,
          1.3596446514129639,
          0.6483038067817688,
          1.001545786857605,
          1.4208836555480957,
          1.557069182395935,
          1.5655409097671509,
          1.2183911800384521,
          1.2724695205688477,
          1.0110979080200195,
          1.3637818098068237,
          1.0168453454971313,
          0.9457866549491882,
          1.1254462003707886,
          1.2358880043029785,
          1.283864140510559,
          0.7581037878990173,
          0.7429015040397644,
          0.6731360554695129,
          0.5400925278663635,
          0.6004852652549744,
          0.521351158618927,
          0.645052433013916,
          0.6173125505447388,
          0.7393706440925598,
          0.7225663065910339,
          -2.3722784519195557,
          0.6653314232826233,
          0.6294847130775452,
          0.8127512335777283,
          0.5477935671806335,
          0.5902557969093323,
          -0.41918808221817017,
          0.5317409038543701,
          0.46267983317375183,
          0.4358360469341278,
          0.46946775913238525,
          0.3654603660106659,
          0.47598814964294434,
          0.9058116674423218,
          0.8409689664840698,
          0.34349513053894043,
          0.6796008944511414,
          0.5125584006309509,
          1.4615819454193115,
          0.7996637225151062,
          0.7849645614624023,
          0.6682050824165344,
          0.5620136857032776,
          0.6401633620262146,
          0.8913007378578186,
          0.4126146137714386,
          1.1731736660003662,
          0.5939473509788513,
          0.7985077500343323,
          1.6064120531082153,
          1.6029820442199707,
          1.5458214282989502,
          1.042171835899353,
          1.5941462516784668,
          1.0945342779159546,
          1.4885473251342773,
          0.9852315187454224,
          1.286319375038147,
          1.2034481763839722,
          1.037082552909851,
          0.8789012432098389,
          1.319298267364502,
          0.6534901261329651,
          0.5920702219009399,
          0.47583693265914917,
          -0.4210972189903259,
          -0.41935914754867554,
          -0.46344617009162903,
          -0.47109296917915344,
          -0.44062840938568115,
          0.4921298325061798,
          0.6456707119941711,
          0.622677206993103,
          0.5984029173851013,
          0.6952205300331116,
          1.5642788410186768,
          -0.22041715681552887,
          1.323371410369873,
          -0.35959944128990173,
          -0.1809292882680893,
          -0.29278215765953064,
          1.5766273736953735,
          -0.2976285517215729,
          -0.01639135554432869,
          0.43387603759765625,
          1.2861218452453613,
          1.328242540359497,
          1.0560386180877686
         ],
         "xaxis": "x",
         "y": [
          9.757462501525879,
          10.669682502746582,
          10.946280479431152,
          10.682162284851074,
          10.800888061523438,
          10.756915092468262,
          10.94290828704834,
          10.926387786865234,
          11.05195426940918,
          10.956694602966309,
          10.996885299682617,
          11.049322128295898,
          11.148625373840332,
          11.076760292053223,
          10.937533378601074,
          11.023993492126465,
          10.689742088317871,
          10.863357543945312,
          10.974236488342285,
          10.841206550598145,
          10.8761625289917,
          11.068359375,
          11.10278034210205,
          10.99658489227295,
          11.08652114868164,
          11.069073677062988,
          9.603520393371582,
          10.079607009887695,
          9.59872055053711,
          10.071442604064941,
          9.909882545471191,
          10.243940353393555,
          9.854589462280273,
          10.058379173278809,
          10.077996253967285,
          10.315241813659668,
          9.9887056350708,
          9.952341079711914,
          9.556853294372559,
          10.504096031188965,
          10.20565128326416,
          9.414185523986816,
          9.261432647705078,
          9.497369766235352,
          9.564492225646973,
          9.467752456665039,
          9.538399696350098,
          9.463513374328613,
          9.44923210144043,
          9.488129615783691,
          9.510124206542969,
          9.609587669372559,
          9.439743995666504,
          8.589085578918457,
          8.666993141174316,
          8.550849914550781,
          8.57929515838623,
          8.556220054626465,
          9.552315711975098,
          8.626962661743164,
          8.573159217834473,
          8.544486045837402,
          8.58833122253418,
          8.581908226013184,
          8.621803283691406,
          8.630136489868164,
          10.091581344604492,
          9.930174827575684,
          10.13552188873291,
          10.092592239379883,
          9.97181510925293,
          10.111586570739746,
          9.921978950500488,
          10.247625350952148,
          10.063939094543457,
          9.967421531677246,
          9.988486289978027,
          9.93791675567627,
          10.194246292114258,
          10.013631820678711,
          10.105630874633789,
          9.734524726867676,
          10.094828605651855,
          10.195855140686035,
          10.3275728225708,
          10.377971649169922,
          10.572704315185547,
          10.271105766296387,
          9.901490211486816,
          9.84412670135498,
          9.814862251281738,
          10.59420108795166,
          9.303315162658691,
          9.52019214630127,
          9.579354286193848,
          9.55924129486084,
          9.557538986206055,
          9.515312194824219,
          9.207504272460938,
          9.266398429870605,
          9.219852447509766,
          9.343972206115723,
          9.223952293395996,
          9.781291007995605,
          9.289762496948242,
          9.588692665100098,
          9.491865158081055,
          9.815576553344727,
          10.052490234375,
          9.75062084197998,
          10.171557426452637,
          9.782732009887695,
          9.794620513916016,
          9.614607810974121,
          9.623217582702637,
          14.3085298538208,
          9.672496795654297,
          9.756817817687988,
          9.650503158569336,
          10.250397682189941,
          9.767072677612305,
          11.140237808227539,
          9.96924114227295,
          10.657063484191895,
          10.72730541229248,
          10.299205780029297,
          10.827353477478027,
          10.782111167907715,
          9.813785552978516,
          9.832803726196289,
          10.901026725769043,
          10.228772163391113,
          10.169901847839355,
          9.533710479736328,
          9.755172729492188,
          10.595962524414062,
          10.073122024536133,
          9.867009162902832,
          9.803665161132812,
          9.861031532287598,
          10.681344985961914,
          9.687296867370605,
          9.854342460632324,
          9.764872550964355,
          9.606244087219238,
          9.505902290344238,
          9.774873733520508,
          9.835460662841797,
          9.515470504760742,
          9.512212753295898,
          9.560011863708496,
          9.764074325561523,
          9.618385314941406,
          10.062368392944336,
          9.842766761779785,
          9.529447555541992,
          9.737836837768555,
          10.798312187194824,
          10.496453285217285,
          10.724954605102539,
          11.159438133239746,
          11.115863800048828,
          11.167054176330566,
          11.25768756866455,
          11.118815422058105,
          10.849126815795898,
          10.84909725189209,
          10.681373596191406,
          10.794448852539062,
          10.695684432983398,
          10.017489433288574,
          11.030879974365234,
          10.213287353515625,
          11.112120628356934,
          11.022078514099121,
          11.071499824523926,
          10.015355110168457,
          11.088725090026855,
          10.942730903625488,
          10.712882041931152,
          10.107869148254395,
          10.212576866149902,
          10.302827835083008
         ],
         "yaxis": "y"
        },
        {
         "hovertemplate": "digit=4<br>0=%{x}<br>1=%{y}<extra></extra>",
         "legendgroup": "4",
         "marker": {
          "color": "#FFA15A",
          "symbol": "circle"
         },
         "mode": "markers",
         "name": "4",
         "showlegend": true,
         "type": "scattergl",
         "x": [
          7.799019813537598,
          7.349068641662598,
          7.6139960289001465,
          7.144822120666504,
          7.561426639556885,
          6.878888130187988,
          6.486848831176758,
          7.546411514282227,
          7.660792827606201,
          6.744418144226074,
          6.812783718109131,
          6.552267074584961,
          7.1035966873168945,
          7.214996337890625,
          7.244161128997803,
          7.326881408691406,
          7.2535200119018555,
          7.266753196716309,
          7.286174774169922,
          7.2625041007995605,
          7.2690253257751465,
          7.28226375579834,
          7.321446418762207,
          7.438557147979736,
          7.217913627624512,
          6.766392707824707,
          6.781620025634766,
          6.723959922790527,
          7.30136251449585,
          6.923341751098633,
          6.8155131340026855,
          6.912874221801758,
          7.501198768615723,
          6.6141180992126465,
          7.9043989181518555,
          7.083086967468262,
          6.825369358062744,
          7.099942684173584,
          7.250192165374756,
          6.67791223526001,
          7.275574207305908,
          7.307748794555664,
          7.027796268463135,
          7.2755913734436035,
          7.577973365783691,
          6.9958343505859375,
          7.197850704193115,
          7.4994635581970215,
          7.396081924438477,
          7.496727466583252,
          7.253939151763916,
          6.139760494232178,
          6.157482147216797,
          6.5057148933410645,
          6.4145426750183105,
          6.482847213745117,
          6.138918399810791,
          6.179071426391602,
          6.296245098114014,
          6.161757469177246,
          6.4789509773254395,
          6.584920406341553,
          6.140556335449219,
          6.130237102508545,
          7.331784248352051,
          7.277170658111572,
          7.47630500793457,
          7.254522323608398,
          6.791353702545166,
          7.286598205566406,
          7.231080532073975,
          6.1583662033081055,
          -1.8837947845458984,
          6.501159191131592,
          6.519573211669922,
          6.594021320343018,
          6.347527503967285,
          6.596001148223877,
          6.883436679840088,
          6.572293281555176,
          7.530726909637451,
          6.72641134262085,
          6.6233229637146,
          7.837155818939209,
          6.631670951843262,
          8.011927604675293,
          6.542263507843018,
          7.495543956756592,
          6.687619686126709,
          7.965166091918945,
          7.702333927154541,
          7.833174228668213,
          7.573047637939453,
          7.014028072357178,
          7.396554470062256,
          7.567700386047363,
          8.043322563171387,
          7.36166524887085,
          7.753434658050537,
          7.689896583557129,
          6.982902526855469,
          6.885586738586426,
          6.779160022735596,
          6.8577446937561035,
          6.919297218322754,
          6.943102836608887,
          7.002520561218262,
          6.794548511505127,
          6.529007911682129,
          6.842457294464111,
          6.707925319671631,
          6.872922897338867,
          7.246169567108154,
          6.833392143249512,
          7.034744739532471,
          6.665624141693115,
          6.975672721862793,
          7.796634197235107,
          6.429067134857178,
          7.803396701812744,
          7.840597629547119,
          7.183231353759766,
          7.503410816192627,
          7.302244186401367,
          7.5273284912109375,
          7.7852277755737305,
          7.198548793792725,
          7.489260196685791,
          6.720534324645996,
          8.05686092376709,
          8.05624771118164,
          8.048636436462402,
          8.02203369140625,
          8.043862342834473,
          7.785702705383301,
          7.701501846313477,
          8.043526649475098,
          7.199872970581055,
          7.728376388549805,
          7.6288743019104,
          7.549846172332764,
          7.683311462402344,
          6.154143333435059,
          6.483124256134033,
          6.324060440063477,
          7.010155200958252,
          6.463209629058838,
          6.485873699188232,
          6.652039527893066,
          6.319758892059326,
          6.367714881896973,
          6.530104160308838,
          6.197565078735352,
          6.4801836013793945,
          6.9003705978393555,
          6.760683536529541,
          6.77590799331665,
          6.518863677978516,
          6.831070899963379,
          6.522220611572266,
          -4.484921455383301,
          -4.479552268981934,
          6.885550498962402,
          6.82539176940918,
          6.840360641479492,
          6.328916072845459,
          -4.48734712600708,
          6.827165126800537,
          7.8441338539123535,
          7.4067277908325195,
          7.420436859130859,
          7.246395111083984,
          7.26365327835083,
          7.852200508117676,
          7.872844696044922,
          7.817875385284424,
          7.590032577514648,
          7.77764892578125,
          7.911967754364014,
          7.828248977661133,
          7.518223762512207
         ],
         "xaxis": "x",
         "y": [
          16.78986358642578,
          16.5991268157959,
          17.002357482910156,
          16.467252731323242,
          16.63059425354004,
          16.110139846801758,
          15.953108787536621,
          16.91806411743164,
          16.847089767456055,
          16.083045959472656,
          16.054447174072266,
          16.12446403503418,
          16.379497528076172,
          17.78842544555664,
          17.846588134765625,
          17.714139938354492,
          17.86866569519043,
          17.73666000366211,
          17.821773529052734,
          17.846351623535156,
          17.82962989807129,
          17.8001708984375,
          17.77216148376465,
          17.5743408203125,
          17.8526611328125,
          16.05897331237793,
          16.055782318115234,
          16.232097625732422,
          16.304157257080078,
          16.2277774810791,
          16.397153854370117,
          16.178142547607422,
          16.223270416259766,
          15.890506744384766,
          16.200088500976562,
          16.254316329956055,
          16.27119255065918,
          16.40690040588379,
          17.772241592407227,
          17.339874267578125,
          17.632007598876953,
          17.50384521484375,
          17.512290954589844,
          17.684249877929688,
          17.11458396911621,
          17.48729133605957,
          17.62228012084961,
          17.23429298400879,
          17.50669288635254,
          17.143922805786133,
          17.7823543548584,
          16.80951499938965,
          16.63292121887207,
          17.141284942626953,
          17.031877517700195,
          16.832332611083984,
          16.72736358642578,
          16.85888671875,
          16.926286697387695,
          16.843111038208008,
          17.152591705322266,
          16.75221824645996,
          16.837528228759766,
          16.7861270904541,
          17.715251922607422,
          17.728527069091797,
          17.393796920776367,
          17.581098556518555,
          16.53290367126465,
          17.706857681274414,
          17.6604061126709,
          16.82483673095703,
          15.169100761413574,
          17.170333862304688,
          15.986300468444824,
          17.147924423217773,
          16.09642791748047,
          17.16961669921875,
          17.173307418823242,
          17.050825119018555,
          16.46149444580078,
          17.108352661132812,
          17.242841720581055,
          16.511287689208984,
          17.130390167236328,
          16.23236656188965,
          17.16787338256836,
          16.745342254638672,
          17.066591262817383,
          16.25078010559082,
          16.5833740234375,
          16.62908363342285,
          16.337108612060547,
          15.816659927368164,
          16.09933853149414,
          16.406513214111328,
          16.253000259399414,
          16.094860076904297,
          16.64842987060547,
          16.611995697021484,
          15.725760459899902,
          15.630067825317383,
          15.781087875366211,
          15.704436302185059,
          15.649867057800293,
          15.723230361938477,
          15.699446678161621,
          15.734583854675293,
          15.94456672668457,
          15.726116180419922,
          15.832934379577637,
          16.10146141052246,
          16.34707260131836,
          15.72524642944336,
          16.22735023498535,
          15.87369441986084,
          16.235380172729492,
          16.595767974853516,
          16.94363784790039,
          16.636865615844727,
          16.29547691345215,
          16.33689308166504,
          16.621280670166016,
          16.503305435180664,
          16.27769660949707,
          16.380107879638672,
          16.292499542236328,
          16.543596267700195,
          16.216983795166016,
          16.22400665283203,
          16.22008514404297,
          16.241992950439453,
          16.286462783813477,
          16.27798080444336,
          16.262697219848633,
          16.24229621887207,
          16.305805206298828,
          16.437543869018555,
          16.584211349487305,
          16.621967315673828,
          16.6384220123291,
          16.24684715270996,
          16.83159828186035,
          17.121410369873047,
          16.937063217163086,
          16.89706802368164,
          17.088327407836914,
          17.056438446044922,
          17.085634231567383,
          16.920984268188477,
          16.972244262695312,
          17.07131576538086,
          16.583650588989258,
          17.063444137573242,
          17.17267608642578,
          16.08049201965332,
          16.146467208862305,
          16.235698699951172,
          16.371124267578125,
          16.119491577148438,
          10.183021545410156,
          10.205875396728516,
          16.350194931030273,
          16.167831420898438,
          16.1647891998291,
          16.35658073425293,
          10.178397178649902,
          16.255666732788086,
          16.890756607055664,
          16.291698455810547,
          16.340036392211914,
          16.275997161865234,
          16.395076751708984,
          16.738805770874023,
          16.657777786254883,
          16.34178352355957,
          16.68752098083496,
          16.81695556640625,
          16.448020935058594,
          16.556663513183594,
          16.616241455078125
         ],
         "yaxis": "y"
        },
        {
         "hovertemplate": "digit=5<br>0=%{x}<br>1=%{y}<extra></extra>",
         "legendgroup": "5",
         "marker": {
          "color": "#19d3f3",
          "symbol": "circle"
         },
         "mode": "markers",
         "name": "5",
         "showlegend": true,
         "type": "scattergl",
         "x": [
          0.4528650641441345,
          -1.511634349822998,
          -1.361852765083313,
          -1.5124940872192383,
          -1.588549017906189,
          -1.5743547677993774,
          -1.6085293292999268,
          -1.4988231658935547,
          -1.043775200843811,
          -1.1603972911834717,
          -1.4264754056930542,
          -1.7129273414611816,
          -1.4744778871536255,
          -1.6634055376052856,
          -1.7547814846038818,
          -1.6597082614898682,
          -1.6721895933151245,
          -1.7183829545974731,
          -1.7041910886764526,
          -1.528037667274475,
          -1.5337387323379517,
          -1.7080520391464233,
          -1.6540236473083496,
          -1.6789339780807495,
          -1.740829348564148,
          -1.5505915880203247,
          -1.2291251420974731,
          -1.8080469369888306,
          -1.3023453950881958,
          -1.3926535844802856,
          -0.7529372572898865,
          -0.7793254256248474,
          -1.4260576963424683,
          -1.3639423847198486,
          -1.3948861360549927,
          -1.1627261638641357,
          -1.363694190979004,
          -0.8627852201461792,
          -1.8091180324554443,
          -1.50162935256958,
          -1.4548438787460327,
          -1.4410648345947266,
          -1.4748514890670776,
          -1.340140700340271,
          -0.13663053512573242,
          -1.4060481786727905,
          -1.382478952407837,
          -1.3296849727630615,
          -1.5233980417251587,
          -1.3876768350601196,
          -1.4530322551727295,
          -1.320236325263977,
          -1.2811150550842285,
          -1.1439882516860962,
          -1.2870500087738037,
          -1.4663110971450806,
          -1.0783380270004272,
          -1.2584656476974487,
          -1.2604643106460571,
          -1.2857035398483276,
          -1.1597579717636108,
          -1.130339503288269,
          -1.2130128145217896,
          -1.315401315689087,
          -1.1624852418899536,
          -0.8779693245887756,
          -1.286049485206604,
          -1.3728057146072388,
          -0.7760684490203857,
          -1.569076418876648,
          -1.3901176452636719,
          -1.4269330501556396,
          -0.7752397656440735,
          -0.7733995318412781,
          -0.7526923418045044,
          -1.5272128582000732,
          -1.4226146936416626,
          -1.6171233654022217,
          -1.7834254503250122,
          -1.8082940578460693,
          -1.7782516479492188,
          -1.79326593875885,
          -1.6276999711990356,
          -1.7869173288345337,
          -1.7257448434829712,
          -1.7763737440109253,
          -1.7202694416046143,
          -1.7330678701400757,
          -1.6849689483642578,
          -1.6946007013320923,
          -1.7675591707229614,
          -1.2705399990081787,
          -0.9876739978790283,
          -0.838153600692749,
          -0.809256374835968,
          -1.1327341794967651,
          -0.8703734874725342,
          -0.7899965643882751,
          -1.027411937713623,
          -0.8782586455345154,
          -1.3688067197799683,
          -0.9243658185005188,
          -0.8803946375846863,
          -0.8886071443557739,
          -1.5025523900985718,
          -1.5623812675476074,
          -1.3039196729660034,
          -1.3619837760925293,
          -1.404723048210144,
          -1.4823033809661865,
          -1.3468774557113647,
          -1.1393117904663086,
          -1.5527442693710327,
          -1.1648215055465698,
          -0.9364646077156067,
          -1.4728868007659912,
          -0.932493269443512,
          -0.7369768619537354,
          -0.8405546545982361,
          -1.7814778089523315,
          -1.177773356437683,
          -1.5503569841384888,
          -1.722541093826294,
          -0.6917690634727478,
          -1.4057368040084839,
          -0.8879736065864563,
          -1.83193838596344,
          -1.770027995109558,
          -1.4963592290878296,
          -1.5049811601638794,
          -0.8312004208564758,
          -1.0226542949676514,
          -0.8089884519577026,
          -0.9638702273368835,
          -0.8523143529891968,
          -1.5039434432983398,
          -0.9670111536979675,
          -0.7423899173736572,
          2.65906023979187,
          -1.1413644552230835,
          -1.4616080522537231,
          -0.7752308249473572,
          -1.5207513570785522,
          -1.1341880559921265,
          -0.8611900806427002,
          -0.7854704260826111,
          -0.8591664433479309,
          -0.8361852169036865,
          -0.8142192959785461,
          -1.0694025754928589,
          -0.7705915570259094,
          -0.7832823991775513,
          -1.0938057899475098,
          -0.9489138126373291,
          -0.878967821598053,
          -1.2110674381256104,
          -1.576067566871643,
          -1.4887001514434814,
          -1.5018779039382935,
          -1.6368141174316406,
          -1.8029394149780273,
          -1.6437712907791138,
          -1.7481670379638672,
          -1.6884379386901855,
          -1.1819231510162354,
          -1.497185230255127,
          -1.8408665657043457,
          -1.4873524904251099,
          -1.467729091644287,
          -1.049724817276001,
          -1.0310410261154175,
          -0.9925737977027893,
          -1.1945874691009521,
          -1.2762141227722168,
          -1.4839783906936646,
          -1.0001440048217773,
          -1.3234765529632568,
          -1.0038799047470093,
          -1.1261793375015259,
          -0.9573901891708374,
          -0.9814525246620178,
          -1.0849732160568237
         ],
         "xaxis": "x",
         "y": [
          5.568690299987793,
          1.0973565578460693,
          0.666313886642456,
          1.958530306816101,
          1.4817934036254883,
          1.5300981998443604,
          1.204172968864441,
          1.9624583721160889,
          1.7404578924179077,
          1.5772281885147095,
          0.8627921938896179,
          0.7654027342796326,
          1.6445659399032593,
          0.5687429904937744,
          1.100158929824829,
          0.2414025217294693,
          0.9047513008117676,
          0.3128645718097687,
          0.35607460141181946,
          0.8028817176818848,
          0.6597796082496643,
          0.24052844941616058,
          0.4771764278411865,
          0.3698672354221344,
          0.37793606519699097,
          0.618087887763977,
          2.7422399520874023,
          0.9550901651382446,
          2.321345567703247,
          2.4648149013519287,
          2.520442008972168,
          3.015310764312744,
          2.4645907878875732,
          1.1381628513336182,
          2.3851888179779053,
          2.7071774005889893,
          1.885962724685669,
          2.6786224842071533,
          0.4790860712528229,
          2.066267251968384,
          1.6376434564590454,
          1.691036343574524,
          2.4218053817749023,
          1.7934722900390625,
          5.067018032073975,
          1.783358097076416,
          2.432154417037964,
          1.8138608932495117,
          1.9392812252044678,
          1.713743805885315,
          0.7588981986045837,
          1.7199095487594604,
          2.564668893814087,
          2.8370726108551025,
          2.790571928024292,
          2.3459954261779785,
          2.933058738708496,
          2.7704343795776367,
          2.810807228088379,
          2.602322816848755,
          2.7860984802246094,
          2.9971790313720703,
          2.587301015853882,
          2.4897937774658203,
          2.7891223430633545,
          1.965542197227478,
          0.6515288352966309,
          0.5596603155136108,
          1.8785516023635864,
          0.6606122851371765,
          0.6075805425643921,
          0.6924877166748047,
          1.899562120437622,
          1.8409221172332764,
          2.1218764781951904,
          0.6285561919212341,
          0.5245611071586609,
          0.26884394884109497,
          0.9574326276779175,
          0.34516873955726624,
          0.3527422845363617,
          1.1643691062927246,
          0.4510636627674103,
          0.9410866498947144,
          0.926106870174408,
          1.0912277698516846,
          0.9106042385101318,
          1.2117329835891724,
          0.39530032873153687,
          1.4528255462646484,
          0.4414939880371094,
          2.552668809890747,
          3.0303046703338623,
          3.267158269882202,
          3.1819794178009033,
          2.847947120666504,
          3.2758240699768066,
          3.3118200302124023,
          2.9588582515716553,
          3.1201634407043457,
          2.400627613067627,
          3.1422083377838135,
          3.215804100036621,
          2.7283194065093994,
          1.118456244468689,
          1.704880952835083,
          2.4285800457000732,
          1.2954002618789673,
          1.1988110542297363,
          1.0990469455718994,
          1.9765431880950928,
          1.9853272438049316,
          0.8327201008796692,
          1.382041096687317,
          1.9807987213134766,
          1.0906867980957031,
          1.7447483539581299,
          2.139911651611328,
          2.231196880340576,
          0.3375609815120697,
          2.110456943511963,
          1.6064372062683105,
          1.0156219005584717,
          1.9660706520080566,
          0.5769526362419128,
          2.0560717582702637,
          0.38130271434783936,
          0.39523109793663025,
          0.34173810482025146,
          0.6143819093704224,
          2.6484546661376953,
          2.394293785095215,
          1.9206509590148926,
          1.9802193641662598,
          1.87396240234375,
          1.9745591878890991,
          1.9802188873291016,
          2.0181703567504883,
          -7.219327449798584,
          1.3653417825698853,
          1.4980175495147705,
          2.1106884479522705,
          2.025707483291626,
          2.63897705078125,
          2.744661808013916,
          3.0590403079986572,
          2.7861905097961426,
          2.65836763381958,
          2.749328136444092,
          2.935046434402466,
          2.6255390644073486,
          2.1760170459747314,
          2.953587770462036,
          3.1775310039520264,
          2.667140007019043,
          2.386129140853882,
          0.4900710880756378,
          0.4993654489517212,
          1.127553939819336,
          1.016006350517273,
          0.29388347268104553,
          0.40638604760169983,
          0.25109902024269104,
          0.4815664291381836,
          1.5666359663009644,
          1.025109052658081,
          0.8420884013175964,
          0.5940356850624084,
          1.0791898965835571,
          2.4307940006256104,
          2.212674617767334,
          2.1930572986602783,
          2.0338199138641357,
          2.222025156021118,
          1.9871128797531128,
          2.2373411655426025,
          2.4645960330963135,
          2.22747802734375,
          2.6592276096343994,
          2.3009231090545654,
          2.1492669582366943,
          2.6724538803100586
         ],
         "yaxis": "y"
        },
        {
         "hovertemplate": "digit=6<br>0=%{x}<br>1=%{y}<extra></extra>",
         "legendgroup": "6",
         "marker": {
          "color": "#FF6692",
          "symbol": "circle"
         },
         "mode": "markers",
         "name": "6",
         "showlegend": true,
         "type": "scattergl",
         "x": [
          2.900472402572632,
          3.487858772277832,
          2.843580722808838,
          3.535409688949585,
          2.79659366607666,
          3.080089807510376,
          2.882873058319092,
          2.1402790546417236,
          2.9175353050231934,
          3.2309467792510986,
          2.7712368965148926,
          2.6133177280426025,
          2.998528242111206,
          2.6263465881347656,
          3.69964337348938,
          3.1075997352600098,
          2.2021005153656006,
          2.340667486190796,
          3.1353135108947754,
          2.3102188110351562,
          2.315869092941284,
          2.1593613624572754,
          3.3791146278381348,
          3.325596332550049,
          2.811462640762329,
          2.5434603691101074,
          2.7330539226531982,
          2.1792244911193848,
          2.8974668979644775,
          2.5485618114471436,
          2.2458534240722656,
          2.319125175476074,
          2.976994276046753,
          3.2941324710845947,
          2.521439790725708,
          2.9311399459838867,
          2.404766082763672,
          2.329563856124878,
          3.3551361560821533,
          3.6102259159088135,
          3.733417510986328,
          3.707012891769409,
          2.8499741554260254,
          3.762890100479126,
          3.4930200576782227,
          3.8177645206451416,
          2.9109158515930176,
          3.819304943084717,
          3.8486685752868652,
          3.6401071548461914,
          2.5143911838531494,
          2.8768482208251953,
          2.7191884517669678,
          2.681520700454712,
          2.7168028354644775,
          2.593156337738037,
          2.688126564025879,
          2.8211493492126465,
          2.7211930751800537,
          2.6662118434906006,
          2.573707103729248,
          2.863616943359375,
          2.795236110687256,
          2.714289426803589,
          2.214273452758789,
          2.2524924278259277,
          2.3177292346954346,
          2.3412156105041504,
          2.1622869968414307,
          2.3975908756256104,
          3.03776478767395,
          2.375718832015991,
          2.4005725383758545,
          3.038717746734619,
          2.5291945934295654,
          3.107395887374878,
          3.113356590270996,
          3.5375325679779053,
          3.492506504058838,
          3.7768495082855225,
          3.119931221008301,
          3.2778894901275635,
          3.5946717262268066,
          3.020350217819214,
          3.634831428527832,
          2.741692066192627,
          3.763906955718994,
          3.075397491455078,
          3.511004686355591,
          2.2519664764404297,
          2.263585090637207,
          2.2648327350616455,
          2.4342663288116455,
          2.637904644012451,
          2.238968849182129,
          2.6547114849090576,
          2.533827066421509,
          2.3307907581329346,
          2.4211175441741943,
          3.181682825088501,
          2.9148306846618652,
          2.6152329444885254,
          2.8030433654785156,
          2.526902198791504,
          2.923612356185913,
          2.595512866973877,
          3.452875852584839,
          2.9590141773223877,
          2.2704176902770996,
          3.369655132293701,
          2.8868048191070557,
          3.0528957843780518,
          2.3932621479034424,
          3.06436824798584,
          2.726971387863159,
          2.8581244945526123,
          2.5113861560821533,
          2.604691743850708,
          3.1798815727233887,
          3.0903677940368652,
          3.768505573272705,
          3.2758686542510986,
          3.0807087421417236,
          3.0027499198913574,
          3.105569839477539,
          3.4287776947021484,
          3.383727788925171,
          3.07315993309021,
          3.4875831604003906,
          3.712042808532715,
          3.5826659202575684,
          3.634343385696411,
          3.6380374431610107,
          3.7405569553375244,
          3.764094114303589,
          3.8062496185302734,
          3.6690690517425537,
          3.638986110687256,
          3.619457483291626,
          3.545614719390869,
          3.7164459228515625,
          3.7743568420410156,
          2.855043649673462,
          2.8640191555023193,
          2.6213572025299072,
          2.8014752864837646,
          2.871156692504883,
          2.617595911026001,
          2.3068981170654297,
          2.693448305130005,
          2.960355758666992,
          2.9407355785369873,
          2.8754143714904785,
          2.883692741394043,
          3.102010488510132,
          3.725456953048706,
          3.729501962661743,
          3.1936607360839844,
          3.6665098667144775,
          3.7247939109802246,
          3.383491039276123,
          3.341808795928955,
          3.68058705329895,
          3.717101812362671,
          3.5348687171936035,
          3.4455502033233643,
          3.352344036102295,
          3.204866647720337,
          2.451645612716675,
          2.9016454219818115,
          2.538407802581787,
          2.485318899154663,
          3.0091729164123535,
          2.6459662914276123,
          2.4747161865234375,
          2.1409549713134766,
          2.6759870052337646,
          3.068974018096924,
          2.483980178833008,
          3.05330228805542,
          2.7682275772094727
         ],
         "xaxis": "x",
         "y": [
          -6.406857967376709,
          -6.742367744445801,
          -6.422275543212891,
          -6.627839088439941,
          -6.581510066986084,
          -6.940011978149414,
          -6.519437789916992,
          -7.466387748718262,
          -6.403200149536133,
          -6.448409080505371,
          -6.332383155822754,
          -6.519378662109375,
          -6.300675868988037,
          -7.727254390716553,
          -7.175224781036377,
          -6.540600776672363,
          -7.626141548156738,
          -7.3640241622924805,
          -6.617232322692871,
          -7.2470831871032715,
          -7.62062406539917,
          -7.403688430786133,
          -6.618541240692139,
          -7.5728325843811035,
          -8.070049285888672,
          -8.002388954162598,
          -7.672971248626709,
          -7.63493537902832,
          -7.265496253967285,
          -8.118021011352539,
          -7.652791976928711,
          -7.577320575714111,
          -7.379086494445801,
          -6.660794258117676,
          -8.082802772521973,
          -7.320341110229492,
          -7.6676025390625,
          -7.566735744476318,
          -7.550938606262207,
          -7.521882057189941,
          -7.397409439086914,
          -7.458486080169678,
          -7.653143882751465,
          -7.407291889190674,
          -7.480940341949463,
          -7.444382190704346,
          -6.778625011444092,
          -7.364988803863525,
          -7.4056830406188965,
          -7.316556453704834,
          -6.507506847381592,
          -6.924347877502441,
          -7.464822769165039,
          -7.330255508422852,
          -6.889182090759277,
          -6.8323073387146,
          -7.147957801818848,
          -6.883317947387695,
          -7.384330749511719,
          -7.099747180938721,
          -6.753318786621094,
          -6.91632080078125,
          -6.859376430511475,
          -6.867447376251221,
          -7.433515548706055,
          -7.525182247161865,
          -7.572409629821777,
          -7.648913860321045,
          -7.475101470947266,
          -8.086222648620605,
          -7.4343671798706055,
          -8.02967357635498,
          -7.583110332489014,
          -6.621577739715576,
          -8.059075355529785,
          -6.575809955596924,
          -6.593633651733398,
          -7.777063369750977,
          -7.844151496887207,
          -7.466332912445068,
          -8.042908668518066,
          -6.606451988220215,
          -7.335886001586914,
          -7.986087799072266,
          -7.6737446784973145,
          -7.690709590911865,
          -7.49174165725708,
          -7.808847427368164,
          -6.571887016296387,
          -7.799999237060547,
          -7.866706371307373,
          -7.818544387817383,
          -8.126921653747559,
          -7.69526481628418,
          -7.877933025360107,
          -7.615992069244385,
          -7.768547058105469,
          -7.900295257568359,
          -7.949157238006592,
          -7.168309688568115,
          -7.585211277008057,
          -7.986419200897217,
          -7.92926025390625,
          -8.097452163696289,
          -8.032800674438477,
          -7.669076442718506,
          -6.736149311065674,
          -6.7585978507995605,
          -7.352703094482422,
          -7.200139045715332,
          -7.262905597686768,
          -6.537733554840088,
          -7.385847568511963,
          -7.4813385009765625,
          -6.394865989685059,
          -7.716033458709717,
          -8.121840476989746,
          -6.892126083374023,
          -7.243503093719482,
          -7.2748260498046875,
          -7.3791680335998535,
          -7.275272369384766,
          -6.938518524169922,
          -6.882286071777344,
          -7.4191999435424805,
          -7.236438274383545,
          -7.235145092010498,
          -7.042319297790527,
          -7.162830829620361,
          -6.96225643157959,
          -6.892376899719238,
          -7.177172660827637,
          -7.127103328704834,
          -7.342591285705566,
          -7.434352397918701,
          -7.411388397216797,
          -7.265044689178467,
          -6.992701053619385,
          -7.138833045959473,
          -6.973334789276123,
          -7.07411003112793,
          -7.434241771697998,
          -8.019198417663574,
          -8.02953815460205,
          -8.085821151733398,
          -7.62942361831665,
          -8.01662826538086,
          -8.024365425109863,
          -7.992711544036865,
          -7.667431831359863,
          -7.980329990386963,
          -7.96310567855835,
          -7.739311695098877,
          -7.826193809509277,
          -7.331373691558838,
          -6.9098286628723145,
          -6.892248630523682,
          -6.35756778717041,
          -7.0409255027771,
          -6.902158260345459,
          -6.582638740539551,
          -6.4591498374938965,
          -6.927615642547607,
          -6.969629764556885,
          -6.593310832977295,
          -7.070650100708008,
          -6.456993579864502,
          -6.619215488433838,
          -7.008301258087158,
          -7.783113956451416,
          -7.28148078918457,
          -7.362154960632324,
          -7.567026138305664,
          -6.514418601989746,
          -7.477118015289307,
          -7.4882636070251465,
          -6.598544120788574,
          -6.514116287231445,
          -6.960002899169922,
          -6.394082546234131,
          -7.71843957901001
         ],
         "yaxis": "y"
        },
        {
         "hovertemplate": "digit=7<br>0=%{x}<br>1=%{y}<extra></extra>",
         "legendgroup": "7",
         "marker": {
          "color": "#B6E880",
          "symbol": "circle"
         },
         "mode": "markers",
         "name": "7",
         "showlegend": true,
         "type": "scattergl",
         "x": [
          -1.9040887355804443,
          -2.809805393218994,
          -2.3726398944854736,
          -2.3819420337677,
          -1.8098487854003906,
          -2.4037349224090576,
          -2.741438150405884,
          -2.075615644454956,
          -2.5056841373443604,
          -2.8758580684661865,
          -2.5607106685638428,
          -2.360469102859497,
          -2.5257904529571533,
          -2.6463186740875244,
          -2.6244523525238037,
          -2.393796920776367,
          -2.21523118019104,
          -2.8655858039855957,
          -2.51741886138916,
          -2.3268883228302,
          -1.7636494636535645,
          -2.414154291152954,
          -2.2367732524871826,
          -2.3670456409454346,
          -2.4734551906585693,
          -2.192755937576294,
          -2.263550043106079,
          -2.9481377601623535,
          -2.371922016143799,
          -3.011587142944336,
          -2.35330867767334,
          -2.6495232582092285,
          -2.954730749130249,
          -2.9290976524353027,
          -2.487189769744873,
          -2.5320000648498535,
          -2.8687305450439453,
          -2.7586216926574707,
          -3.636809825897217,
          -3.697247266769409,
          -3.7032597064971924,
          -3.7723498344421387,
          -3.5564236640930176,
          -3.698880434036255,
          -3.701979398727417,
          -3.6911447048187256,
          -3.543747663497925,
          -4.041579246520996,
          -3.6835131645202637,
          -3.7251384258270264,
          -3.6554033756256104,
          -1.7552587985992432,
          -1.871644377708435,
          -2.279874801635742,
          -2.5515811443328857,
          -1.9893027544021606,
          -1.7237541675567627,
          -2.2922706604003906,
          -1.9504368305206299,
          -1.9201478958129883,
          -2.4102420806884766,
          -2.1581695079803467,
          -2.001211643218994,
          -1.9501945972442627,
          -2.025322675704956,
          -2.241201162338257,
          -2.4912216663360596,
          -2.5328478813171387,
          -2.516324281692505,
          -2.31498384475708,
          -2.3252854347229004,
          -2.330066442489624,
          -2.475860834121704,
          -2.2898800373077393,
          -2.344679832458496,
          -2.4119367599487305,
          -2.0755958557128906,
          -2.860856294631958,
          -2.4119765758514404,
          -2.405743360519409,
          -2.265340805053711,
          -2.8078091144561768,
          -2.385059356689453,
          -2.554081916809082,
          -2.5641183853149414,
          -2.240819215774536,
          -2.4110302925109863,
          -2.59041690826416,
          -2.5484282970428467,
          -1.7938021421432495,
          -3.3434152603149414,
          -3.219085216522217,
          -3.2935099601745605,
          -3.2241082191467285,
          -3.1786563396453857,
          -3.2114367485046387,
          -3.211623430252075,
          -2.7397544384002686,
          -3.2460639476776123,
          -3.272963762283325,
          -3.13181734085083,
          -3.2591278553009033,
          -2.903045415878296,
          -3.1525681018829346,
          -2.841890811920166,
          -3.028655529022217,
          -3.038062334060669,
          -2.9415740966796875,
          -3.0043673515319824,
          -2.212944269180298,
          -2.974679946899414,
          -3.113065004348755,
          -1.9334449768066406,
          -2.583648920059204,
          -2.902214765548706,
          -1.7509247064590454,
          -2.3819096088409424,
          -2.230485677719116,
          -1.8385393619537354,
          -1.8592417240142822,
          -2.0570642948150635,
          -1.7791807651519775,
          -1.827712893486023,
          -1.9192067384719849,
          -2.225867986679077,
          -1.7992565631866455,
          -2.1860299110412598,
          -2.122709035873413,
          -1.8562597036361694,
          -2.6569700241088867,
          -2.392791271209717,
          -2.8967578411102295,
          -2.1482536792755127,
          -2.438061237335205,
          -1.7428228855133057,
          -1.8183014392852783,
          -2.3329896926879883,
          -2.7238733768463135,
          -2.3980801105499268,
          -2.4254491329193115,
          -2.03244948387146,
          -3.1681270599365234,
          -3.0808072090148926,
          -3.1722946166992188,
          -3.1039113998413086,
          -3.208501100540161,
          -2.937619209289551,
          -3.0536563396453857,
          -2.8984882831573486,
          -3.0779645442962646,
          -3.091259479522705,
          -3.2507402896881104,
          -3.0409247875213623,
          -3.2196743488311768,
          -1.7323111295700073,
          -1.7573418617248535,
          -2.2569360733032227,
          -2.0048112869262695,
          -2.045501708984375,
          -2.1019909381866455,
          -2.0813708305358887,
          -2.293109893798828,
          -1.911617398262024,
          -2.3352057933807373,
          -2.299278736114502,
          -2.018578290939331,
          -1.9290918111801147,
          -2.5389647483825684,
          -1.9036598205566406,
          -3.0745811462402344,
          -2.315610408782959,
          -2.4606645107269287,
          -2.7506825923919678,
          -2.4183948040008545,
          -2.4919848442077637,
          -2.408079147338867,
          -1.7923635244369507,
          -2.287094831466675,
          -2.3940839767456055
         ],
         "xaxis": "x",
         "y": [
          15.294589042663574,
          14.926156044006348,
          14.325413703918457,
          14.482673645019531,
          15.391510963439941,
          14.401144027709961,
          14.92154598236084,
          15.251559257507324,
          14.321361541748047,
          15.178801536560059,
          14.674254417419434,
          15.324552536010742,
          15.076889991760254,
          15.488814353942871,
          15.600164413452148,
          15.966629981994629,
          14.469361305236816,
          14.599365234375,
          15.527695655822754,
          16.068592071533203,
          15.744747161865234,
          16.050268173217773,
          14.82271957397461,
          15.871251106262207,
          15.998467445373535,
          14.606315612792969,
          15.593741416931152,
          14.461200714111328,
          15.727766036987305,
          14.33563232421875,
          14.2887601852417,
          14.359615325927734,
          15.01607894897461,
          15.123147010803223,
          15.823415756225586,
          15.878503799438477,
          15.104792594909668,
          14.588414192199707,
          13.708135604858398,
          13.625086784362793,
          13.618860244750977,
          13.538042068481445,
          13.866459846496582,
          13.621253967285156,
          13.615570068359375,
          13.630563735961914,
          13.842206954956055,
          12.9287691116333,
          13.639749526977539,
          13.59709644317627,
          13.688057899475098,
          15.734524726867676,
          15.378053665161133,
          14.202131271362305,
          14.887118339538574,
          15.159360885620117,
          15.646985054016113,
          14.343536376953125,
          15.477727890014648,
          15.277525901794434,
          15.58674144744873,
          15.294060707092285,
          15.968415260314941,
          15.217575073242188,
          15.300360679626465,
          14.327929496765137,
          14.085927963256836,
          14.048846244812012,
          14.122925758361816,
          14.253985404968262,
          14.252062797546387,
          14.220349311828613,
          14.103058815002441,
          14.180598258972168,
          14.175129890441895,
          14.177229881286621,
          15.252408027648926,
          14.940694808959961,
          15.519508361816406,
          15.573573112487793,
          15.965906143188477,
          14.814638137817383,
          16.06663703918457,
          15.32396125793457,
          15.346708297729492,
          14.676484107971191,
          15.971121788024902,
          15.55026626586914,
          15.272126197814941,
          15.619593620300293,
          14.526469230651855,
          14.867425918579102,
          14.527539253234863,
          15.067561149597168,
          14.452427864074707,
          14.892738342285156,
          14.691015243530273,
          14.875876426696777,
          14.676395416259766,
          14.504167556762695,
          15.030536651611328,
          14.703856468200684,
          15.20801830291748,
          15.010615348815918,
          15.384336471557617,
          15.217365264892578,
          15.153626441955566,
          15.32828426361084,
          15.31997013092041,
          15.592917442321777,
          15.349701881408691,
          15.151938438415527,
          15.306396484375,
          15.553114891052246,
          15.314515113830566,
          15.635804176330566,
          14.899308204650879,
          14.362939834594727,
          15.727802276611328,
          15.497454643249512,
          15.402402877807617,
          15.5415620803833,
          15.789751052856445,
          15.881852149963379,
          15.494610786437988,
          15.654439926147461,
          14.46495246887207,
          14.645142555236816,
          15.893312454223633,
          14.93402099609375,
          15.26982307434082,
          14.750797271728516,
          15.269413948059082,
          15.339822769165039,
          15.640938758850098,
          15.508167266845703,
          16.010995864868164,
          14.78789234161377,
          15.82096004486084,
          14.398530960083008,
          15.275815963745117,
          14.428217887878418,
          14.305438041687012,
          14.418004035949707,
          14.692497253417969,
          14.632156372070312,
          14.279380798339844,
          14.465039253234863,
          14.650249481201172,
          14.683955192565918,
          14.602048873901367,
          14.427194595336914,
          14.3916654586792,
          14.422327041625977,
          15.787710189819336,
          15.742691993713379,
          15.676323890686035,
          15.974472045898438,
          15.97289752960205,
          16.048416137695312,
          15.842938423156738,
          16.075593948364258,
          15.914297103881836,
          15.352808952331543,
          15.86624526977539,
          15.91497802734375,
          15.289215087890625,
          14.613235473632812,
          15.323161125183105,
          14.624726295471191,
          14.291789054870605,
          15.695164680480957,
          15.394783973693848,
          16.004837036132812,
          15.898447036743164,
          15.121996879577637,
          15.668217658996582,
          14.780253410339355,
          15.93588924407959
         ],
         "yaxis": "y"
        },
        {
         "hovertemplate": "digit=8<br>0=%{x}<br>1=%{y}<extra></extra>",
         "legendgroup": "8",
         "marker": {
          "color": "#FF97FF",
          "symbol": "circle"
         },
         "mode": "markers",
         "name": "8",
         "showlegend": true,
         "type": "scattergl",
         "x": [
          -4.399229049682617,
          -5.19014310836792,
          -4.892124176025391,
          -5.325854301452637,
          -4.902125358581543,
          -4.818325519561768,
          -4.808493614196777,
          -5.2334723472595215,
          -4.7200236320495605,
          -5.213185787200928,
          -5.062928676605225,
          -5.539234161376953,
          -6.766505241394043,
          -4.552340030670166,
          -4.323517799377441,
          -5.127196788787842,
          -4.6647629737854,
          -5.362523078918457,
          -4.62123966217041,
          -5.1527419090271,
          -4.699827194213867,
          -5.140615940093994,
          -4.8590474128723145,
          -4.84844446182251,
          -4.73162317276001,
          -4.601406097412109,
          -3.599731922149658,
          -4.590634346008301,
          -4.590485572814941,
          -4.322414875030518,
          -4.16945219039917,
          -3.388775110244751,
          -3.7951714992523193,
          -4.485801696777344,
          -3.9762938022613525,
          -3.648817777633667,
          -4.018662452697754,
          -4.536045551300049,
          -3.5845558643341064,
          -4.648148536682129,
          -3.101006269454956,
          -3.9372029304504395,
          -3.81501841545105,
          -3.250994920730591,
          -3.794579029083252,
          -3.7532222270965576,
          -3.4517533779144287,
          -4.464885234832764,
          -4.4893646240234375,
          -3.7025980949401855,
          -3.6821329593658447,
          -4.671902179718018,
          -4.55192232131958,
          -4.467630863189697,
          -4.55908727645874,
          -4.601210117340088,
          -4.589309215545654,
          -4.604062557220459,
          -4.599009990692139,
          -4.5110344886779785,
          -4.644238471984863,
          -4.600924968719482,
          -4.597622871398926,
          -4.59421443939209,
          -3.8818557262420654,
          -4.260509014129639,
          -3.8513271808624268,
          -4.140649795532227,
          -3.9917209148406982,
          -4.376715183258057,
          -3.5150938034057617,
          -4.420618534088135,
          -4.6795878410339355,
          -3.711822032928467,
          -4.722661972045898,
          -3.857243299484253,
          -4.481681823730469,
          -3.9721853733062744,
          -7.48192024230957,
          -4.6877923011779785,
          -3.44728684425354,
          -3.102435350418091,
          -3.0251657962799072,
          -4.400349140167236,
          -4.006092548370361,
          -3.0539605617523193,
          -3.0864546298980713,
          -4.411220073699951,
          -3.157193899154663,
          -4.122256755828857,
          -3.9133617877960205,
          -3.8329265117645264,
          -3.8394289016723633,
          -3.8476169109344482,
          -3.7088286876678467,
          -3.7317962646484375,
          -3.726733922958374,
          -3.310394525527954,
          -3.8983676433563232,
          -3.417638063430786,
          -3.8622779846191406,
          -4.652231693267822,
          -4.913313388824463,
          -4.462812900543213,
          -4.179207801818848,
          -4.692600250244141,
          -4.932227611541748,
          -4.24988317489624,
          -4.425164699554443,
          -4.702880859375,
          -4.254179000854492,
          -4.729003429412842,
          -4.948821544647217,
          -4.798090934753418,
          -3.7833988666534424,
          -5.0939836502075195,
          -5.107882499694824,
          -4.829994201660156,
          -5.192516326904297,
          -4.657991409301758,
          -4.80602502822876,
          -4.987645626068115,
          -4.1444172859191895,
          -5.337777137756348,
          -5.163360595703125,
          -5.1160569190979,
          -5.130724906921387,
          -4.705279350280762,
          -4.804637432098389,
          -4.917818069458008,
          -4.93837308883667,
          -4.9171576499938965,
          -4.9172844886779785,
          -4.461656093597412,
          -5.125333309173584,
          -4.967909812927246,
          -4.968209266662598,
          -4.8680548667907715,
          -5.096621513366699,
          -3.3829617500305176,
          -3.397486925125122,
          -3.4270248413085938,
          -3.425891160964966,
          -3.3975114822387695,
          -2.9947128295898438,
          -3.2056400775909424,
          -3.165700912475586,
          -3.023902416229248,
          -3.085205316543579,
          -3.254682779312134,
          -3.0725841522216797,
          -3.198162794113159,
          -7.017312049865723,
          -5.673476696014404,
          -4.769137859344482,
          -4.722774982452393,
          -4.845396995544434,
          -4.7981719970703125,
          -4.800342559814453,
          -5.041533946990967,
          -4.983832836151123,
          -4.765500068664551,
          -5.13148832321167,
          -4.659327030181885,
          -4.237363338470459,
          -4.9079909324646,
          -4.701362609863281,
          -4.651037216186523,
          -4.912745475769043,
          -4.524699687957764,
          -5.346384048461914,
          -5.878047943115234,
          -4.798099994659424,
          -4.452944755554199
         ],
         "xaxis": "x",
         "y": [
          8.278005599975586,
          9.02295207977295,
          8.622932434082031,
          9.251716613769531,
          8.602219581604004,
          8.613487243652344,
          9.225370407104492,
          9.21841049194336,
          8.951926231384277,
          8.791169166564941,
          8.447169303894043,
          9.265183448791504,
          9.222865104675293,
          8.5480318069458,
          8.57046890258789,
          8.572102546691895,
          8.579177856445312,
          8.677315711975098,
          8.299059867858887,
          8.80025863647461,
          7.881688117980957,
          8.546850204467773,
          8.382648468017578,
          8.292099952697754,
          7.855343341827393,
          8.82148265838623,
          8.383720397949219,
          9.329026222229004,
          9.280393600463867,
          7.992961406707764,
          8.202967643737793,
          8.427945137023926,
          8.324188232421875,
          8.906193733215332,
          8.309613227844238,
          8.478263854980469,
          8.142263412475586,
          9.347343444824219,
          8.50813102722168,
          8.857815742492676,
          8.554282188415527,
          8.6290864944458,
          8.489543914794922,
          8.512618064880371,
          8.525138854980469,
          8.085515022277832,
          8.208224296569824,
          8.778204917907715,
          8.799649238586426,
          8.42102336883545,
          8.519126892089844,
          7.669088363647461,
          7.6283745765686035,
          7.679042816162109,
          7.668159008026123,
          7.544275283813477,
          7.536404609680176,
          7.5425333976745605,
          7.583931922912598,
          7.788036823272705,
          7.633325099945068,
          7.540067195892334,
          7.544903755187988,
          7.653414249420166,
          8.287693977355957,
          8.804119110107422,
          8.243073463439941,
          8.736344337463379,
          8.588306427001953,
          9.044891357421875,
          8.324369430541992,
          8.919751167297363,
          9.258746147155762,
          8.347016334533691,
          9.258060455322266,
          8.239086151123047,
          9.142938613891602,
          8.960993766784668,
          10.38248348236084,
          9.143433570861816,
          8.476479530334473,
          8.603958129882812,
          8.657256126403809,
          8.741786003112793,
          9.008037567138672,
          8.739518165588379,
          8.644906997680664,
          8.193474769592285,
          8.616657257080078,
          9.006230354309082,
          8.441150665283203,
          8.413414001464844,
          8.373350143432617,
          8.352100372314453,
          8.445695877075195,
          8.405585289001465,
          8.382622718811035,
          8.488539695739746,
          8.377832412719727,
          8.406759262084961,
          8.306658744812012,
          9.217942237854004,
          9.0447359085083,
          8.364883422851562,
          8.348028182983398,
          8.452491760253906,
          9.097074508666992,
          8.383944511413574,
          8.441603660583496,
          9.231353759765625,
          8.389935493469238,
          8.339137077331543,
          8.737866401672363,
          8.564895629882812,
          8.374147415161133,
          9.320659637451172,
          9.198386192321777,
          9.274935722351074,
          9.164798736572266,
          9.500493049621582,
          9.330699920654297,
          9.113959312438965,
          9.022404670715332,
          9.183511734008789,
          8.903128623962402,
          8.846295356750488,
          8.890030860900879,
          9.071114540100098,
          9.235556602478027,
          9.157686233520508,
          8.715180397033691,
          8.726947784423828,
          9.111554145812988,
          8.8212308883667,
          8.91110610961914,
          8.622946739196777,
          9.058928489685059,
          9.300457954406738,
          9.048255920410156,
          8.456116676330566,
          8.455284118652344,
          8.4415922164917,
          8.487627983093262,
          8.51230525970459,
          8.7079439163208,
          8.534794807434082,
          8.564956665039062,
          8.663629531860352,
          8.604975700378418,
          8.496015548706055,
          8.646171569824219,
          8.550783157348633,
          9.552096366882324,
          9.27743911743164,
          9.128547668457031,
          7.922323703765869,
          9.156193733215332,
          8.023592948913574,
          8.17616081237793,
          8.492741584777832,
          8.367291450500488,
          8.397478103637695,
          8.875884056091309,
          8.355320930480957,
          8.249796867370605,
          9.006257057189941,
          9.282540321350098,
          8.366196632385254,
          8.69713306427002,
          8.279135704040527,
          8.823528289794922,
          8.641587257385254,
          8.57088851928711,
          8.279726028442383
         ],
         "yaxis": "y"
        },
        {
         "hovertemplate": "digit=9<br>0=%{x}<br>1=%{y}<extra></extra>",
         "legendgroup": "9",
         "marker": {
          "color": "#FECB52",
          "symbol": "circle"
         },
         "mode": "markers",
         "name": "9",
         "showlegend": true,
         "type": "scattergl",
         "x": [
          -0.09491227567195892,
          0.7927607297897339,
          0.7664895057678223,
          0.7602748274803162,
          0.7538627982139587,
          0.0878814309835434,
          -4.496934413909912,
          0.5488192439079285,
          -0.03330894187092781,
          0.7133257985115051,
          0.8087150454521179,
          -0.1309587061405182,
          -0.18975944817066193,
          0.7000704407691956,
          0.4045788049697876,
          0.46868324279785156,
          0.625359296798706,
          0.5481564998626709,
          0.6816883683204651,
          0.2158980369567871,
          0.2704886794090271,
          -0.23165181279182434,
          0.4964835047721863,
          -0.19896671175956726,
          -0.21230602264404297,
          -4.169918060302734,
          -4.142365455627441,
          0.09627873450517654,
          0.7767221927642822,
          -0.38833656907081604,
          0.11225035041570663,
          -4.1442718505859375,
          -4.121524810791016,
          -4.140353679656982,
          -4.145323753356934,
          -6.950510025024414,
          -6.984832763671875,
          -4.155072212219238,
          -0.029361482709646225,
          0.31924474239349365,
          0.37392711639404297,
          -0.10068494081497192,
          -0.12635493278503418,
          0.0031079386826604605,
          -0.11635087430477142,
          -0.08804164081811905,
          -0.024896036833524704,
          -0.10087113082408905,
          -0.04543513059616089,
          -0.3228647708892822,
          -0.11284001171588898,
          -0.23794341087341309,
          -0.38550132513046265,
          0.026415511965751648,
          -4.4671454429626465,
          -0.27810946106910706,
          -0.2128223478794098,
          -0.4554250240325928,
          -0.4097520709037781,
          -0.19938164949417114,
          -0.16667114198207855,
          0.18810902535915375,
          -0.40860092639923096,
          0.1918230652809143,
          -6.969151020050049,
          -7.043152332305908,
          -7.059135913848877,
          -7.020457744598389,
          -7.2020368576049805,
          -7.006268501281738,
          -7.054800033569336,
          -7.112440586090088,
          -7.134634017944336,
          -7.031376361846924,
          -7.014681339263916,
          -7.054415225982666,
          -7.000876426696777,
          0.4114442467689514,
          -0.25727102160453796,
          0.27375924587249756,
          -0.22888348996639252,
          0.3025659918785095,
          -0.36098119616508484,
          0.31434425711631775,
          -0.15198814868927002,
          -0.25282901525497437,
          0.47550058364868164,
          -0.32579898834228516,
          -0.33495569229125977,
          0.01014353334903717,
          0.5930203199386597,
          0.31210213899612427,
          0.4347861707210541,
          -0.05810312554240227,
          0.11273133754730225,
          0.4321897029876709,
          0.6157536506652832,
          0.5341563820838928,
          0.3929459750652313,
          0.3045114576816559,
          0.2221803218126297,
          0.400875061750412,
          0.2607450485229492,
          1.2453995943069458,
          0.5468953251838684,
          0.4951184093952179,
          -0.48137542605400085,
          0.5729443430900574,
          -0.5036983489990234,
          0.5335355997085571,
          -4.719260215759277,
          0.5900131464004517,
          0.21482565999031067,
          0.02149078994989395,
          0.5879508256912231,
          0.07160211354494095,
          -0.03214821591973305,
          0.7281613349914551,
          -0.14043520390987396,
          -0.35995420813560486,
          -0.4076556861400604,
          -0.33978670835494995,
          0.2549716532230377,
          -0.4083406627178192,
          -0.3939265310764313,
          -0.3029881417751312,
          -0.330649197101593,
          0.10186292976140976,
          -0.4539564549922943,
          0.3146035671234131,
          -0.15927700698375702,
          -0.2744462192058563,
          -0.22252430021762848,
          -0.07632101327180862,
          -0.37798792123794556,
          0.5969309210777283,
          -0.16251741349697113,
          0.20288147032260895,
          -0.3395618498325348,
          -0.4420890808105469,
          -0.33813175559043884,
          -0.04208388924598694,
          0.07959755510091782,
          0.15290091931819916,
          -0.05993368476629257,
          0.004676723852753639,
          0.11299362033605576,
          0.4093313217163086,
          0.17009910941123962,
          -0.02233217842876911,
          0.2558625340461731,
          0.006811864674091339,
          -0.07227295637130737,
          -0.07650537043809891,
          -7.046046257019043,
          -6.997893810272217,
          -6.997622013092041,
          -6.998906135559082,
          -4.219523906707764,
          -1.6209630966186523,
          -7.012307167053223,
          0.7230610251426697,
          -4.155586242675781,
          0.6678228378295898,
          0.7506896257400513,
          -1.71811842918396,
          -4.15983247756958,
          0.23973645269870758,
          -0.24721106886863708,
          0.5446575284004211,
          0.1330552101135254,
          -0.0010777225252240896,
          -0.042018819600343704,
          -0.08537408709526062,
          0.04712708666920662,
          -0.1551622599363327,
          -0.21047966182231903,
          0.3088604807853699,
          -0.1388469934463501,
          -0.24247600138187408
         ],
         "xaxis": "x",
         "y": [
          6.423696041107178,
          5.871310234069824,
          5.801465034484863,
          5.820223331451416,
          6.219540596008301,
          5.452276706695557,
          10.167943954467773,
          5.654932022094727,
          5.254062652587891,
          5.736246109008789,
          5.917629241943359,
          5.970088958740234,
          5.350409030914307,
          5.7602972984313965,
          5.534963607788086,
          5.68881893157959,
          5.675961017608643,
          5.855147361755371,
          5.7803473472595215,
          5.878629684448242,
          5.648422718048096,
          6.161895751953125,
          5.597825527191162,
          6.4647321701049805,
          6.366189479827881,
          12.659656524658203,
          12.704602241516113,
          5.500696182250977,
          5.938726902008057,
          5.987119674682617,
          6.275850772857666,
          12.72128677368164,
          12.708595275878906,
          12.68591594696045,
          12.706392288208008,
          11.93884563446045,
          11.922472953796387,
          12.695673942565918,
          5.265361309051514,
          6.076180458068848,
          6.044100761413574,
          6.498292922973633,
          6.497776985168457,
          6.138062000274658,
          6.030020713806152,
          6.510271072387695,
          6.217133522033691,
          6.522752285003662,
          6.16859245300293,
          5.44620418548584,
          6.255185604095459,
          6.586844444274902,
          6.076659202575684,
          6.6407036781311035,
          9.10376262664795,
          5.407695770263672,
          6.631648540496826,
          5.672278881072998,
          6.002389907836914,
          6.626832962036133,
          6.628556251525879,
          6.036316871643066,
          5.676191329956055,
          6.075417995452881,
          11.930669784545898,
          11.864912033081055,
          11.914287567138672,
          11.881564140319824,
          11.550007820129395,
          11.898848533630371,
          11.853387832641602,
          11.759971618652344,
          11.753328323364258,
          11.876678466796875,
          11.885028839111328,
          11.846378326416016,
          11.835898399353027,
          5.976179599761963,
          5.536333084106445,
          6.02094030380249,
          5.445909023284912,
          8.42972469329834,
          5.558530330657959,
          5.852973461151123,
          6.196816921234131,
          5.3725666999816895,
          5.897476673126221,
          5.432883262634277,
          5.460999011993408,
          5.402584075927734,
          6.089931011199951,
          6.228665828704834,
          6.148256778717041,
          5.5309929847717285,
          6.308706760406494,
          5.90626335144043,
          6.060459613800049,
          6.133821487426758,
          6.179437637329102,
          6.108636379241943,
          5.714941024780273,
          6.5226945877075195,
          6.193945407867432,
          10.007877349853516,
          6.457768440246582,
          6.350212574005127,
          6.17263126373291,
          6.372145652770996,
          6.100600719451904,
          6.448500633239746,
          9.24046802520752,
          6.3999128341674805,
          5.624150276184082,
          5.971315383911133,
          6.502506256103516,
          5.900579929351807,
          6.38846492767334,
          5.881943225860596,
          6.446893692016602,
          6.121515274047852,
          5.985805034637451,
          6.1186089515686035,
          5.613531589508057,
          6.11821985244751,
          6.053247928619385,
          5.924314498901367,
          6.111149787902832,
          5.5104265213012695,
          6.121760368347168,
          6.094845771789551,
          5.963130474090576,
          5.9880170822143555,
          5.788326740264893,
          5.916194915771484,
          6.276142120361328,
          5.922745704650879,
          5.813976764678955,
          6.033783435821533,
          5.73620080947876,
          5.770389080047607,
          5.608996391296387,
          5.645249366760254,
          5.374752044677734,
          5.8433709144592285,
          5.75581693649292,
          5.4464006423950195,
          5.4658403396606445,
          5.829951763153076,
          5.639029026031494,
          5.473247528076172,
          5.756227970123291,
          5.795219421386719,
          5.316885471343994,
          5.384210109710693,
          11.862524032592773,
          11.888787269592285,
          11.895943641662598,
          11.880744934082031,
          12.629593849182129,
          1.0524271726608276,
          11.868056297302246,
          5.863460540771484,
          12.69986629486084,
          5.686674118041992,
          10.616853713989258,
          0.9320169687271118,
          12.689414024353027,
          6.178013324737549,
          5.9871907234191895,
          5.818286895751953,
          5.651307582855225,
          5.327989101409912,
          5.443764686584473,
          6.088816165924072,
          5.971258163452148,
          6.097470283508301,
          6.083583354949951,
          5.448001861572266,
          5.66490364074707,
          6.402187347412109
         ],
         "yaxis": "y"
        }
       ],
       "layout": {
        "legend": {
         "title": {
          "text": "digit"
         },
         "tracegroupgap": 0
        },
        "margin": {
         "t": 60
        },
        "template": {
         "data": {
          "bar": [
           {
            "error_x": {
             "color": "#2a3f5f"
            },
            "error_y": {
             "color": "#2a3f5f"
            },
            "marker": {
             "line": {
              "color": "#E5ECF6",
              "width": 0.5
             },
             "pattern": {
              "fillmode": "overlay",
              "size": 10,
              "solidity": 0.2
             }
            },
            "type": "bar"
           }
          ],
          "barpolar": [
           {
            "marker": {
             "line": {
              "color": "#E5ECF6",
              "width": 0.5
             },
             "pattern": {
              "fillmode": "overlay",
              "size": 10,
              "solidity": 0.2
             }
            },
            "type": "barpolar"
           }
          ],
          "carpet": [
           {
            "aaxis": {
             "endlinecolor": "#2a3f5f",
             "gridcolor": "white",
             "linecolor": "white",
             "minorgridcolor": "white",
             "startlinecolor": "#2a3f5f"
            },
            "baxis": {
             "endlinecolor": "#2a3f5f",
             "gridcolor": "white",
             "linecolor": "white",
             "minorgridcolor": "white",
             "startlinecolor": "#2a3f5f"
            },
            "type": "carpet"
           }
          ],
          "choropleth": [
           {
            "colorbar": {
             "outlinewidth": 0,
             "ticks": ""
            },
            "type": "choropleth"
           }
          ],
          "contour": [
           {
            "colorbar": {
             "outlinewidth": 0,
             "ticks": ""
            },
            "colorscale": [
             [
              0,
              "#0d0887"
             ],
             [
              0.1111111111111111,
              "#46039f"
             ],
             [
              0.2222222222222222,
              "#7201a8"
             ],
             [
              0.3333333333333333,
              "#9c179e"
             ],
             [
              0.4444444444444444,
              "#bd3786"
             ],
             [
              0.5555555555555556,
              "#d8576b"
             ],
             [
              0.6666666666666666,
              "#ed7953"
             ],
             [
              0.7777777777777778,
              "#fb9f3a"
             ],
             [
              0.8888888888888888,
              "#fdca26"
             ],
             [
              1,
              "#f0f921"
             ]
            ],
            "type": "contour"
           }
          ],
          "contourcarpet": [
           {
            "colorbar": {
             "outlinewidth": 0,
             "ticks": ""
            },
            "type": "contourcarpet"
           }
          ],
          "heatmap": [
           {
            "colorbar": {
             "outlinewidth": 0,
             "ticks": ""
            },
            "colorscale": [
             [
              0,
              "#0d0887"
             ],
             [
              0.1111111111111111,
              "#46039f"
             ],
             [
              0.2222222222222222,
              "#7201a8"
             ],
             [
              0.3333333333333333,
              "#9c179e"
             ],
             [
              0.4444444444444444,
              "#bd3786"
             ],
             [
              0.5555555555555556,
              "#d8576b"
             ],
             [
              0.6666666666666666,
              "#ed7953"
             ],
             [
              0.7777777777777778,
              "#fb9f3a"
             ],
             [
              0.8888888888888888,
              "#fdca26"
             ],
             [
              1,
              "#f0f921"
             ]
            ],
            "type": "heatmap"
           }
          ],
          "heatmapgl": [
           {
            "colorbar": {
             "outlinewidth": 0,
             "ticks": ""
            },
            "colorscale": [
             [
              0,
              "#0d0887"
             ],
             [
              0.1111111111111111,
              "#46039f"
             ],
             [
              0.2222222222222222,
              "#7201a8"
             ],
             [
              0.3333333333333333,
              "#9c179e"
             ],
             [
              0.4444444444444444,
              "#bd3786"
             ],
             [
              0.5555555555555556,
              "#d8576b"
             ],
             [
              0.6666666666666666,
              "#ed7953"
             ],
             [
              0.7777777777777778,
              "#fb9f3a"
             ],
             [
              0.8888888888888888,
              "#fdca26"
             ],
             [
              1,
              "#f0f921"
             ]
            ],
            "type": "heatmapgl"
           }
          ],
          "histogram": [
           {
            "marker": {
             "pattern": {
              "fillmode": "overlay",
              "size": 10,
              "solidity": 0.2
             }
            },
            "type": "histogram"
           }
          ],
          "histogram2d": [
           {
            "colorbar": {
             "outlinewidth": 0,
             "ticks": ""
            },
            "colorscale": [
             [
              0,
              "#0d0887"
             ],
             [
              0.1111111111111111,
              "#46039f"
             ],
             [
              0.2222222222222222,
              "#7201a8"
             ],
             [
              0.3333333333333333,
              "#9c179e"
             ],
             [
              0.4444444444444444,
              "#bd3786"
             ],
             [
              0.5555555555555556,
              "#d8576b"
             ],
             [
              0.6666666666666666,
              "#ed7953"
             ],
             [
              0.7777777777777778,
              "#fb9f3a"
             ],
             [
              0.8888888888888888,
              "#fdca26"
             ],
             [
              1,
              "#f0f921"
             ]
            ],
            "type": "histogram2d"
           }
          ],
          "histogram2dcontour": [
           {
            "colorbar": {
             "outlinewidth": 0,
             "ticks": ""
            },
            "colorscale": [
             [
              0,
              "#0d0887"
             ],
             [
              0.1111111111111111,
              "#46039f"
             ],
             [
              0.2222222222222222,
              "#7201a8"
             ],
             [
              0.3333333333333333,
              "#9c179e"
             ],
             [
              0.4444444444444444,
              "#bd3786"
             ],
             [
              0.5555555555555556,
              "#d8576b"
             ],
             [
              0.6666666666666666,
              "#ed7953"
             ],
             [
              0.7777777777777778,
              "#fb9f3a"
             ],
             [
              0.8888888888888888,
              "#fdca26"
             ],
             [
              1,
              "#f0f921"
             ]
            ],
            "type": "histogram2dcontour"
           }
          ],
          "mesh3d": [
           {
            "colorbar": {
             "outlinewidth": 0,
             "ticks": ""
            },
            "type": "mesh3d"
           }
          ],
          "parcoords": [
           {
            "line": {
             "colorbar": {
              "outlinewidth": 0,
              "ticks": ""
             }
            },
            "type": "parcoords"
           }
          ],
          "pie": [
           {
            "automargin": true,
            "type": "pie"
           }
          ],
          "scatter": [
           {
            "marker": {
             "colorbar": {
              "outlinewidth": 0,
              "ticks": ""
             }
            },
            "type": "scatter"
           }
          ],
          "scatter3d": [
           {
            "line": {
             "colorbar": {
              "outlinewidth": 0,
              "ticks": ""
             }
            },
            "marker": {
             "colorbar": {
              "outlinewidth": 0,
              "ticks": ""
             }
            },
            "type": "scatter3d"
           }
          ],
          "scattercarpet": [
           {
            "marker": {
             "colorbar": {
              "outlinewidth": 0,
              "ticks": ""
             }
            },
            "type": "scattercarpet"
           }
          ],
          "scattergeo": [
           {
            "marker": {
             "colorbar": {
              "outlinewidth": 0,
              "ticks": ""
             }
            },
            "type": "scattergeo"
           }
          ],
          "scattergl": [
           {
            "marker": {
             "colorbar": {
              "outlinewidth": 0,
              "ticks": ""
             }
            },
            "type": "scattergl"
           }
          ],
          "scattermapbox": [
           {
            "marker": {
             "colorbar": {
              "outlinewidth": 0,
              "ticks": ""
             }
            },
            "type": "scattermapbox"
           }
          ],
          "scatterpolar": [
           {
            "marker": {
             "colorbar": {
              "outlinewidth": 0,
              "ticks": ""
             }
            },
            "type": "scatterpolar"
           }
          ],
          "scatterpolargl": [
           {
            "marker": {
             "colorbar": {
              "outlinewidth": 0,
              "ticks": ""
             }
            },
            "type": "scatterpolargl"
           }
          ],
          "scatterternary": [
           {
            "marker": {
             "colorbar": {
              "outlinewidth": 0,
              "ticks": ""
             }
            },
            "type": "scatterternary"
           }
          ],
          "surface": [
           {
            "colorbar": {
             "outlinewidth": 0,
             "ticks": ""
            },
            "colorscale": [
             [
              0,
              "#0d0887"
             ],
             [
              0.1111111111111111,
              "#46039f"
             ],
             [
              0.2222222222222222,
              "#7201a8"
             ],
             [
              0.3333333333333333,
              "#9c179e"
             ],
             [
              0.4444444444444444,
              "#bd3786"
             ],
             [
              0.5555555555555556,
              "#d8576b"
             ],
             [
              0.6666666666666666,
              "#ed7953"
             ],
             [
              0.7777777777777778,
              "#fb9f3a"
             ],
             [
              0.8888888888888888,
              "#fdca26"
             ],
             [
              1,
              "#f0f921"
             ]
            ],
            "type": "surface"
           }
          ],
          "table": [
           {
            "cells": {
             "fill": {
              "color": "#EBF0F8"
             },
             "line": {
              "color": "white"
             }
            },
            "header": {
             "fill": {
              "color": "#C8D4E3"
             },
             "line": {
              "color": "white"
             }
            },
            "type": "table"
           }
          ]
         },
         "layout": {
          "annotationdefaults": {
           "arrowcolor": "#2a3f5f",
           "arrowhead": 0,
           "arrowwidth": 1
          },
          "autotypenumbers": "strict",
          "coloraxis": {
           "colorbar": {
            "outlinewidth": 0,
            "ticks": ""
           }
          },
          "colorscale": {
           "diverging": [
            [
             0,
             "#8e0152"
            ],
            [
             0.1,
             "#c51b7d"
            ],
            [
             0.2,
             "#de77ae"
            ],
            [
             0.3,
             "#f1b6da"
            ],
            [
             0.4,
             "#fde0ef"
            ],
            [
             0.5,
             "#f7f7f7"
            ],
            [
             0.6,
             "#e6f5d0"
            ],
            [
             0.7,
             "#b8e186"
            ],
            [
             0.8,
             "#7fbc41"
            ],
            [
             0.9,
             "#4d9221"
            ],
            [
             1,
             "#276419"
            ]
           ],
           "sequential": [
            [
             0,
             "#0d0887"
            ],
            [
             0.1111111111111111,
             "#46039f"
            ],
            [
             0.2222222222222222,
             "#7201a8"
            ],
            [
             0.3333333333333333,
             "#9c179e"
            ],
            [
             0.4444444444444444,
             "#bd3786"
            ],
            [
             0.5555555555555556,
             "#d8576b"
            ],
            [
             0.6666666666666666,
             "#ed7953"
            ],
            [
             0.7777777777777778,
             "#fb9f3a"
            ],
            [
             0.8888888888888888,
             "#fdca26"
            ],
            [
             1,
             "#f0f921"
            ]
           ],
           "sequentialminus": [
            [
             0,
             "#0d0887"
            ],
            [
             0.1111111111111111,
             "#46039f"
            ],
            [
             0.2222222222222222,
             "#7201a8"
            ],
            [
             0.3333333333333333,
             "#9c179e"
            ],
            [
             0.4444444444444444,
             "#bd3786"
            ],
            [
             0.5555555555555556,
             "#d8576b"
            ],
            [
             0.6666666666666666,
             "#ed7953"
            ],
            [
             0.7777777777777778,
             "#fb9f3a"
            ],
            [
             0.8888888888888888,
             "#fdca26"
            ],
            [
             1,
             "#f0f921"
            ]
           ]
          },
          "colorway": [
           "#636efa",
           "#EF553B",
           "#00cc96",
           "#ab63fa",
           "#FFA15A",
           "#19d3f3",
           "#FF6692",
           "#B6E880",
           "#FF97FF",
           "#FECB52"
          ],
          "font": {
           "color": "#2a3f5f"
          },
          "geo": {
           "bgcolor": "white",
           "lakecolor": "white",
           "landcolor": "#E5ECF6",
           "showlakes": true,
           "showland": true,
           "subunitcolor": "white"
          },
          "hoverlabel": {
           "align": "left"
          },
          "hovermode": "closest",
          "mapbox": {
           "style": "light"
          },
          "paper_bgcolor": "white",
          "plot_bgcolor": "#E5ECF6",
          "polar": {
           "angularaxis": {
            "gridcolor": "white",
            "linecolor": "white",
            "ticks": ""
           },
           "bgcolor": "#E5ECF6",
           "radialaxis": {
            "gridcolor": "white",
            "linecolor": "white",
            "ticks": ""
           }
          },
          "scene": {
           "xaxis": {
            "backgroundcolor": "#E5ECF6",
            "gridcolor": "white",
            "gridwidth": 2,
            "linecolor": "white",
            "showbackground": true,
            "ticks": "",
            "zerolinecolor": "white"
           },
           "yaxis": {
            "backgroundcolor": "#E5ECF6",
            "gridcolor": "white",
            "gridwidth": 2,
            "linecolor": "white",
            "showbackground": true,
            "ticks": "",
            "zerolinecolor": "white"
           },
           "zaxis": {
            "backgroundcolor": "#E5ECF6",
            "gridcolor": "white",
            "gridwidth": 2,
            "linecolor": "white",
            "showbackground": true,
            "ticks": "",
            "zerolinecolor": "white"
           }
          },
          "shapedefaults": {
           "line": {
            "color": "#2a3f5f"
           }
          },
          "ternary": {
           "aaxis": {
            "gridcolor": "white",
            "linecolor": "white",
            "ticks": ""
           },
           "baxis": {
            "gridcolor": "white",
            "linecolor": "white",
            "ticks": ""
           },
           "bgcolor": "#E5ECF6",
           "caxis": {
            "gridcolor": "white",
            "linecolor": "white",
            "ticks": ""
           }
          },
          "title": {
           "x": 0.05
          },
          "xaxis": {
           "automargin": true,
           "gridcolor": "white",
           "linecolor": "white",
           "ticks": "",
           "title": {
            "standoff": 15
           },
           "zerolinecolor": "white",
           "zerolinewidth": 2
          },
          "yaxis": {
           "automargin": true,
           "gridcolor": "white",
           "linecolor": "white",
           "ticks": "",
           "title": {
            "standoff": 15
           },
           "zerolinecolor": "white",
           "zerolinewidth": 2
          }
         }
        },
        "xaxis": {
         "anchor": "y",
         "domain": [
          0,
          1
         ],
         "title": {
          "text": "0"
         }
        },
        "yaxis": {
         "anchor": "x",
         "domain": [
          0,
          1
         ],
         "title": {
          "text": "1"
         }
        }
       }
      }
     },
     "metadata": {},
     "output_type": "display_data"
    }
   ],
   "source": [
    "import plotly.express as px\n",
    "from sklearn.datasets import load_digits\n",
    "from umap import UMAP\n",
    "\n",
    "digits = load_digits()\n",
    "\n",
    "umap_2d = UMAP(random_state=0)\n",
    "umap_2d.fit(digits.data)\n",
    "\n",
    "projections = umap_2d.transform(digits.data)\n",
    "\n",
    "fig = px.scatter(\n",
    "    projections, x=0, y=1,\n",
    "    color=digits.target.astype(str), labels={'color': 'digit'}\n",
    ")\n",
    "fig.show()"
   ]
  }
 ],
 "metadata": {
  "kernelspec": {
   "display_name": "Python 3.9.12 ('base')",
   "language": "python",
   "name": "python3"
  },
  "language_info": {
   "codemirror_mode": {
    "name": "ipython",
    "version": 3
   },
   "file_extension": ".py",
   "mimetype": "text/x-python",
   "name": "python",
   "nbconvert_exporter": "python",
   "pygments_lexer": "ipython3",
   "version": "3.9.12"
  },
  "orig_nbformat": 4,
  "vscode": {
   "interpreter": {
    "hash": "5fe6031c1074f457b3fd347f0311d894b053018bbc6325eb758284aeacccf2d8"
   }
  }
 },
 "nbformat": 4,
 "nbformat_minor": 2
}
