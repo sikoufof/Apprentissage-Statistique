{
 "cells": [
  {
   "cell_type": "markdown",
   "metadata": {},
   "source": [
    "Projections t-SNE de base\n",
    "\n",
    "t-SNE est un algorithme populaire de réduction de dimensionnalité qui découle de la théorie des probabilités. En termes simples, il projette les points de données de haute dimension (parfois avec des centaines de caractéristiques) en 2D / 3D en induisant les données projetées à avoir une distribution similaire à celle des points de données d’origine en minimisant ce qu’on appelle le Divergence KL.\n",
    "\n",
    "Par rapport à une méthode telle que l’analyse en composantes principales (APC), il faut beaucoup plus de temps pour converger, mais présente des informations nettement meilleures lorsqu’elles sont visualisées. Par exemple, en projetant les caractéristiques d’une ville, il sera capable de regrouper distinctement.\n"
   ]
  },
  {
   "cell_type": "markdown",
   "metadata": {},
   "source": [
    "Chargement des outils t-SNE, plotly.express, pandas de scikit-learn et du jeu de données sur les 100 villes français avec 54 variables décrivant le chomage, la richesse, le salaire...."
   ]
  },
  {
   "cell_type": "code",
   "execution_count": 2,
   "metadata": {},
   "outputs": [
    {
     "data": {
      "text/html": [
       "<div>\n",
       "<style scoped>\n",
       "    .dataframe tbody tr th:only-of-type {\n",
       "        vertical-align: middle;\n",
       "    }\n",
       "\n",
       "    .dataframe tbody tr th {\n",
       "        vertical-align: top;\n",
       "    }\n",
       "\n",
       "    .dataframe thead th {\n",
       "        text-align: right;\n",
       "    }\n",
       "</style>\n",
       "<table border=\"1\" class=\"dataframe\">\n",
       "  <thead>\n",
       "    <tr style=\"text-align: right;\">\n",
       "      <th></th>\n",
       "      <th>Ville</th>\n",
       "      <th>Chomage</th>\n",
       "      <th>ChomageJeunes</th>\n",
       "      <th>ChomageLong</th>\n",
       "      <th>EvoluEmploiCree</th>\n",
       "      <th>Activite</th>\n",
       "      <th>EmploiFeminin</th>\n",
       "      <th>EmploiCommune</th>\n",
       "      <th>DefaillEntreprise</th>\n",
       "      <th>SalaireAnnuel</th>\n",
       "      <th>...</th>\n",
       "      <th>RestaurDistingues</th>\n",
       "      <th>Presse</th>\n",
       "      <th>Etudiants</th>\n",
       "      <th>ImpotRevenu</th>\n",
       "      <th>ImpotFortune</th>\n",
       "      <th>Imposables</th>\n",
       "      <th>EvolDemographique</th>\n",
       "      <th>Vieillissement</th>\n",
       "      <th>AttiranceGlobale</th>\n",
       "      <th>AttiranceActifs</th>\n",
       "    </tr>\n",
       "  </thead>\n",
       "  <tbody>\n",
       "    <tr>\n",
       "      <th>0</th>\n",
       "      <td>Agen</td>\n",
       "      <td>0.181</td>\n",
       "      <td>0.161</td>\n",
       "      <td>0.58</td>\n",
       "      <td>0.05</td>\n",
       "      <td>0.44</td>\n",
       "      <td>0.53</td>\n",
       "      <td>0.56</td>\n",
       "      <td>0.18</td>\n",
       "      <td>17210</td>\n",
       "      <td>...</td>\n",
       "      <td>0.0</td>\n",
       "      <td>28.6</td>\n",
       "      <td>0.06</td>\n",
       "      <td>1067</td>\n",
       "      <td>0.005</td>\n",
       "      <td>46</td>\n",
       "      <td>-0.013</td>\n",
       "      <td>0.56</td>\n",
       "      <td>0.38</td>\n",
       "      <td>0.47</td>\n",
       "    </tr>\n",
       "    <tr>\n",
       "      <th>1</th>\n",
       "      <td>AixEnProvence</td>\n",
       "      <td>0.166</td>\n",
       "      <td>0.133</td>\n",
       "      <td>0.55</td>\n",
       "      <td>0.10</td>\n",
       "      <td>0.43</td>\n",
       "      <td>0.47</td>\n",
       "      <td>0.57</td>\n",
       "      <td>0.13</td>\n",
       "      <td>22232</td>\n",
       "      <td>...</td>\n",
       "      <td>1.0</td>\n",
       "      <td>19.9</td>\n",
       "      <td>0.31</td>\n",
       "      <td>2121</td>\n",
       "      <td>0.015</td>\n",
       "      <td>57</td>\n",
       "      <td>0.084</td>\n",
       "      <td>0.37</td>\n",
       "      <td>0.37</td>\n",
       "      <td>0.39</td>\n",
       "    </tr>\n",
       "    <tr>\n",
       "      <th>2</th>\n",
       "      <td>Ajaccio</td>\n",
       "      <td>0.166</td>\n",
       "      <td>0.181</td>\n",
       "      <td>0.52</td>\n",
       "      <td>0.02</td>\n",
       "      <td>0.43</td>\n",
       "      <td>0.46</td>\n",
       "      <td>0.77</td>\n",
       "      <td>0.14</td>\n",
       "      <td>17882</td>\n",
       "      <td>...</td>\n",
       "      <td>1.0</td>\n",
       "      <td>24.4</td>\n",
       "      <td>0.01</td>\n",
       "      <td>1207</td>\n",
       "      <td>0.004</td>\n",
       "      <td>47</td>\n",
       "      <td>-0.103</td>\n",
       "      <td>0.37</td>\n",
       "      <td>0.19</td>\n",
       "      <td>0.21</td>\n",
       "    </tr>\n",
       "    <tr>\n",
       "      <th>3</th>\n",
       "      <td>Albi</td>\n",
       "      <td>0.144</td>\n",
       "      <td>0.151</td>\n",
       "      <td>0.54</td>\n",
       "      <td>0.05</td>\n",
       "      <td>0.42</td>\n",
       "      <td>0.51</td>\n",
       "      <td>0.67</td>\n",
       "      <td>0.09</td>\n",
       "      <td>17923</td>\n",
       "      <td>...</td>\n",
       "      <td>0.0</td>\n",
       "      <td>22.1</td>\n",
       "      <td>0.07</td>\n",
       "      <td>1245</td>\n",
       "      <td>0.004</td>\n",
       "      <td>51</td>\n",
       "      <td>-0.007</td>\n",
       "      <td>0.59</td>\n",
       "      <td>0.31</td>\n",
       "      <td>0.35</td>\n",
       "    </tr>\n",
       "    <tr>\n",
       "      <th>4</th>\n",
       "      <td>Amiens</td>\n",
       "      <td>0.200</td>\n",
       "      <td>0.165</td>\n",
       "      <td>0.61</td>\n",
       "      <td>0.05</td>\n",
       "      <td>0.44</td>\n",
       "      <td>0.46</td>\n",
       "      <td>0.64</td>\n",
       "      <td>0.17</td>\n",
       "      <td>18037</td>\n",
       "      <td>...</td>\n",
       "      <td>0.0</td>\n",
       "      <td>14.7</td>\n",
       "      <td>0.18</td>\n",
       "      <td>1208</td>\n",
       "      <td>0.006</td>\n",
       "      <td>47</td>\n",
       "      <td>0.028</td>\n",
       "      <td>0.24</td>\n",
       "      <td>0.26</td>\n",
       "      <td>0.28</td>\n",
       "    </tr>\n",
       "    <tr>\n",
       "      <th>...</th>\n",
       "      <td>...</td>\n",
       "      <td>...</td>\n",
       "      <td>...</td>\n",
       "      <td>...</td>\n",
       "      <td>...</td>\n",
       "      <td>...</td>\n",
       "      <td>...</td>\n",
       "      <td>...</td>\n",
       "      <td>...</td>\n",
       "      <td>...</td>\n",
       "      <td>...</td>\n",
       "      <td>...</td>\n",
       "      <td>...</td>\n",
       "      <td>...</td>\n",
       "      <td>...</td>\n",
       "      <td>...</td>\n",
       "      <td>...</td>\n",
       "      <td>...</td>\n",
       "      <td>...</td>\n",
       "      <td>...</td>\n",
       "      <td>...</td>\n",
       "    </tr>\n",
       "    <tr>\n",
       "      <th>95</th>\n",
       "      <td>Valenciennes</td>\n",
       "      <td>0.193</td>\n",
       "      <td>0.146</td>\n",
       "      <td>0.58</td>\n",
       "      <td>0.07</td>\n",
       "      <td>0.42</td>\n",
       "      <td>0.48</td>\n",
       "      <td>0.43</td>\n",
       "      <td>0.22</td>\n",
       "      <td>18899</td>\n",
       "      <td>...</td>\n",
       "      <td>0.0</td>\n",
       "      <td>24.2</td>\n",
       "      <td>0.13</td>\n",
       "      <td>1385</td>\n",
       "      <td>0.009</td>\n",
       "      <td>46</td>\n",
       "      <td>0.074</td>\n",
       "      <td>0.31</td>\n",
       "      <td>0.37</td>\n",
       "      <td>0.44</td>\n",
       "    </tr>\n",
       "    <tr>\n",
       "      <th>96</th>\n",
       "      <td>Vannes</td>\n",
       "      <td>0.134</td>\n",
       "      <td>0.117</td>\n",
       "      <td>0.48</td>\n",
       "      <td>0.05</td>\n",
       "      <td>0.45</td>\n",
       "      <td>0.47</td>\n",
       "      <td>0.62</td>\n",
       "      <td>0.11</td>\n",
       "      <td>18752</td>\n",
       "      <td>...</td>\n",
       "      <td>1.0</td>\n",
       "      <td>22.5</td>\n",
       "      <td>0.08</td>\n",
       "      <td>1518</td>\n",
       "      <td>0.010</td>\n",
       "      <td>56</td>\n",
       "      <td>0.134</td>\n",
       "      <td>0.35</td>\n",
       "      <td>0.43</td>\n",
       "      <td>0.48</td>\n",
       "    </tr>\n",
       "    <tr>\n",
       "      <th>97</th>\n",
       "      <td>Versailles</td>\n",
       "      <td>0.069</td>\n",
       "      <td>0.115</td>\n",
       "      <td>0.46</td>\n",
       "      <td>0.00</td>\n",
       "      <td>0.46</td>\n",
       "      <td>0.52</td>\n",
       "      <td>0.33</td>\n",
       "      <td>0.15</td>\n",
       "      <td>30782</td>\n",
       "      <td>...</td>\n",
       "      <td>1.0</td>\n",
       "      <td>19.5</td>\n",
       "      <td>0.11</td>\n",
       "      <td>4358</td>\n",
       "      <td>0.050</td>\n",
       "      <td>76</td>\n",
       "      <td>-0.023</td>\n",
       "      <td>0.33</td>\n",
       "      <td>0.40</td>\n",
       "      <td>0.47</td>\n",
       "    </tr>\n",
       "    <tr>\n",
       "      <th>98</th>\n",
       "      <td>Vichy</td>\n",
       "      <td>0.206</td>\n",
       "      <td>0.147</td>\n",
       "      <td>0.60</td>\n",
       "      <td>0.02</td>\n",
       "      <td>0.39</td>\n",
       "      <td>0.55</td>\n",
       "      <td>0.46</td>\n",
       "      <td>0.13</td>\n",
       "      <td>17284</td>\n",
       "      <td>...</td>\n",
       "      <td>1.0</td>\n",
       "      <td>27.9</td>\n",
       "      <td>0.03</td>\n",
       "      <td>1101</td>\n",
       "      <td>0.010</td>\n",
       "      <td>48</td>\n",
       "      <td>-0.043</td>\n",
       "      <td>1.08</td>\n",
       "      <td>0.37</td>\n",
       "      <td>0.45</td>\n",
       "    </tr>\n",
       "    <tr>\n",
       "      <th>99</th>\n",
       "      <td>Villeurbanne</td>\n",
       "      <td>0.148</td>\n",
       "      <td>0.110</td>\n",
       "      <td>0.53</td>\n",
       "      <td>0.06</td>\n",
       "      <td>0.46</td>\n",
       "      <td>0.44</td>\n",
       "      <td>0.31</td>\n",
       "      <td>0.16</td>\n",
       "      <td>18460</td>\n",
       "      <td>...</td>\n",
       "      <td>0.0</td>\n",
       "      <td>11.4</td>\n",
       "      <td>0.18</td>\n",
       "      <td>1114</td>\n",
       "      <td>0.003</td>\n",
       "      <td>55</td>\n",
       "      <td>0.063</td>\n",
       "      <td>0.30</td>\n",
       "      <td>0.38</td>\n",
       "      <td>0.43</td>\n",
       "    </tr>\n",
       "  </tbody>\n",
       "</table>\n",
       "<p>100 rows × 55 columns</p>\n",
       "</div>"
      ],
      "text/plain": [
       "            Ville  Chomage  ChomageJeunes  ChomageLong  EvoluEmploiCree  \\\n",
       "0            Agen    0.181          0.161         0.58             0.05   \n",
       "1   AixEnProvence    0.166          0.133         0.55             0.10   \n",
       "2         Ajaccio    0.166          0.181         0.52             0.02   \n",
       "3            Albi    0.144          0.151         0.54             0.05   \n",
       "4          Amiens    0.200          0.165         0.61             0.05   \n",
       "..            ...      ...            ...          ...              ...   \n",
       "95   Valenciennes    0.193          0.146         0.58             0.07   \n",
       "96         Vannes    0.134          0.117         0.48             0.05   \n",
       "97     Versailles    0.069          0.115         0.46             0.00   \n",
       "98          Vichy    0.206          0.147         0.60             0.02   \n",
       "99   Villeurbanne    0.148          0.110         0.53             0.06   \n",
       "\n",
       "    Activite  EmploiFeminin  EmploiCommune  DefaillEntreprise  SalaireAnnuel  \\\n",
       "0       0.44           0.53           0.56               0.18          17210   \n",
       "1       0.43           0.47           0.57               0.13          22232   \n",
       "2       0.43           0.46           0.77               0.14          17882   \n",
       "3       0.42           0.51           0.67               0.09          17923   \n",
       "4       0.44           0.46           0.64               0.17          18037   \n",
       "..       ...            ...            ...                ...            ...   \n",
       "95      0.42           0.48           0.43               0.22          18899   \n",
       "96      0.45           0.47           0.62               0.11          18752   \n",
       "97      0.46           0.52           0.33               0.15          30782   \n",
       "98      0.39           0.55           0.46               0.13          17284   \n",
       "99      0.46           0.44           0.31               0.16          18460   \n",
       "\n",
       "    ...  RestaurDistingues  Presse  Etudiants  ImpotRevenu  ImpotFortune  \\\n",
       "0   ...                0.0    28.6       0.06         1067         0.005   \n",
       "1   ...                1.0    19.9       0.31         2121         0.015   \n",
       "2   ...                1.0    24.4       0.01         1207         0.004   \n",
       "3   ...                0.0    22.1       0.07         1245         0.004   \n",
       "4   ...                0.0    14.7       0.18         1208         0.006   \n",
       "..  ...                ...     ...        ...          ...           ...   \n",
       "95  ...                0.0    24.2       0.13         1385         0.009   \n",
       "96  ...                1.0    22.5       0.08         1518         0.010   \n",
       "97  ...                1.0    19.5       0.11         4358         0.050   \n",
       "98  ...                1.0    27.9       0.03         1101         0.010   \n",
       "99  ...                0.0    11.4       0.18         1114         0.003   \n",
       "\n",
       "    Imposables  EvolDemographique  Vieillissement  AttiranceGlobale  \\\n",
       "0           46             -0.013            0.56              0.38   \n",
       "1           57              0.084            0.37              0.37   \n",
       "2           47             -0.103            0.37              0.19   \n",
       "3           51             -0.007            0.59              0.31   \n",
       "4           47              0.028            0.24              0.26   \n",
       "..         ...                ...             ...               ...   \n",
       "95          46              0.074            0.31              0.37   \n",
       "96          56              0.134            0.35              0.43   \n",
       "97          76             -0.023            0.33              0.40   \n",
       "98          48             -0.043            1.08              0.37   \n",
       "99          55              0.063            0.30              0.38   \n",
       "\n",
       "    AttiranceActifs  \n",
       "0              0.47  \n",
       "1              0.39  \n",
       "2              0.21  \n",
       "3              0.35  \n",
       "4              0.28  \n",
       "..              ...  \n",
       "95             0.44  \n",
       "96             0.48  \n",
       "97             0.47  \n",
       "98             0.45  \n",
       "99             0.43  \n",
       "\n",
       "[100 rows x 55 columns]"
      ]
     },
     "execution_count": 2,
     "metadata": {},
     "output_type": "execute_result"
    }
   ],
   "source": [
    "from sklearn.manifold import TSNE\n",
    "import plotly.express as px\n",
    "import pandas as pd \n",
    "import warnings\n",
    "warnings.filterwarnings('ignore')\n",
    "\n",
    "df = pd.read_csv (\"villes (2).csv\",sep=\"\t\")\n",
    "df"
   ]
  },
  {
   "cell_type": "markdown",
   "metadata": {},
   "source": [
    "Données de projet en 2D avec t-SNE et px.scatter\n",
    "\n",
    "Utilisons l’algorithme t-SNE pour projeter les données présentées ci-dessus en deux dimensions. Remarquez comment chacune des villes est séparée les unes des autres."
   ]
  },
  {
   "cell_type": "code",
   "execution_count": 3,
   "metadata": {},
   "outputs": [
    {
     "data": {
      "application/vnd.plotly.v1+json": {
       "config": {
        "plotlyServerURL": "https://plot.ly"
       },
       "data": [
        {
         "hovertemplate": "Ville=Agen<br>0=%{x}<br>1=%{y}<extra></extra>",
         "legendgroup": "Agen",
         "marker": {
          "color": "#636efa",
          "symbol": "circle"
         },
         "mode": "markers",
         "name": "Agen",
         "orientation": "v",
         "showlegend": true,
         "type": "scatter",
         "x": [
          -5.930070877075195
         ],
         "xaxis": "x",
         "y": [
          -5.3560791015625
         ],
         "yaxis": "y"
        },
        {
         "hovertemplate": "Ville=AixEnProvence<br>0=%{x}<br>1=%{y}<extra></extra>",
         "legendgroup": "AixEnProvence",
         "marker": {
          "color": "#EF553B",
          "symbol": "circle"
         },
         "mode": "markers",
         "name": "AixEnProvence",
         "orientation": "v",
         "showlegend": true,
         "type": "scatter",
         "x": [
          0.8521440625190735
         ],
         "xaxis": "x",
         "y": [
          5.613862037658691
         ],
         "yaxis": "y"
        },
        {
         "hovertemplate": "Ville=Ajaccio<br>0=%{x}<br>1=%{y}<extra></extra>",
         "legendgroup": "Ajaccio",
         "marker": {
          "color": "#00cc96",
          "symbol": "circle"
         },
         "mode": "markers",
         "name": "Ajaccio",
         "orientation": "v",
         "showlegend": true,
         "type": "scatter",
         "x": [
          -2.0987861156463623
         ],
         "xaxis": "x",
         "y": [
          -3.553837776184082
         ],
         "yaxis": "y"
        },
        {
         "hovertemplate": "Ville=Albi<br>0=%{x}<br>1=%{y}<extra></extra>",
         "legendgroup": "Albi",
         "marker": {
          "color": "#ab63fa",
          "symbol": "circle"
         },
         "mode": "markers",
         "name": "Albi",
         "orientation": "v",
         "showlegend": true,
         "type": "scatter",
         "x": [
          -4.535360813140869
         ],
         "xaxis": "x",
         "y": [
          -1.9731764793395996
         ],
         "yaxis": "y"
        },
        {
         "hovertemplate": "Ville=Amiens<br>0=%{x}<br>1=%{y}<extra></extra>",
         "legendgroup": "Amiens",
         "marker": {
          "color": "#FFA15A",
          "symbol": "circle"
         },
         "mode": "markers",
         "name": "Amiens",
         "orientation": "v",
         "showlegend": true,
         "type": "scatter",
         "x": [
          -6.046205520629883
         ],
         "xaxis": "x",
         "y": [
          -0.15956567227840424
         ],
         "yaxis": "y"
        },
        {
         "hovertemplate": "Ville=Angers<br>0=%{x}<br>1=%{y}<extra></extra>",
         "legendgroup": "Angers",
         "marker": {
          "color": "#19d3f3",
          "symbol": "circle"
         },
         "mode": "markers",
         "name": "Angers",
         "orientation": "v",
         "showlegend": true,
         "type": "scatter",
         "x": [
          -4.94284725189209
         ],
         "xaxis": "x",
         "y": [
          -1.1850152015686035
         ],
         "yaxis": "y"
        },
        {
         "hovertemplate": "Ville=Angouleme<br>0=%{x}<br>1=%{y}<extra></extra>",
         "legendgroup": "Angouleme",
         "marker": {
          "color": "#FF6692",
          "symbol": "circle"
         },
         "mode": "markers",
         "name": "Angouleme",
         "orientation": "v",
         "showlegend": true,
         "type": "scatter",
         "x": [
          -5.0281829833984375
         ],
         "xaxis": "x",
         "y": [
          -2.8434746265411377
         ],
         "yaxis": "y"
        },
        {
         "hovertemplate": "Ville=Annecy<br>0=%{x}<br>1=%{y}<extra></extra>",
         "legendgroup": "Annecy",
         "marker": {
          "color": "#B6E880",
          "symbol": "circle"
         },
         "mode": "markers",
         "name": "Annecy",
         "orientation": "v",
         "showlegend": true,
         "type": "scatter",
         "x": [
          -1.408509373664856
         ],
         "xaxis": "x",
         "y": [
          2.71995210647583
         ],
         "yaxis": "y"
        },
        {
         "hovertemplate": "Ville=Antibes<br>0=%{x}<br>1=%{y}<extra></extra>",
         "legendgroup": "Antibes",
         "marker": {
          "color": "#FF97FF",
          "symbol": "circle"
         },
         "mode": "markers",
         "name": "Antibes",
         "orientation": "v",
         "showlegend": true,
         "type": "scatter",
         "x": [
          0.09686458110809326
         ],
         "xaxis": "x",
         "y": [
          4.235406875610352
         ],
         "yaxis": "y"
        },
        {
         "hovertemplate": "Ville=Arles<br>0=%{x}<br>1=%{y}<extra></extra>",
         "legendgroup": "Arles",
         "marker": {
          "color": "#FECB52",
          "symbol": "circle"
         },
         "mode": "markers",
         "name": "Arles",
         "orientation": "v",
         "showlegend": true,
         "type": "scatter",
         "x": [
          -2.298372507095337
         ],
         "xaxis": "x",
         "y": [
          -4.604578018188477
         ],
         "yaxis": "y"
        },
        {
         "hovertemplate": "Ville=Auxerre<br>0=%{x}<br>1=%{y}<extra></extra>",
         "legendgroup": "Auxerre",
         "marker": {
          "color": "#636efa",
          "symbol": "circle"
         },
         "mode": "markers",
         "name": "Auxerre",
         "orientation": "v",
         "showlegend": true,
         "type": "scatter",
         "x": [
          -6.301015853881836
         ],
         "xaxis": "x",
         "y": [
          -2.1225664615631104
         ],
         "yaxis": "y"
        },
        {
         "hovertemplate": "Ville=Avignon<br>0=%{x}<br>1=%{y}<extra></extra>",
         "legendgroup": "Avignon",
         "marker": {
          "color": "#EF553B",
          "symbol": "circle"
         },
         "mode": "markers",
         "name": "Avignon",
         "orientation": "v",
         "showlegend": true,
         "type": "scatter",
         "x": [
          -2.8260631561279297
         ],
         "xaxis": "x",
         "y": [
          -5.104002475738525
         ],
         "yaxis": "y"
        },
        {
         "hovertemplate": "Ville=Bastia<br>0=%{x}<br>1=%{y}<extra></extra>",
         "legendgroup": "Bastia",
         "marker": {
          "color": "#00cc96",
          "symbol": "circle"
         },
         "mode": "markers",
         "name": "Bastia",
         "orientation": "v",
         "showlegend": true,
         "type": "scatter",
         "x": [
          -3.3837034702301025
         ],
         "xaxis": "x",
         "y": [
          -6.04937744140625
         ],
         "yaxis": "y"
        },
        {
         "hovertemplate": "Ville=Bayonne<br>0=%{x}<br>1=%{y}<extra></extra>",
         "legendgroup": "Bayonne",
         "marker": {
          "color": "#ab63fa",
          "symbol": "circle"
         },
         "mode": "markers",
         "name": "Bayonne",
         "orientation": "v",
         "showlegend": true,
         "type": "scatter",
         "x": [
          -6.1730756759643555
         ],
         "xaxis": "x",
         "y": [
          -6.357189655303955
         ],
         "yaxis": "y"
        },
        {
         "hovertemplate": "Ville=Beauvais<br>0=%{x}<br>1=%{y}<extra></extra>",
         "legendgroup": "Beauvais",
         "marker": {
          "color": "#FFA15A",
          "symbol": "circle"
         },
         "mode": "markers",
         "name": "Beauvais",
         "orientation": "v",
         "showlegend": true,
         "type": "scatter",
         "x": [
          -6.7729668617248535
         ],
         "xaxis": "x",
         "y": [
          -2.6615898609161377
         ],
         "yaxis": "y"
        },
        {
         "hovertemplate": "Ville=Belfort<br>0=%{x}<br>1=%{y}<extra></extra>",
         "legendgroup": "Belfort",
         "marker": {
          "color": "#19d3f3",
          "symbol": "circle"
         },
         "mode": "markers",
         "name": "Belfort",
         "orientation": "v",
         "showlegend": true,
         "type": "scatter",
         "x": [
          -5.046605587005615
         ],
         "xaxis": "x",
         "y": [
          1.1944868564605713
         ],
         "yaxis": "y"
        },
        {
         "hovertemplate": "Ville=Besancon<br>0=%{x}<br>1=%{y}<extra></extra>",
         "legendgroup": "Besancon",
         "marker": {
          "color": "#FF6692",
          "symbol": "circle"
         },
         "mode": "markers",
         "name": "Besancon",
         "orientation": "v",
         "showlegend": true,
         "type": "scatter",
         "x": [
          -5.06008768081665
         ],
         "xaxis": "x",
         "y": [
          -0.7726423144340515
         ],
         "yaxis": "y"
        },
        {
         "hovertemplate": "Ville=Beziers<br>0=%{x}<br>1=%{y}<extra></extra>",
         "legendgroup": "Beziers",
         "marker": {
          "color": "#B6E880",
          "symbol": "circle"
         },
         "mode": "markers",
         "name": "Beziers",
         "orientation": "v",
         "showlegend": true,
         "type": "scatter",
         "x": [
          -4.090564250946045
         ],
         "xaxis": "x",
         "y": [
          -6.834670066833496
         ],
         "yaxis": "y"
        },
        {
         "hovertemplate": "Ville=Blois<br>0=%{x}<br>1=%{y}<extra></extra>",
         "legendgroup": "Blois",
         "marker": {
          "color": "#FF97FF",
          "symbol": "circle"
         },
         "mode": "markers",
         "name": "Blois",
         "orientation": "v",
         "showlegend": true,
         "type": "scatter",
         "x": [
          -5.988085746765137
         ],
         "xaxis": "x",
         "y": [
          -2.650562047958374
         ],
         "yaxis": "y"
        },
        {
         "hovertemplate": "Ville=Bordeaux<br>0=%{x}<br>1=%{y}<extra></extra>",
         "legendgroup": "Bordeaux",
         "marker": {
          "color": "#FECB52",
          "symbol": "circle"
         },
         "mode": "markers",
         "name": "Bordeaux",
         "orientation": "v",
         "showlegend": true,
         "type": "scatter",
         "x": [
          -0.417310893535614
         ],
         "xaxis": "x",
         "y": [
          5.687429904937744
         ],
         "yaxis": "y"
        },
        {
         "hovertemplate": "Ville=BoulogneBillancourt<br>0=%{x}<br>1=%{y}<extra></extra>",
         "legendgroup": "BoulogneBillancourt",
         "marker": {
          "color": "#636efa",
          "symbol": "circle"
         },
         "mode": "markers",
         "name": "BoulogneBillancourt",
         "orientation": "v",
         "showlegend": true,
         "type": "scatter",
         "x": [
          2.583926200866699
         ],
         "xaxis": "x",
         "y": [
          2.8618600368499756
         ],
         "yaxis": "y"
        },
        {
         "hovertemplate": "Ville=BourgEnBresse<br>0=%{x}<br>1=%{y}<extra></extra>",
         "legendgroup": "BourgEnBresse",
         "marker": {
          "color": "#EF553B",
          "symbol": "circle"
         },
         "mode": "markers",
         "name": "BourgEnBresse",
         "orientation": "v",
         "showlegend": true,
         "type": "scatter",
         "x": [
          -6.388011455535889
         ],
         "xaxis": "x",
         "y": [
          -3.375844955444336
         ],
         "yaxis": "y"
        },
        {
         "hovertemplate": "Ville=Bourges<br>0=%{x}<br>1=%{y}<extra></extra>",
         "legendgroup": "Bourges",
         "marker": {
          "color": "#00cc96",
          "symbol": "circle"
         },
         "mode": "markers",
         "name": "Bourges",
         "orientation": "v",
         "showlegend": true,
         "type": "scatter",
         "x": [
          -4.765413761138916
         ],
         "xaxis": "x",
         "y": [
          0.012913014739751816
         ],
         "yaxis": "y"
        },
        {
         "hovertemplate": "Ville=Brest<br>0=%{x}<br>1=%{y}<extra></extra>",
         "legendgroup": "Brest",
         "marker": {
          "color": "#ab63fa",
          "symbol": "circle"
         },
         "mode": "markers",
         "name": "Brest",
         "orientation": "v",
         "showlegend": true,
         "type": "scatter",
         "x": [
          -6.802658557891846
         ],
         "xaxis": "x",
         "y": [
          -4.054675579071045
         ],
         "yaxis": "y"
        },
        {
         "hovertemplate": "Ville=BriveLaGaillarde<br>0=%{x}<br>1=%{y}<extra></extra>",
         "legendgroup": "BriveLaGaillarde",
         "marker": {
          "color": "#FFA15A",
          "symbol": "circle"
         },
         "mode": "markers",
         "name": "BriveLaGaillarde",
         "orientation": "v",
         "showlegend": true,
         "type": "scatter",
         "x": [
          -5.699345111846924
         ],
         "xaxis": "x",
         "y": [
          -4.795255184173584
         ],
         "yaxis": "y"
        },
        {
         "hovertemplate": "Ville=Caen<br>0=%{x}<br>1=%{y}<extra></extra>",
         "legendgroup": "Caen",
         "marker": {
          "color": "#19d3f3",
          "symbol": "circle"
         },
         "mode": "markers",
         "name": "Caen",
         "orientation": "v",
         "showlegend": true,
         "type": "scatter",
         "x": [
          -3.094285249710083
         ],
         "xaxis": "x",
         "y": [
          2.8214704990386963
         ],
         "yaxis": "y"
        },
        {
         "hovertemplate": "Ville=Calais<br>0=%{x}<br>1=%{y}<extra></extra>",
         "legendgroup": "Calais",
         "marker": {
          "color": "#FF6692",
          "symbol": "circle"
         },
         "mode": "markers",
         "name": "Calais",
         "orientation": "v",
         "showlegend": true,
         "type": "scatter",
         "x": [
          -7.367064476013184
         ],
         "xaxis": "x",
         "y": [
          -5.666617393493652
         ],
         "yaxis": "y"
        },
        {
         "hovertemplate": "Ville=Cannes<br>0=%{x}<br>1=%{y}<extra></extra>",
         "legendgroup": "Cannes",
         "marker": {
          "color": "#B6E880",
          "symbol": "circle"
         },
         "mode": "markers",
         "name": "Cannes",
         "orientation": "v",
         "showlegend": true,
         "type": "scatter",
         "x": [
          -0.8133739233016968
         ],
         "xaxis": "x",
         "y": [
          -2.6973321437835693
         ],
         "yaxis": "y"
        },
        {
         "hovertemplate": "Ville=Carcassonne<br>0=%{x}<br>1=%{y}<extra></extra>",
         "legendgroup": "Carcassonne",
         "marker": {
          "color": "#FF97FF",
          "symbol": "circle"
         },
         "mode": "markers",
         "name": "Carcassonne",
         "orientation": "v",
         "showlegend": true,
         "type": "scatter",
         "x": [
          -4.39424991607666
         ],
         "xaxis": "x",
         "y": [
          -6.683119773864746
         ],
         "yaxis": "y"
        },
        {
         "hovertemplate": "Ville=Castres<br>0=%{x}<br>1=%{y}<extra></extra>",
         "legendgroup": "Castres",
         "marker": {
          "color": "#FECB52",
          "symbol": "circle"
         },
         "mode": "markers",
         "name": "Castres",
         "orientation": "v",
         "showlegend": true,
         "type": "scatter",
         "x": [
          -3.8520262241363525
         ],
         "xaxis": "x",
         "y": [
          -1.7076445817947388
         ],
         "yaxis": "y"
        },
        {
         "hovertemplate": "Ville=ChalonSurSaone<br>0=%{x}<br>1=%{y}<extra></extra>",
         "legendgroup": "ChalonSurSaone",
         "marker": {
          "color": "#636efa",
          "symbol": "circle"
         },
         "mode": "markers",
         "name": "ChalonSurSaone",
         "orientation": "v",
         "showlegend": true,
         "type": "scatter",
         "x": [
          -5.802610397338867
         ],
         "xaxis": "x",
         "y": [
          -3.3893818855285645
         ],
         "yaxis": "y"
        },
        {
         "hovertemplate": "Ville=Chambery<br>0=%{x}<br>1=%{y}<extra></extra>",
         "legendgroup": "Chambery",
         "marker": {
          "color": "#EF553B",
          "symbol": "circle"
         },
         "mode": "markers",
         "name": "Chambery",
         "orientation": "v",
         "showlegend": true,
         "type": "scatter",
         "x": [
          -4.128960132598877
         ],
         "xaxis": "x",
         "y": [
          -0.42772969603538513
         ],
         "yaxis": "y"
        },
        {
         "hovertemplate": "Ville=CharlevilleMezieres<br>0=%{x}<br>1=%{y}<extra></extra>",
         "legendgroup": "CharlevilleMezieres",
         "marker": {
          "color": "#00cc96",
          "symbol": "circle"
         },
         "mode": "markers",
         "name": "CharlevilleMezieres",
         "orientation": "v",
         "showlegend": true,
         "type": "scatter",
         "x": [
          -7.035830497741699
         ],
         "xaxis": "x",
         "y": [
          -1.1154382228851318
         ],
         "yaxis": "y"
        },
        {
         "hovertemplate": "Ville=Chartres<br>0=%{x}<br>1=%{y}<extra></extra>",
         "legendgroup": "Chartres",
         "marker": {
          "color": "#ab63fa",
          "symbol": "circle"
         },
         "mode": "markers",
         "name": "Chartres",
         "orientation": "v",
         "showlegend": true,
         "type": "scatter",
         "x": [
          -2.8727171421051025
         ],
         "xaxis": "x",
         "y": [
          2.770139694213867
         ],
         "yaxis": "y"
        },
        {
         "hovertemplate": "Ville=Cholet<br>0=%{x}<br>1=%{y}<extra></extra>",
         "legendgroup": "Cholet",
         "marker": {
          "color": "#FFA15A",
          "symbol": "circle"
         },
         "mode": "markers",
         "name": "Cholet",
         "orientation": "v",
         "showlegend": true,
         "type": "scatter",
         "x": [
          -5.193674087524414
         ],
         "xaxis": "x",
         "y": [
          -2.236565113067627
         ],
         "yaxis": "y"
        },
        {
         "hovertemplate": "Ville=ClermontFerrand<br>0=%{x}<br>1=%{y}<extra></extra>",
         "legendgroup": "ClermontFerrand",
         "marker": {
          "color": "#19d3f3",
          "symbol": "circle"
         },
         "mode": "markers",
         "name": "ClermontFerrand",
         "orientation": "v",
         "showlegend": true,
         "type": "scatter",
         "x": [
          -5.223638534545898
         ],
         "xaxis": "x",
         "y": [
          -1.0724068880081177
         ],
         "yaxis": "y"
        },
        {
         "hovertemplate": "Ville=Colmar<br>0=%{x}<br>1=%{y}<extra></extra>",
         "legendgroup": "Colmar",
         "marker": {
          "color": "#FF6692",
          "symbol": "circle"
         },
         "mode": "markers",
         "name": "Colmar",
         "orientation": "v",
         "showlegend": true,
         "type": "scatter",
         "x": [
          -3.8869545459747314
         ],
         "xaxis": "x",
         "y": [
          2.019477128982544
         ],
         "yaxis": "y"
        },
        {
         "hovertemplate": "Ville=Compiegne<br>0=%{x}<br>1=%{y}<extra></extra>",
         "legendgroup": "Compiegne",
         "marker": {
          "color": "#B6E880",
          "symbol": "circle"
         },
         "mode": "markers",
         "name": "Compiegne",
         "orientation": "v",
         "showlegend": true,
         "type": "scatter",
         "x": [
          -0.5999041199684143
         ],
         "xaxis": "x",
         "y": [
          5.873627662658691
         ],
         "yaxis": "y"
        },
        {
         "hovertemplate": "Ville=CorbeilEssonnes<br>0=%{x}<br>1=%{y}<extra></extra>",
         "legendgroup": "CorbeilEssonnes",
         "marker": {
          "color": "#FF97FF",
          "symbol": "circle"
         },
         "mode": "markers",
         "name": "CorbeilEssonnes",
         "orientation": "v",
         "showlegend": true,
         "type": "scatter",
         "x": [
          -5.267672538757324
         ],
         "xaxis": "x",
         "y": [
          0.7560244798660278
         ],
         "yaxis": "y"
        },
        {
         "hovertemplate": "Ville=Creteil<br>0=%{x}<br>1=%{y}<extra></extra>",
         "legendgroup": "Creteil",
         "marker": {
          "color": "#FECB52",
          "symbol": "circle"
         },
         "mode": "markers",
         "name": "Creteil",
         "orientation": "v",
         "showlegend": true,
         "type": "scatter",
         "x": [
          -0.1228804662823677
         ],
         "xaxis": "x",
         "y": [
          5.12790060043335
         ],
         "yaxis": "y"
        },
        {
         "hovertemplate": "Ville=Dijon<br>0=%{x}<br>1=%{y}<extra></extra>",
         "legendgroup": "Dijon",
         "marker": {
          "color": "#636efa",
          "symbol": "circle"
         },
         "mode": "markers",
         "name": "Dijon",
         "orientation": "v",
         "showlegend": true,
         "type": "scatter",
         "x": [
          -2.342594623565674
         ],
         "xaxis": "x",
         "y": [
          3.428654432296753
         ],
         "yaxis": "y"
        },
        {
         "hovertemplate": "Ville=Dunkerque<br>0=%{x}<br>1=%{y}<extra></extra>",
         "legendgroup": "Dunkerque",
         "marker": {
          "color": "#EF553B",
          "symbol": "circle"
         },
         "mode": "markers",
         "name": "Dunkerque",
         "orientation": "v",
         "showlegend": true,
         "type": "scatter",
         "x": [
          -2.726383686065674
         ],
         "xaxis": "x",
         "y": [
          4.802828311920166
         ],
         "yaxis": "y"
        },
        {
         "hovertemplate": "Ville=Epinal<br>0=%{x}<br>1=%{y}<extra></extra>",
         "legendgroup": "Epinal",
         "marker": {
          "color": "#00cc96",
          "symbol": "circle"
         },
         "mode": "markers",
         "name": "Epinal",
         "orientation": "v",
         "showlegend": true,
         "type": "scatter",
         "x": [
          -5.83656120300293
         ],
         "xaxis": "x",
         "y": [
          -0.5170758962631226
         ],
         "yaxis": "y"
        },
        {
         "hovertemplate": "Ville=Evry<br>0=%{x}<br>1=%{y}<extra></extra>",
         "legendgroup": "Evry",
         "marker": {
          "color": "#ab63fa",
          "symbol": "circle"
         },
         "mode": "markers",
         "name": "Evry",
         "orientation": "v",
         "showlegend": true,
         "type": "scatter",
         "x": [
          -2.217923164367676
         ],
         "xaxis": "x",
         "y": [
          4.949180603027344
         ],
         "yaxis": "y"
        },
        {
         "hovertemplate": "Ville=Gap<br>0=%{x}<br>1=%{y}<extra></extra>",
         "legendgroup": "Gap",
         "marker": {
          "color": "#FFA15A",
          "symbol": "circle"
         },
         "mode": "markers",
         "name": "Gap",
         "orientation": "v",
         "showlegend": true,
         "type": "scatter",
         "x": [
          -2.6698989868164062
         ],
         "xaxis": "x",
         "y": [
          -4.0235676765441895
         ],
         "yaxis": "y"
        },
        {
         "hovertemplate": "Ville=Grenoble<br>0=%{x}<br>1=%{y}<extra></extra>",
         "legendgroup": "Grenoble",
         "marker": {
          "color": "#19d3f3",
          "symbol": "circle"
         },
         "mode": "markers",
         "name": "Grenoble",
         "orientation": "v",
         "showlegend": true,
         "type": "scatter",
         "x": [
          -0.9399203658103943
         ],
         "xaxis": "x",
         "y": [
          5.258166790008545
         ],
         "yaxis": "y"
        },
        {
         "hovertemplate": "Ville=La Rochelle<br>0=%{x}<br>1=%{y}<extra></extra>",
         "legendgroup": "La Rochelle",
         "marker": {
          "color": "#FF6692",
          "symbol": "circle"
         },
         "mode": "markers",
         "name": "La Rochelle",
         "orientation": "v",
         "showlegend": true,
         "type": "scatter",
         "x": [
          -3.4802465438842773
         ],
         "xaxis": "x",
         "y": [
          -3.6585581302642822
         ],
         "yaxis": "y"
        },
        {
         "hovertemplate": "Ville=La RocheSurYon<br>0=%{x}<br>1=%{y}<extra></extra>",
         "legendgroup": "La RocheSurYon",
         "marker": {
          "color": "#B6E880",
          "symbol": "circle"
         },
         "mode": "markers",
         "name": "La RocheSurYon",
         "orientation": "v",
         "showlegend": true,
         "type": "scatter",
         "x": [
          -4.453396320343018
         ],
         "xaxis": "x",
         "y": [
          -1.1422207355499268
         ],
         "yaxis": "y"
        },
        {
         "hovertemplate": "Ville=Laval<br>0=%{x}<br>1=%{y}<extra></extra>",
         "legendgroup": "Laval",
         "marker": {
          "color": "#FF97FF",
          "symbol": "circle"
         },
         "mode": "markers",
         "name": "Laval",
         "orientation": "v",
         "showlegend": true,
         "type": "scatter",
         "x": [
          -6.699934959411621
         ],
         "xaxis": "x",
         "y": [
          -2.171124219894409
         ],
         "yaxis": "y"
        },
        {
         "hovertemplate": "Ville=LeHavre<br>0=%{x}<br>1=%{y}<extra></extra>",
         "legendgroup": "LeHavre",
         "marker": {
          "color": "#FECB52",
          "symbol": "circle"
         },
         "mode": "markers",
         "name": "LeHavre",
         "orientation": "v",
         "showlegend": true,
         "type": "scatter",
         "x": [
          -4.094542503356934
         ],
         "xaxis": "x",
         "y": [
          2.9779281616210938
         ],
         "yaxis": "y"
        },
        {
         "hovertemplate": "Ville=LeMans<br>0=%{x}<br>1=%{y}<extra></extra>",
         "legendgroup": "LeMans",
         "marker": {
          "color": "#636efa",
          "symbol": "circle"
         },
         "mode": "markers",
         "name": "LeMans",
         "orientation": "v",
         "showlegend": true,
         "type": "scatter",
         "x": [
          -3.535987377166748
         ],
         "xaxis": "x",
         "y": [
          1.8315058946609497
         ],
         "yaxis": "y"
        },
        {
         "hovertemplate": "Ville=Lille<br>0=%{x}<br>1=%{y}<extra></extra>",
         "legendgroup": "Lille",
         "marker": {
          "color": "#EF553B",
          "symbol": "circle"
         },
         "mode": "markers",
         "name": "Lille",
         "orientation": "v",
         "showlegend": true,
         "type": "scatter",
         "x": [
          -3.3187942504882812
         ],
         "xaxis": "x",
         "y": [
          4.102259635925293
         ],
         "yaxis": "y"
        },
        {
         "hovertemplate": "Ville=Limoges<br>0=%{x}<br>1=%{y}<extra></extra>",
         "legendgroup": "Limoges",
         "marker": {
          "color": "#00cc96",
          "symbol": "circle"
         },
         "mode": "markers",
         "name": "Limoges",
         "orientation": "v",
         "showlegend": true,
         "type": "scatter",
         "x": [
          -5.233011245727539
         ],
         "xaxis": "x",
         "y": [
          -2.0789928436279297
         ],
         "yaxis": "y"
        },
        {
         "hovertemplate": "Ville=Lyon<br>0=%{x}<br>1=%{y}<extra></extra>",
         "legendgroup": "Lyon",
         "marker": {
          "color": "#ab63fa",
          "symbol": "circle"
         },
         "mode": "markers",
         "name": "Lyon",
         "orientation": "v",
         "showlegend": true,
         "type": "scatter",
         "x": [
          0.5152462720870972
         ],
         "xaxis": "x",
         "y": [
          5.7711076736450195
         ],
         "yaxis": "y"
        },
        {
         "hovertemplate": "Ville=Marseille<br>0=%{x}<br>1=%{y}<extra></extra>",
         "legendgroup": "Marseille",
         "marker": {
          "color": "#FFA15A",
          "symbol": "circle"
         },
         "mode": "markers",
         "name": "Marseille",
         "orientation": "v",
         "showlegend": true,
         "type": "scatter",
         "x": [
          -1.337270736694336
         ],
         "xaxis": "x",
         "y": [
          -1.0813850164413452
         ],
         "yaxis": "y"
        },
        {
         "hovertemplate": "Ville=Melun<br>0=%{x}<br>1=%{y}<extra></extra>",
         "legendgroup": "Melun",
         "marker": {
          "color": "#19d3f3",
          "symbol": "circle"
         },
         "mode": "markers",
         "name": "Melun",
         "orientation": "v",
         "showlegend": true,
         "type": "scatter",
         "x": [
          -4.922799587249756
         ],
         "xaxis": "x",
         "y": [
          1.9487420320510864
         ],
         "yaxis": "y"
        },
        {
         "hovertemplate": "Ville=Metz<br>0=%{x}<br>1=%{y}<extra></extra>",
         "legendgroup": "Metz",
         "marker": {
          "color": "#FF6692",
          "symbol": "circle"
         },
         "mode": "markers",
         "name": "Metz",
         "orientation": "v",
         "showlegend": true,
         "type": "scatter",
         "x": [
          -3.1548967361450195
         ],
         "xaxis": "x",
         "y": [
          3.372898578643799
         ],
         "yaxis": "y"
        },
        {
         "hovertemplate": "Ville=Montauban<br>0=%{x}<br>1=%{y}<extra></extra>",
         "legendgroup": "Montauban",
         "marker": {
          "color": "#B6E880",
          "symbol": "circle"
         },
         "mode": "markers",
         "name": "Montauban",
         "orientation": "v",
         "showlegend": true,
         "type": "scatter",
         "x": [
          -5.5819830894470215
         ],
         "xaxis": "x",
         "y": [
          -4.630640983581543
         ],
         "yaxis": "y"
        },
        {
         "hovertemplate": "Ville=Montlucon<br>0=%{x}<br>1=%{y}<extra></extra>",
         "legendgroup": "Montlucon",
         "marker": {
          "color": "#FF97FF",
          "symbol": "circle"
         },
         "mode": "markers",
         "name": "Montlucon",
         "orientation": "v",
         "showlegend": true,
         "type": "scatter",
         "x": [
          -5.962759017944336
         ],
         "xaxis": "x",
         "y": [
          -6.939742565155029
         ],
         "yaxis": "y"
        },
        {
         "hovertemplate": "Ville=Montpellier<br>0=%{x}<br>1=%{y}<extra></extra>",
         "legendgroup": "Montpellier",
         "marker": {
          "color": "#FECB52",
          "symbol": "circle"
         },
         "mode": "markers",
         "name": "Montpellier",
         "orientation": "v",
         "showlegend": true,
         "type": "scatter",
         "x": [
          -1.8353573083877563
         ],
         "xaxis": "x",
         "y": [
          -2.0326294898986816
         ],
         "yaxis": "y"
        },
        {
         "hovertemplate": "Ville=Mulhouse<br>0=%{x}<br>1=%{y}<extra></extra>",
         "legendgroup": "Mulhouse",
         "marker": {
          "color": "#636efa",
          "symbol": "circle"
         },
         "mode": "markers",
         "name": "Mulhouse",
         "orientation": "v",
         "showlegend": true,
         "type": "scatter",
         "x": [
          -6.657990455627441
         ],
         "xaxis": "x",
         "y": [
          -4.55258846282959
         ],
         "yaxis": "y"
        },
        {
         "hovertemplate": "Ville=Nancy<br>0=%{x}<br>1=%{y}<extra></extra>",
         "legendgroup": "Nancy",
         "marker": {
          "color": "#EF553B",
          "symbol": "circle"
         },
         "mode": "markers",
         "name": "Nancy",
         "orientation": "v",
         "showlegend": true,
         "type": "scatter",
         "x": [
          -0.7034658789634705
         ],
         "xaxis": "x",
         "y": [
          5.994043350219727
         ],
         "yaxis": "y"
        },
        {
         "hovertemplate": "Ville=Nantes<br>0=%{x}<br>1=%{y}<extra></extra>",
         "legendgroup": "Nantes",
         "marker": {
          "color": "#00cc96",
          "symbol": "circle"
         },
         "mode": "markers",
         "name": "Nantes",
         "orientation": "v",
         "showlegend": true,
         "type": "scatter",
         "x": [
          -0.5960955023765564
         ],
         "xaxis": "x",
         "y": [
          5.370601654052734
         ],
         "yaxis": "y"
        },
        {
         "hovertemplate": "Ville=NeuillySurSeine<br>0=%{x}<br>1=%{y}<extra></extra>",
         "legendgroup": "NeuillySurSeine",
         "marker": {
          "color": "#ab63fa",
          "symbol": "circle"
         },
         "mode": "markers",
         "name": "NeuillySurSeine",
         "orientation": "v",
         "showlegend": true,
         "type": "scatter",
         "x": [
          2.7964744567871094
         ],
         "xaxis": "x",
         "y": [
          2.0245823860168457
         ],
         "yaxis": "y"
        },
        {
         "hovertemplate": "Ville=Nevers<br>0=%{x}<br>1=%{y}<extra></extra>",
         "legendgroup": "Nevers",
         "marker": {
          "color": "#FFA15A",
          "symbol": "circle"
         },
         "mode": "markers",
         "name": "Nevers",
         "orientation": "v",
         "showlegend": true,
         "type": "scatter",
         "x": [
          -6.218446731567383
         ],
         "xaxis": "x",
         "y": [
          -4.093566417694092
         ],
         "yaxis": "y"
        },
        {
         "hovertemplate": "Ville=Nice<br>0=%{x}<br>1=%{y}<extra></extra>",
         "legendgroup": "Nice",
         "marker": {
          "color": "#19d3f3",
          "symbol": "circle"
         },
         "mode": "markers",
         "name": "Nice",
         "orientation": "v",
         "showlegend": true,
         "type": "scatter",
         "x": [
          -1.252883791923523
         ],
         "xaxis": "x",
         "y": [
          -1.3814812898635864
         ],
         "yaxis": "y"
        },
        {
         "hovertemplate": "Ville=Nimes<br>0=%{x}<br>1=%{y}<extra></extra>",
         "legendgroup": "Nimes",
         "marker": {
          "color": "#FF6692",
          "symbol": "circle"
         },
         "mode": "markers",
         "name": "Nimes",
         "orientation": "v",
         "showlegend": true,
         "type": "scatter",
         "x": [
          -2.3548948764801025
         ],
         "xaxis": "x",
         "y": [
          -4.201239109039307
         ],
         "yaxis": "y"
        },
        {
         "hovertemplate": "Ville=Niort<br>0=%{x}<br>1=%{y}<extra></extra>",
         "legendgroup": "Niort",
         "marker": {
          "color": "#B6E880",
          "symbol": "circle"
         },
         "mode": "markers",
         "name": "Niort",
         "orientation": "v",
         "showlegend": true,
         "type": "scatter",
         "x": [
          -2.4283132553100586
         ],
         "xaxis": "x",
         "y": [
          4.290007591247559
         ],
         "yaxis": "y"
        },
        {
         "hovertemplate": "Ville=Orleans<br>0=%{x}<br>1=%{y}<extra></extra>",
         "legendgroup": "Orleans",
         "marker": {
          "color": "#FF97FF",
          "symbol": "circle"
         },
         "mode": "markers",
         "name": "Orleans",
         "orientation": "v",
         "showlegend": true,
         "type": "scatter",
         "x": [
          -1.5256073474884033
         ],
         "xaxis": "x",
         "y": [
          4.879416465759277
         ],
         "yaxis": "y"
        },
        {
         "hovertemplate": "Ville=Paris<br>0=%{x}<br>1=%{y}<extra></extra>",
         "legendgroup": "Paris",
         "marker": {
          "color": "#FECB52",
          "symbol": "circle"
         },
         "mode": "markers",
         "name": "Paris",
         "orientation": "v",
         "showlegend": true,
         "type": "scatter",
         "x": [
          2.5425798892974854
         ],
         "xaxis": "x",
         "y": [
          2.988178253173828
         ],
         "yaxis": "y"
        },
        {
         "hovertemplate": "Ville=Pau<br>0=%{x}<br>1=%{y}<extra></extra>",
         "legendgroup": "Pau",
         "marker": {
          "color": "#636efa",
          "symbol": "circle"
         },
         "mode": "markers",
         "name": "Pau",
         "orientation": "v",
         "showlegend": true,
         "type": "scatter",
         "x": [
          -2.651580810546875
         ],
         "xaxis": "x",
         "y": [
          3.941469669342041
         ],
         "yaxis": "y"
        },
        {
         "hovertemplate": "Ville=Perigueux<br>0=%{x}<br>1=%{y}<extra></extra>",
         "legendgroup": "Perigueux",
         "marker": {
          "color": "#EF553B",
          "symbol": "circle"
         },
         "mode": "markers",
         "name": "Perigueux",
         "orientation": "v",
         "showlegend": true,
         "type": "scatter",
         "x": [
          -5.638478755950928
         ],
         "xaxis": "x",
         "y": [
          -6.351794719696045
         ],
         "yaxis": "y"
        },
        {
         "hovertemplate": "Ville=Perpignan<br>0=%{x}<br>1=%{y}<extra></extra>",
         "legendgroup": "Perpignan",
         "marker": {
          "color": "#00cc96",
          "symbol": "circle"
         },
         "mode": "markers",
         "name": "Perpignan",
         "orientation": "v",
         "showlegend": true,
         "type": "scatter",
         "x": [
          -4.4911699295043945
         ],
         "xaxis": "x",
         "y": [
          -6.865478038787842
         ],
         "yaxis": "y"
        },
        {
         "hovertemplate": "Ville=Poitiers<br>0=%{x}<br>1=%{y}<extra></extra>",
         "legendgroup": "Poitiers",
         "marker": {
          "color": "#ab63fa",
          "symbol": "circle"
         },
         "mode": "markers",
         "name": "Poitiers",
         "orientation": "v",
         "showlegend": true,
         "type": "scatter",
         "x": [
          -4.336463451385498
         ],
         "xaxis": "x",
         "y": [
          -0.3913074731826782
         ],
         "yaxis": "y"
        },
        {
         "hovertemplate": "Ville=Quimper<br>0=%{x}<br>1=%{y}<extra></extra>",
         "legendgroup": "Quimper",
         "marker": {
          "color": "#FFA15A",
          "symbol": "circle"
         },
         "mode": "markers",
         "name": "Quimper",
         "orientation": "v",
         "showlegend": true,
         "type": "scatter",
         "x": [
          -5.223067760467529
         ],
         "xaxis": "x",
         "y": [
          0.1388440579175949
         ],
         "yaxis": "y"
        },
        {
         "hovertemplate": "Ville=Reims<br>0=%{x}<br>1=%{y}<extra></extra>",
         "legendgroup": "Reims",
         "marker": {
          "color": "#19d3f3",
          "symbol": "circle"
         },
         "mode": "markers",
         "name": "Reims",
         "orientation": "v",
         "showlegend": true,
         "type": "scatter",
         "x": [
          -4.158417224884033
         ],
         "xaxis": "x",
         "y": [
          1.9433475732803345
         ],
         "yaxis": "y"
        },
        {
         "hovertemplate": "Ville=Rennes<br>0=%{x}<br>1=%{y}<extra></extra>",
         "legendgroup": "Rennes",
         "marker": {
          "color": "#FF6692",
          "symbol": "circle"
         },
         "mode": "markers",
         "name": "Rennes",
         "orientation": "v",
         "showlegend": true,
         "type": "scatter",
         "x": [
          -1.6383460760116577
         ],
         "xaxis": "x",
         "y": [
          4.412230968475342
         ],
         "yaxis": "y"
        },
        {
         "hovertemplate": "Ville=Rouen<br>0=%{x}<br>1=%{y}<extra></extra>",
         "legendgroup": "Rouen",
         "marker": {
          "color": "#B6E880",
          "symbol": "circle"
         },
         "mode": "markers",
         "name": "Rouen",
         "orientation": "v",
         "showlegend": true,
         "type": "scatter",
         "x": [
          -2.088182210922241
         ],
         "xaxis": "x",
         "y": [
          4.851222515106201
         ],
         "yaxis": "y"
        },
        {
         "hovertemplate": "Ville=RueilMalmaison<br>0=%{x}<br>1=%{y}<extra></extra>",
         "legendgroup": "RueilMalmaison",
         "marker": {
          "color": "#FF97FF",
          "symbol": "circle"
         },
         "mode": "markers",
         "name": "RueilMalmaison",
         "orientation": "v",
         "showlegend": true,
         "type": "scatter",
         "x": [
          2.5658392906188965
         ],
         "xaxis": "x",
         "y": [
          2.93218994140625
         ],
         "yaxis": "y"
        },
        {
         "hovertemplate": "Ville=SaintBrieuc<br>0=%{x}<br>1=%{y}<extra></extra>",
         "legendgroup": "SaintBrieuc",
         "marker": {
          "color": "#FECB52",
          "symbol": "circle"
         },
         "mode": "markers",
         "name": "SaintBrieuc",
         "orientation": "v",
         "showlegend": true,
         "type": "scatter",
         "x": [
          -5.986237049102783
         ],
         "xaxis": "x",
         "y": [
          -1.7955518960952759
         ],
         "yaxis": "y"
        },
        {
         "hovertemplate": "Ville=SaintDenis<br>0=%{x}<br>1=%{y}<extra></extra>",
         "legendgroup": "SaintDenis",
         "marker": {
          "color": "#636efa",
          "symbol": "circle"
         },
         "mode": "markers",
         "name": "SaintDenis",
         "orientation": "v",
         "showlegend": true,
         "type": "scatter",
         "x": [
          -7.808642387390137
         ],
         "xaxis": "x",
         "y": [
          -5.497706413269043
         ],
         "yaxis": "y"
        },
        {
         "hovertemplate": "Ville=SaintEtienne<br>0=%{x}<br>1=%{y}<extra></extra>",
         "legendgroup": "SaintEtienne",
         "marker": {
          "color": "#EF553B",
          "symbol": "circle"
         },
         "mode": "markers",
         "name": "SaintEtienne",
         "orientation": "v",
         "showlegend": true,
         "type": "scatter",
         "x": [
          -5.617106914520264
         ],
         "xaxis": "x",
         "y": [
          -2.851921796798706
         ],
         "yaxis": "y"
        },
        {
         "hovertemplate": "Ville=SaintGermainEnLaye<br>0=%{x}<br>1=%{y}<extra></extra>",
         "legendgroup": "SaintGermainEnLaye",
         "marker": {
          "color": "#00cc96",
          "symbol": "circle"
         },
         "mode": "markers",
         "name": "SaintGermainEnLaye",
         "orientation": "v",
         "showlegend": true,
         "type": "scatter",
         "x": [
          2.6096413135528564
         ],
         "xaxis": "x",
         "y": [
          2.7700207233428955
         ],
         "yaxis": "y"
        },
        {
         "hovertemplate": "Ville=SaintMalo<br>0=%{x}<br>1=%{y}<extra></extra>",
         "legendgroup": "SaintMalo",
         "marker": {
          "color": "#ab63fa",
          "symbol": "circle"
         },
         "mode": "markers",
         "name": "SaintMalo",
         "orientation": "v",
         "showlegend": true,
         "type": "scatter",
         "x": [
          -4.081629276275635
         ],
         "xaxis": "x",
         "y": [
          -3.470085859298706
         ],
         "yaxis": "y"
        },
        {
         "hovertemplate": "Ville=SaintNazaire<br>0=%{x}<br>1=%{y}<extra></extra>",
         "legendgroup": "SaintNazaire",
         "marker": {
          "color": "#FFA15A",
          "symbol": "circle"
         },
         "mode": "markers",
         "name": "SaintNazaire",
         "orientation": "v",
         "showlegend": true,
         "type": "scatter",
         "x": [
          -4.2171196937561035
         ],
         "xaxis": "x",
         "y": [
          0.8718220591545105
         ],
         "yaxis": "y"
        },
        {
         "hovertemplate": "Ville=SaintQuentin<br>0=%{x}<br>1=%{y}<extra></extra>",
         "legendgroup": "SaintQuentin",
         "marker": {
          "color": "#19d3f3",
          "symbol": "circle"
         },
         "mode": "markers",
         "name": "SaintQuentin",
         "orientation": "v",
         "showlegend": true,
         "type": "scatter",
         "x": [
          -6.792448043823242
         ],
         "xaxis": "x",
         "y": [
          -5.4141845703125
         ],
         "yaxis": "y"
        },
        {
         "hovertemplate": "Ville=Sarcelles<br>0=%{x}<br>1=%{y}<extra></extra>",
         "legendgroup": "Sarcelles",
         "marker": {
          "color": "#FF6692",
          "symbol": "circle"
         },
         "mode": "markers",
         "name": "Sarcelles",
         "orientation": "v",
         "showlegend": true,
         "type": "scatter",
         "x": [
          -7.303523063659668
         ],
         "xaxis": "x",
         "y": [
          -5.169840335845947
         ],
         "yaxis": "y"
        },
        {
         "hovertemplate": "Ville=Sete<br>0=%{x}<br>1=%{y}<extra></extra>",
         "legendgroup": "Sete",
         "marker": {
          "color": "#B6E880",
          "symbol": "circle"
         },
         "mode": "markers",
         "name": "Sete",
         "orientation": "v",
         "showlegend": true,
         "type": "scatter",
         "x": [
          -3.733659029006958
         ],
         "xaxis": "x",
         "y": [
          -6.432094097137451
         ],
         "yaxis": "y"
        },
        {
         "hovertemplate": "Ville=Strasbourg<br>0=%{x}<br>1=%{y}<extra></extra>",
         "legendgroup": "Strasbourg",
         "marker": {
          "color": "#FF97FF",
          "symbol": "circle"
         },
         "mode": "markers",
         "name": "Strasbourg",
         "orientation": "v",
         "showlegend": true,
         "type": "scatter",
         "x": [
          -1.7436734437942505
         ],
         "xaxis": "x",
         "y": [
          3.893141984939575
         ],
         "yaxis": "y"
        },
        {
         "hovertemplate": "Ville=Tarbes<br>0=%{x}<br>1=%{y}<extra></extra>",
         "legendgroup": "Tarbes",
         "marker": {
          "color": "#FECB52",
          "symbol": "circle"
         },
         "mode": "markers",
         "name": "Tarbes",
         "orientation": "v",
         "showlegend": true,
         "type": "scatter",
         "x": [
          -5.87937593460083
         ],
         "xaxis": "x",
         "y": [
          -6.765981674194336
         ],
         "yaxis": "y"
        },
        {
         "hovertemplate": "Ville=Toulon<br>0=%{x}<br>1=%{y}<extra></extra>",
         "legendgroup": "Toulon",
         "marker": {
          "color": "#636efa",
          "symbol": "circle"
         },
         "mode": "markers",
         "name": "Toulon",
         "orientation": "v",
         "showlegend": true,
         "type": "scatter",
         "x": [
          -3.220571517944336
         ],
         "xaxis": "x",
         "y": [
          -6.052168369293213
         ],
         "yaxis": "y"
        },
        {
         "hovertemplate": "Ville=Toulouse<br>0=%{x}<br>1=%{y}<extra></extra>",
         "legendgroup": "Toulouse",
         "marker": {
          "color": "#EF553B",
          "symbol": "circle"
         },
         "mode": "markers",
         "name": "Toulouse",
         "orientation": "v",
         "showlegend": true,
         "type": "scatter",
         "x": [
          -1.3888603448867798
         ],
         "xaxis": "x",
         "y": [
          5.381808757781982
         ],
         "yaxis": "y"
        },
        {
         "hovertemplate": "Ville=Tours<br>0=%{x}<br>1=%{y}<extra></extra>",
         "legendgroup": "Tours",
         "marker": {
          "color": "#00cc96",
          "symbol": "circle"
         },
         "mode": "markers",
         "name": "Tours",
         "orientation": "v",
         "showlegend": true,
         "type": "scatter",
         "x": [
          -4.864673614501953
         ],
         "xaxis": "x",
         "y": [
          -0.21406041085720062
         ],
         "yaxis": "y"
        },
        {
         "hovertemplate": "Ville=Troyes<br>0=%{x}<br>1=%{y}<extra></extra>",
         "legendgroup": "Troyes",
         "marker": {
          "color": "#ab63fa",
          "symbol": "circle"
         },
         "mode": "markers",
         "name": "Troyes",
         "orientation": "v",
         "showlegend": true,
         "type": "scatter",
         "x": [
          -6.378374099731445
         ],
         "xaxis": "x",
         "y": [
          -6.927967071533203
         ],
         "yaxis": "y"
        },
        {
         "hovertemplate": "Ville=Valence<br>0=%{x}<br>1=%{y}<extra></extra>",
         "legendgroup": "Valence",
         "marker": {
          "color": "#FFA15A",
          "symbol": "circle"
         },
         "mode": "markers",
         "name": "Valence",
         "orientation": "v",
         "showlegend": true,
         "type": "scatter",
         "x": [
          -2.447113513946533
         ],
         "xaxis": "x",
         "y": [
          -2.4610745906829834
         ],
         "yaxis": "y"
        },
        {
         "hovertemplate": "Ville=Valenciennes<br>0=%{x}<br>1=%{y}<extra></extra>",
         "legendgroup": "Valenciennes",
         "marker": {
          "color": "#19d3f3",
          "symbol": "circle"
         },
         "mode": "markers",
         "name": "Valenciennes",
         "orientation": "v",
         "showlegend": true,
         "type": "scatter",
         "x": [
          -3.4375295639038086
         ],
         "xaxis": "x",
         "y": [
          3.7777442932128906
         ],
         "yaxis": "y"
        },
        {
         "hovertemplate": "Ville=Vannes<br>0=%{x}<br>1=%{y}<extra></extra>",
         "legendgroup": "Vannes",
         "marker": {
          "color": "#FF6692",
          "symbol": "circle"
         },
         "mode": "markers",
         "name": "Vannes",
         "orientation": "v",
         "showlegend": true,
         "type": "scatter",
         "x": [
          -2.4820406436920166
         ],
         "xaxis": "x",
         "y": [
          2.565420150756836
         ],
         "yaxis": "y"
        },
        {
         "hovertemplate": "Ville=Versailles<br>0=%{x}<br>1=%{y}<extra></extra>",
         "legendgroup": "Versailles",
         "marker": {
          "color": "#B6E880",
          "symbol": "circle"
         },
         "mode": "markers",
         "name": "Versailles",
         "orientation": "v",
         "showlegend": true,
         "type": "scatter",
         "x": [
          2.5764260292053223
         ],
         "xaxis": "x",
         "y": [
          2.8930587768554688
         ],
         "yaxis": "y"
        },
        {
         "hovertemplate": "Ville=Vichy<br>0=%{x}<br>1=%{y}<extra></extra>",
         "legendgroup": "Vichy",
         "marker": {
          "color": "#FF97FF",
          "symbol": "circle"
         },
         "mode": "markers",
         "name": "Vichy",
         "orientation": "v",
         "showlegend": true,
         "type": "scatter",
         "x": [
          -6.3371357917785645
         ],
         "xaxis": "x",
         "y": [
          -4.9538984298706055
         ],
         "yaxis": "y"
        },
        {
         "hovertemplate": "Ville=Villeurbanne<br>0=%{x}<br>1=%{y}<extra></extra>",
         "legendgroup": "Villeurbanne",
         "marker": {
          "color": "#FECB52",
          "symbol": "circle"
         },
         "mode": "markers",
         "name": "Villeurbanne",
         "orientation": "v",
         "showlegend": true,
         "type": "scatter",
         "x": [
          -3.7942044734954834
         ],
         "xaxis": "x",
         "y": [
          1.0066205263137817
         ],
         "yaxis": "y"
        }
       ],
       "layout": {
        "legend": {
         "title": {
          "text": "Ville"
         },
         "tracegroupgap": 0
        },
        "margin": {
         "t": 60
        },
        "template": {
         "data": {
          "bar": [
           {
            "error_x": {
             "color": "#2a3f5f"
            },
            "error_y": {
             "color": "#2a3f5f"
            },
            "marker": {
             "line": {
              "color": "#E5ECF6",
              "width": 0.5
             },
             "pattern": {
              "fillmode": "overlay",
              "size": 10,
              "solidity": 0.2
             }
            },
            "type": "bar"
           }
          ],
          "barpolar": [
           {
            "marker": {
             "line": {
              "color": "#E5ECF6",
              "width": 0.5
             },
             "pattern": {
              "fillmode": "overlay",
              "size": 10,
              "solidity": 0.2
             }
            },
            "type": "barpolar"
           }
          ],
          "carpet": [
           {
            "aaxis": {
             "endlinecolor": "#2a3f5f",
             "gridcolor": "white",
             "linecolor": "white",
             "minorgridcolor": "white",
             "startlinecolor": "#2a3f5f"
            },
            "baxis": {
             "endlinecolor": "#2a3f5f",
             "gridcolor": "white",
             "linecolor": "white",
             "minorgridcolor": "white",
             "startlinecolor": "#2a3f5f"
            },
            "type": "carpet"
           }
          ],
          "choropleth": [
           {
            "colorbar": {
             "outlinewidth": 0,
             "ticks": ""
            },
            "type": "choropleth"
           }
          ],
          "contour": [
           {
            "colorbar": {
             "outlinewidth": 0,
             "ticks": ""
            },
            "colorscale": [
             [
              0,
              "#0d0887"
             ],
             [
              0.1111111111111111,
              "#46039f"
             ],
             [
              0.2222222222222222,
              "#7201a8"
             ],
             [
              0.3333333333333333,
              "#9c179e"
             ],
             [
              0.4444444444444444,
              "#bd3786"
             ],
             [
              0.5555555555555556,
              "#d8576b"
             ],
             [
              0.6666666666666666,
              "#ed7953"
             ],
             [
              0.7777777777777778,
              "#fb9f3a"
             ],
             [
              0.8888888888888888,
              "#fdca26"
             ],
             [
              1,
              "#f0f921"
             ]
            ],
            "type": "contour"
           }
          ],
          "contourcarpet": [
           {
            "colorbar": {
             "outlinewidth": 0,
             "ticks": ""
            },
            "type": "contourcarpet"
           }
          ],
          "heatmap": [
           {
            "colorbar": {
             "outlinewidth": 0,
             "ticks": ""
            },
            "colorscale": [
             [
              0,
              "#0d0887"
             ],
             [
              0.1111111111111111,
              "#46039f"
             ],
             [
              0.2222222222222222,
              "#7201a8"
             ],
             [
              0.3333333333333333,
              "#9c179e"
             ],
             [
              0.4444444444444444,
              "#bd3786"
             ],
             [
              0.5555555555555556,
              "#d8576b"
             ],
             [
              0.6666666666666666,
              "#ed7953"
             ],
             [
              0.7777777777777778,
              "#fb9f3a"
             ],
             [
              0.8888888888888888,
              "#fdca26"
             ],
             [
              1,
              "#f0f921"
             ]
            ],
            "type": "heatmap"
           }
          ],
          "heatmapgl": [
           {
            "colorbar": {
             "outlinewidth": 0,
             "ticks": ""
            },
            "colorscale": [
             [
              0,
              "#0d0887"
             ],
             [
              0.1111111111111111,
              "#46039f"
             ],
             [
              0.2222222222222222,
              "#7201a8"
             ],
             [
              0.3333333333333333,
              "#9c179e"
             ],
             [
              0.4444444444444444,
              "#bd3786"
             ],
             [
              0.5555555555555556,
              "#d8576b"
             ],
             [
              0.6666666666666666,
              "#ed7953"
             ],
             [
              0.7777777777777778,
              "#fb9f3a"
             ],
             [
              0.8888888888888888,
              "#fdca26"
             ],
             [
              1,
              "#f0f921"
             ]
            ],
            "type": "heatmapgl"
           }
          ],
          "histogram": [
           {
            "marker": {
             "pattern": {
              "fillmode": "overlay",
              "size": 10,
              "solidity": 0.2
             }
            },
            "type": "histogram"
           }
          ],
          "histogram2d": [
           {
            "colorbar": {
             "outlinewidth": 0,
             "ticks": ""
            },
            "colorscale": [
             [
              0,
              "#0d0887"
             ],
             [
              0.1111111111111111,
              "#46039f"
             ],
             [
              0.2222222222222222,
              "#7201a8"
             ],
             [
              0.3333333333333333,
              "#9c179e"
             ],
             [
              0.4444444444444444,
              "#bd3786"
             ],
             [
              0.5555555555555556,
              "#d8576b"
             ],
             [
              0.6666666666666666,
              "#ed7953"
             ],
             [
              0.7777777777777778,
              "#fb9f3a"
             ],
             [
              0.8888888888888888,
              "#fdca26"
             ],
             [
              1,
              "#f0f921"
             ]
            ],
            "type": "histogram2d"
           }
          ],
          "histogram2dcontour": [
           {
            "colorbar": {
             "outlinewidth": 0,
             "ticks": ""
            },
            "colorscale": [
             [
              0,
              "#0d0887"
             ],
             [
              0.1111111111111111,
              "#46039f"
             ],
             [
              0.2222222222222222,
              "#7201a8"
             ],
             [
              0.3333333333333333,
              "#9c179e"
             ],
             [
              0.4444444444444444,
              "#bd3786"
             ],
             [
              0.5555555555555556,
              "#d8576b"
             ],
             [
              0.6666666666666666,
              "#ed7953"
             ],
             [
              0.7777777777777778,
              "#fb9f3a"
             ],
             [
              0.8888888888888888,
              "#fdca26"
             ],
             [
              1,
              "#f0f921"
             ]
            ],
            "type": "histogram2dcontour"
           }
          ],
          "mesh3d": [
           {
            "colorbar": {
             "outlinewidth": 0,
             "ticks": ""
            },
            "type": "mesh3d"
           }
          ],
          "parcoords": [
           {
            "line": {
             "colorbar": {
              "outlinewidth": 0,
              "ticks": ""
             }
            },
            "type": "parcoords"
           }
          ],
          "pie": [
           {
            "automargin": true,
            "type": "pie"
           }
          ],
          "scatter": [
           {
            "marker": {
             "colorbar": {
              "outlinewidth": 0,
              "ticks": ""
             }
            },
            "type": "scatter"
           }
          ],
          "scatter3d": [
           {
            "line": {
             "colorbar": {
              "outlinewidth": 0,
              "ticks": ""
             }
            },
            "marker": {
             "colorbar": {
              "outlinewidth": 0,
              "ticks": ""
             }
            },
            "type": "scatter3d"
           }
          ],
          "scattercarpet": [
           {
            "marker": {
             "colorbar": {
              "outlinewidth": 0,
              "ticks": ""
             }
            },
            "type": "scattercarpet"
           }
          ],
          "scattergeo": [
           {
            "marker": {
             "colorbar": {
              "outlinewidth": 0,
              "ticks": ""
             }
            },
            "type": "scattergeo"
           }
          ],
          "scattergl": [
           {
            "marker": {
             "colorbar": {
              "outlinewidth": 0,
              "ticks": ""
             }
            },
            "type": "scattergl"
           }
          ],
          "scattermapbox": [
           {
            "marker": {
             "colorbar": {
              "outlinewidth": 0,
              "ticks": ""
             }
            },
            "type": "scattermapbox"
           }
          ],
          "scatterpolar": [
           {
            "marker": {
             "colorbar": {
              "outlinewidth": 0,
              "ticks": ""
             }
            },
            "type": "scatterpolar"
           }
          ],
          "scatterpolargl": [
           {
            "marker": {
             "colorbar": {
              "outlinewidth": 0,
              "ticks": ""
             }
            },
            "type": "scatterpolargl"
           }
          ],
          "scatterternary": [
           {
            "marker": {
             "colorbar": {
              "outlinewidth": 0,
              "ticks": ""
             }
            },
            "type": "scatterternary"
           }
          ],
          "surface": [
           {
            "colorbar": {
             "outlinewidth": 0,
             "ticks": ""
            },
            "colorscale": [
             [
              0,
              "#0d0887"
             ],
             [
              0.1111111111111111,
              "#46039f"
             ],
             [
              0.2222222222222222,
              "#7201a8"
             ],
             [
              0.3333333333333333,
              "#9c179e"
             ],
             [
              0.4444444444444444,
              "#bd3786"
             ],
             [
              0.5555555555555556,
              "#d8576b"
             ],
             [
              0.6666666666666666,
              "#ed7953"
             ],
             [
              0.7777777777777778,
              "#fb9f3a"
             ],
             [
              0.8888888888888888,
              "#fdca26"
             ],
             [
              1,
              "#f0f921"
             ]
            ],
            "type": "surface"
           }
          ],
          "table": [
           {
            "cells": {
             "fill": {
              "color": "#EBF0F8"
             },
             "line": {
              "color": "white"
             }
            },
            "header": {
             "fill": {
              "color": "#C8D4E3"
             },
             "line": {
              "color": "white"
             }
            },
            "type": "table"
           }
          ]
         },
         "layout": {
          "annotationdefaults": {
           "arrowcolor": "#2a3f5f",
           "arrowhead": 0,
           "arrowwidth": 1
          },
          "autotypenumbers": "strict",
          "coloraxis": {
           "colorbar": {
            "outlinewidth": 0,
            "ticks": ""
           }
          },
          "colorscale": {
           "diverging": [
            [
             0,
             "#8e0152"
            ],
            [
             0.1,
             "#c51b7d"
            ],
            [
             0.2,
             "#de77ae"
            ],
            [
             0.3,
             "#f1b6da"
            ],
            [
             0.4,
             "#fde0ef"
            ],
            [
             0.5,
             "#f7f7f7"
            ],
            [
             0.6,
             "#e6f5d0"
            ],
            [
             0.7,
             "#b8e186"
            ],
            [
             0.8,
             "#7fbc41"
            ],
            [
             0.9,
             "#4d9221"
            ],
            [
             1,
             "#276419"
            ]
           ],
           "sequential": [
            [
             0,
             "#0d0887"
            ],
            [
             0.1111111111111111,
             "#46039f"
            ],
            [
             0.2222222222222222,
             "#7201a8"
            ],
            [
             0.3333333333333333,
             "#9c179e"
            ],
            [
             0.4444444444444444,
             "#bd3786"
            ],
            [
             0.5555555555555556,
             "#d8576b"
            ],
            [
             0.6666666666666666,
             "#ed7953"
            ],
            [
             0.7777777777777778,
             "#fb9f3a"
            ],
            [
             0.8888888888888888,
             "#fdca26"
            ],
            [
             1,
             "#f0f921"
            ]
           ],
           "sequentialminus": [
            [
             0,
             "#0d0887"
            ],
            [
             0.1111111111111111,
             "#46039f"
            ],
            [
             0.2222222222222222,
             "#7201a8"
            ],
            [
             0.3333333333333333,
             "#9c179e"
            ],
            [
             0.4444444444444444,
             "#bd3786"
            ],
            [
             0.5555555555555556,
             "#d8576b"
            ],
            [
             0.6666666666666666,
             "#ed7953"
            ],
            [
             0.7777777777777778,
             "#fb9f3a"
            ],
            [
             0.8888888888888888,
             "#fdca26"
            ],
            [
             1,
             "#f0f921"
            ]
           ]
          },
          "colorway": [
           "#636efa",
           "#EF553B",
           "#00cc96",
           "#ab63fa",
           "#FFA15A",
           "#19d3f3",
           "#FF6692",
           "#B6E880",
           "#FF97FF",
           "#FECB52"
          ],
          "font": {
           "color": "#2a3f5f"
          },
          "geo": {
           "bgcolor": "white",
           "lakecolor": "white",
           "landcolor": "#E5ECF6",
           "showlakes": true,
           "showland": true,
           "subunitcolor": "white"
          },
          "hoverlabel": {
           "align": "left"
          },
          "hovermode": "closest",
          "mapbox": {
           "style": "light"
          },
          "paper_bgcolor": "white",
          "plot_bgcolor": "#E5ECF6",
          "polar": {
           "angularaxis": {
            "gridcolor": "white",
            "linecolor": "white",
            "ticks": ""
           },
           "bgcolor": "#E5ECF6",
           "radialaxis": {
            "gridcolor": "white",
            "linecolor": "white",
            "ticks": ""
           }
          },
          "scene": {
           "xaxis": {
            "backgroundcolor": "#E5ECF6",
            "gridcolor": "white",
            "gridwidth": 2,
            "linecolor": "white",
            "showbackground": true,
            "ticks": "",
            "zerolinecolor": "white"
           },
           "yaxis": {
            "backgroundcolor": "#E5ECF6",
            "gridcolor": "white",
            "gridwidth": 2,
            "linecolor": "white",
            "showbackground": true,
            "ticks": "",
            "zerolinecolor": "white"
           },
           "zaxis": {
            "backgroundcolor": "#E5ECF6",
            "gridcolor": "white",
            "gridwidth": 2,
            "linecolor": "white",
            "showbackground": true,
            "ticks": "",
            "zerolinecolor": "white"
           }
          },
          "shapedefaults": {
           "line": {
            "color": "#2a3f5f"
           }
          },
          "ternary": {
           "aaxis": {
            "gridcolor": "white",
            "linecolor": "white",
            "ticks": ""
           },
           "baxis": {
            "gridcolor": "white",
            "linecolor": "white",
            "ticks": ""
           },
           "bgcolor": "#E5ECF6",
           "caxis": {
            "gridcolor": "white",
            "linecolor": "white",
            "ticks": ""
           }
          },
          "title": {
           "x": 0.05
          },
          "xaxis": {
           "automargin": true,
           "gridcolor": "white",
           "linecolor": "white",
           "ticks": "",
           "title": {
            "standoff": 15
           },
           "zerolinecolor": "white",
           "zerolinewidth": 2
          },
          "yaxis": {
           "automargin": true,
           "gridcolor": "white",
           "linecolor": "white",
           "ticks": "",
           "title": {
            "standoff": 15
           },
           "zerolinecolor": "white",
           "zerolinewidth": 2
          }
         }
        },
        "xaxis": {
         "anchor": "y",
         "domain": [
          0,
          1
         ],
         "title": {
          "text": "0"
         }
        },
        "yaxis": {
         "anchor": "x",
         "domain": [
          0,
          1
         ],
         "title": {
          "text": "1"
         }
        }
       }
      }
     },
     "metadata": {},
     "output_type": "display_data"
    }
   ],
   "source": [
    "\n",
    "features = df.loc[:, 'Chomage':'AttiranceActifs']\n",
    "tsne = TSNE(n_components=2, random_state=0)\n",
    "projections = tsne.fit_transform(features)\n",
    "\n",
    "fig = px.scatter(\n",
    "    projections, x=0, y=1,\n",
    "    color=df.Ville, labels={'color': 'Ville'}\n",
    ")\n",
    "fig.show()\n"
   ]
  },
  {
   "cell_type": "markdown",
   "metadata": {},
   "source": [
    "Les villes ayant la même couleur sont sensées appartenir à la classe mais malheureusement la t-SNE n'arrive pas à les regrouper."
   ]
  },
  {
   "cell_type": "markdown",
   "metadata": {},
   "source": [
    "Données de projet en 3D avec t-SNE et px.scatter_3d\n",
    "\n",
    "La t-SNE peut réduire vos données à n’importe quel nombre de dimensions que vous voulez! Ici, nous vous montrons comment le projeter en 3D et le visualiser avec un nuage de points 3D."
   ]
  },
  {
   "cell_type": "code",
   "execution_count": 4,
   "metadata": {},
   "outputs": [
    {
     "data": {
      "application/vnd.plotly.v1+json": {
       "config": {
        "plotlyServerURL": "https://plot.ly"
       },
       "data": [
        {
         "hovertemplate": "Ville=Agen<br>0=%{x}<br>1=%{y}<br>2=%{z}<extra></extra>",
         "legendgroup": "Agen",
         "marker": {
          "color": "#636efa",
          "size": 8,
          "symbol": "circle"
         },
         "mode": "markers",
         "name": "Agen",
         "scene": "scene",
         "showlegend": true,
         "type": "scatter3d",
         "x": [
          97.77596282958984
         ],
         "y": [
          -10.480302810668945
         ],
         "z": [
          -32.25442123413086
         ]
        },
        {
         "hovertemplate": "Ville=AixEnProvence<br>0=%{x}<br>1=%{y}<br>2=%{z}<extra></extra>",
         "legendgroup": "AixEnProvence",
         "marker": {
          "color": "#EF553B",
          "size": 8,
          "symbol": "circle"
         },
         "mode": "markers",
         "name": "AixEnProvence",
         "scene": "scene",
         "showlegend": true,
         "type": "scatter3d",
         "x": [
          21.31554412841797
         ],
         "y": [
          120.12106323242188
         ],
         "z": [
          92.56664276123047
         ]
        },
        {
         "hovertemplate": "Ville=Ajaccio<br>0=%{x}<br>1=%{y}<br>2=%{z}<extra></extra>",
         "legendgroup": "Ajaccio",
         "marker": {
          "color": "#00cc96",
          "size": 8,
          "symbol": "circle"
         },
         "mode": "markers",
         "name": "Ajaccio",
         "scene": "scene",
         "showlegend": true,
         "type": "scatter3d",
         "x": [
          56.72937774658203
         ],
         "y": [
          12.693674087524414
         ],
         "z": [
          -82.0097427368164
         ]
        },
        {
         "hovertemplate": "Ville=Albi<br>0=%{x}<br>1=%{y}<br>2=%{z}<extra></extra>",
         "legendgroup": "Albi",
         "marker": {
          "color": "#ab63fa",
          "size": 8,
          "symbol": "circle"
         },
         "mode": "markers",
         "name": "Albi",
         "scene": "scene",
         "showlegend": true,
         "type": "scatter3d",
         "x": [
          22.61102867126465
         ],
         "y": [
          55.07223129272461
         ],
         "z": [
          -54.324554443359375
         ]
        },
        {
         "hovertemplate": "Ville=Amiens<br>0=%{x}<br>1=%{y}<br>2=%{z}<extra></extra>",
         "legendgroup": "Amiens",
         "marker": {
          "color": "#FFA15A",
          "size": 8,
          "symbol": "circle"
         },
         "mode": "markers",
         "name": "Amiens",
         "scene": "scene",
         "showlegend": true,
         "type": "scatter3d",
         "x": [
          -46.55628204345703
         ],
         "y": [
          -19.251117706298828
         ],
         "z": [
          -5.966114521026611
         ]
        },
        {
         "hovertemplate": "Ville=Angers<br>0=%{x}<br>1=%{y}<br>2=%{z}<extra></extra>",
         "legendgroup": "Angers",
         "marker": {
          "color": "#19d3f3",
          "size": 8,
          "symbol": "circle"
         },
         "mode": "markers",
         "name": "Angers",
         "scene": "scene",
         "showlegend": true,
         "type": "scatter3d",
         "x": [
          -22.16910171508789
         ],
         "y": [
          8.805035591125488
         ],
         "z": [
          -80.08865356445312
         ]
        },
        {
         "hovertemplate": "Ville=Angouleme<br>0=%{x}<br>1=%{y}<br>2=%{z}<extra></extra>",
         "legendgroup": "Angouleme",
         "marker": {
          "color": "#FF6692",
          "size": 8,
          "symbol": "circle"
         },
         "mode": "markers",
         "name": "Angouleme",
         "scene": "scene",
         "showlegend": true,
         "type": "scatter3d",
         "x": [
          110.71443939208984
         ],
         "y": [
          44.266448974609375
         ],
         "z": [
          116.7626953125
         ]
        },
        {
         "hovertemplate": "Ville=Annecy<br>0=%{x}<br>1=%{y}<br>2=%{z}<extra></extra>",
         "legendgroup": "Annecy",
         "marker": {
          "color": "#B6E880",
          "size": 8,
          "symbol": "circle"
         },
         "mode": "markers",
         "name": "Annecy",
         "scene": "scene",
         "showlegend": true,
         "type": "scatter3d",
         "x": [
          -107.26128387451172
         ],
         "y": [
          -54.45001220703125
         ],
         "z": [
          121.66339874267578
         ]
        },
        {
         "hovertemplate": "Ville=Antibes<br>0=%{x}<br>1=%{y}<br>2=%{z}<extra></extra>",
         "legendgroup": "Antibes",
         "marker": {
          "color": "#FF97FF",
          "size": 8,
          "symbol": "circle"
         },
         "mode": "markers",
         "name": "Antibes",
         "scene": "scene",
         "showlegend": true,
         "type": "scatter3d",
         "x": [
          18.392391204833984
         ],
         "y": [
          51.8934211730957
         ],
         "z": [
          76.7498779296875
         ]
        },
        {
         "hovertemplate": "Ville=Arles<br>0=%{x}<br>1=%{y}<br>2=%{z}<extra></extra>",
         "legendgroup": "Arles",
         "marker": {
          "color": "#FECB52",
          "size": 8,
          "symbol": "circle"
         },
         "mode": "markers",
         "name": "Arles",
         "scene": "scene",
         "showlegend": true,
         "type": "scatter3d",
         "x": [
          92.09965515136719
         ],
         "y": [
          83.27454376220703
         ],
         "z": [
          -118.77735900878906
         ]
        },
        {
         "hovertemplate": "Ville=Auxerre<br>0=%{x}<br>1=%{y}<br>2=%{z}<extra></extra>",
         "legendgroup": "Auxerre",
         "marker": {
          "color": "#636efa",
          "size": 8,
          "symbol": "circle"
         },
         "mode": "markers",
         "name": "Auxerre",
         "scene": "scene",
         "showlegend": true,
         "type": "scatter3d",
         "x": [
          51.456947326660156
         ],
         "y": [
          -4.100986480712891
         ],
         "z": [
          39.659061431884766
         ]
        },
        {
         "hovertemplate": "Ville=Avignon<br>0=%{x}<br>1=%{y}<br>2=%{z}<extra></extra>",
         "legendgroup": "Avignon",
         "marker": {
          "color": "#EF553B",
          "size": 8,
          "symbol": "circle"
         },
         "mode": "markers",
         "name": "Avignon",
         "scene": "scene",
         "showlegend": true,
         "type": "scatter3d",
         "x": [
          116.84334564208984
         ],
         "y": [
          42.3058967590332
         ],
         "z": [
          -84.14903259277344
         ]
        },
        {
         "hovertemplate": "Ville=Bastia<br>0=%{x}<br>1=%{y}<br>2=%{z}<extra></extra>",
         "legendgroup": "Bastia",
         "marker": {
          "color": "#00cc96",
          "size": 8,
          "symbol": "circle"
         },
         "mode": "markers",
         "name": "Bastia",
         "scene": "scene",
         "showlegend": true,
         "type": "scatter3d",
         "x": [
          111.50476837158203
         ],
         "y": [
          -24.696744918823242
         ],
         "z": [
          -107.59963989257812
         ]
        },
        {
         "hovertemplate": "Ville=Bayonne<br>0=%{x}<br>1=%{y}<br>2=%{z}<extra></extra>",
         "legendgroup": "Bayonne",
         "marker": {
          "color": "#ab63fa",
          "size": 8,
          "symbol": "circle"
         },
         "mode": "markers",
         "name": "Bayonne",
         "scene": "scene",
         "showlegend": true,
         "type": "scatter3d",
         "x": [
          139.0130615234375
         ],
         "y": [
          -79.3277359008789
         ],
         "z": [
          -32.95264434814453
         ]
        },
        {
         "hovertemplate": "Ville=Beauvais<br>0=%{x}<br>1=%{y}<br>2=%{z}<extra></extra>",
         "legendgroup": "Beauvais",
         "marker": {
          "color": "#FFA15A",
          "size": 8,
          "symbol": "circle"
         },
         "mode": "markers",
         "name": "Beauvais",
         "scene": "scene",
         "showlegend": true,
         "type": "scatter3d",
         "x": [
          -11.044869422912598
         ],
         "y": [
          -92.24421691894531
         ],
         "z": [
          -76.42086029052734
         ]
        },
        {
         "hovertemplate": "Ville=Belfort<br>0=%{x}<br>1=%{y}<br>2=%{z}<extra></extra>",
         "legendgroup": "Belfort",
         "marker": {
          "color": "#19d3f3",
          "size": 8,
          "symbol": "circle"
         },
         "mode": "markers",
         "name": "Belfort",
         "scene": "scene",
         "showlegend": true,
         "type": "scatter3d",
         "x": [
          -80.275634765625
         ],
         "y": [
          16.33072853088379
         ],
         "z": [
          -43.101139068603516
         ]
        },
        {
         "hovertemplate": "Ville=Besancon<br>0=%{x}<br>1=%{y}<br>2=%{z}<extra></extra>",
         "legendgroup": "Besancon",
         "marker": {
          "color": "#FF6692",
          "size": 8,
          "symbol": "circle"
         },
         "mode": "markers",
         "name": "Besancon",
         "scene": "scene",
         "showlegend": true,
         "type": "scatter3d",
         "x": [
          -11.456076622009277
         ],
         "y": [
          -90.56645965576172
         ],
         "z": [
          40.62903594970703
         ]
        },
        {
         "hovertemplate": "Ville=Beziers<br>0=%{x}<br>1=%{y}<br>2=%{z}<extra></extra>",
         "legendgroup": "Beziers",
         "marker": {
          "color": "#B6E880",
          "size": 8,
          "symbol": "circle"
         },
         "mode": "markers",
         "name": "Beziers",
         "scene": "scene",
         "showlegend": true,
         "type": "scatter3d",
         "x": [
          198.27963256835938
         ],
         "y": [
          -62.746116638183594
         ],
         "z": [
          -77.4294662475586
         ]
        },
        {
         "hovertemplate": "Ville=Blois<br>0=%{x}<br>1=%{y}<br>2=%{z}<extra></extra>",
         "legendgroup": "Blois",
         "marker": {
          "color": "#FF97FF",
          "size": 8,
          "symbol": "circle"
         },
         "mode": "markers",
         "name": "Blois",
         "scene": "scene",
         "showlegend": true,
         "type": "scatter3d",
         "x": [
          -119.791015625
         ],
         "y": [
          -52.192726135253906
         ],
         "z": [
          -26.270580291748047
         ]
        },
        {
         "hovertemplate": "Ville=Bordeaux<br>0=%{x}<br>1=%{y}<br>2=%{z}<extra></extra>",
         "legendgroup": "Bordeaux",
         "marker": {
          "color": "#FECB52",
          "size": 8,
          "symbol": "circle"
         },
         "mode": "markers",
         "name": "Bordeaux",
         "scene": "scene",
         "showlegend": true,
         "type": "scatter3d",
         "x": [
          -102.23729705810547
         ],
         "y": [
          84.09883117675781
         ],
         "z": [
          81.03765869140625
         ]
        },
        {
         "hovertemplate": "Ville=BoulogneBillancourt<br>0=%{x}<br>1=%{y}<br>2=%{z}<extra></extra>",
         "legendgroup": "BoulogneBillancourt",
         "marker": {
          "color": "#636efa",
          "size": 8,
          "symbol": "circle"
         },
         "mode": "markers",
         "name": "BoulogneBillancourt",
         "scene": "scene",
         "showlegend": true,
         "type": "scatter3d",
         "x": [
          10.709824562072754
         ],
         "y": [
          -33.70887756347656
         ],
         "z": [
          189.41714477539062
         ]
        },
        {
         "hovertemplate": "Ville=BourgEnBresse<br>0=%{x}<br>1=%{y}<br>2=%{z}<extra></extra>",
         "legendgroup": "BourgEnBresse",
         "marker": {
          "color": "#EF553B",
          "size": 8,
          "symbol": "circle"
         },
         "mode": "markers",
         "name": "BourgEnBresse",
         "scene": "scene",
         "showlegend": true,
         "type": "scatter3d",
         "x": [
          -144.32901000976562
         ],
         "y": [
          127.87631225585938
         ],
         "z": [
          5.127598285675049
         ]
        },
        {
         "hovertemplate": "Ville=Bourges<br>0=%{x}<br>1=%{y}<br>2=%{z}<extra></extra>",
         "legendgroup": "Bourges",
         "marker": {
          "color": "#00cc96",
          "size": 8,
          "symbol": "circle"
         },
         "mode": "markers",
         "name": "Bourges",
         "scene": "scene",
         "showlegend": true,
         "type": "scatter3d",
         "x": [
          -58.22993469238281
         ],
         "y": [
          -78.60347747802734
         ],
         "z": [
          -1.1086114645004272
         ]
        },
        {
         "hovertemplate": "Ville=Brest<br>0=%{x}<br>1=%{y}<br>2=%{z}<extra></extra>",
         "legendgroup": "Brest",
         "marker": {
          "color": "#ab63fa",
          "size": 8,
          "symbol": "circle"
         },
         "mode": "markers",
         "name": "Brest",
         "scene": "scene",
         "showlegend": true,
         "type": "scatter3d",
         "x": [
          108.43557739257812
         ],
         "y": [
          27.575532913208008
         ],
         "z": [
          22.14963722229004
         ]
        },
        {
         "hovertemplate": "Ville=BriveLaGaillarde<br>0=%{x}<br>1=%{y}<br>2=%{z}<extra></extra>",
         "legendgroup": "BriveLaGaillarde",
         "marker": {
          "color": "#FFA15A",
          "size": 8,
          "symbol": "circle"
         },
         "mode": "markers",
         "name": "BriveLaGaillarde",
         "scene": "scene",
         "showlegend": true,
         "type": "scatter3d",
         "x": [
          72.06401062011719
         ],
         "y": [
          -55.15509033203125
         ],
         "z": [
          -5.219698905944824
         ]
        },
        {
         "hovertemplate": "Ville=Caen<br>0=%{x}<br>1=%{y}<br>2=%{z}<extra></extra>",
         "legendgroup": "Caen",
         "marker": {
          "color": "#19d3f3",
          "size": 8,
          "symbol": "circle"
         },
         "mode": "markers",
         "name": "Caen",
         "scene": "scene",
         "showlegend": true,
         "type": "scatter3d",
         "x": [
          -22.721752166748047
         ],
         "y": [
          -9.809309959411621
         ],
         "z": [
          96.1513900756836
         ]
        },
        {
         "hovertemplate": "Ville=Calais<br>0=%{x}<br>1=%{y}<br>2=%{z}<extra></extra>",
         "legendgroup": "Calais",
         "marker": {
          "color": "#FF6692",
          "size": 8,
          "symbol": "circle"
         },
         "mode": "markers",
         "name": "Calais",
         "scene": "scene",
         "showlegend": true,
         "type": "scatter3d",
         "x": [
          104.43682861328125
         ],
         "y": [
          -134.5642547607422
         ],
         "z": [
          -51.416969299316406
         ]
        },
        {
         "hovertemplate": "Ville=Cannes<br>0=%{x}<br>1=%{y}<br>2=%{z}<extra></extra>",
         "legendgroup": "Cannes",
         "marker": {
          "color": "#B6E880",
          "size": 8,
          "symbol": "circle"
         },
         "mode": "markers",
         "name": "Cannes",
         "scene": "scene",
         "showlegend": true,
         "type": "scatter3d",
         "x": [
          -32.80091857910156
         ],
         "y": [
          -67.05831909179688
         ],
         "z": [
          -188.73216247558594
         ]
        },
        {
         "hovertemplate": "Ville=Carcassonne<br>0=%{x}<br>1=%{y}<br>2=%{z}<extra></extra>",
         "legendgroup": "Carcassonne",
         "marker": {
          "color": "#FF97FF",
          "size": 8,
          "symbol": "circle"
         },
         "mode": "markers",
         "name": "Carcassonne",
         "scene": "scene",
         "showlegend": true,
         "type": "scatter3d",
         "x": [
          168.93592834472656
         ],
         "y": [
          -14.307476997375488
         ],
         "z": [
          -68.43550109863281
         ]
        },
        {
         "hovertemplate": "Ville=Castres<br>0=%{x}<br>1=%{y}<br>2=%{z}<extra></extra>",
         "legendgroup": "Castres",
         "marker": {
          "color": "#FECB52",
          "size": 8,
          "symbol": "circle"
         },
         "mode": "markers",
         "name": "Castres",
         "scene": "scene",
         "showlegend": true,
         "type": "scatter3d",
         "x": [
          -78.97067260742188
         ],
         "y": [
          -118.64321899414062
         ],
         "z": [
          -58.714019775390625
         ]
        },
        {
         "hovertemplate": "Ville=ChalonSurSaone<br>0=%{x}<br>1=%{y}<br>2=%{z}<extra></extra>",
         "legendgroup": "ChalonSurSaone",
         "marker": {
          "color": "#636efa",
          "size": 8,
          "symbol": "circle"
         },
         "mode": "markers",
         "name": "ChalonSurSaone",
         "scene": "scene",
         "showlegend": true,
         "type": "scatter3d",
         "x": [
          -2.0920538902282715
         ],
         "y": [
          -6.415146350860596
         ],
         "z": [
          -149.749755859375
         ]
        },
        {
         "hovertemplate": "Ville=Chambery<br>0=%{x}<br>1=%{y}<br>2=%{z}<extra></extra>",
         "legendgroup": "Chambery",
         "marker": {
          "color": "#EF553B",
          "size": 8,
          "symbol": "circle"
         },
         "mode": "markers",
         "name": "Chambery",
         "scene": "scene",
         "showlegend": true,
         "type": "scatter3d",
         "x": [
          61.72705841064453
         ],
         "y": [
          104.1992416381836
         ],
         "z": [
          -48.96438980102539
         ]
        },
        {
         "hovertemplate": "Ville=CharlevilleMezieres<br>0=%{x}<br>1=%{y}<br>2=%{z}<extra></extra>",
         "legendgroup": "CharlevilleMezieres",
         "marker": {
          "color": "#00cc96",
          "size": 8,
          "symbol": "circle"
         },
         "mode": "markers",
         "name": "CharlevilleMezieres",
         "scene": "scene",
         "showlegend": true,
         "type": "scatter3d",
         "x": [
          0.3502136468887329
         ],
         "y": [
          -33.20710372924805
         ],
         "z": [
          26.9075984954834
         ]
        },
        {
         "hovertemplate": "Ville=Chartres<br>0=%{x}<br>1=%{y}<br>2=%{z}<extra></extra>",
         "legendgroup": "Chartres",
         "marker": {
          "color": "#ab63fa",
          "size": 8,
          "symbol": "circle"
         },
         "mode": "markers",
         "name": "Chartres",
         "scene": "scene",
         "showlegend": true,
         "type": "scatter3d",
         "x": [
          22.93086051940918
         ],
         "y": [
          89.44860076904297
         ],
         "z": [
          159.53704833984375
         ]
        },
        {
         "hovertemplate": "Ville=Cholet<br>0=%{x}<br>1=%{y}<br>2=%{z}<extra></extra>",
         "legendgroup": "Cholet",
         "marker": {
          "color": "#FFA15A",
          "size": 8,
          "symbol": "circle"
         },
         "mode": "markers",
         "name": "Cholet",
         "scene": "scene",
         "showlegend": true,
         "type": "scatter3d",
         "x": [
          101.65762329101562
         ],
         "y": [
          -4.382704257965088
         ],
         "z": [
          83.78921508789062
         ]
        },
        {
         "hovertemplate": "Ville=ClermontFerrand<br>0=%{x}<br>1=%{y}<br>2=%{z}<extra></extra>",
         "legendgroup": "ClermontFerrand",
         "marker": {
          "color": "#19d3f3",
          "size": 8,
          "symbol": "circle"
         },
         "mode": "markers",
         "name": "ClermontFerrand",
         "scene": "scene",
         "showlegend": true,
         "type": "scatter3d",
         "x": [
          -109.67501068115234
         ],
         "y": [
          -20.6958065032959
         ],
         "z": [
          -84.80765533447266
         ]
        },
        {
         "hovertemplate": "Ville=Colmar<br>0=%{x}<br>1=%{y}<br>2=%{z}<extra></extra>",
         "legendgroup": "Colmar",
         "marker": {
          "color": "#FF6692",
          "size": 8,
          "symbol": "circle"
         },
         "mode": "markers",
         "name": "Colmar",
         "scene": "scene",
         "showlegend": true,
         "type": "scatter3d",
         "x": [
          -104.85455322265625
         ],
         "y": [
          76.3850326538086
         ],
         "z": [
          -55.34501266479492
         ]
        },
        {
         "hovertemplate": "Ville=Compiegne<br>0=%{x}<br>1=%{y}<br>2=%{z}<extra></extra>",
         "legendgroup": "Compiegne",
         "marker": {
          "color": "#B6E880",
          "size": 8,
          "symbol": "circle"
         },
         "mode": "markers",
         "name": "Compiegne",
         "scene": "scene",
         "showlegend": true,
         "type": "scatter3d",
         "x": [
          -41.30965042114258
         ],
         "y": [
          52.12250518798828
         ],
         "z": [
          156.1428680419922
         ]
        },
        {
         "hovertemplate": "Ville=CorbeilEssonnes<br>0=%{x}<br>1=%{y}<br>2=%{z}<extra></extra>",
         "legendgroup": "CorbeilEssonnes",
         "marker": {
          "color": "#FF97FF",
          "size": 8,
          "symbol": "circle"
         },
         "mode": "markers",
         "name": "CorbeilEssonnes",
         "scene": "scene",
         "showlegend": true,
         "type": "scatter3d",
         "x": [
          -59.60507583618164
         ],
         "y": [
          -40.444419860839844
         ],
         "z": [
          -58.679805755615234
         ]
        },
        {
         "hovertemplate": "Ville=Creteil<br>0=%{x}<br>1=%{y}<br>2=%{z}<extra></extra>",
         "legendgroup": "Creteil",
         "marker": {
          "color": "#FECB52",
          "size": 8,
          "symbol": "circle"
         },
         "mode": "markers",
         "name": "Creteil",
         "scene": "scene",
         "showlegend": true,
         "type": "scatter3d",
         "x": [
          -164.2747802734375
         ],
         "y": [
          -30.88461685180664
         ],
         "z": [
          74.74689483642578
         ]
        },
        {
         "hovertemplate": "Ville=Dijon<br>0=%{x}<br>1=%{y}<br>2=%{z}<extra></extra>",
         "legendgroup": "Dijon",
         "marker": {
          "color": "#636efa",
          "size": 8,
          "symbol": "circle"
         },
         "mode": "markers",
         "name": "Dijon",
         "scene": "scene",
         "showlegend": true,
         "type": "scatter3d",
         "x": [
          -89.41949462890625
         ],
         "y": [
          73.4375991821289
         ],
         "z": [
          19.30107879638672
         ]
        },
        {
         "hovertemplate": "Ville=Dunkerque<br>0=%{x}<br>1=%{y}<br>2=%{z}<extra></extra>",
         "legendgroup": "Dunkerque",
         "marker": {
          "color": "#EF553B",
          "size": 8,
          "symbol": "circle"
         },
         "mode": "markers",
         "name": "Dunkerque",
         "scene": "scene",
         "showlegend": true,
         "type": "scatter3d",
         "x": [
          -139.4405059814453
         ],
         "y": [
          -104.45892333984375
         ],
         "z": [
          24.98041534423828
         ]
        },
        {
         "hovertemplate": "Ville=Epinal<br>0=%{x}<br>1=%{y}<br>2=%{z}<extra></extra>",
         "legendgroup": "Epinal",
         "marker": {
          "color": "#00cc96",
          "size": 8,
          "symbol": "circle"
         },
         "mode": "markers",
         "name": "Epinal",
         "scene": "scene",
         "showlegend": true,
         "type": "scatter3d",
         "x": [
          19.608875274658203
         ],
         "y": [
          14.953424453735352
         ],
         "z": [
          -8.493196487426758
         ]
        },
        {
         "hovertemplate": "Ville=Evry<br>0=%{x}<br>1=%{y}<br>2=%{z}<extra></extra>",
         "legendgroup": "Evry",
         "marker": {
          "color": "#ab63fa",
          "size": 8,
          "symbol": "circle"
         },
         "mode": "markers",
         "name": "Evry",
         "scene": "scene",
         "showlegend": true,
         "type": "scatter3d",
         "x": [
          -21.540302276611328
         ],
         "y": [
          171.34942626953125
         ],
         "z": [
          66.68265533447266
         ]
        },
        {
         "hovertemplate": "Ville=Gap<br>0=%{x}<br>1=%{y}<br>2=%{z}<extra></extra>",
         "legendgroup": "Gap",
         "marker": {
          "color": "#FFA15A",
          "size": 8,
          "symbol": "circle"
         },
         "mode": "markers",
         "name": "Gap",
         "scene": "scene",
         "showlegend": true,
         "type": "scatter3d",
         "x": [
          43.645755767822266
         ],
         "y": [
          -162.6318817138672
         ],
         "z": [
          21.597549438476562
         ]
        },
        {
         "hovertemplate": "Ville=Grenoble<br>0=%{x}<br>1=%{y}<br>2=%{z}<extra></extra>",
         "legendgroup": "Grenoble",
         "marker": {
          "color": "#19d3f3",
          "size": 8,
          "symbol": "circle"
         },
         "mode": "markers",
         "name": "Grenoble",
         "scene": "scene",
         "showlegend": true,
         "type": "scatter3d",
         "x": [
          -64.1989517211914
         ],
         "y": [
          137.5140838623047
         ],
         "z": [
          -15.309507369995117
         ]
        },
        {
         "hovertemplate": "Ville=La Rochelle<br>0=%{x}<br>1=%{y}<br>2=%{z}<extra></extra>",
         "legendgroup": "La Rochelle",
         "marker": {
          "color": "#FF6692",
          "size": 8,
          "symbol": "circle"
         },
         "mode": "markers",
         "name": "La Rochelle",
         "scene": "scene",
         "showlegend": true,
         "type": "scatter3d",
         "x": [
          45.34587097167969
         ],
         "y": [
          -124.11566162109375
         ],
         "z": [
          69.62305450439453
         ]
        },
        {
         "hovertemplate": "Ville=La RocheSurYon<br>0=%{x}<br>1=%{y}<br>2=%{z}<extra></extra>",
         "legendgroup": "La RocheSurYon",
         "marker": {
          "color": "#B6E880",
          "size": 8,
          "symbol": "circle"
         },
         "mode": "markers",
         "name": "La RocheSurYon",
         "scene": "scene",
         "showlegend": true,
         "type": "scatter3d",
         "x": [
          4.994963645935059
         ],
         "y": [
          -27.71415901184082
         ],
         "z": [
          -47.35524368286133
         ]
        },
        {
         "hovertemplate": "Ville=Laval<br>0=%{x}<br>1=%{y}<br>2=%{z}<extra></extra>",
         "legendgroup": "Laval",
         "marker": {
          "color": "#FF97FF",
          "size": 8,
          "symbol": "circle"
         },
         "mode": "markers",
         "name": "Laval",
         "scene": "scene",
         "showlegend": true,
         "type": "scatter3d",
         "x": [
          10.426793098449707
         ],
         "y": [
          -82.78279876708984
         ],
         "z": [
          -17.239151000976562
         ]
        },
        {
         "hovertemplate": "Ville=LeHavre<br>0=%{x}<br>1=%{y}<br>2=%{z}<extra></extra>",
         "legendgroup": "LeHavre",
         "marker": {
          "color": "#FECB52",
          "size": 8,
          "symbol": "circle"
         },
         "mode": "markers",
         "name": "LeHavre",
         "scene": "scene",
         "showlegend": true,
         "type": "scatter3d",
         "x": [
          -6.0260114669799805
         ],
         "y": [
          80.51679992675781
         ],
         "z": [
          24.533411026000977
         ]
        },
        {
         "hovertemplate": "Ville=LeMans<br>0=%{x}<br>1=%{y}<br>2=%{z}<extra></extra>",
         "legendgroup": "LeMans",
         "marker": {
          "color": "#636efa",
          "size": 8,
          "symbol": "circle"
         },
         "mode": "markers",
         "name": "LeMans",
         "scene": "scene",
         "showlegend": true,
         "type": "scatter3d",
         "x": [
          -41.91817855834961
         ],
         "y": [
          29.41546058654785
         ],
         "z": [
          39.51416015625
         ]
        },
        {
         "hovertemplate": "Ville=Lille<br>0=%{x}<br>1=%{y}<br>2=%{z}<extra></extra>",
         "legendgroup": "Lille",
         "marker": {
          "color": "#EF553B",
          "size": 8,
          "symbol": "circle"
         },
         "mode": "markers",
         "name": "Lille",
         "scene": "scene",
         "showlegend": true,
         "type": "scatter3d",
         "x": [
          -65.5315170288086
         ],
         "y": [
          101.55107116699219
         ],
         "z": [
          -142.3974151611328
         ]
        },
        {
         "hovertemplate": "Ville=Limoges<br>0=%{x}<br>1=%{y}<br>2=%{z}<extra></extra>",
         "legendgroup": "Limoges",
         "marker": {
          "color": "#00cc96",
          "size": 8,
          "symbol": "circle"
         },
         "mode": "markers",
         "name": "Limoges",
         "scene": "scene",
         "showlegend": true,
         "type": "scatter3d",
         "x": [
          -57.85691452026367
         ],
         "y": [
          22.35306167602539
         ],
         "z": [
          -124.92213439941406
         ]
        },
        {
         "hovertemplate": "Ville=Lyon<br>0=%{x}<br>1=%{y}<br>2=%{z}<extra></extra>",
         "legendgroup": "Lyon",
         "marker": {
          "color": "#ab63fa",
          "size": 8,
          "symbol": "circle"
         },
         "mode": "markers",
         "name": "Lyon",
         "scene": "scene",
         "showlegend": true,
         "type": "scatter3d",
         "x": [
          -31.224130630493164
         ],
         "y": [
          96.96963500976562
         ],
         "z": [
          103.34933471679688
         ]
        },
        {
         "hovertemplate": "Ville=Marseille<br>0=%{x}<br>1=%{y}<br>2=%{z}<extra></extra>",
         "legendgroup": "Marseille",
         "marker": {
          "color": "#FFA15A",
          "size": 8,
          "symbol": "circle"
         },
         "mode": "markers",
         "name": "Marseille",
         "scene": "scene",
         "showlegend": true,
         "type": "scatter3d",
         "x": [
          -34.39202117919922
         ],
         "y": [
          -179.89137268066406
         ],
         "z": [
          -13.677968978881836
         ]
        },
        {
         "hovertemplate": "Ville=Melun<br>0=%{x}<br>1=%{y}<br>2=%{z}<extra></extra>",
         "legendgroup": "Melun",
         "marker": {
          "color": "#19d3f3",
          "size": 8,
          "symbol": "circle"
         },
         "mode": "markers",
         "name": "Melun",
         "scene": "scene",
         "showlegend": true,
         "type": "scatter3d",
         "x": [
          -92.2997055053711
         ],
         "y": [
          -31.559738159179688
         ],
         "z": [
          44.29603576660156
         ]
        },
        {
         "hovertemplate": "Ville=Metz<br>0=%{x}<br>1=%{y}<br>2=%{z}<extra></extra>",
         "legendgroup": "Metz",
         "marker": {
          "color": "#FF6692",
          "size": 8,
          "symbol": "circle"
         },
         "mode": "markers",
         "name": "Metz",
         "scene": "scene",
         "showlegend": true,
         "type": "scatter3d",
         "x": [
          20.74797248840332
         ],
         "y": [
          29.38311195373535
         ],
         "z": [
          136.73553466796875
         ]
        },
        {
         "hovertemplate": "Ville=Montauban<br>0=%{x}<br>1=%{y}<br>2=%{z}<extra></extra>",
         "legendgroup": "Montauban",
         "marker": {
          "color": "#B6E880",
          "size": 8,
          "symbol": "circle"
         },
         "mode": "markers",
         "name": "Montauban",
         "scene": "scene",
         "showlegend": true,
         "type": "scatter3d",
         "x": [
          90.04463958740234
         ],
         "y": [
          -109.49061584472656
         ],
         "z": [
          9.479101181030273
         ]
        },
        {
         "hovertemplate": "Ville=Montlucon<br>0=%{x}<br>1=%{y}<br>2=%{z}<extra></extra>",
         "legendgroup": "Montlucon",
         "marker": {
          "color": "#FF97FF",
          "size": 8,
          "symbol": "circle"
         },
         "mode": "markers",
         "name": "Montlucon",
         "scene": "scene",
         "showlegend": true,
         "type": "scatter3d",
         "x": [
          204.49002075195312
         ],
         "y": [
          -46.31013870239258
         ],
         "z": [
          -1.3949300050735474
         ]
        },
        {
         "hovertemplate": "Ville=Montpellier<br>0=%{x}<br>1=%{y}<br>2=%{z}<extra></extra>",
         "legendgroup": "Montpellier",
         "marker": {
          "color": "#FECB52",
          "size": 8,
          "symbol": "circle"
         },
         "mode": "markers",
         "name": "Montpellier",
         "scene": "scene",
         "showlegend": true,
         "type": "scatter3d",
         "x": [
          -55.09737777709961
         ],
         "y": [
          -155.51193237304688
         ],
         "z": [
          34.855812072753906
         ]
        },
        {
         "hovertemplate": "Ville=Mulhouse<br>0=%{x}<br>1=%{y}<br>2=%{z}<extra></extra>",
         "legendgroup": "Mulhouse",
         "marker": {
          "color": "#636efa",
          "size": 8,
          "symbol": "circle"
         },
         "mode": "markers",
         "name": "Mulhouse",
         "scene": "scene",
         "showlegend": true,
         "type": "scatter3d",
         "x": [
          38.099517822265625
         ],
         "y": [
          -132.06842041015625
         ],
         "z": [
          -53.89348602294922
         ]
        },
        {
         "hovertemplate": "Ville=Nancy<br>0=%{x}<br>1=%{y}<br>2=%{z}<extra></extra>",
         "legendgroup": "Nancy",
         "marker": {
          "color": "#EF553B",
          "size": 8,
          "symbol": "circle"
         },
         "mode": "markers",
         "name": "Nancy",
         "scene": "scene",
         "showlegend": true,
         "type": "scatter3d",
         "x": [
          -64.70626831054688
         ],
         "y": [
          109.44955444335938
         ],
         "z": [
          157.90933227539062
         ]
        },
        {
         "hovertemplate": "Ville=Nantes<br>0=%{x}<br>1=%{y}<br>2=%{z}<extra></extra>",
         "legendgroup": "Nantes",
         "marker": {
          "color": "#00cc96",
          "size": 8,
          "symbol": "circle"
         },
         "mode": "markers",
         "name": "Nantes",
         "scene": "scene",
         "showlegend": true,
         "type": "scatter3d",
         "x": [
          -138.7678680419922
         ],
         "y": [
          27.692903518676758
         ],
         "z": [
          81.42024993896484
         ]
        },
        {
         "hovertemplate": "Ville=NeuillySurSeine<br>0=%{x}<br>1=%{y}<br>2=%{z}<extra></extra>",
         "legendgroup": "NeuillySurSeine",
         "marker": {
          "color": "#ab63fa",
          "size": 8,
          "symbol": "circle"
         },
         "mode": "markers",
         "name": "NeuillySurSeine",
         "scene": "scene",
         "showlegend": true,
         "type": "scatter3d",
         "x": [
          -188.57359313964844
         ],
         "y": [
          80.93603515625
         ],
         "z": [
          -56.53116989135742
         ]
        },
        {
         "hovertemplate": "Ville=Nevers<br>0=%{x}<br>1=%{y}<br>2=%{z}<extra></extra>",
         "legendgroup": "Nevers",
         "marker": {
          "color": "#FFA15A",
          "size": 8,
          "symbol": "circle"
         },
         "mode": "markers",
         "name": "Nevers",
         "scene": "scene",
         "showlegend": true,
         "type": "scatter3d",
         "x": [
          -99.87043762207031
         ],
         "y": [
          191.5978240966797
         ],
         "z": [
          12.156679153442383
         ]
        },
        {
         "hovertemplate": "Ville=Nice<br>0=%{x}<br>1=%{y}<br>2=%{z}<extra></extra>",
         "legendgroup": "Nice",
         "marker": {
          "color": "#19d3f3",
          "size": 8,
          "symbol": "circle"
         },
         "mode": "markers",
         "name": "Nice",
         "scene": "scene",
         "showlegend": true,
         "type": "scatter3d",
         "x": [
          0.7117457389831543
         ],
         "y": [
          147.76405334472656
         ],
         "z": [
          -95.42259216308594
         ]
        },
        {
         "hovertemplate": "Ville=Nimes<br>0=%{x}<br>1=%{y}<br>2=%{z}<extra></extra>",
         "legendgroup": "Nimes",
         "marker": {
          "color": "#FF6692",
          "size": 8,
          "symbol": "circle"
         },
         "mode": "markers",
         "name": "Nimes",
         "scene": "scene",
         "showlegend": true,
         "type": "scatter3d",
         "x": [
          67.24369049072266
         ],
         "y": [
          34.67142868041992
         ],
         "z": [
          -129.52626037597656
         ]
        },
        {
         "hovertemplate": "Ville=Niort<br>0=%{x}<br>1=%{y}<br>2=%{z}<extra></extra>",
         "legendgroup": "Niort",
         "marker": {
          "color": "#B6E880",
          "size": 8,
          "symbol": "circle"
         },
         "mode": "markers",
         "name": "Niort",
         "scene": "scene",
         "showlegend": true,
         "type": "scatter3d",
         "x": [
          -103.81111907958984
         ],
         "y": [
          57.1093864440918
         ],
         "z": [
          136.81744384765625
         ]
        },
        {
         "hovertemplate": "Ville=Orleans<br>0=%{x}<br>1=%{y}<br>2=%{z}<extra></extra>",
         "legendgroup": "Orleans",
         "marker": {
          "color": "#FF97FF",
          "size": 8,
          "symbol": "circle"
         },
         "mode": "markers",
         "name": "Orleans",
         "scene": "scene",
         "showlegend": true,
         "type": "scatter3d",
         "x": [
          -141.5264129638672
         ],
         "y": [
          11.061589241027832
         ],
         "z": [
          144.276611328125
         ]
        },
        {
         "hovertemplate": "Ville=Paris<br>0=%{x}<br>1=%{y}<br>2=%{z}<extra></extra>",
         "legendgroup": "Paris",
         "marker": {
          "color": "#FECB52",
          "size": 8,
          "symbol": "circle"
         },
         "mode": "markers",
         "name": "Paris",
         "scene": "scene",
         "showlegend": true,
         "type": "scatter3d",
         "x": [
          109.97590637207031
         ],
         "y": [
          111.09485626220703
         ],
         "z": [
          72.65799713134766
         ]
        },
        {
         "hovertemplate": "Ville=Pau<br>0=%{x}<br>1=%{y}<br>2=%{z}<extra></extra>",
         "legendgroup": "Pau",
         "marker": {
          "color": "#636efa",
          "size": 8,
          "symbol": "circle"
         },
         "mode": "markers",
         "name": "Pau",
         "scene": "scene",
         "showlegend": true,
         "type": "scatter3d",
         "x": [
          -70.59664916992188
         ],
         "y": [
          23.61976432800293
         ],
         "z": [
          95.54264831542969
         ]
        },
        {
         "hovertemplate": "Ville=Perigueux<br>0=%{x}<br>1=%{y}<br>2=%{z}<extra></extra>",
         "legendgroup": "Perigueux",
         "marker": {
          "color": "#EF553B",
          "size": 8,
          "symbol": "circle"
         },
         "mode": "markers",
         "name": "Perigueux",
         "scene": "scene",
         "showlegend": true,
         "type": "scatter3d",
         "x": [
          146.8585205078125
         ],
         "y": [
          -28.822025299072266
         ],
         "z": [
          -6.862444877624512
         ]
        },
        {
         "hovertemplate": "Ville=Perpignan<br>0=%{x}<br>1=%{y}<br>2=%{z}<extra></extra>",
         "legendgroup": "Perpignan",
         "marker": {
          "color": "#00cc96",
          "size": 8,
          "symbol": "circle"
         },
         "mode": "markers",
         "name": "Perpignan",
         "scene": "scene",
         "showlegend": true,
         "type": "scatter3d",
         "x": [
          150.69744873046875
         ],
         "y": [
          -90.7956771850586
         ],
         "z": [
          -97.4764175415039
         ]
        },
        {
         "hovertemplate": "Ville=Poitiers<br>0=%{x}<br>1=%{y}<br>2=%{z}<extra></extra>",
         "legendgroup": "Poitiers",
         "marker": {
          "color": "#ab63fa",
          "size": 8,
          "symbol": "circle"
         },
         "mode": "markers",
         "name": "Poitiers",
         "scene": "scene",
         "showlegend": true,
         "type": "scatter3d",
         "x": [
          -36.45630645751953
         ],
         "y": [
          72.51214599609375
         ],
         "z": [
          -74.38922882080078
         ]
        },
        {
         "hovertemplate": "Ville=Quimper<br>0=%{x}<br>1=%{y}<br>2=%{z}<extra></extra>",
         "legendgroup": "Quimper",
         "marker": {
          "color": "#FFA15A",
          "size": 8,
          "symbol": "circle"
         },
         "mode": "markers",
         "name": "Quimper",
         "scene": "scene",
         "showlegend": true,
         "type": "scatter3d",
         "x": [
          -54.029380798339844
         ],
         "y": [
          -76.02633666992188
         ],
         "z": [
          77.44327545166016
         ]
        },
        {
         "hovertemplate": "Ville=Reims<br>0=%{x}<br>1=%{y}<br>2=%{z}<extra></extra>",
         "legendgroup": "Reims",
         "marker": {
          "color": "#19d3f3",
          "size": 8,
          "symbol": "circle"
         },
         "mode": "markers",
         "name": "Reims",
         "scene": "scene",
         "showlegend": true,
         "type": "scatter3d",
         "x": [
          -99.6058349609375
         ],
         "y": [
          147.7642364501953
         ],
         "z": [
          97.91741180419922
         ]
        },
        {
         "hovertemplate": "Ville=Rennes<br>0=%{x}<br>1=%{y}<br>2=%{z}<extra></extra>",
         "legendgroup": "Rennes",
         "marker": {
          "color": "#FF6692",
          "size": 8,
          "symbol": "circle"
         },
         "mode": "markers",
         "name": "Rennes",
         "scene": "scene",
         "showlegend": true,
         "type": "scatter3d",
         "x": [
          103.4070053100586
         ],
         "y": [
          -94.94599151611328
         ],
         "z": [
          126.38522338867188
         ]
        },
        {
         "hovertemplate": "Ville=Rouen<br>0=%{x}<br>1=%{y}<br>2=%{z}<extra></extra>",
         "legendgroup": "Rouen",
         "marker": {
          "color": "#B6E880",
          "size": 8,
          "symbol": "circle"
         },
         "mode": "markers",
         "name": "Rouen",
         "scene": "scene",
         "showlegend": true,
         "type": "scatter3d",
         "x": [
          -137.8902587890625
         ],
         "y": [
          18.810514450073242
         ],
         "z": [
          -138.28662109375
         ]
        },
        {
         "hovertemplate": "Ville=RueilMalmaison<br>0=%{x}<br>1=%{y}<br>2=%{z}<extra></extra>",
         "legendgroup": "RueilMalmaison",
         "marker": {
          "color": "#FF97FF",
          "size": 8,
          "symbol": "circle"
         },
         "mode": "markers",
         "name": "RueilMalmaison",
         "scene": "scene",
         "showlegend": true,
         "type": "scatter3d",
         "x": [
          77.87035369873047
         ],
         "y": [
          103.83198547363281
         ],
         "z": [
          30.681119918823242
         ]
        },
        {
         "hovertemplate": "Ville=SaintBrieuc<br>0=%{x}<br>1=%{y}<br>2=%{z}<extra></extra>",
         "legendgroup": "SaintBrieuc",
         "marker": {
          "color": "#FECB52",
          "size": 8,
          "symbol": "circle"
         },
         "mode": "markers",
         "name": "SaintBrieuc",
         "scene": "scene",
         "showlegend": true,
         "type": "scatter3d",
         "x": [
          -175.26834106445312
         ],
         "y": [
          58.64241027832031
         ],
         "z": [
          22.684951782226562
         ]
        },
        {
         "hovertemplate": "Ville=SaintDenis<br>0=%{x}<br>1=%{y}<br>2=%{z}<extra></extra>",
         "legendgroup": "SaintDenis",
         "marker": {
          "color": "#636efa",
          "size": 8,
          "symbol": "circle"
         },
         "mode": "markers",
         "name": "SaintDenis",
         "scene": "scene",
         "showlegend": true,
         "type": "scatter3d",
         "x": [
          167.58741760253906
         ],
         "y": [
          50.342281341552734
         ],
         "z": [
          -14.445935249328613
         ]
        },
        {
         "hovertemplate": "Ville=SaintEtienne<br>0=%{x}<br>1=%{y}<br>2=%{z}<extra></extra>",
         "legendgroup": "SaintEtienne",
         "marker": {
          "color": "#EF553B",
          "size": 8,
          "symbol": "circle"
         },
         "mode": "markers",
         "name": "SaintEtienne",
         "scene": "scene",
         "showlegend": true,
         "type": "scatter3d",
         "x": [
          20.06336212158203
         ],
         "y": [
          -47.702816009521484
         ],
         "z": [
          -112.10917663574219
         ]
        },
        {
         "hovertemplate": "Ville=SaintGermainEnLaye<br>0=%{x}<br>1=%{y}<br>2=%{z}<extra></extra>",
         "legendgroup": "SaintGermainEnLaye",
         "marker": {
          "color": "#00cc96",
          "size": 8,
          "symbol": "circle"
         },
         "mode": "markers",
         "name": "SaintGermainEnLaye",
         "scene": "scene",
         "showlegend": true,
         "type": "scatter3d",
         "x": [
          78.7548599243164
         ],
         "y": [
          158.20318603515625
         ],
         "z": [
          47.792503356933594
         ]
        },
        {
         "hovertemplate": "Ville=SaintMalo<br>0=%{x}<br>1=%{y}<br>2=%{z}<extra></extra>",
         "legendgroup": "SaintMalo",
         "marker": {
          "color": "#ab63fa",
          "size": 8,
          "symbol": "circle"
         },
         "mode": "markers",
         "name": "SaintMalo",
         "scene": "scene",
         "showlegend": true,
         "type": "scatter3d",
         "x": [
          -73.38713073730469
         ],
         "y": [
          -74.65470123291016
         ],
         "z": [
          -126.2563705444336
         ]
        },
        {
         "hovertemplate": "Ville=SaintNazaire<br>0=%{x}<br>1=%{y}<br>2=%{z}<extra></extra>",
         "legendgroup": "SaintNazaire",
         "marker": {
          "color": "#FFA15A",
          "size": 8,
          "symbol": "circle"
         },
         "mode": "markers",
         "name": "SaintNazaire",
         "scene": "scene",
         "showlegend": true,
         "type": "scatter3d",
         "x": [
          2.2785308361053467
         ],
         "y": [
          114.84324645996094
         ],
         "z": [
          -22.486408233642578
         ]
        },
        {
         "hovertemplate": "Ville=SaintQuentin<br>0=%{x}<br>1=%{y}<br>2=%{z}<extra></extra>",
         "legendgroup": "SaintQuentin",
         "marker": {
          "color": "#19d3f3",
          "size": 8,
          "symbol": "circle"
         },
         "mode": "markers",
         "name": "SaintQuentin",
         "scene": "scene",
         "showlegend": true,
         "type": "scatter3d",
         "x": [
          102.4821548461914
         ],
         "y": [
          -60.96431350708008
         ],
         "z": [
          50.232234954833984
         ]
        },
        {
         "hovertemplate": "Ville=Sarcelles<br>0=%{x}<br>1=%{y}<br>2=%{z}<extra></extra>",
         "legendgroup": "Sarcelles",
         "marker": {
          "color": "#FF6692",
          "size": 8,
          "symbol": "circle"
         },
         "mode": "markers",
         "name": "Sarcelles",
         "scene": "scene",
         "showlegend": true,
         "type": "scatter3d",
         "x": [
          74.77302551269531
         ],
         "y": [
          -76.66864013671875
         ],
         "z": [
          -65.42384338378906
         ]
        },
        {
         "hovertemplate": "Ville=Sete<br>0=%{x}<br>1=%{y}<br>2=%{z}<extra></extra>",
         "legendgroup": "Sete",
         "marker": {
          "color": "#B6E880",
          "size": 8,
          "symbol": "circle"
         },
         "mode": "markers",
         "name": "Sete",
         "scene": "scene",
         "showlegend": true,
         "type": "scatter3d",
         "x": [
          161.4732208251953
         ],
         "y": [
          -41.05270767211914
         ],
         "z": [
          -129.63992309570312
         ]
        },
        {
         "hovertemplate": "Ville=Strasbourg<br>0=%{x}<br>1=%{y}<br>2=%{z}<extra></extra>",
         "legendgroup": "Strasbourg",
         "marker": {
          "color": "#FF97FF",
          "size": 8,
          "symbol": "circle"
         },
         "mode": "markers",
         "name": "Strasbourg",
         "scene": "scene",
         "showlegend": true,
         "type": "scatter3d",
         "x": [
          -69.64366149902344
         ],
         "y": [
          -11.03203010559082
         ],
         "z": [
          158.95822143554688
         ]
        },
        {
         "hovertemplate": "Ville=Tarbes<br>0=%{x}<br>1=%{y}<br>2=%{z}<extra></extra>",
         "legendgroup": "Tarbes",
         "marker": {
          "color": "#FECB52",
          "size": 8,
          "symbol": "circle"
         },
         "mode": "markers",
         "name": "Tarbes",
         "scene": "scene",
         "showlegend": true,
         "type": "scatter3d",
         "x": [
          163.27513122558594
         ],
         "y": [
          -75.95370483398438
         ],
         "z": [
          31.99658966064453
         ]
        },
        {
         "hovertemplate": "Ville=Toulon<br>0=%{x}<br>1=%{y}<br>2=%{z}<extra></extra>",
         "legendgroup": "Toulon",
         "marker": {
          "color": "#636efa",
          "size": 8,
          "symbol": "circle"
         },
         "mode": "markers",
         "name": "Toulon",
         "scene": "scene",
         "showlegend": true,
         "type": "scatter3d",
         "x": [
          153.70848083496094
         ],
         "y": [
          17.855764389038086
         ],
         "z": [
          -125.96851348876953
         ]
        },
        {
         "hovertemplate": "Ville=Toulouse<br>0=%{x}<br>1=%{y}<br>2=%{z}<extra></extra>",
         "legendgroup": "Toulouse",
         "marker": {
          "color": "#EF553B",
          "size": 8,
          "symbol": "circle"
         },
         "mode": "markers",
         "name": "Toulouse",
         "scene": "scene",
         "showlegend": true,
         "type": "scatter3d",
         "x": [
          -58.42219924926758
         ],
         "y": [
          122.99673461914062
         ],
         "z": [
          47.72394943237305
         ]
        },
        {
         "hovertemplate": "Ville=Tours<br>0=%{x}<br>1=%{y}<br>2=%{z}<extra></extra>",
         "legendgroup": "Tours",
         "marker": {
          "color": "#00cc96",
          "size": 8,
          "symbol": "circle"
         },
         "mode": "markers",
         "name": "Tours",
         "scene": "scene",
         "showlegend": true,
         "type": "scatter3d",
         "x": [
          82.14125061035156
         ],
         "y": [
          28.264720916748047
         ],
         "z": [
          -188.8907012939453
         ]
        },
        {
         "hovertemplate": "Ville=Troyes<br>0=%{x}<br>1=%{y}<br>2=%{z}<extra></extra>",
         "legendgroup": "Troyes",
         "marker": {
          "color": "#ab63fa",
          "size": 8,
          "symbol": "circle"
         },
         "mode": "markers",
         "name": "Troyes",
         "scene": "scene",
         "showlegend": true,
         "type": "scatter3d",
         "x": [
          84.15708923339844
         ],
         "y": [
          -117.95237731933594
         ],
         "z": [
          -121.51654052734375
         ]
        },
        {
         "hovertemplate": "Ville=Valence<br>0=%{x}<br>1=%{y}<br>2=%{z}<extra></extra>",
         "legendgroup": "Valence",
         "marker": {
          "color": "#FFA15A",
          "size": 8,
          "symbol": "circle"
         },
         "mode": "markers",
         "name": "Valence",
         "scene": "scene",
         "showlegend": true,
         "type": "scatter3d",
         "x": [
          20.392614364624023
         ],
         "y": [
          73.78084564208984
         ],
         "z": [
          -123.8855972290039
         ]
        },
        {
         "hovertemplate": "Ville=Valenciennes<br>0=%{x}<br>1=%{y}<br>2=%{z}<extra></extra>",
         "legendgroup": "Valenciennes",
         "marker": {
          "color": "#19d3f3",
          "size": 8,
          "symbol": "circle"
         },
         "mode": "markers",
         "name": "Valenciennes",
         "scene": "scene",
         "showlegend": true,
         "type": "scatter3d",
         "x": [
          32.32492446899414
         ],
         "y": [
          -28.86887550354004
         ],
         "z": [
          119.80176544189453
         ]
        },
        {
         "hovertemplate": "Ville=Vannes<br>0=%{x}<br>1=%{y}<br>2=%{z}<extra></extra>",
         "legendgroup": "Vannes",
         "marker": {
          "color": "#FF6692",
          "size": 8,
          "symbol": "circle"
         },
         "mode": "markers",
         "name": "Vannes",
         "scene": "scene",
         "showlegend": true,
         "type": "scatter3d",
         "x": [
          -113.11614990234375
         ],
         "y": [
          21.71483612060547
         ],
         "z": [
          15.663445472717285
         ]
        },
        {
         "hovertemplate": "Ville=Versailles<br>0=%{x}<br>1=%{y}<br>2=%{z}<extra></extra>",
         "legendgroup": "Versailles",
         "marker": {
          "color": "#B6E880",
          "size": 8,
          "symbol": "circle"
         },
         "mode": "markers",
         "name": "Versailles",
         "scene": "scene",
         "showlegend": true,
         "type": "scatter3d",
         "x": [
          -7.4573516845703125
         ],
         "y": [
          -112.92224884033203
         ],
         "z": [
          146.04969787597656
         ]
        },
        {
         "hovertemplate": "Ville=Vichy<br>0=%{x}<br>1=%{y}<br>2=%{z}<extra></extra>",
         "legendgroup": "Vichy",
         "marker": {
          "color": "#FF97FF",
          "size": 8,
          "symbol": "circle"
         },
         "mode": "markers",
         "name": "Vichy",
         "scene": "scene",
         "showlegend": true,
         "type": "scatter3d",
         "x": [
          -186.1867218017578
         ],
         "y": [
          -17.245676040649414
         ],
         "z": [
          -24.344892501831055
         ]
        },
        {
         "hovertemplate": "Ville=Villeurbanne<br>0=%{x}<br>1=%{y}<br>2=%{z}<extra></extra>",
         "legendgroup": "Villeurbanne",
         "marker": {
          "color": "#FECB52",
          "size": 8,
          "symbol": "circle"
         },
         "mode": "markers",
         "name": "Villeurbanne",
         "scene": "scene",
         "showlegend": true,
         "type": "scatter3d",
         "x": [
          -36.56926345825195
         ],
         "y": [
          52.84074020385742
         ],
         "z": [
          -16.646162033081055
         ]
        }
       ],
       "layout": {
        "legend": {
         "title": {
          "text": "Ville"
         },
         "tracegroupgap": 0
        },
        "margin": {
         "t": 60
        },
        "scene": {
         "domain": {
          "x": [
           0,
           1
          ],
          "y": [
           0,
           1
          ]
         },
         "xaxis": {
          "title": {
           "text": "0"
          }
         },
         "yaxis": {
          "title": {
           "text": "1"
          }
         },
         "zaxis": {
          "title": {
           "text": "2"
          }
         }
        },
        "template": {
         "data": {
          "bar": [
           {
            "error_x": {
             "color": "#2a3f5f"
            },
            "error_y": {
             "color": "#2a3f5f"
            },
            "marker": {
             "line": {
              "color": "#E5ECF6",
              "width": 0.5
             },
             "pattern": {
              "fillmode": "overlay",
              "size": 10,
              "solidity": 0.2
             }
            },
            "type": "bar"
           }
          ],
          "barpolar": [
           {
            "marker": {
             "line": {
              "color": "#E5ECF6",
              "width": 0.5
             },
             "pattern": {
              "fillmode": "overlay",
              "size": 10,
              "solidity": 0.2
             }
            },
            "type": "barpolar"
           }
          ],
          "carpet": [
           {
            "aaxis": {
             "endlinecolor": "#2a3f5f",
             "gridcolor": "white",
             "linecolor": "white",
             "minorgridcolor": "white",
             "startlinecolor": "#2a3f5f"
            },
            "baxis": {
             "endlinecolor": "#2a3f5f",
             "gridcolor": "white",
             "linecolor": "white",
             "minorgridcolor": "white",
             "startlinecolor": "#2a3f5f"
            },
            "type": "carpet"
           }
          ],
          "choropleth": [
           {
            "colorbar": {
             "outlinewidth": 0,
             "ticks": ""
            },
            "type": "choropleth"
           }
          ],
          "contour": [
           {
            "colorbar": {
             "outlinewidth": 0,
             "ticks": ""
            },
            "colorscale": [
             [
              0,
              "#0d0887"
             ],
             [
              0.1111111111111111,
              "#46039f"
             ],
             [
              0.2222222222222222,
              "#7201a8"
             ],
             [
              0.3333333333333333,
              "#9c179e"
             ],
             [
              0.4444444444444444,
              "#bd3786"
             ],
             [
              0.5555555555555556,
              "#d8576b"
             ],
             [
              0.6666666666666666,
              "#ed7953"
             ],
             [
              0.7777777777777778,
              "#fb9f3a"
             ],
             [
              0.8888888888888888,
              "#fdca26"
             ],
             [
              1,
              "#f0f921"
             ]
            ],
            "type": "contour"
           }
          ],
          "contourcarpet": [
           {
            "colorbar": {
             "outlinewidth": 0,
             "ticks": ""
            },
            "type": "contourcarpet"
           }
          ],
          "heatmap": [
           {
            "colorbar": {
             "outlinewidth": 0,
             "ticks": ""
            },
            "colorscale": [
             [
              0,
              "#0d0887"
             ],
             [
              0.1111111111111111,
              "#46039f"
             ],
             [
              0.2222222222222222,
              "#7201a8"
             ],
             [
              0.3333333333333333,
              "#9c179e"
             ],
             [
              0.4444444444444444,
              "#bd3786"
             ],
             [
              0.5555555555555556,
              "#d8576b"
             ],
             [
              0.6666666666666666,
              "#ed7953"
             ],
             [
              0.7777777777777778,
              "#fb9f3a"
             ],
             [
              0.8888888888888888,
              "#fdca26"
             ],
             [
              1,
              "#f0f921"
             ]
            ],
            "type": "heatmap"
           }
          ],
          "heatmapgl": [
           {
            "colorbar": {
             "outlinewidth": 0,
             "ticks": ""
            },
            "colorscale": [
             [
              0,
              "#0d0887"
             ],
             [
              0.1111111111111111,
              "#46039f"
             ],
             [
              0.2222222222222222,
              "#7201a8"
             ],
             [
              0.3333333333333333,
              "#9c179e"
             ],
             [
              0.4444444444444444,
              "#bd3786"
             ],
             [
              0.5555555555555556,
              "#d8576b"
             ],
             [
              0.6666666666666666,
              "#ed7953"
             ],
             [
              0.7777777777777778,
              "#fb9f3a"
             ],
             [
              0.8888888888888888,
              "#fdca26"
             ],
             [
              1,
              "#f0f921"
             ]
            ],
            "type": "heatmapgl"
           }
          ],
          "histogram": [
           {
            "marker": {
             "pattern": {
              "fillmode": "overlay",
              "size": 10,
              "solidity": 0.2
             }
            },
            "type": "histogram"
           }
          ],
          "histogram2d": [
           {
            "colorbar": {
             "outlinewidth": 0,
             "ticks": ""
            },
            "colorscale": [
             [
              0,
              "#0d0887"
             ],
             [
              0.1111111111111111,
              "#46039f"
             ],
             [
              0.2222222222222222,
              "#7201a8"
             ],
             [
              0.3333333333333333,
              "#9c179e"
             ],
             [
              0.4444444444444444,
              "#bd3786"
             ],
             [
              0.5555555555555556,
              "#d8576b"
             ],
             [
              0.6666666666666666,
              "#ed7953"
             ],
             [
              0.7777777777777778,
              "#fb9f3a"
             ],
             [
              0.8888888888888888,
              "#fdca26"
             ],
             [
              1,
              "#f0f921"
             ]
            ],
            "type": "histogram2d"
           }
          ],
          "histogram2dcontour": [
           {
            "colorbar": {
             "outlinewidth": 0,
             "ticks": ""
            },
            "colorscale": [
             [
              0,
              "#0d0887"
             ],
             [
              0.1111111111111111,
              "#46039f"
             ],
             [
              0.2222222222222222,
              "#7201a8"
             ],
             [
              0.3333333333333333,
              "#9c179e"
             ],
             [
              0.4444444444444444,
              "#bd3786"
             ],
             [
              0.5555555555555556,
              "#d8576b"
             ],
             [
              0.6666666666666666,
              "#ed7953"
             ],
             [
              0.7777777777777778,
              "#fb9f3a"
             ],
             [
              0.8888888888888888,
              "#fdca26"
             ],
             [
              1,
              "#f0f921"
             ]
            ],
            "type": "histogram2dcontour"
           }
          ],
          "mesh3d": [
           {
            "colorbar": {
             "outlinewidth": 0,
             "ticks": ""
            },
            "type": "mesh3d"
           }
          ],
          "parcoords": [
           {
            "line": {
             "colorbar": {
              "outlinewidth": 0,
              "ticks": ""
             }
            },
            "type": "parcoords"
           }
          ],
          "pie": [
           {
            "automargin": true,
            "type": "pie"
           }
          ],
          "scatter": [
           {
            "marker": {
             "colorbar": {
              "outlinewidth": 0,
              "ticks": ""
             }
            },
            "type": "scatter"
           }
          ],
          "scatter3d": [
           {
            "line": {
             "colorbar": {
              "outlinewidth": 0,
              "ticks": ""
             }
            },
            "marker": {
             "colorbar": {
              "outlinewidth": 0,
              "ticks": ""
             }
            },
            "type": "scatter3d"
           }
          ],
          "scattercarpet": [
           {
            "marker": {
             "colorbar": {
              "outlinewidth": 0,
              "ticks": ""
             }
            },
            "type": "scattercarpet"
           }
          ],
          "scattergeo": [
           {
            "marker": {
             "colorbar": {
              "outlinewidth": 0,
              "ticks": ""
             }
            },
            "type": "scattergeo"
           }
          ],
          "scattergl": [
           {
            "marker": {
             "colorbar": {
              "outlinewidth": 0,
              "ticks": ""
             }
            },
            "type": "scattergl"
           }
          ],
          "scattermapbox": [
           {
            "marker": {
             "colorbar": {
              "outlinewidth": 0,
              "ticks": ""
             }
            },
            "type": "scattermapbox"
           }
          ],
          "scatterpolar": [
           {
            "marker": {
             "colorbar": {
              "outlinewidth": 0,
              "ticks": ""
             }
            },
            "type": "scatterpolar"
           }
          ],
          "scatterpolargl": [
           {
            "marker": {
             "colorbar": {
              "outlinewidth": 0,
              "ticks": ""
             }
            },
            "type": "scatterpolargl"
           }
          ],
          "scatterternary": [
           {
            "marker": {
             "colorbar": {
              "outlinewidth": 0,
              "ticks": ""
             }
            },
            "type": "scatterternary"
           }
          ],
          "surface": [
           {
            "colorbar": {
             "outlinewidth": 0,
             "ticks": ""
            },
            "colorscale": [
             [
              0,
              "#0d0887"
             ],
             [
              0.1111111111111111,
              "#46039f"
             ],
             [
              0.2222222222222222,
              "#7201a8"
             ],
             [
              0.3333333333333333,
              "#9c179e"
             ],
             [
              0.4444444444444444,
              "#bd3786"
             ],
             [
              0.5555555555555556,
              "#d8576b"
             ],
             [
              0.6666666666666666,
              "#ed7953"
             ],
             [
              0.7777777777777778,
              "#fb9f3a"
             ],
             [
              0.8888888888888888,
              "#fdca26"
             ],
             [
              1,
              "#f0f921"
             ]
            ],
            "type": "surface"
           }
          ],
          "table": [
           {
            "cells": {
             "fill": {
              "color": "#EBF0F8"
             },
             "line": {
              "color": "white"
             }
            },
            "header": {
             "fill": {
              "color": "#C8D4E3"
             },
             "line": {
              "color": "white"
             }
            },
            "type": "table"
           }
          ]
         },
         "layout": {
          "annotationdefaults": {
           "arrowcolor": "#2a3f5f",
           "arrowhead": 0,
           "arrowwidth": 1
          },
          "autotypenumbers": "strict",
          "coloraxis": {
           "colorbar": {
            "outlinewidth": 0,
            "ticks": ""
           }
          },
          "colorscale": {
           "diverging": [
            [
             0,
             "#8e0152"
            ],
            [
             0.1,
             "#c51b7d"
            ],
            [
             0.2,
             "#de77ae"
            ],
            [
             0.3,
             "#f1b6da"
            ],
            [
             0.4,
             "#fde0ef"
            ],
            [
             0.5,
             "#f7f7f7"
            ],
            [
             0.6,
             "#e6f5d0"
            ],
            [
             0.7,
             "#b8e186"
            ],
            [
             0.8,
             "#7fbc41"
            ],
            [
             0.9,
             "#4d9221"
            ],
            [
             1,
             "#276419"
            ]
           ],
           "sequential": [
            [
             0,
             "#0d0887"
            ],
            [
             0.1111111111111111,
             "#46039f"
            ],
            [
             0.2222222222222222,
             "#7201a8"
            ],
            [
             0.3333333333333333,
             "#9c179e"
            ],
            [
             0.4444444444444444,
             "#bd3786"
            ],
            [
             0.5555555555555556,
             "#d8576b"
            ],
            [
             0.6666666666666666,
             "#ed7953"
            ],
            [
             0.7777777777777778,
             "#fb9f3a"
            ],
            [
             0.8888888888888888,
             "#fdca26"
            ],
            [
             1,
             "#f0f921"
            ]
           ],
           "sequentialminus": [
            [
             0,
             "#0d0887"
            ],
            [
             0.1111111111111111,
             "#46039f"
            ],
            [
             0.2222222222222222,
             "#7201a8"
            ],
            [
             0.3333333333333333,
             "#9c179e"
            ],
            [
             0.4444444444444444,
             "#bd3786"
            ],
            [
             0.5555555555555556,
             "#d8576b"
            ],
            [
             0.6666666666666666,
             "#ed7953"
            ],
            [
             0.7777777777777778,
             "#fb9f3a"
            ],
            [
             0.8888888888888888,
             "#fdca26"
            ],
            [
             1,
             "#f0f921"
            ]
           ]
          },
          "colorway": [
           "#636efa",
           "#EF553B",
           "#00cc96",
           "#ab63fa",
           "#FFA15A",
           "#19d3f3",
           "#FF6692",
           "#B6E880",
           "#FF97FF",
           "#FECB52"
          ],
          "font": {
           "color": "#2a3f5f"
          },
          "geo": {
           "bgcolor": "white",
           "lakecolor": "white",
           "landcolor": "#E5ECF6",
           "showlakes": true,
           "showland": true,
           "subunitcolor": "white"
          },
          "hoverlabel": {
           "align": "left"
          },
          "hovermode": "closest",
          "mapbox": {
           "style": "light"
          },
          "paper_bgcolor": "white",
          "plot_bgcolor": "#E5ECF6",
          "polar": {
           "angularaxis": {
            "gridcolor": "white",
            "linecolor": "white",
            "ticks": ""
           },
           "bgcolor": "#E5ECF6",
           "radialaxis": {
            "gridcolor": "white",
            "linecolor": "white",
            "ticks": ""
           }
          },
          "scene": {
           "xaxis": {
            "backgroundcolor": "#E5ECF6",
            "gridcolor": "white",
            "gridwidth": 2,
            "linecolor": "white",
            "showbackground": true,
            "ticks": "",
            "zerolinecolor": "white"
           },
           "yaxis": {
            "backgroundcolor": "#E5ECF6",
            "gridcolor": "white",
            "gridwidth": 2,
            "linecolor": "white",
            "showbackground": true,
            "ticks": "",
            "zerolinecolor": "white"
           },
           "zaxis": {
            "backgroundcolor": "#E5ECF6",
            "gridcolor": "white",
            "gridwidth": 2,
            "linecolor": "white",
            "showbackground": true,
            "ticks": "",
            "zerolinecolor": "white"
           }
          },
          "shapedefaults": {
           "line": {
            "color": "#2a3f5f"
           }
          },
          "ternary": {
           "aaxis": {
            "gridcolor": "white",
            "linecolor": "white",
            "ticks": ""
           },
           "baxis": {
            "gridcolor": "white",
            "linecolor": "white",
            "ticks": ""
           },
           "bgcolor": "#E5ECF6",
           "caxis": {
            "gridcolor": "white",
            "linecolor": "white",
            "ticks": ""
           }
          },
          "title": {
           "x": 0.05
          },
          "xaxis": {
           "automargin": true,
           "gridcolor": "white",
           "linecolor": "white",
           "ticks": "",
           "title": {
            "standoff": 15
           },
           "zerolinecolor": "white",
           "zerolinewidth": 2
          },
          "yaxis": {
           "automargin": true,
           "gridcolor": "white",
           "linecolor": "white",
           "ticks": "",
           "title": {
            "standoff": 15
           },
           "zerolinecolor": "white",
           "zerolinewidth": 2
          }
         }
        }
       }
      }
     },
     "metadata": {},
     "output_type": "display_data"
    }
   ],
   "source": [
    "\n",
    "features = df.loc[:,'Chomage':'AttiranceActifs']\n",
    "\n",
    "tsne = TSNE(n_components=3, random_state=0)\n",
    "projections = tsne.fit_transform(features, )\n",
    "\n",
    "fig = px.scatter_3d(\n",
    "    projections, x=0, y=1, z=2,\n",
    "    color=df.Ville, labels={'color': 'Ville'}\n",
    ")\n",
    "fig.update_traces(marker_size=8)\n",
    "fig.show()"
   ]
  },
  {
   "cell_type": "markdown",
   "metadata": {},
   "source": [
    "Même en 3D, les classes ne sont pas très regroupées."
   ]
  },
  {
   "cell_type": "markdown",
   "metadata": {},
   "source": [
    "Projections avec UMAP\n",
    "Tout comme t-SNE, UMAP est une réduction de dimensionnalité spécialement conçue pour visualiser des données complexes dans de faibles dimensions (2D ou 3D). À mesure que le nombre de points de données augmente, UMAP devient plus efficace en termes de temps par rapport à TSNE.\n",
    "Dans l’exemple ci-dessous, nous voyons à quel point il est facile d’utiliser UMAP en remplacement de scikit-learn.manifold.TSNE"
   ]
  },
  {
   "cell_type": "code",
   "execution_count": 7,
   "metadata": {},
   "outputs": [
    {
     "data": {
      "application/vnd.plotly.v1+json": {
       "config": {
        "plotlyServerURL": "https://plot.ly"
       },
       "data": [
        {
         "hovertemplate": "Ville=Agen<br>0=%{x}<br>1=%{y}<extra></extra>",
         "legendgroup": "Agen",
         "marker": {
          "color": "#636efa",
          "symbol": "circle"
         },
         "mode": "markers",
         "name": "Agen",
         "orientation": "v",
         "showlegend": true,
         "type": "scatter",
         "x": [
          4.151942729949951
         ],
         "xaxis": "x",
         "y": [
          12.686054229736328
         ],
         "yaxis": "y"
        },
        {
         "hovertemplate": "Ville=AixEnProvence<br>0=%{x}<br>1=%{y}<extra></extra>",
         "legendgroup": "AixEnProvence",
         "marker": {
          "color": "#EF553B",
          "symbol": "circle"
         },
         "mode": "markers",
         "name": "AixEnProvence",
         "orientation": "v",
         "showlegend": true,
         "type": "scatter",
         "x": [
          7.034730911254883
         ],
         "xaxis": "x",
         "y": [
          5.716431617736816
         ],
         "yaxis": "y"
        },
        {
         "hovertemplate": "Ville=Ajaccio<br>0=%{x}<br>1=%{y}<extra></extra>",
         "legendgroup": "Ajaccio",
         "marker": {
          "color": "#00cc96",
          "symbol": "circle"
         },
         "mode": "markers",
         "name": "Ajaccio",
         "orientation": "v",
         "showlegend": true,
         "type": "scatter",
         "x": [
          4.817180633544922
         ],
         "xaxis": "x",
         "y": [
          10.709466934204102
         ],
         "yaxis": "y"
        },
        {
         "hovertemplate": "Ville=Albi<br>0=%{x}<br>1=%{y}<extra></extra>",
         "legendgroup": "Albi",
         "marker": {
          "color": "#ab63fa",
          "symbol": "circle"
         },
         "mode": "markers",
         "name": "Albi",
         "orientation": "v",
         "showlegend": true,
         "type": "scatter",
         "x": [
          6.721049785614014
         ],
         "xaxis": "x",
         "y": [
          12.391036033630371
         ],
         "yaxis": "y"
        },
        {
         "hovertemplate": "Ville=Amiens<br>0=%{x}<br>1=%{y}<extra></extra>",
         "legendgroup": "Amiens",
         "marker": {
          "color": "#FFA15A",
          "symbol": "circle"
         },
         "mode": "markers",
         "name": "Amiens",
         "orientation": "v",
         "showlegend": true,
         "type": "scatter",
         "x": [
          6.416378974914551
         ],
         "xaxis": "x",
         "y": [
          11.2771577835083
         ],
         "yaxis": "y"
        },
        {
         "hovertemplate": "Ville=Angers<br>0=%{x}<br>1=%{y}<extra></extra>",
         "legendgroup": "Angers",
         "marker": {
          "color": "#19d3f3",
          "symbol": "circle"
         },
         "mode": "markers",
         "name": "Angers",
         "orientation": "v",
         "showlegend": true,
         "type": "scatter",
         "x": [
          6.67006254196167
         ],
         "xaxis": "x",
         "y": [
          11.451770782470703
         ],
         "yaxis": "y"
        },
        {
         "hovertemplate": "Ville=Angouleme<br>0=%{x}<br>1=%{y}<extra></extra>",
         "legendgroup": "Angouleme",
         "marker": {
          "color": "#FF6692",
          "symbol": "circle"
         },
         "mode": "markers",
         "name": "Angouleme",
         "orientation": "v",
         "showlegend": true,
         "type": "scatter",
         "x": [
          6.312320232391357
         ],
         "xaxis": "x",
         "y": [
          12.90189266204834
         ],
         "yaxis": "y"
        },
        {
         "hovertemplate": "Ville=Annecy<br>0=%{x}<br>1=%{y}<extra></extra>",
         "legendgroup": "Annecy",
         "marker": {
          "color": "#B6E880",
          "symbol": "circle"
         },
         "mode": "markers",
         "name": "Annecy",
         "orientation": "v",
         "showlegend": true,
         "type": "scatter",
         "x": [
          6.770238399505615
         ],
         "xaxis": "x",
         "y": [
          8.476110458374023
         ],
         "yaxis": "y"
        },
        {
         "hovertemplate": "Ville=Antibes<br>0=%{x}<br>1=%{y}<extra></extra>",
         "legendgroup": "Antibes",
         "marker": {
          "color": "#FF97FF",
          "symbol": "circle"
         },
         "mode": "markers",
         "name": "Antibes",
         "orientation": "v",
         "showlegend": true,
         "type": "scatter",
         "x": [
          6.748064041137695
         ],
         "xaxis": "x",
         "y": [
          6.226325035095215
         ],
         "yaxis": "y"
        },
        {
         "hovertemplate": "Ville=Arles<br>0=%{x}<br>1=%{y}<extra></extra>",
         "legendgroup": "Arles",
         "marker": {
          "color": "#FECB52",
          "symbol": "circle"
         },
         "mode": "markers",
         "name": "Arles",
         "orientation": "v",
         "showlegend": true,
         "type": "scatter",
         "x": [
          4.4099507331848145
         ],
         "xaxis": "x",
         "y": [
          10.685402870178223
         ],
         "yaxis": "y"
        },
        {
         "hovertemplate": "Ville=Auxerre<br>0=%{x}<br>1=%{y}<extra></extra>",
         "legendgroup": "Auxerre",
         "marker": {
          "color": "#636efa",
          "symbol": "circle"
         },
         "mode": "markers",
         "name": "Auxerre",
         "orientation": "v",
         "showlegend": true,
         "type": "scatter",
         "x": [
          5.841017246246338
         ],
         "xaxis": "x",
         "y": [
          12.35609245300293
         ],
         "yaxis": "y"
        },
        {
         "hovertemplate": "Ville=Avignon<br>0=%{x}<br>1=%{y}<extra></extra>",
         "legendgroup": "Avignon",
         "marker": {
          "color": "#EF553B",
          "symbol": "circle"
         },
         "mode": "markers",
         "name": "Avignon",
         "orientation": "v",
         "showlegend": true,
         "type": "scatter",
         "x": [
          4.21256160736084
         ],
         "xaxis": "x",
         "y": [
          10.807391166687012
         ],
         "yaxis": "y"
        },
        {
         "hovertemplate": "Ville=Bastia<br>0=%{x}<br>1=%{y}<extra></extra>",
         "legendgroup": "Bastia",
         "marker": {
          "color": "#00cc96",
          "symbol": "circle"
         },
         "mode": "markers",
         "name": "Bastia",
         "orientation": "v",
         "showlegend": true,
         "type": "scatter",
         "x": [
          3.714350700378418
         ],
         "xaxis": "x",
         "y": [
          10.902416229248047
         ],
         "yaxis": "y"
        },
        {
         "hovertemplate": "Ville=Bayonne<br>0=%{x}<br>1=%{y}<extra></extra>",
         "legendgroup": "Bayonne",
         "marker": {
          "color": "#ab63fa",
          "symbol": "circle"
         },
         "mode": "markers",
         "name": "Bayonne",
         "orientation": "v",
         "showlegend": true,
         "type": "scatter",
         "x": [
          3.598414659500122
         ],
         "xaxis": "x",
         "y": [
          12.522438049316406
         ],
         "yaxis": "y"
        },
        {
         "hovertemplate": "Ville=Beauvais<br>0=%{x}<br>1=%{y}<extra></extra>",
         "legendgroup": "Beauvais",
         "marker": {
          "color": "#FFA15A",
          "symbol": "circle"
         },
         "mode": "markers",
         "name": "Beauvais",
         "orientation": "v",
         "showlegend": true,
         "type": "scatter",
         "x": [
          5.5339460372924805
         ],
         "xaxis": "x",
         "y": [
          12.468955039978027
         ],
         "yaxis": "y"
        },
        {
         "hovertemplate": "Ville=Belfort<br>0=%{x}<br>1=%{y}<extra></extra>",
         "legendgroup": "Belfort",
         "marker": {
          "color": "#19d3f3",
          "symbol": "circle"
         },
         "mode": "markers",
         "name": "Belfort",
         "orientation": "v",
         "showlegend": true,
         "type": "scatter",
         "x": [
          7.101342678070068
         ],
         "xaxis": "x",
         "y": [
          10.129392623901367
         ],
         "yaxis": "y"
        },
        {
         "hovertemplate": "Ville=Besancon<br>0=%{x}<br>1=%{y}<extra></extra>",
         "legendgroup": "Besancon",
         "marker": {
          "color": "#FF6692",
          "symbol": "circle"
         },
         "mode": "markers",
         "name": "Besancon",
         "orientation": "v",
         "showlegend": true,
         "type": "scatter",
         "x": [
          7.1968770027160645
         ],
         "xaxis": "x",
         "y": [
          11.523757934570312
         ],
         "yaxis": "y"
        },
        {
         "hovertemplate": "Ville=Beziers<br>0=%{x}<br>1=%{y}<extra></extra>",
         "legendgroup": "Beziers",
         "marker": {
          "color": "#B6E880",
          "symbol": "circle"
         },
         "mode": "markers",
         "name": "Beziers",
         "orientation": "v",
         "showlegend": true,
         "type": "scatter",
         "x": [
          3.256991386413574
         ],
         "xaxis": "x",
         "y": [
          11.360749244689941
         ],
         "yaxis": "y"
        },
        {
         "hovertemplate": "Ville=Blois<br>0=%{x}<br>1=%{y}<extra></extra>",
         "legendgroup": "Blois",
         "marker": {
          "color": "#FF97FF",
          "symbol": "circle"
         },
         "mode": "markers",
         "name": "Blois",
         "orientation": "v",
         "showlegend": true,
         "type": "scatter",
         "x": [
          5.884864330291748
         ],
         "xaxis": "x",
         "y": [
          12.673279762268066
         ],
         "yaxis": "y"
        },
        {
         "hovertemplate": "Ville=Bordeaux<br>0=%{x}<br>1=%{y}<extra></extra>",
         "legendgroup": "Bordeaux",
         "marker": {
          "color": "#FECB52",
          "symbol": "circle"
         },
         "mode": "markers",
         "name": "Bordeaux",
         "orientation": "v",
         "showlegend": true,
         "type": "scatter",
         "x": [
          6.91084098815918
         ],
         "xaxis": "x",
         "y": [
          6.2463202476501465
         ],
         "yaxis": "y"
        },
        {
         "hovertemplate": "Ville=BoulogneBillancourt<br>0=%{x}<br>1=%{y}<extra></extra>",
         "legendgroup": "BoulogneBillancourt",
         "marker": {
          "color": "#636efa",
          "symbol": "circle"
         },
         "mode": "markers",
         "name": "BoulogneBillancourt",
         "orientation": "v",
         "showlegend": true,
         "type": "scatter",
         "x": [
          7.452458381652832
         ],
         "xaxis": "x",
         "y": [
          5.178126811981201
         ],
         "yaxis": "y"
        },
        {
         "hovertemplate": "Ville=BourgEnBresse<br>0=%{x}<br>1=%{y}<extra></extra>",
         "legendgroup": "BourgEnBresse",
         "marker": {
          "color": "#EF553B",
          "symbol": "circle"
         },
         "mode": "markers",
         "name": "BourgEnBresse",
         "orientation": "v",
         "showlegend": true,
         "type": "scatter",
         "x": [
          5.237618446350098
         ],
         "xaxis": "x",
         "y": [
          12.718281745910645
         ],
         "yaxis": "y"
        },
        {
         "hovertemplate": "Ville=Bourges<br>0=%{x}<br>1=%{y}<extra></extra>",
         "legendgroup": "Bourges",
         "marker": {
          "color": "#00cc96",
          "symbol": "circle"
         },
         "mode": "markers",
         "name": "Bourges",
         "orientation": "v",
         "showlegend": true,
         "type": "scatter",
         "x": [
          6.990915298461914
         ],
         "xaxis": "x",
         "y": [
          10.992938041687012
         ],
         "yaxis": "y"
        },
        {
         "hovertemplate": "Ville=Brest<br>0=%{x}<br>1=%{y}<extra></extra>",
         "legendgroup": "Brest",
         "marker": {
          "color": "#ab63fa",
          "symbol": "circle"
         },
         "mode": "markers",
         "name": "Brest",
         "orientation": "v",
         "showlegend": true,
         "type": "scatter",
         "x": [
          4.684152126312256
         ],
         "xaxis": "x",
         "y": [
          13.298053741455078
         ],
         "yaxis": "y"
        },
        {
         "hovertemplate": "Ville=BriveLaGaillarde<br>0=%{x}<br>1=%{y}<extra></extra>",
         "legendgroup": "BriveLaGaillarde",
         "marker": {
          "color": "#FFA15A",
          "symbol": "circle"
         },
         "mode": "markers",
         "name": "BriveLaGaillarde",
         "orientation": "v",
         "showlegend": true,
         "type": "scatter",
         "x": [
          4.55164098739624
         ],
         "xaxis": "x",
         "y": [
          12.708501815795898
         ],
         "yaxis": "y"
        },
        {
         "hovertemplate": "Ville=Caen<br>0=%{x}<br>1=%{y}<extra></extra>",
         "legendgroup": "Caen",
         "marker": {
          "color": "#19d3f3",
          "symbol": "circle"
         },
         "mode": "markers",
         "name": "Caen",
         "orientation": "v",
         "showlegend": true,
         "type": "scatter",
         "x": [
          6.315261363983154
         ],
         "xaxis": "x",
         "y": [
          8.567395210266113
         ],
         "yaxis": "y"
        },
        {
         "hovertemplate": "Ville=Calais<br>0=%{x}<br>1=%{y}<extra></extra>",
         "legendgroup": "Calais",
         "marker": {
          "color": "#FF6692",
          "symbol": "circle"
         },
         "mode": "markers",
         "name": "Calais",
         "orientation": "v",
         "showlegend": true,
         "type": "scatter",
         "x": [
          3.815730094909668
         ],
         "xaxis": "x",
         "y": [
          13.208561897277832
         ],
         "yaxis": "y"
        },
        {
         "hovertemplate": "Ville=Cannes<br>0=%{x}<br>1=%{y}<extra></extra>",
         "legendgroup": "Cannes",
         "marker": {
          "color": "#B6E880",
          "symbol": "circle"
         },
         "mode": "markers",
         "name": "Cannes",
         "orientation": "v",
         "showlegend": true,
         "type": "scatter",
         "x": [
          5.39655065536499
         ],
         "xaxis": "x",
         "y": [
          10.90600299835205
         ],
         "yaxis": "y"
        },
        {
         "hovertemplate": "Ville=Carcassonne<br>0=%{x}<br>1=%{y}<extra></extra>",
         "legendgroup": "Carcassonne",
         "marker": {
          "color": "#FF97FF",
          "symbol": "circle"
         },
         "mode": "markers",
         "name": "Carcassonne",
         "orientation": "v",
         "showlegend": true,
         "type": "scatter",
         "x": [
          3.36043643951416
         ],
         "xaxis": "x",
         "y": [
          11.578717231750488
         ],
         "yaxis": "y"
        },
        {
         "hovertemplate": "Ville=Castres<br>0=%{x}<br>1=%{y}<extra></extra>",
         "legendgroup": "Castres",
         "marker": {
          "color": "#FECB52",
          "symbol": "circle"
         },
         "mode": "markers",
         "name": "Castres",
         "orientation": "v",
         "showlegend": true,
         "type": "scatter",
         "x": [
          6.8889007568359375
         ],
         "xaxis": "x",
         "y": [
          12.118815422058105
         ],
         "yaxis": "y"
        },
        {
         "hovertemplate": "Ville=ChalonSurSaone<br>0=%{x}<br>1=%{y}<extra></extra>",
         "legendgroup": "ChalonSurSaone",
         "marker": {
          "color": "#636efa",
          "symbol": "circle"
         },
         "mode": "markers",
         "name": "ChalonSurSaone",
         "orientation": "v",
         "showlegend": true,
         "type": "scatter",
         "x": [
          5.545287132263184
         ],
         "xaxis": "x",
         "y": [
          13.064648628234863
         ],
         "yaxis": "y"
        },
        {
         "hovertemplate": "Ville=Chambery<br>0=%{x}<br>1=%{y}<extra></extra>",
         "legendgroup": "Chambery",
         "marker": {
          "color": "#EF553B",
          "symbol": "circle"
         },
         "mode": "markers",
         "name": "Chambery",
         "orientation": "v",
         "showlegend": true,
         "type": "scatter",
         "x": [
          6.805758953094482
         ],
         "xaxis": "x",
         "y": [
          11.17541217803955
         ],
         "yaxis": "y"
        },
        {
         "hovertemplate": "Ville=CharlevilleMezieres<br>0=%{x}<br>1=%{y}<extra></extra>",
         "legendgroup": "CharlevilleMezieres",
         "marker": {
          "color": "#00cc96",
          "symbol": "circle"
         },
         "mode": "markers",
         "name": "CharlevilleMezieres",
         "orientation": "v",
         "showlegend": true,
         "type": "scatter",
         "x": [
          6.104434490203857
         ],
         "xaxis": "x",
         "y": [
          11.844057083129883
         ],
         "yaxis": "y"
        },
        {
         "hovertemplate": "Ville=Chartres<br>0=%{x}<br>1=%{y}<extra></extra>",
         "legendgroup": "Chartres",
         "marker": {
          "color": "#ab63fa",
          "symbol": "circle"
         },
         "mode": "markers",
         "name": "Chartres",
         "orientation": "v",
         "showlegend": true,
         "type": "scatter",
         "x": [
          6.480553150177002
         ],
         "xaxis": "x",
         "y": [
          8.649386405944824
         ],
         "yaxis": "y"
        },
        {
         "hovertemplate": "Ville=Cholet<br>0=%{x}<br>1=%{y}<extra></extra>",
         "legendgroup": "Cholet",
         "marker": {
          "color": "#FFA15A",
          "symbol": "circle"
         },
         "mode": "markers",
         "name": "Cholet",
         "orientation": "v",
         "showlegend": true,
         "type": "scatter",
         "x": [
          6.4330315589904785
         ],
         "xaxis": "x",
         "y": [
          12.686650276184082
         ],
         "yaxis": "y"
        },
        {
         "hovertemplate": "Ville=ClermontFerrand<br>0=%{x}<br>1=%{y}<extra></extra>",
         "legendgroup": "ClermontFerrand",
         "marker": {
          "color": "#19d3f3",
          "symbol": "circle"
         },
         "mode": "markers",
         "name": "ClermontFerrand",
         "orientation": "v",
         "showlegend": true,
         "type": "scatter",
         "x": [
          6.800910472869873
         ],
         "xaxis": "x",
         "y": [
          11.674088478088379
         ],
         "yaxis": "y"
        },
        {
         "hovertemplate": "Ville=Colmar<br>0=%{x}<br>1=%{y}<extra></extra>",
         "legendgroup": "Colmar",
         "marker": {
          "color": "#FF6692",
          "symbol": "circle"
         },
         "mode": "markers",
         "name": "Colmar",
         "orientation": "v",
         "showlegend": true,
         "type": "scatter",
         "x": [
          6.896846294403076
         ],
         "xaxis": "x",
         "y": [
          9.181992530822754
         ],
         "yaxis": "y"
        },
        {
         "hovertemplate": "Ville=Compiegne<br>0=%{x}<br>1=%{y}<extra></extra>",
         "legendgroup": "Compiegne",
         "marker": {
          "color": "#B6E880",
          "symbol": "circle"
         },
         "mode": "markers",
         "name": "Compiegne",
         "orientation": "v",
         "showlegend": true,
         "type": "scatter",
         "x": [
          7.236110210418701
         ],
         "xaxis": "x",
         "y": [
          6.238514423370361
         ],
         "yaxis": "y"
        },
        {
         "hovertemplate": "Ville=CorbeilEssonnes<br>0=%{x}<br>1=%{y}<extra></extra>",
         "legendgroup": "CorbeilEssonnes",
         "marker": {
          "color": "#FF97FF",
          "symbol": "circle"
         },
         "mode": "markers",
         "name": "CorbeilEssonnes",
         "orientation": "v",
         "showlegend": true,
         "type": "scatter",
         "x": [
          6.879305362701416
         ],
         "xaxis": "x",
         "y": [
          10.49259090423584
         ],
         "yaxis": "y"
        },
        {
         "hovertemplate": "Ville=Creteil<br>0=%{x}<br>1=%{y}<extra></extra>",
         "legendgroup": "Creteil",
         "marker": {
          "color": "#FECB52",
          "symbol": "circle"
         },
         "mode": "markers",
         "name": "Creteil",
         "orientation": "v",
         "showlegend": true,
         "type": "scatter",
         "x": [
          7.036991596221924
         ],
         "xaxis": "x",
         "y": [
          6.024590015411377
         ],
         "yaxis": "y"
        },
        {
         "hovertemplate": "Ville=Dijon<br>0=%{x}<br>1=%{y}<extra></extra>",
         "legendgroup": "Dijon",
         "marker": {
          "color": "#636efa",
          "symbol": "circle"
         },
         "mode": "markers",
         "name": "Dijon",
         "orientation": "v",
         "showlegend": true,
         "type": "scatter",
         "x": [
          6.548176288604736
         ],
         "xaxis": "x",
         "y": [
          8.193324089050293
         ],
         "yaxis": "y"
        },
        {
         "hovertemplate": "Ville=Dunkerque<br>0=%{x}<br>1=%{y}<extra></extra>",
         "legendgroup": "Dunkerque",
         "marker": {
          "color": "#EF553B",
          "symbol": "circle"
         },
         "mode": "markers",
         "name": "Dunkerque",
         "orientation": "v",
         "showlegend": true,
         "type": "scatter",
         "x": [
          6.352843761444092
         ],
         "xaxis": "x",
         "y": [
          7.318131446838379
         ],
         "yaxis": "y"
        },
        {
         "hovertemplate": "Ville=Epinal<br>0=%{x}<br>1=%{y}<extra></extra>",
         "legendgroup": "Epinal",
         "marker": {
          "color": "#00cc96",
          "symbol": "circle"
         },
         "mode": "markers",
         "name": "Epinal",
         "orientation": "v",
         "showlegend": true,
         "type": "scatter",
         "x": [
          7.291310787200928
         ],
         "xaxis": "x",
         "y": [
          11.146953582763672
         ],
         "yaxis": "y"
        },
        {
         "hovertemplate": "Ville=Evry<br>0=%{x}<br>1=%{y}<extra></extra>",
         "legendgroup": "Evry",
         "marker": {
          "color": "#ab63fa",
          "symbol": "circle"
         },
         "mode": "markers",
         "name": "Evry",
         "orientation": "v",
         "showlegend": true,
         "type": "scatter",
         "x": [
          6.764114856719971
         ],
         "xaxis": "x",
         "y": [
          7.169549942016602
         ],
         "yaxis": "y"
        },
        {
         "hovertemplate": "Ville=Gap<br>0=%{x}<br>1=%{y}<extra></extra>",
         "legendgroup": "Gap",
         "marker": {
          "color": "#FFA15A",
          "symbol": "circle"
         },
         "mode": "markers",
         "name": "Gap",
         "orientation": "v",
         "showlegend": true,
         "type": "scatter",
         "x": [
          4.628582000732422
         ],
         "xaxis": "x",
         "y": [
          10.933965682983398
         ],
         "yaxis": "y"
        },
        {
         "hovertemplate": "Ville=Grenoble<br>0=%{x}<br>1=%{y}<extra></extra>",
         "legendgroup": "Grenoble",
         "marker": {
          "color": "#19d3f3",
          "symbol": "circle"
         },
         "mode": "markers",
         "name": "Grenoble",
         "orientation": "v",
         "showlegend": true,
         "type": "scatter",
         "x": [
          7.253198623657227
         ],
         "xaxis": "x",
         "y": [
          6.47340202331543
         ],
         "yaxis": "y"
        },
        {
         "hovertemplate": "Ville=La Rochelle<br>0=%{x}<br>1=%{y}<extra></extra>",
         "legendgroup": "La Rochelle",
         "marker": {
          "color": "#FF6692",
          "symbol": "circle"
         },
         "mode": "markers",
         "name": "La Rochelle",
         "orientation": "v",
         "showlegend": true,
         "type": "scatter",
         "x": [
          5.333535194396973
         ],
         "xaxis": "x",
         "y": [
          11.396982192993164
         ],
         "yaxis": "y"
        },
        {
         "hovertemplate": "Ville=La RocheSurYon<br>0=%{x}<br>1=%{y}<extra></extra>",
         "legendgroup": "La RocheSurYon",
         "marker": {
          "color": "#B6E880",
          "symbol": "circle"
         },
         "mode": "markers",
         "name": "La RocheSurYon",
         "orientation": "v",
         "showlegend": true,
         "type": "scatter",
         "x": [
          7.154557228088379
         ],
         "xaxis": "x",
         "y": [
          11.633532524108887
         ],
         "yaxis": "y"
        },
        {
         "hovertemplate": "Ville=Laval<br>0=%{x}<br>1=%{y}<extra></extra>",
         "legendgroup": "Laval",
         "marker": {
          "color": "#FF97FF",
          "symbol": "circle"
         },
         "mode": "markers",
         "name": "Laval",
         "orientation": "v",
         "showlegend": true,
         "type": "scatter",
         "x": [
          5.749560832977295
         ],
         "xaxis": "x",
         "y": [
          12.441802024841309
         ],
         "yaxis": "y"
        },
        {
         "hovertemplate": "Ville=LeHavre<br>0=%{x}<br>1=%{y}<extra></extra>",
         "legendgroup": "LeHavre",
         "marker": {
          "color": "#FECB52",
          "symbol": "circle"
         },
         "mode": "markers",
         "name": "LeHavre",
         "orientation": "v",
         "showlegend": true,
         "type": "scatter",
         "x": [
          6.535867691040039
         ],
         "xaxis": "x",
         "y": [
          9.47722339630127
         ],
         "yaxis": "y"
        },
        {
         "hovertemplate": "Ville=LeMans<br>0=%{x}<br>1=%{y}<extra></extra>",
         "legendgroup": "LeMans",
         "marker": {
          "color": "#636efa",
          "symbol": "circle"
         },
         "mode": "markers",
         "name": "LeMans",
         "orientation": "v",
         "showlegend": true,
         "type": "scatter",
         "x": [
          6.6105780601501465
         ],
         "xaxis": "x",
         "y": [
          9.538570404052734
         ],
         "yaxis": "y"
        },
        {
         "hovertemplate": "Ville=Lille<br>0=%{x}<br>1=%{y}<extra></extra>",
         "legendgroup": "Lille",
         "marker": {
          "color": "#EF553B",
          "symbol": "circle"
         },
         "mode": "markers",
         "name": "Lille",
         "orientation": "v",
         "showlegend": true,
         "type": "scatter",
         "x": [
          6.179240703582764
         ],
         "xaxis": "x",
         "y": [
          8.05452823638916
         ],
         "yaxis": "y"
        },
        {
         "hovertemplate": "Ville=Limoges<br>0=%{x}<br>1=%{y}<extra></extra>",
         "legendgroup": "Limoges",
         "marker": {
          "color": "#00cc96",
          "symbol": "circle"
         },
         "mode": "markers",
         "name": "Limoges",
         "orientation": "v",
         "showlegend": true,
         "type": "scatter",
         "x": [
          6.4102606773376465
         ],
         "xaxis": "x",
         "y": [
          12.454122543334961
         ],
         "yaxis": "y"
        },
        {
         "hovertemplate": "Ville=Lyon<br>0=%{x}<br>1=%{y}<extra></extra>",
         "legendgroup": "Lyon",
         "marker": {
          "color": "#ab63fa",
          "symbol": "circle"
         },
         "mode": "markers",
         "name": "Lyon",
         "orientation": "v",
         "showlegend": true,
         "type": "scatter",
         "x": [
          7.19980001449585
         ],
         "xaxis": "x",
         "y": [
          5.8648786544799805
         ],
         "yaxis": "y"
        },
        {
         "hovertemplate": "Ville=Marseille<br>0=%{x}<br>1=%{y}<extra></extra>",
         "legendgroup": "Marseille",
         "marker": {
          "color": "#FFA15A",
          "symbol": "circle"
         },
         "mode": "markers",
         "name": "Marseille",
         "orientation": "v",
         "showlegend": true,
         "type": "scatter",
         "x": [
          5.482677459716797
         ],
         "xaxis": "x",
         "y": [
          10.157155990600586
         ],
         "yaxis": "y"
        },
        {
         "hovertemplate": "Ville=Melun<br>0=%{x}<br>1=%{y}<extra></extra>",
         "legendgroup": "Melun",
         "marker": {
          "color": "#19d3f3",
          "symbol": "circle"
         },
         "mode": "markers",
         "name": "Melun",
         "orientation": "v",
         "showlegend": true,
         "type": "scatter",
         "x": [
          7.074084281921387
         ],
         "xaxis": "x",
         "y": [
          9.719358444213867
         ],
         "yaxis": "y"
        },
        {
         "hovertemplate": "Ville=Metz<br>0=%{x}<br>1=%{y}<extra></extra>",
         "legendgroup": "Metz",
         "marker": {
          "color": "#FF6692",
          "symbol": "circle"
         },
         "mode": "markers",
         "name": "Metz",
         "orientation": "v",
         "showlegend": true,
         "type": "scatter",
         "x": [
          6.29542350769043
         ],
         "xaxis": "x",
         "y": [
          8.249273300170898
         ],
         "yaxis": "y"
        },
        {
         "hovertemplate": "Ville=Montauban<br>0=%{x}<br>1=%{y}<extra></extra>",
         "legendgroup": "Montauban",
         "marker": {
          "color": "#B6E880",
          "symbol": "circle"
         },
         "mode": "markers",
         "name": "Montauban",
         "orientation": "v",
         "showlegend": true,
         "type": "scatter",
         "x": [
          4.429490089416504
         ],
         "xaxis": "x",
         "y": [
          12.530741691589355
         ],
         "yaxis": "y"
        },
        {
         "hovertemplate": "Ville=Montlucon<br>0=%{x}<br>1=%{y}<extra></extra>",
         "legendgroup": "Montlucon",
         "marker": {
          "color": "#FF97FF",
          "symbol": "circle"
         },
         "mode": "markers",
         "name": "Montlucon",
         "orientation": "v",
         "showlegend": true,
         "type": "scatter",
         "x": [
          3.555572986602783
         ],
         "xaxis": "x",
         "y": [
          12.69019889831543
         ],
         "yaxis": "y"
        },
        {
         "hovertemplate": "Ville=Montpellier<br>0=%{x}<br>1=%{y}<extra></extra>",
         "legendgroup": "Montpellier",
         "marker": {
          "color": "#FECB52",
          "symbol": "circle"
         },
         "mode": "markers",
         "name": "Montpellier",
         "orientation": "v",
         "showlegend": true,
         "type": "scatter",
         "x": [
          5.179437637329102
         ],
         "xaxis": "x",
         "y": [
          10.524617195129395
         ],
         "yaxis": "y"
        },
        {
         "hovertemplate": "Ville=Mulhouse<br>0=%{x}<br>1=%{y}<extra></extra>",
         "legendgroup": "Mulhouse",
         "marker": {
          "color": "#636efa",
          "symbol": "circle"
         },
         "mode": "markers",
         "name": "Mulhouse",
         "orientation": "v",
         "showlegend": true,
         "type": "scatter",
         "x": [
          4.478821277618408
         ],
         "xaxis": "x",
         "y": [
          13.046483993530273
         ],
         "yaxis": "y"
        },
        {
         "hovertemplate": "Ville=Nancy<br>0=%{x}<br>1=%{y}<extra></extra>",
         "legendgroup": "Nancy",
         "marker": {
          "color": "#EF553B",
          "symbol": "circle"
         },
         "mode": "markers",
         "name": "Nancy",
         "orientation": "v",
         "showlegend": true,
         "type": "scatter",
         "x": [
          7.257930755615234
         ],
         "xaxis": "x",
         "y": [
          6.043830394744873
         ],
         "yaxis": "y"
        },
        {
         "hovertemplate": "Ville=Nantes<br>0=%{x}<br>1=%{y}<extra></extra>",
         "legendgroup": "Nantes",
         "marker": {
          "color": "#00cc96",
          "symbol": "circle"
         },
         "mode": "markers",
         "name": "Nantes",
         "orientation": "v",
         "showlegend": true,
         "type": "scatter",
         "x": [
          7.093851566314697
         ],
         "xaxis": "x",
         "y": [
          6.3726983070373535
         ],
         "yaxis": "y"
        },
        {
         "hovertemplate": "Ville=NeuillySurSeine<br>0=%{x}<br>1=%{y}<extra></extra>",
         "legendgroup": "NeuillySurSeine",
         "marker": {
          "color": "#ab63fa",
          "symbol": "circle"
         },
         "mode": "markers",
         "name": "NeuillySurSeine",
         "orientation": "v",
         "showlegend": true,
         "type": "scatter",
         "x": [
          7.533915042877197
         ],
         "xaxis": "x",
         "y": [
          5.177535533905029
         ],
         "yaxis": "y"
        },
        {
         "hovertemplate": "Ville=Nevers<br>0=%{x}<br>1=%{y}<extra></extra>",
         "legendgroup": "Nevers",
         "marker": {
          "color": "#FFA15A",
          "symbol": "circle"
         },
         "mode": "markers",
         "name": "Nevers",
         "orientation": "v",
         "showlegend": true,
         "type": "scatter",
         "x": [
          4.737396240234375
         ],
         "xaxis": "x",
         "y": [
          12.994462966918945
         ],
         "yaxis": "y"
        },
        {
         "hovertemplate": "Ville=Nice<br>0=%{x}<br>1=%{y}<extra></extra>",
         "legendgroup": "Nice",
         "marker": {
          "color": "#19d3f3",
          "symbol": "circle"
         },
         "mode": "markers",
         "name": "Nice",
         "orientation": "v",
         "showlegend": true,
         "type": "scatter",
         "x": [
          5.403307914733887
         ],
         "xaxis": "x",
         "y": [
          10.41268539428711
         ],
         "yaxis": "y"
        },
        {
         "hovertemplate": "Ville=Nimes<br>0=%{x}<br>1=%{y}<extra></extra>",
         "legendgroup": "Nimes",
         "marker": {
          "color": "#FF6692",
          "symbol": "circle"
         },
         "mode": "markers",
         "name": "Nimes",
         "orientation": "v",
         "showlegend": true,
         "type": "scatter",
         "x": [
          4.604036331176758
         ],
         "xaxis": "x",
         "y": [
          10.513077735900879
         ],
         "yaxis": "y"
        },
        {
         "hovertemplate": "Ville=Niort<br>0=%{x}<br>1=%{y}<extra></extra>",
         "legendgroup": "Niort",
         "marker": {
          "color": "#B6E880",
          "symbol": "circle"
         },
         "mode": "markers",
         "name": "Niort",
         "orientation": "v",
         "showlegend": true,
         "type": "scatter",
         "x": [
          6.5994133949279785
         ],
         "xaxis": "x",
         "y": [
          7.501016616821289
         ],
         "yaxis": "y"
        },
        {
         "hovertemplate": "Ville=Orleans<br>0=%{x}<br>1=%{y}<extra></extra>",
         "legendgroup": "Orleans",
         "marker": {
          "color": "#FF97FF",
          "symbol": "circle"
         },
         "mode": "markers",
         "name": "Orleans",
         "orientation": "v",
         "showlegend": true,
         "type": "scatter",
         "x": [
          6.896904945373535
         ],
         "xaxis": "x",
         "y": [
          6.877685070037842
         ],
         "yaxis": "y"
        },
        {
         "hovertemplate": "Ville=Paris<br>0=%{x}<br>1=%{y}<extra></extra>",
         "legendgroup": "Paris",
         "marker": {
          "color": "#FECB52",
          "symbol": "circle"
         },
         "mode": "markers",
         "name": "Paris",
         "orientation": "v",
         "showlegend": true,
         "type": "scatter",
         "x": [
          7.599329948425293
         ],
         "xaxis": "x",
         "y": [
          4.830085277557373
         ],
         "yaxis": "y"
        },
        {
         "hovertemplate": "Ville=Pau<br>0=%{x}<br>1=%{y}<extra></extra>",
         "legendgroup": "Pau",
         "marker": {
          "color": "#636efa",
          "symbol": "circle"
         },
         "mode": "markers",
         "name": "Pau",
         "orientation": "v",
         "showlegend": true,
         "type": "scatter",
         "x": [
          6.408203125
         ],
         "xaxis": "x",
         "y": [
          7.778915882110596
         ],
         "yaxis": "y"
        },
        {
         "hovertemplate": "Ville=Perigueux<br>0=%{x}<br>1=%{y}<extra></extra>",
         "legendgroup": "Perigueux",
         "marker": {
          "color": "#EF553B",
          "symbol": "circle"
         },
         "mode": "markers",
         "name": "Perigueux",
         "orientation": "v",
         "showlegend": true,
         "type": "scatter",
         "x": [
          3.692875623703003
         ],
         "xaxis": "x",
         "y": [
          12.37820816040039
         ],
         "yaxis": "y"
        },
        {
         "hovertemplate": "Ville=Perpignan<br>0=%{x}<br>1=%{y}<extra></extra>",
         "legendgroup": "Perpignan",
         "marker": {
          "color": "#00cc96",
          "symbol": "circle"
         },
         "mode": "markers",
         "name": "Perpignan",
         "orientation": "v",
         "showlegend": true,
         "type": "scatter",
         "x": [
          3.425140380859375
         ],
         "xaxis": "x",
         "y": [
          11.627148628234863
         ],
         "yaxis": "y"
        },
        {
         "hovertemplate": "Ville=Poitiers<br>0=%{x}<br>1=%{y}<extra></extra>",
         "legendgroup": "Poitiers",
         "marker": {
          "color": "#ab63fa",
          "symbol": "circle"
         },
         "mode": "markers",
         "name": "Poitiers",
         "orientation": "v",
         "showlegend": true,
         "type": "scatter",
         "x": [
          6.995038032531738
         ],
         "xaxis": "x",
         "y": [
          11.250545501708984
         ],
         "yaxis": "y"
        },
        {
         "hovertemplate": "Ville=Quimper<br>0=%{x}<br>1=%{y}<extra></extra>",
         "legendgroup": "Quimper",
         "marker": {
          "color": "#FFA15A",
          "symbol": "circle"
         },
         "mode": "markers",
         "name": "Quimper",
         "orientation": "v",
         "showlegend": true,
         "type": "scatter",
         "x": [
          7.052323341369629
         ],
         "xaxis": "x",
         "y": [
          10.865352630615234
         ],
         "yaxis": "y"
        },
        {
         "hovertemplate": "Ville=Reims<br>0=%{x}<br>1=%{y}<extra></extra>",
         "legendgroup": "Reims",
         "marker": {
          "color": "#19d3f3",
          "symbol": "circle"
         },
         "mode": "markers",
         "name": "Reims",
         "orientation": "v",
         "showlegend": true,
         "type": "scatter",
         "x": [
          6.9151716232299805
         ],
         "xaxis": "x",
         "y": [
          9.46904468536377
         ],
         "yaxis": "y"
        },
        {
         "hovertemplate": "Ville=Rennes<br>0=%{x}<br>1=%{y}<extra></extra>",
         "legendgroup": "Rennes",
         "marker": {
          "color": "#FF6692",
          "symbol": "circle"
         },
         "mode": "markers",
         "name": "Rennes",
         "orientation": "v",
         "showlegend": true,
         "type": "scatter",
         "x": [
          6.893197059631348
         ],
         "xaxis": "x",
         "y": [
          7.20897912979126
         ],
         "yaxis": "y"
        },
        {
         "hovertemplate": "Ville=Rouen<br>0=%{x}<br>1=%{y}<extra></extra>",
         "legendgroup": "Rouen",
         "marker": {
          "color": "#B6E880",
          "symbol": "circle"
         },
         "mode": "markers",
         "name": "Rouen",
         "orientation": "v",
         "showlegend": true,
         "type": "scatter",
         "x": [
          6.625880718231201
         ],
         "xaxis": "x",
         "y": [
          7.094594478607178
         ],
         "yaxis": "y"
        },
        {
         "hovertemplate": "Ville=RueilMalmaison<br>0=%{x}<br>1=%{y}<extra></extra>",
         "legendgroup": "RueilMalmaison",
         "marker": {
          "color": "#FF97FF",
          "symbol": "circle"
         },
         "mode": "markers",
         "name": "RueilMalmaison",
         "orientation": "v",
         "showlegend": true,
         "type": "scatter",
         "x": [
          7.453550815582275
         ],
         "xaxis": "x",
         "y": [
          4.9092841148376465
         ],
         "yaxis": "y"
        },
        {
         "hovertemplate": "Ville=SaintBrieuc<br>0=%{x}<br>1=%{y}<extra></extra>",
         "legendgroup": "SaintBrieuc",
         "marker": {
          "color": "#FECB52",
          "symbol": "circle"
         },
         "mode": "markers",
         "name": "SaintBrieuc",
         "orientation": "v",
         "showlegend": true,
         "type": "scatter",
         "x": [
          6.113354206085205
         ],
         "xaxis": "x",
         "y": [
          12.270135879516602
         ],
         "yaxis": "y"
        },
        {
         "hovertemplate": "Ville=SaintDenis<br>0=%{x}<br>1=%{y}<extra></extra>",
         "legendgroup": "SaintDenis",
         "marker": {
          "color": "#636efa",
          "symbol": "circle"
         },
         "mode": "markers",
         "name": "SaintDenis",
         "orientation": "v",
         "showlegend": true,
         "type": "scatter",
         "x": [
          3.985795736312866
         ],
         "xaxis": "x",
         "y": [
          13.475844383239746
         ],
         "yaxis": "y"
        },
        {
         "hovertemplate": "Ville=SaintEtienne<br>0=%{x}<br>1=%{y}<extra></extra>",
         "legendgroup": "SaintEtienne",
         "marker": {
          "color": "#EF553B",
          "symbol": "circle"
         },
         "mode": "markers",
         "name": "SaintEtienne",
         "orientation": "v",
         "showlegend": true,
         "type": "scatter",
         "x": [
          6.011033058166504
         ],
         "xaxis": "x",
         "y": [
          12.920490264892578
         ],
         "yaxis": "y"
        },
        {
         "hovertemplate": "Ville=SaintGermainEnLaye<br>0=%{x}<br>1=%{y}<extra></extra>",
         "legendgroup": "SaintGermainEnLaye",
         "marker": {
          "color": "#00cc96",
          "symbol": "circle"
         },
         "mode": "markers",
         "name": "SaintGermainEnLaye",
         "orientation": "v",
         "showlegend": true,
         "type": "scatter",
         "x": [
          7.335083961486816
         ],
         "xaxis": "x",
         "y": [
          5.023325443267822
         ],
         "yaxis": "y"
        },
        {
         "hovertemplate": "Ville=SaintMalo<br>0=%{x}<br>1=%{y}<extra></extra>",
         "legendgroup": "SaintMalo",
         "marker": {
          "color": "#ab63fa",
          "symbol": "circle"
         },
         "mode": "markers",
         "name": "SaintMalo",
         "orientation": "v",
         "showlegend": true,
         "type": "scatter",
         "x": [
          5.638391494750977
         ],
         "xaxis": "x",
         "y": [
          11.835564613342285
         ],
         "yaxis": "y"
        },
        {
         "hovertemplate": "Ville=SaintNazaire<br>0=%{x}<br>1=%{y}<extra></extra>",
         "legendgroup": "SaintNazaire",
         "marker": {
          "color": "#FFA15A",
          "symbol": "circle"
         },
         "mode": "markers",
         "name": "SaintNazaire",
         "orientation": "v",
         "showlegend": true,
         "type": "scatter",
         "x": [
          6.689618110656738
         ],
         "xaxis": "x",
         "y": [
          10.169920921325684
         ],
         "yaxis": "y"
        },
        {
         "hovertemplate": "Ville=SaintQuentin<br>0=%{x}<br>1=%{y}<extra></extra>",
         "legendgroup": "SaintQuentin",
         "marker": {
          "color": "#19d3f3",
          "symbol": "circle"
         },
         "mode": "markers",
         "name": "SaintQuentin",
         "orientation": "v",
         "showlegend": true,
         "type": "scatter",
         "x": [
          4.166062355041504
         ],
         "xaxis": "x",
         "y": [
          12.910151481628418
         ],
         "yaxis": "y"
        },
        {
         "hovertemplate": "Ville=Sarcelles<br>0=%{x}<br>1=%{y}<extra></extra>",
         "legendgroup": "Sarcelles",
         "marker": {
          "color": "#FF6692",
          "symbol": "circle"
         },
         "mode": "markers",
         "name": "Sarcelles",
         "orientation": "v",
         "showlegend": true,
         "type": "scatter",
         "x": [
          4.036934852600098
         ],
         "xaxis": "x",
         "y": [
          13.233786582946777
         ],
         "yaxis": "y"
        },
        {
         "hovertemplate": "Ville=Sete<br>0=%{x}<br>1=%{y}<extra></extra>",
         "legendgroup": "Sete",
         "marker": {
          "color": "#B6E880",
          "symbol": "circle"
         },
         "mode": "markers",
         "name": "Sete",
         "orientation": "v",
         "showlegend": true,
         "type": "scatter",
         "x": [
          3.568880081176758
         ],
         "xaxis": "x",
         "y": [
          11.14314079284668
         ],
         "yaxis": "y"
        },
        {
         "hovertemplate": "Ville=Strasbourg<br>0=%{x}<br>1=%{y}<extra></extra>",
         "legendgroup": "Strasbourg",
         "marker": {
          "color": "#FF97FF",
          "symbol": "circle"
         },
         "mode": "markers",
         "name": "Strasbourg",
         "orientation": "v",
         "showlegend": true,
         "type": "scatter",
         "x": [
          6.8884358406066895
         ],
         "xaxis": "x",
         "y": [
          7.57221794128418
         ],
         "yaxis": "y"
        },
        {
         "hovertemplate": "Ville=Tarbes<br>0=%{x}<br>1=%{y}<extra></extra>",
         "legendgroup": "Tarbes",
         "marker": {
          "color": "#FECB52",
          "symbol": "circle"
         },
         "mode": "markers",
         "name": "Tarbes",
         "orientation": "v",
         "showlegend": true,
         "type": "scatter",
         "x": [
          3.455261707305908
         ],
         "xaxis": "x",
         "y": [
          12.654557228088379
         ],
         "yaxis": "y"
        },
        {
         "hovertemplate": "Ville=Toulon<br>0=%{x}<br>1=%{y}<extra></extra>",
         "legendgroup": "Toulon",
         "marker": {
          "color": "#636efa",
          "symbol": "circle"
         },
         "mode": "markers",
         "name": "Toulon",
         "orientation": "v",
         "showlegend": true,
         "type": "scatter",
         "x": [
          3.7318224906921387
         ],
         "xaxis": "x",
         "y": [
          10.99308967590332
         ],
         "yaxis": "y"
        },
        {
         "hovertemplate": "Ville=Toulouse<br>0=%{x}<br>1=%{y}<extra></extra>",
         "legendgroup": "Toulouse",
         "marker": {
          "color": "#EF553B",
          "symbol": "circle"
         },
         "mode": "markers",
         "name": "Toulouse",
         "orientation": "v",
         "showlegend": true,
         "type": "scatter",
         "x": [
          7.079606056213379
         ],
         "xaxis": "x",
         "y": [
          6.7121100425720215
         ],
         "yaxis": "y"
        },
        {
         "hovertemplate": "Ville=Tours<br>0=%{x}<br>1=%{y}<extra></extra>",
         "legendgroup": "Tours",
         "marker": {
          "color": "#00cc96",
          "symbol": "circle"
         },
         "mode": "markers",
         "name": "Tours",
         "orientation": "v",
         "showlegend": true,
         "type": "scatter",
         "x": [
          6.808514595031738
         ],
         "xaxis": "x",
         "y": [
          11.003012657165527
         ],
         "yaxis": "y"
        },
        {
         "hovertemplate": "Ville=Troyes<br>0=%{x}<br>1=%{y}<extra></extra>",
         "legendgroup": "Troyes",
         "marker": {
          "color": "#ab63fa",
          "symbol": "circle"
         },
         "mode": "markers",
         "name": "Troyes",
         "orientation": "v",
         "showlegend": true,
         "type": "scatter",
         "x": [
          3.4918951988220215
         ],
         "xaxis": "x",
         "y": [
          12.549633979797363
         ],
         "yaxis": "y"
        },
        {
         "hovertemplate": "Ville=Valence<br>0=%{x}<br>1=%{y}<extra></extra>",
         "legendgroup": "Valence",
         "marker": {
          "color": "#FFA15A",
          "symbol": "circle"
         },
         "mode": "markers",
         "name": "Valence",
         "orientation": "v",
         "showlegend": true,
         "type": "scatter",
         "x": [
          5.031129837036133
         ],
         "xaxis": "x",
         "y": [
          10.765620231628418
         ],
         "yaxis": "y"
        },
        {
         "hovertemplate": "Ville=Valenciennes<br>0=%{x}<br>1=%{y}<extra></extra>",
         "legendgroup": "Valenciennes",
         "marker": {
          "color": "#19d3f3",
          "symbol": "circle"
         },
         "mode": "markers",
         "name": "Valenciennes",
         "orientation": "v",
         "showlegend": true,
         "type": "scatter",
         "x": [
          6.351726055145264
         ],
         "xaxis": "x",
         "y": [
          8.272589683532715
         ],
         "yaxis": "y"
        },
        {
         "hovertemplate": "Ville=Vannes<br>0=%{x}<br>1=%{y}<extra></extra>",
         "legendgroup": "Vannes",
         "marker": {
          "color": "#FF6692",
          "symbol": "circle"
         },
         "mode": "markers",
         "name": "Vannes",
         "orientation": "v",
         "showlegend": true,
         "type": "scatter",
         "x": [
          6.593588352203369
         ],
         "xaxis": "x",
         "y": [
          8.74209976196289
         ],
         "yaxis": "y"
        },
        {
         "hovertemplate": "Ville=Versailles<br>0=%{x}<br>1=%{y}<extra></extra>",
         "legendgroup": "Versailles",
         "marker": {
          "color": "#B6E880",
          "symbol": "circle"
         },
         "mode": "markers",
         "name": "Versailles",
         "orientation": "v",
         "showlegend": true,
         "type": "scatter",
         "x": [
          7.331976413726807
         ],
         "xaxis": "x",
         "y": [
          4.985409259796143
         ],
         "yaxis": "y"
        },
        {
         "hovertemplate": "Ville=Vichy<br>0=%{x}<br>1=%{y}<extra></extra>",
         "legendgroup": "Vichy",
         "marker": {
          "color": "#FF97FF",
          "symbol": "circle"
         },
         "mode": "markers",
         "name": "Vichy",
         "orientation": "v",
         "showlegend": true,
         "type": "scatter",
         "x": [
          4.299275875091553
         ],
         "xaxis": "x",
         "y": [
          12.999905586242676
         ],
         "yaxis": "y"
        },
        {
         "hovertemplate": "Ville=Villeurbanne<br>0=%{x}<br>1=%{y}<extra></extra>",
         "legendgroup": "Villeurbanne",
         "marker": {
          "color": "#FECB52",
          "symbol": "circle"
         },
         "mode": "markers",
         "name": "Villeurbanne",
         "orientation": "v",
         "showlegend": true,
         "type": "scatter",
         "x": [
          6.6428141593933105
         ],
         "xaxis": "x",
         "y": [
          9.930148124694824
         ],
         "yaxis": "y"
        }
       ],
       "layout": {
        "legend": {
         "title": {
          "text": "Ville"
         },
         "tracegroupgap": 0
        },
        "margin": {
         "t": 60
        },
        "template": {
         "data": {
          "bar": [
           {
            "error_x": {
             "color": "#2a3f5f"
            },
            "error_y": {
             "color": "#2a3f5f"
            },
            "marker": {
             "line": {
              "color": "#E5ECF6",
              "width": 0.5
             },
             "pattern": {
              "fillmode": "overlay",
              "size": 10,
              "solidity": 0.2
             }
            },
            "type": "bar"
           }
          ],
          "barpolar": [
           {
            "marker": {
             "line": {
              "color": "#E5ECF6",
              "width": 0.5
             },
             "pattern": {
              "fillmode": "overlay",
              "size": 10,
              "solidity": 0.2
             }
            },
            "type": "barpolar"
           }
          ],
          "carpet": [
           {
            "aaxis": {
             "endlinecolor": "#2a3f5f",
             "gridcolor": "white",
             "linecolor": "white",
             "minorgridcolor": "white",
             "startlinecolor": "#2a3f5f"
            },
            "baxis": {
             "endlinecolor": "#2a3f5f",
             "gridcolor": "white",
             "linecolor": "white",
             "minorgridcolor": "white",
             "startlinecolor": "#2a3f5f"
            },
            "type": "carpet"
           }
          ],
          "choropleth": [
           {
            "colorbar": {
             "outlinewidth": 0,
             "ticks": ""
            },
            "type": "choropleth"
           }
          ],
          "contour": [
           {
            "colorbar": {
             "outlinewidth": 0,
             "ticks": ""
            },
            "colorscale": [
             [
              0,
              "#0d0887"
             ],
             [
              0.1111111111111111,
              "#46039f"
             ],
             [
              0.2222222222222222,
              "#7201a8"
             ],
             [
              0.3333333333333333,
              "#9c179e"
             ],
             [
              0.4444444444444444,
              "#bd3786"
             ],
             [
              0.5555555555555556,
              "#d8576b"
             ],
             [
              0.6666666666666666,
              "#ed7953"
             ],
             [
              0.7777777777777778,
              "#fb9f3a"
             ],
             [
              0.8888888888888888,
              "#fdca26"
             ],
             [
              1,
              "#f0f921"
             ]
            ],
            "type": "contour"
           }
          ],
          "contourcarpet": [
           {
            "colorbar": {
             "outlinewidth": 0,
             "ticks": ""
            },
            "type": "contourcarpet"
           }
          ],
          "heatmap": [
           {
            "colorbar": {
             "outlinewidth": 0,
             "ticks": ""
            },
            "colorscale": [
             [
              0,
              "#0d0887"
             ],
             [
              0.1111111111111111,
              "#46039f"
             ],
             [
              0.2222222222222222,
              "#7201a8"
             ],
             [
              0.3333333333333333,
              "#9c179e"
             ],
             [
              0.4444444444444444,
              "#bd3786"
             ],
             [
              0.5555555555555556,
              "#d8576b"
             ],
             [
              0.6666666666666666,
              "#ed7953"
             ],
             [
              0.7777777777777778,
              "#fb9f3a"
             ],
             [
              0.8888888888888888,
              "#fdca26"
             ],
             [
              1,
              "#f0f921"
             ]
            ],
            "type": "heatmap"
           }
          ],
          "heatmapgl": [
           {
            "colorbar": {
             "outlinewidth": 0,
             "ticks": ""
            },
            "colorscale": [
             [
              0,
              "#0d0887"
             ],
             [
              0.1111111111111111,
              "#46039f"
             ],
             [
              0.2222222222222222,
              "#7201a8"
             ],
             [
              0.3333333333333333,
              "#9c179e"
             ],
             [
              0.4444444444444444,
              "#bd3786"
             ],
             [
              0.5555555555555556,
              "#d8576b"
             ],
             [
              0.6666666666666666,
              "#ed7953"
             ],
             [
              0.7777777777777778,
              "#fb9f3a"
             ],
             [
              0.8888888888888888,
              "#fdca26"
             ],
             [
              1,
              "#f0f921"
             ]
            ],
            "type": "heatmapgl"
           }
          ],
          "histogram": [
           {
            "marker": {
             "pattern": {
              "fillmode": "overlay",
              "size": 10,
              "solidity": 0.2
             }
            },
            "type": "histogram"
           }
          ],
          "histogram2d": [
           {
            "colorbar": {
             "outlinewidth": 0,
             "ticks": ""
            },
            "colorscale": [
             [
              0,
              "#0d0887"
             ],
             [
              0.1111111111111111,
              "#46039f"
             ],
             [
              0.2222222222222222,
              "#7201a8"
             ],
             [
              0.3333333333333333,
              "#9c179e"
             ],
             [
              0.4444444444444444,
              "#bd3786"
             ],
             [
              0.5555555555555556,
              "#d8576b"
             ],
             [
              0.6666666666666666,
              "#ed7953"
             ],
             [
              0.7777777777777778,
              "#fb9f3a"
             ],
             [
              0.8888888888888888,
              "#fdca26"
             ],
             [
              1,
              "#f0f921"
             ]
            ],
            "type": "histogram2d"
           }
          ],
          "histogram2dcontour": [
           {
            "colorbar": {
             "outlinewidth": 0,
             "ticks": ""
            },
            "colorscale": [
             [
              0,
              "#0d0887"
             ],
             [
              0.1111111111111111,
              "#46039f"
             ],
             [
              0.2222222222222222,
              "#7201a8"
             ],
             [
              0.3333333333333333,
              "#9c179e"
             ],
             [
              0.4444444444444444,
              "#bd3786"
             ],
             [
              0.5555555555555556,
              "#d8576b"
             ],
             [
              0.6666666666666666,
              "#ed7953"
             ],
             [
              0.7777777777777778,
              "#fb9f3a"
             ],
             [
              0.8888888888888888,
              "#fdca26"
             ],
             [
              1,
              "#f0f921"
             ]
            ],
            "type": "histogram2dcontour"
           }
          ],
          "mesh3d": [
           {
            "colorbar": {
             "outlinewidth": 0,
             "ticks": ""
            },
            "type": "mesh3d"
           }
          ],
          "parcoords": [
           {
            "line": {
             "colorbar": {
              "outlinewidth": 0,
              "ticks": ""
             }
            },
            "type": "parcoords"
           }
          ],
          "pie": [
           {
            "automargin": true,
            "type": "pie"
           }
          ],
          "scatter": [
           {
            "marker": {
             "colorbar": {
              "outlinewidth": 0,
              "ticks": ""
             }
            },
            "type": "scatter"
           }
          ],
          "scatter3d": [
           {
            "line": {
             "colorbar": {
              "outlinewidth": 0,
              "ticks": ""
             }
            },
            "marker": {
             "colorbar": {
              "outlinewidth": 0,
              "ticks": ""
             }
            },
            "type": "scatter3d"
           }
          ],
          "scattercarpet": [
           {
            "marker": {
             "colorbar": {
              "outlinewidth": 0,
              "ticks": ""
             }
            },
            "type": "scattercarpet"
           }
          ],
          "scattergeo": [
           {
            "marker": {
             "colorbar": {
              "outlinewidth": 0,
              "ticks": ""
             }
            },
            "type": "scattergeo"
           }
          ],
          "scattergl": [
           {
            "marker": {
             "colorbar": {
              "outlinewidth": 0,
              "ticks": ""
             }
            },
            "type": "scattergl"
           }
          ],
          "scattermapbox": [
           {
            "marker": {
             "colorbar": {
              "outlinewidth": 0,
              "ticks": ""
             }
            },
            "type": "scattermapbox"
           }
          ],
          "scatterpolar": [
           {
            "marker": {
             "colorbar": {
              "outlinewidth": 0,
              "ticks": ""
             }
            },
            "type": "scatterpolar"
           }
          ],
          "scatterpolargl": [
           {
            "marker": {
             "colorbar": {
              "outlinewidth": 0,
              "ticks": ""
             }
            },
            "type": "scatterpolargl"
           }
          ],
          "scatterternary": [
           {
            "marker": {
             "colorbar": {
              "outlinewidth": 0,
              "ticks": ""
             }
            },
            "type": "scatterternary"
           }
          ],
          "surface": [
           {
            "colorbar": {
             "outlinewidth": 0,
             "ticks": ""
            },
            "colorscale": [
             [
              0,
              "#0d0887"
             ],
             [
              0.1111111111111111,
              "#46039f"
             ],
             [
              0.2222222222222222,
              "#7201a8"
             ],
             [
              0.3333333333333333,
              "#9c179e"
             ],
             [
              0.4444444444444444,
              "#bd3786"
             ],
             [
              0.5555555555555556,
              "#d8576b"
             ],
             [
              0.6666666666666666,
              "#ed7953"
             ],
             [
              0.7777777777777778,
              "#fb9f3a"
             ],
             [
              0.8888888888888888,
              "#fdca26"
             ],
             [
              1,
              "#f0f921"
             ]
            ],
            "type": "surface"
           }
          ],
          "table": [
           {
            "cells": {
             "fill": {
              "color": "#EBF0F8"
             },
             "line": {
              "color": "white"
             }
            },
            "header": {
             "fill": {
              "color": "#C8D4E3"
             },
             "line": {
              "color": "white"
             }
            },
            "type": "table"
           }
          ]
         },
         "layout": {
          "annotationdefaults": {
           "arrowcolor": "#2a3f5f",
           "arrowhead": 0,
           "arrowwidth": 1
          },
          "autotypenumbers": "strict",
          "coloraxis": {
           "colorbar": {
            "outlinewidth": 0,
            "ticks": ""
           }
          },
          "colorscale": {
           "diverging": [
            [
             0,
             "#8e0152"
            ],
            [
             0.1,
             "#c51b7d"
            ],
            [
             0.2,
             "#de77ae"
            ],
            [
             0.3,
             "#f1b6da"
            ],
            [
             0.4,
             "#fde0ef"
            ],
            [
             0.5,
             "#f7f7f7"
            ],
            [
             0.6,
             "#e6f5d0"
            ],
            [
             0.7,
             "#b8e186"
            ],
            [
             0.8,
             "#7fbc41"
            ],
            [
             0.9,
             "#4d9221"
            ],
            [
             1,
             "#276419"
            ]
           ],
           "sequential": [
            [
             0,
             "#0d0887"
            ],
            [
             0.1111111111111111,
             "#46039f"
            ],
            [
             0.2222222222222222,
             "#7201a8"
            ],
            [
             0.3333333333333333,
             "#9c179e"
            ],
            [
             0.4444444444444444,
             "#bd3786"
            ],
            [
             0.5555555555555556,
             "#d8576b"
            ],
            [
             0.6666666666666666,
             "#ed7953"
            ],
            [
             0.7777777777777778,
             "#fb9f3a"
            ],
            [
             0.8888888888888888,
             "#fdca26"
            ],
            [
             1,
             "#f0f921"
            ]
           ],
           "sequentialminus": [
            [
             0,
             "#0d0887"
            ],
            [
             0.1111111111111111,
             "#46039f"
            ],
            [
             0.2222222222222222,
             "#7201a8"
            ],
            [
             0.3333333333333333,
             "#9c179e"
            ],
            [
             0.4444444444444444,
             "#bd3786"
            ],
            [
             0.5555555555555556,
             "#d8576b"
            ],
            [
             0.6666666666666666,
             "#ed7953"
            ],
            [
             0.7777777777777778,
             "#fb9f3a"
            ],
            [
             0.8888888888888888,
             "#fdca26"
            ],
            [
             1,
             "#f0f921"
            ]
           ]
          },
          "colorway": [
           "#636efa",
           "#EF553B",
           "#00cc96",
           "#ab63fa",
           "#FFA15A",
           "#19d3f3",
           "#FF6692",
           "#B6E880",
           "#FF97FF",
           "#FECB52"
          ],
          "font": {
           "color": "#2a3f5f"
          },
          "geo": {
           "bgcolor": "white",
           "lakecolor": "white",
           "landcolor": "#E5ECF6",
           "showlakes": true,
           "showland": true,
           "subunitcolor": "white"
          },
          "hoverlabel": {
           "align": "left"
          },
          "hovermode": "closest",
          "mapbox": {
           "style": "light"
          },
          "paper_bgcolor": "white",
          "plot_bgcolor": "#E5ECF6",
          "polar": {
           "angularaxis": {
            "gridcolor": "white",
            "linecolor": "white",
            "ticks": ""
           },
           "bgcolor": "#E5ECF6",
           "radialaxis": {
            "gridcolor": "white",
            "linecolor": "white",
            "ticks": ""
           }
          },
          "scene": {
           "xaxis": {
            "backgroundcolor": "#E5ECF6",
            "gridcolor": "white",
            "gridwidth": 2,
            "linecolor": "white",
            "showbackground": true,
            "ticks": "",
            "zerolinecolor": "white"
           },
           "yaxis": {
            "backgroundcolor": "#E5ECF6",
            "gridcolor": "white",
            "gridwidth": 2,
            "linecolor": "white",
            "showbackground": true,
            "ticks": "",
            "zerolinecolor": "white"
           },
           "zaxis": {
            "backgroundcolor": "#E5ECF6",
            "gridcolor": "white",
            "gridwidth": 2,
            "linecolor": "white",
            "showbackground": true,
            "ticks": "",
            "zerolinecolor": "white"
           }
          },
          "shapedefaults": {
           "line": {
            "color": "#2a3f5f"
           }
          },
          "ternary": {
           "aaxis": {
            "gridcolor": "white",
            "linecolor": "white",
            "ticks": ""
           },
           "baxis": {
            "gridcolor": "white",
            "linecolor": "white",
            "ticks": ""
           },
           "bgcolor": "#E5ECF6",
           "caxis": {
            "gridcolor": "white",
            "linecolor": "white",
            "ticks": ""
           }
          },
          "title": {
           "x": 0.05
          },
          "xaxis": {
           "automargin": true,
           "gridcolor": "white",
           "linecolor": "white",
           "ticks": "",
           "title": {
            "standoff": 15
           },
           "zerolinecolor": "white",
           "zerolinewidth": 2
          },
          "yaxis": {
           "automargin": true,
           "gridcolor": "white",
           "linecolor": "white",
           "ticks": "",
           "title": {
            "standoff": 15
           },
           "zerolinecolor": "white",
           "zerolinewidth": 2
          }
         }
        },
        "xaxis": {
         "anchor": "y",
         "domain": [
          0,
          1
         ],
         "title": {
          "text": "0"
         }
        },
        "yaxis": {
         "anchor": "x",
         "domain": [
          0,
          1
         ],
         "title": {
          "text": "1"
         }
        }
       }
      }
     },
     "metadata": {},
     "output_type": "display_data"
    },
    {
     "data": {
      "application/vnd.plotly.v1+json": {
       "config": {
        "plotlyServerURL": "https://plot.ly"
       },
       "data": [
        {
         "hovertemplate": "Ville=Agen<br>0=%{x}<br>1=%{y}<br>2=%{z}<extra></extra>",
         "legendgroup": "Agen",
         "marker": {
          "color": "#636efa",
          "size": 5,
          "symbol": "circle"
         },
         "mode": "markers",
         "name": "Agen",
         "scene": "scene",
         "showlegend": true,
         "type": "scatter3d",
         "x": [
          12.516524314880371
         ],
         "y": [
          -0.021138964220881462
         ],
         "z": [
          10.998662948608398
         ]
        },
        {
         "hovertemplate": "Ville=AixEnProvence<br>0=%{x}<br>1=%{y}<br>2=%{z}<extra></extra>",
         "legendgroup": "AixEnProvence",
         "marker": {
          "color": "#EF553B",
          "size": 5,
          "symbol": "circle"
         },
         "mode": "markers",
         "name": "AixEnProvence",
         "scene": "scene",
         "showlegend": true,
         "type": "scatter3d",
         "x": [
          10.026942253112793
         ],
         "y": [
          6.545330047607422
         ],
         "z": [
          5.803223609924316
         ]
        },
        {
         "hovertemplate": "Ville=Ajaccio<br>0=%{x}<br>1=%{y}<br>2=%{z}<extra></extra>",
         "legendgroup": "Ajaccio",
         "marker": {
          "color": "#00cc96",
          "size": 5,
          "symbol": "circle"
         },
         "mode": "markers",
         "name": "Ajaccio",
         "scene": "scene",
         "showlegend": true,
         "type": "scatter3d",
         "x": [
          11.690505981445312
         ],
         "y": [
          2.27671480178833
         ],
         "z": [
          10.433764457702637
         ]
        },
        {
         "hovertemplate": "Ville=Albi<br>0=%{x}<br>1=%{y}<br>2=%{z}<extra></extra>",
         "legendgroup": "Albi",
         "marker": {
          "color": "#ab63fa",
          "size": 5,
          "symbol": "circle"
         },
         "mode": "markers",
         "name": "Albi",
         "scene": "scene",
         "showlegend": true,
         "type": "scatter3d",
         "x": [
          13.171137809753418
         ],
         "y": [
          1.6558693647384644
         ],
         "z": [
          9.356546401977539
         ]
        },
        {
         "hovertemplate": "Ville=Amiens<br>0=%{x}<br>1=%{y}<br>2=%{z}<extra></extra>",
         "legendgroup": "Amiens",
         "marker": {
          "color": "#FFA15A",
          "size": 5,
          "symbol": "circle"
         },
         "mode": "markers",
         "name": "Amiens",
         "scene": "scene",
         "showlegend": true,
         "type": "scatter3d",
         "x": [
          12.659103393554688
         ],
         "y": [
          2.32643461227417
         ],
         "z": [
          8.333097457885742
         ]
        },
        {
         "hovertemplate": "Ville=Angers<br>0=%{x}<br>1=%{y}<br>2=%{z}<extra></extra>",
         "legendgroup": "Angers",
         "marker": {
          "color": "#19d3f3",
          "size": 5,
          "symbol": "circle"
         },
         "mode": "markers",
         "name": "Angers",
         "scene": "scene",
         "showlegend": true,
         "type": "scatter3d",
         "x": [
          12.906389236450195
         ],
         "y": [
          2.1490092277526855
         ],
         "z": [
          8.986335754394531
         ]
        },
        {
         "hovertemplate": "Ville=Angouleme<br>0=%{x}<br>1=%{y}<br>2=%{z}<extra></extra>",
         "legendgroup": "Angouleme",
         "marker": {
          "color": "#FF6692",
          "size": 5,
          "symbol": "circle"
         },
         "mode": "markers",
         "name": "Angouleme",
         "scene": "scene",
         "showlegend": true,
         "type": "scatter3d",
         "x": [
          13.193564414978027
         ],
         "y": [
          1.0544179677963257
         ],
         "z": [
          9.630051612854004
         ]
        },
        {
         "hovertemplate": "Ville=Annecy<br>0=%{x}<br>1=%{y}<br>2=%{z}<extra></extra>",
         "legendgroup": "Annecy",
         "marker": {
          "color": "#B6E880",
          "size": 5,
          "symbol": "circle"
         },
         "mode": "markers",
         "name": "Annecy",
         "scene": "scene",
         "showlegend": true,
         "type": "scatter3d",
         "x": [
          11.678084373474121
         ],
         "y": [
          4.851263523101807
         ],
         "z": [
          7.501280307769775
         ]
        },
        {
         "hovertemplate": "Ville=Antibes<br>0=%{x}<br>1=%{y}<br>2=%{z}<extra></extra>",
         "legendgroup": "Antibes",
         "marker": {
          "color": "#FF97FF",
          "size": 5,
          "symbol": "circle"
         },
         "mode": "markers",
         "name": "Antibes",
         "scene": "scene",
         "showlegend": true,
         "type": "scatter3d",
         "x": [
          10.197113037109375
         ],
         "y": [
          6.4008402824401855
         ],
         "z": [
          6.581368923187256
         ]
        },
        {
         "hovertemplate": "Ville=Arles<br>0=%{x}<br>1=%{y}<br>2=%{z}<extra></extra>",
         "legendgroup": "Arles",
         "marker": {
          "color": "#FECB52",
          "size": 5,
          "symbol": "circle"
         },
         "mode": "markers",
         "name": "Arles",
         "scene": "scene",
         "showlegend": true,
         "type": "scatter3d",
         "x": [
          11.688921928405762
         ],
         "y": [
          2.082941770553589
         ],
         "z": [
          10.821818351745605
         ]
        },
        {
         "hovertemplate": "Ville=Auxerre<br>0=%{x}<br>1=%{y}<br>2=%{z}<extra></extra>",
         "legendgroup": "Auxerre",
         "marker": {
          "color": "#636efa",
          "size": 5,
          "symbol": "circle"
         },
         "mode": "markers",
         "name": "Auxerre",
         "scene": "scene",
         "showlegend": true,
         "type": "scatter3d",
         "x": [
          12.642839431762695
         ],
         "y": [
          0.9075014591217041
         ],
         "z": [
          8.893138885498047
         ]
        },
        {
         "hovertemplate": "Ville=Avignon<br>0=%{x}<br>1=%{y}<br>2=%{z}<extra></extra>",
         "legendgroup": "Avignon",
         "marker": {
          "color": "#EF553B",
          "size": 5,
          "symbol": "circle"
         },
         "mode": "markers",
         "name": "Avignon",
         "scene": "scene",
         "showlegend": true,
         "type": "scatter3d",
         "x": [
          11.624199867248535
         ],
         "y": [
          1.7397702932357788
         ],
         "z": [
          11.04285717010498
         ]
        },
        {
         "hovertemplate": "Ville=Bastia<br>0=%{x}<br>1=%{y}<br>2=%{z}<extra></extra>",
         "legendgroup": "Bastia",
         "marker": {
          "color": "#00cc96",
          "size": 5,
          "symbol": "circle"
         },
         "mode": "markers",
         "name": "Bastia",
         "scene": "scene",
         "showlegend": true,
         "type": "scatter3d",
         "x": [
          11.351577758789062
         ],
         "y": [
          1.2410324811935425
         ],
         "z": [
          11.45434284210205
         ]
        },
        {
         "hovertemplate": "Ville=Bayonne<br>0=%{x}<br>1=%{y}<br>2=%{z}<extra></extra>",
         "legendgroup": "Bayonne",
         "marker": {
          "color": "#ab63fa",
          "size": 5,
          "symbol": "circle"
         },
         "mode": "markers",
         "name": "Bayonne",
         "scene": "scene",
         "showlegend": true,
         "type": "scatter3d",
         "x": [
          11.92210865020752
         ],
         "y": [
          -0.08641401678323746
         ],
         "z": [
          11.138527870178223
         ]
        },
        {
         "hovertemplate": "Ville=Beauvais<br>0=%{x}<br>1=%{y}<br>2=%{z}<extra></extra>",
         "legendgroup": "Beauvais",
         "marker": {
          "color": "#FFA15A",
          "size": 5,
          "symbol": "circle"
         },
         "mode": "markers",
         "name": "Beauvais",
         "scene": "scene",
         "showlegend": true,
         "type": "scatter3d",
         "x": [
          12.760074615478516
         ],
         "y": [
          0.5898200273513794
         ],
         "z": [
          9.021987915039062
         ]
        },
        {
         "hovertemplate": "Ville=Belfort<br>0=%{x}<br>1=%{y}<br>2=%{z}<extra></extra>",
         "legendgroup": "Belfort",
         "marker": {
          "color": "#19d3f3",
          "size": 5,
          "symbol": "circle"
         },
         "mode": "markers",
         "name": "Belfort",
         "scene": "scene",
         "showlegend": true,
         "type": "scatter3d",
         "x": [
          12.460295677185059
         ],
         "y": [
          3.1760497093200684
         ],
         "z": [
          8.0800142288208
         ]
        },
        {
         "hovertemplate": "Ville=Besancon<br>0=%{x}<br>1=%{y}<br>2=%{z}<extra></extra>",
         "legendgroup": "Besancon",
         "marker": {
          "color": "#FF6692",
          "size": 5,
          "symbol": "circle"
         },
         "mode": "markers",
         "name": "Besancon",
         "scene": "scene",
         "showlegend": true,
         "type": "scatter3d",
         "x": [
          12.85449504852295
         ],
         "y": [
          2.4211270809173584
         ],
         "z": [
          8.91126823425293
         ]
        },
        {
         "hovertemplate": "Ville=Beziers<br>0=%{x}<br>1=%{y}<br>2=%{z}<extra></extra>",
         "legendgroup": "Beziers",
         "marker": {
          "color": "#B6E880",
          "size": 5,
          "symbol": "circle"
         },
         "mode": "markers",
         "name": "Beziers",
         "scene": "scene",
         "showlegend": true,
         "type": "scatter3d",
         "x": [
          11.608487129211426
         ],
         "y": [
          0.9468794465065002
         ],
         "z": [
          11.51448917388916
         ]
        },
        {
         "hovertemplate": "Ville=Blois<br>0=%{x}<br>1=%{y}<br>2=%{z}<extra></extra>",
         "legendgroup": "Blois",
         "marker": {
          "color": "#FF97FF",
          "size": 5,
          "symbol": "circle"
         },
         "mode": "markers",
         "name": "Blois",
         "scene": "scene",
         "showlegend": true,
         "type": "scatter3d",
         "x": [
          12.68132495880127
         ],
         "y": [
          0.8249528408050537
         ],
         "z": [
          9.257070541381836
         ]
        },
        {
         "hovertemplate": "Ville=Bordeaux<br>0=%{x}<br>1=%{y}<br>2=%{z}<extra></extra>",
         "legendgroup": "Bordeaux",
         "marker": {
          "color": "#FECB52",
          "size": 5,
          "symbol": "circle"
         },
         "mode": "markers",
         "name": "Bordeaux",
         "scene": "scene",
         "showlegend": true,
         "type": "scatter3d",
         "x": [
          9.624911308288574
         ],
         "y": [
          6.403659343719482
         ],
         "z": [
          5.972651958465576
         ]
        },
        {
         "hovertemplate": "Ville=BoulogneBillancourt<br>0=%{x}<br>1=%{y}<br>2=%{z}<extra></extra>",
         "legendgroup": "BoulogneBillancourt",
         "marker": {
          "color": "#636efa",
          "size": 5,
          "symbol": "circle"
         },
         "mode": "markers",
         "name": "BoulogneBillancourt",
         "scene": "scene",
         "showlegend": true,
         "type": "scatter3d",
         "x": [
          10.128429412841797
         ],
         "y": [
          7.22128438949585
         ],
         "z": [
          5.044781684875488
         ]
        },
        {
         "hovertemplate": "Ville=BourgEnBresse<br>0=%{x}<br>1=%{y}<br>2=%{z}<extra></extra>",
         "legendgroup": "BourgEnBresse",
         "marker": {
          "color": "#EF553B",
          "size": 5,
          "symbol": "circle"
         },
         "mode": "markers",
         "name": "BourgEnBresse",
         "scene": "scene",
         "showlegend": true,
         "type": "scatter3d",
         "x": [
          12.801712989807129
         ],
         "y": [
          0.3525603413581848
         ],
         "z": [
          9.663702011108398
         ]
        },
        {
         "hovertemplate": "Ville=Bourges<br>0=%{x}<br>1=%{y}<br>2=%{z}<extra></extra>",
         "legendgroup": "Bourges",
         "marker": {
          "color": "#00cc96",
          "size": 5,
          "symbol": "circle"
         },
         "mode": "markers",
         "name": "Bourges",
         "scene": "scene",
         "showlegend": true,
         "type": "scatter3d",
         "x": [
          13.123324394226074
         ],
         "y": [
          2.849735975265503
         ],
         "z": [
          8.734477996826172
         ]
        },
        {
         "hovertemplate": "Ville=Brest<br>0=%{x}<br>1=%{y}<br>2=%{z}<extra></extra>",
         "legendgroup": "Brest",
         "marker": {
          "color": "#ab63fa",
          "size": 5,
          "symbol": "circle"
         },
         "mode": "markers",
         "name": "Brest",
         "scene": "scene",
         "showlegend": true,
         "type": "scatter3d",
         "x": [
          12.818920135498047
         ],
         "y": [
          -0.3456881046295166
         ],
         "z": [
          10.374357223510742
         ]
        },
        {
         "hovertemplate": "Ville=BriveLaGaillarde<br>0=%{x}<br>1=%{y}<br>2=%{z}<extra></extra>",
         "legendgroup": "BriveLaGaillarde",
         "marker": {
          "color": "#FFA15A",
          "size": 5,
          "symbol": "circle"
         },
         "mode": "markers",
         "name": "BriveLaGaillarde",
         "scene": "scene",
         "showlegend": true,
         "type": "scatter3d",
         "x": [
          12.805502891540527
         ],
         "y": [
          -0.020935477688908577
         ],
         "z": [
          10.641510963439941
         ]
        },
        {
         "hovertemplate": "Ville=Caen<br>0=%{x}<br>1=%{y}<br>2=%{z}<extra></extra>",
         "legendgroup": "Caen",
         "marker": {
          "color": "#19d3f3",
          "size": 5,
          "symbol": "circle"
         },
         "mode": "markers",
         "name": "Caen",
         "scene": "scene",
         "showlegend": true,
         "type": "scatter3d",
         "x": [
          11.70176887512207
         ],
         "y": [
          4.341692924499512
         ],
         "z": [
          7.476273059844971
         ]
        },
        {
         "hovertemplate": "Ville=Calais<br>0=%{x}<br>1=%{y}<br>2=%{z}<extra></extra>",
         "legendgroup": "Calais",
         "marker": {
          "color": "#FF6692",
          "size": 5,
          "symbol": "circle"
         },
         "mode": "markers",
         "name": "Calais",
         "scene": "scene",
         "showlegend": true,
         "type": "scatter3d",
         "x": [
          12.35204029083252
         ],
         "y": [
          -0.4341204762458801
         ],
         "z": [
          10.836076736450195
         ]
        },
        {
         "hovertemplate": "Ville=Cannes<br>0=%{x}<br>1=%{y}<br>2=%{z}<extra></extra>",
         "legendgroup": "Cannes",
         "marker": {
          "color": "#B6E880",
          "size": 5,
          "symbol": "circle"
         },
         "mode": "markers",
         "name": "Cannes",
         "scene": "scene",
         "showlegend": true,
         "type": "scatter3d",
         "x": [
          11.748414993286133
         ],
         "y": [
          2.517328977584839
         ],
         "z": [
          9.791748046875
         ]
        },
        {
         "hovertemplate": "Ville=Carcassonne<br>0=%{x}<br>1=%{y}<br>2=%{z}<extra></extra>",
         "legendgroup": "Carcassonne",
         "marker": {
          "color": "#FF97FF",
          "size": 5,
          "symbol": "circle"
         },
         "mode": "markers",
         "name": "Carcassonne",
         "scene": "scene",
         "showlegend": true,
         "type": "scatter3d",
         "x": [
          11.551459312438965
         ],
         "y": [
          0.7423937916755676
         ],
         "z": [
          11.6404447555542
         ]
        },
        {
         "hovertemplate": "Ville=Castres<br>0=%{x}<br>1=%{y}<br>2=%{z}<extra></extra>",
         "legendgroup": "Castres",
         "marker": {
          "color": "#FECB52",
          "size": 5,
          "symbol": "circle"
         },
         "mode": "markers",
         "name": "Castres",
         "scene": "scene",
         "showlegend": true,
         "type": "scatter3d",
         "x": [
          13.218934059143066
         ],
         "y": [
          1.7752851247787476
         ],
         "z": [
          9.469902992248535
         ]
        },
        {
         "hovertemplate": "Ville=ChalonSurSaone<br>0=%{x}<br>1=%{y}<br>2=%{z}<extra></extra>",
         "legendgroup": "ChalonSurSaone",
         "marker": {
          "color": "#636efa",
          "size": 5,
          "symbol": "circle"
         },
         "mode": "markers",
         "name": "ChalonSurSaone",
         "scene": "scene",
         "showlegend": true,
         "type": "scatter3d",
         "x": [
          13.0827054977417
         ],
         "y": [
          0.5137680768966675
         ],
         "z": [
          9.865196228027344
         ]
        },
        {
         "hovertemplate": "Ville=Chambery<br>0=%{x}<br>1=%{y}<br>2=%{z}<extra></extra>",
         "legendgroup": "Chambery",
         "marker": {
          "color": "#EF553B",
          "size": 5,
          "symbol": "circle"
         },
         "mode": "markers",
         "name": "Chambery",
         "scene": "scene",
         "showlegend": true,
         "type": "scatter3d",
         "x": [
          12.908568382263184
         ],
         "y": [
          2.6785056591033936
         ],
         "z": [
          9.138163566589355
         ]
        },
        {
         "hovertemplate": "Ville=CharlevilleMezieres<br>0=%{x}<br>1=%{y}<br>2=%{z}<extra></extra>",
         "legendgroup": "CharlevilleMezieres",
         "marker": {
          "color": "#00cc96",
          "size": 5,
          "symbol": "circle"
         },
         "mode": "markers",
         "name": "CharlevilleMezieres",
         "scene": "scene",
         "showlegend": true,
         "type": "scatter3d",
         "x": [
          12.654024124145508
         ],
         "y": [
          1.1677292585372925
         ],
         "z": [
          8.604801177978516
         ]
        },
        {
         "hovertemplate": "Ville=Chartres<br>0=%{x}<br>1=%{y}<br>2=%{z}<extra></extra>",
         "legendgroup": "Chartres",
         "marker": {
          "color": "#ab63fa",
          "size": 5,
          "symbol": "circle"
         },
         "mode": "markers",
         "name": "Chartres",
         "scene": "scene",
         "showlegend": true,
         "type": "scatter3d",
         "x": [
          11.699342727661133
         ],
         "y": [
          4.5177154541015625
         ],
         "z": [
          7.250575065612793
         ]
        },
        {
         "hovertemplate": "Ville=Cholet<br>0=%{x}<br>1=%{y}<br>2=%{z}<extra></extra>",
         "legendgroup": "Cholet",
         "marker": {
          "color": "#FFA15A",
          "size": 5,
          "symbol": "circle"
         },
         "mode": "markers",
         "name": "Cholet",
         "scene": "scene",
         "showlegend": true,
         "type": "scatter3d",
         "x": [
          13.129250526428223
         ],
         "y": [
          1.2896685600280762
         ],
         "z": [
          9.278552055358887
         ]
        },
        {
         "hovertemplate": "Ville=ClermontFerrand<br>0=%{x}<br>1=%{y}<br>2=%{z}<extra></extra>",
         "legendgroup": "ClermontFerrand",
         "marker": {
          "color": "#19d3f3",
          "size": 5,
          "symbol": "circle"
         },
         "mode": "markers",
         "name": "ClermontFerrand",
         "scene": "scene",
         "showlegend": true,
         "type": "scatter3d",
         "x": [
          13.048524856567383
         ],
         "y": [
          2.2233667373657227
         ],
         "z": [
          8.744071006774902
         ]
        },
        {
         "hovertemplate": "Ville=Colmar<br>0=%{x}<br>1=%{y}<br>2=%{z}<extra></extra>",
         "legendgroup": "Colmar",
         "marker": {
          "color": "#FF6692",
          "size": 5,
          "symbol": "circle"
         },
         "mode": "markers",
         "name": "Colmar",
         "scene": "scene",
         "showlegend": true,
         "type": "scatter3d",
         "x": [
          12.121434211730957
         ],
         "y": [
          3.964561700820923
         ],
         "z": [
          7.656745910644531
         ]
        },
        {
         "hovertemplate": "Ville=Compiegne<br>0=%{x}<br>1=%{y}<br>2=%{z}<extra></extra>",
         "legendgroup": "Compiegne",
         "marker": {
          "color": "#B6E880",
          "size": 5,
          "symbol": "circle"
         },
         "mode": "markers",
         "name": "Compiegne",
         "scene": "scene",
         "showlegend": true,
         "type": "scatter3d",
         "x": [
          9.78816032409668
         ],
         "y": [
          6.350061416625977
         ],
         "z": [
          6.099294662475586
         ]
        },
        {
         "hovertemplate": "Ville=CorbeilEssonnes<br>0=%{x}<br>1=%{y}<br>2=%{z}<extra></extra>",
         "legendgroup": "CorbeilEssonnes",
         "marker": {
          "color": "#FF97FF",
          "size": 5,
          "symbol": "circle"
         },
         "mode": "markers",
         "name": "CorbeilEssonnes",
         "scene": "scene",
         "showlegend": true,
         "type": "scatter3d",
         "x": [
          12.62121295928955
         ],
         "y": [
          2.966104745864868
         ],
         "z": [
          8.301702499389648
         ]
        },
        {
         "hovertemplate": "Ville=Creteil<br>0=%{x}<br>1=%{y}<br>2=%{z}<extra></extra>",
         "legendgroup": "Creteil",
         "marker": {
          "color": "#FECB52",
          "size": 5,
          "symbol": "circle"
         },
         "mode": "markers",
         "name": "Creteil",
         "scene": "scene",
         "showlegend": true,
         "type": "scatter3d",
         "x": [
          9.792085647583008
         ],
         "y": [
          6.611344814300537
         ],
         "z": [
          6.338560581207275
         ]
        },
        {
         "hovertemplate": "Ville=Dijon<br>0=%{x}<br>1=%{y}<br>2=%{z}<extra></extra>",
         "legendgroup": "Dijon",
         "marker": {
          "color": "#636efa",
          "size": 5,
          "symbol": "circle"
         },
         "mode": "markers",
         "name": "Dijon",
         "scene": "scene",
         "showlegend": true,
         "type": "scatter3d",
         "x": [
          11.442486763000488
         ],
         "y": [
          4.892195701599121
         ],
         "z": [
          7.076426982879639
         ]
        },
        {
         "hovertemplate": "Ville=Dunkerque<br>0=%{x}<br>1=%{y}<br>2=%{z}<extra></extra>",
         "legendgroup": "Dunkerque",
         "marker": {
          "color": "#EF553B",
          "size": 5,
          "symbol": "circle"
         },
         "mode": "markers",
         "name": "Dunkerque",
         "scene": "scene",
         "showlegend": true,
         "type": "scatter3d",
         "x": [
          10.694648742675781
         ],
         "y": [
          5.560882091522217
         ],
         "z": [
          6.848249912261963
         ]
        },
        {
         "hovertemplate": "Ville=Epinal<br>0=%{x}<br>1=%{y}<br>2=%{z}<extra></extra>",
         "legendgroup": "Epinal",
         "marker": {
          "color": "#00cc96",
          "size": 5,
          "symbol": "circle"
         },
         "mode": "markers",
         "name": "Epinal",
         "scene": "scene",
         "showlegend": true,
         "type": "scatter3d",
         "x": [
          13.31297779083252
         ],
         "y": [
          2.608492136001587
         ],
         "z": [
          8.54519271850586
         ]
        },
        {
         "hovertemplate": "Ville=Evry<br>0=%{x}<br>1=%{y}<br>2=%{z}<extra></extra>",
         "legendgroup": "Evry",
         "marker": {
          "color": "#ab63fa",
          "size": 5,
          "symbol": "circle"
         },
         "mode": "markers",
         "name": "Evry",
         "scene": "scene",
         "showlegend": true,
         "type": "scatter3d",
         "x": [
          10.413618087768555
         ],
         "y": [
          5.76615047454834
         ],
         "z": [
          6.697010040283203
         ]
        },
        {
         "hovertemplate": "Ville=Gap<br>0=%{x}<br>1=%{y}<br>2=%{z}<extra></extra>",
         "legendgroup": "Gap",
         "marker": {
          "color": "#FFA15A",
          "size": 5,
          "symbol": "circle"
         },
         "mode": "markers",
         "name": "Gap",
         "scene": "scene",
         "showlegend": true,
         "type": "scatter3d",
         "x": [
          11.82937240600586
         ],
         "y": [
          2.034625768661499
         ],
         "z": [
          10.49470043182373
         ]
        },
        {
         "hovertemplate": "Ville=Grenoble<br>0=%{x}<br>1=%{y}<br>2=%{z}<extra></extra>",
         "legendgroup": "Grenoble",
         "marker": {
          "color": "#19d3f3",
          "size": 5,
          "symbol": "circle"
         },
         "mode": "markers",
         "name": "Grenoble",
         "scene": "scene",
         "showlegend": true,
         "type": "scatter3d",
         "x": [
          10.060018539428711
         ],
         "y": [
          6.31275749206543
         ],
         "z": [
          6.281117916107178
         ]
        },
        {
         "hovertemplate": "Ville=La Rochelle<br>0=%{x}<br>1=%{y}<br>2=%{z}<extra></extra>",
         "legendgroup": "La Rochelle",
         "marker": {
          "color": "#FF6692",
          "size": 5,
          "symbol": "circle"
         },
         "mode": "markers",
         "name": "La Rochelle",
         "scene": "scene",
         "showlegend": true,
         "type": "scatter3d",
         "x": [
          12.057731628417969
         ],
         "y": [
          1.9034970998764038
         ],
         "z": [
          9.705973625183105
         ]
        },
        {
         "hovertemplate": "Ville=La RocheSurYon<br>0=%{x}<br>1=%{y}<br>2=%{z}<extra></extra>",
         "legendgroup": "La RocheSurYon",
         "marker": {
          "color": "#B6E880",
          "size": 5,
          "symbol": "circle"
         },
         "mode": "markers",
         "name": "La RocheSurYon",
         "scene": "scene",
         "showlegend": true,
         "type": "scatter3d",
         "x": [
          13.290509223937988
         ],
         "y": [
          2.2874338626861572
         ],
         "z": [
          9.088550567626953
         ]
        },
        {
         "hovertemplate": "Ville=Laval<br>0=%{x}<br>1=%{y}<br>2=%{z}<extra></extra>",
         "legendgroup": "Laval",
         "marker": {
          "color": "#FF97FF",
          "size": 5,
          "symbol": "circle"
         },
         "mode": "markers",
         "name": "Laval",
         "scene": "scene",
         "showlegend": true,
         "type": "scatter3d",
         "x": [
          12.689682960510254
         ],
         "y": [
          0.8381635546684265
         ],
         "z": [
          8.908256530761719
         ]
        },
        {
         "hovertemplate": "Ville=LeHavre<br>0=%{x}<br>1=%{y}<br>2=%{z}<extra></extra>",
         "legendgroup": "LeHavre",
         "marker": {
          "color": "#FECB52",
          "size": 5,
          "symbol": "circle"
         },
         "mode": "markers",
         "name": "LeHavre",
         "scene": "scene",
         "showlegend": true,
         "type": "scatter3d",
         "x": [
          12.139081001281738
         ],
         "y": [
          3.9809165000915527
         ],
         "z": [
          8.232099533081055
         ]
        },
        {
         "hovertemplate": "Ville=LeMans<br>0=%{x}<br>1=%{y}<br>2=%{z}<extra></extra>",
         "legendgroup": "LeMans",
         "marker": {
          "color": "#636efa",
          "size": 5,
          "symbol": "circle"
         },
         "mode": "markers",
         "name": "LeMans",
         "scene": "scene",
         "showlegend": true,
         "type": "scatter3d",
         "x": [
          12.100424766540527
         ],
         "y": [
          3.9330191612243652
         ],
         "z": [
          8.078897476196289
         ]
        },
        {
         "hovertemplate": "Ville=Lille<br>0=%{x}<br>1=%{y}<br>2=%{z}<extra></extra>",
         "legendgroup": "Lille",
         "marker": {
          "color": "#EF553B",
          "size": 5,
          "symbol": "circle"
         },
         "mode": "markers",
         "name": "Lille",
         "scene": "scene",
         "showlegend": true,
         "type": "scatter3d",
         "x": [
          11.17105484008789
         ],
         "y": [
          5.082386016845703
         ],
         "z": [
          7.077763557434082
         ]
        },
        {
         "hovertemplate": "Ville=Limoges<br>0=%{x}<br>1=%{y}<br>2=%{z}<extra></extra>",
         "legendgroup": "Limoges",
         "marker": {
          "color": "#00cc96",
          "size": 5,
          "symbol": "circle"
         },
         "mode": "markers",
         "name": "Limoges",
         "scene": "scene",
         "showlegend": true,
         "type": "scatter3d",
         "x": [
          12.984472274780273
         ],
         "y": [
          1.4312807321548462
         ],
         "z": [
          9.145224571228027
         ]
        },
        {
         "hovertemplate": "Ville=Lyon<br>0=%{x}<br>1=%{y}<br>2=%{z}<extra></extra>",
         "legendgroup": "Lyon",
         "marker": {
          "color": "#ab63fa",
          "size": 5,
          "symbol": "circle"
         },
         "mode": "markers",
         "name": "Lyon",
         "scene": "scene",
         "showlegend": true,
         "type": "scatter3d",
         "x": [
          9.801380157470703
         ],
         "y": [
          6.589816093444824
         ],
         "z": [
          5.810869216918945
         ]
        },
        {
         "hovertemplate": "Ville=Marseille<br>0=%{x}<br>1=%{y}<br>2=%{z}<extra></extra>",
         "legendgroup": "Marseille",
         "marker": {
          "color": "#FFA15A",
          "size": 5,
          "symbol": "circle"
         },
         "mode": "markers",
         "name": "Marseille",
         "scene": "scene",
         "showlegend": true,
         "type": "scatter3d",
         "x": [
          11.828896522521973
         ],
         "y": [
          3.002892017364502
         ],
         "z": [
          9.900921821594238
         ]
        },
        {
         "hovertemplate": "Ville=Melun<br>0=%{x}<br>1=%{y}<br>2=%{z}<extra></extra>",
         "legendgroup": "Melun",
         "marker": {
          "color": "#19d3f3",
          "size": 5,
          "symbol": "circle"
         },
         "mode": "markers",
         "name": "Melun",
         "scene": "scene",
         "showlegend": true,
         "type": "scatter3d",
         "x": [
          12.269594192504883
         ],
         "y": [
          3.5022597312927246
         ],
         "z": [
          7.875372886657715
         ]
        },
        {
         "hovertemplate": "Ville=Metz<br>0=%{x}<br>1=%{y}<br>2=%{z}<extra></extra>",
         "legendgroup": "Metz",
         "marker": {
          "color": "#FF6692",
          "size": 5,
          "symbol": "circle"
         },
         "mode": "markers",
         "name": "Metz",
         "scene": "scene",
         "showlegend": true,
         "type": "scatter3d",
         "x": [
          11.242770195007324
         ],
         "y": [
          4.779935359954834
         ],
         "z": [
          7.238247871398926
         ]
        },
        {
         "hovertemplate": "Ville=Montauban<br>0=%{x}<br>1=%{y}<br>2=%{z}<extra></extra>",
         "legendgroup": "Montauban",
         "marker": {
          "color": "#B6E880",
          "size": 5,
          "symbol": "circle"
         },
         "mode": "markers",
         "name": "Montauban",
         "scene": "scene",
         "showlegend": true,
         "type": "scatter3d",
         "x": [
          12.621112823486328
         ],
         "y": [
          0.1625717133283615
         ],
         "z": [
          10.813591003417969
         ]
        },
        {
         "hovertemplate": "Ville=Montlucon<br>0=%{x}<br>1=%{y}<br>2=%{z}<extra></extra>",
         "legendgroup": "Montlucon",
         "marker": {
          "color": "#FF97FF",
          "size": 5,
          "symbol": "circle"
         },
         "mode": "markers",
         "name": "Montlucon",
         "scene": "scene",
         "showlegend": true,
         "type": "scatter3d",
         "x": [
          11.79216194152832
         ],
         "y": [
          -0.17276018857955933
         ],
         "z": [
          11.491273880004883
         ]
        },
        {
         "hovertemplate": "Ville=Montpellier<br>0=%{x}<br>1=%{y}<br>2=%{z}<extra></extra>",
         "legendgroup": "Montpellier",
         "marker": {
          "color": "#FECB52",
          "size": 5,
          "symbol": "circle"
         },
         "mode": "markers",
         "name": "Montpellier",
         "scene": "scene",
         "showlegend": true,
         "type": "scatter3d",
         "x": [
          11.904083251953125
         ],
         "y": [
          2.693115234375
         ],
         "z": [
          10.221518516540527
         ]
        },
        {
         "hovertemplate": "Ville=Mulhouse<br>0=%{x}<br>1=%{y}<br>2=%{z}<extra></extra>",
         "legendgroup": "Mulhouse",
         "marker": {
          "color": "#636efa",
          "size": 5,
          "symbol": "circle"
         },
         "mode": "markers",
         "name": "Mulhouse",
         "scene": "scene",
         "showlegend": true,
         "type": "scatter3d",
         "x": [
          12.884628295898438
         ],
         "y": [
          -0.308314710855484
         ],
         "z": [
          10.695502281188965
         ]
        },
        {
         "hovertemplate": "Ville=Nancy<br>0=%{x}<br>1=%{y}<br>2=%{z}<extra></extra>",
         "legendgroup": "Nancy",
         "marker": {
          "color": "#EF553B",
          "size": 5,
          "symbol": "circle"
         },
         "mode": "markers",
         "name": "Nancy",
         "scene": "scene",
         "showlegend": true,
         "type": "scatter3d",
         "x": [
          9.851035118103027
         ],
         "y": [
          6.174977779388428
         ],
         "z": [
          5.967269420623779
         ]
        },
        {
         "hovertemplate": "Ville=Nantes<br>0=%{x}<br>1=%{y}<br>2=%{z}<extra></extra>",
         "legendgroup": "Nantes",
         "marker": {
          "color": "#00cc96",
          "size": 5,
          "symbol": "circle"
         },
         "mode": "markers",
         "name": "Nantes",
         "scene": "scene",
         "showlegend": true,
         "type": "scatter3d",
         "x": [
          10.011409759521484
         ],
         "y": [
          6.4431681632995605
         ],
         "z": [
          6.221508502960205
         ]
        },
        {
         "hovertemplate": "Ville=NeuillySurSeine<br>0=%{x}<br>1=%{y}<br>2=%{z}<extra></extra>",
         "legendgroup": "NeuillySurSeine",
         "marker": {
          "color": "#ab63fa",
          "size": 5,
          "symbol": "circle"
         },
         "mode": "markers",
         "name": "NeuillySurSeine",
         "scene": "scene",
         "showlegend": true,
         "type": "scatter3d",
         "x": [
          9.902878761291504
         ],
         "y": [
          7.10407829284668
         ],
         "z": [
          5.078921318054199
         ]
        },
        {
         "hovertemplate": "Ville=Nevers<br>0=%{x}<br>1=%{y}<br>2=%{z}<extra></extra>",
         "legendgroup": "Nevers",
         "marker": {
          "color": "#FFA15A",
          "size": 5,
          "symbol": "circle"
         },
         "mode": "markers",
         "name": "Nevers",
         "scene": "scene",
         "showlegend": true,
         "type": "scatter3d",
         "x": [
          12.881219863891602
         ],
         "y": [
          -0.0960177630186081
         ],
         "z": [
          10.426833152770996
         ]
        },
        {
         "hovertemplate": "Ville=Nice<br>0=%{x}<br>1=%{y}<br>2=%{z}<extra></extra>",
         "legendgroup": "Nice",
         "marker": {
          "color": "#19d3f3",
          "size": 5,
          "symbol": "circle"
         },
         "mode": "markers",
         "name": "Nice",
         "scene": "scene",
         "showlegend": true,
         "type": "scatter3d",
         "x": [
          11.78067398071289
         ],
         "y": [
          2.858736991882324
         ],
         "z": [
          9.949100494384766
         ]
        },
        {
         "hovertemplate": "Ville=Nimes<br>0=%{x}<br>1=%{y}<br>2=%{z}<extra></extra>",
         "legendgroup": "Nimes",
         "marker": {
          "color": "#FF6692",
          "size": 5,
          "symbol": "circle"
         },
         "mode": "markers",
         "name": "Nimes",
         "scene": "scene",
         "showlegend": true,
         "type": "scatter3d",
         "x": [
          11.792743682861328
         ],
         "y": [
          2.1913557052612305
         ],
         "z": [
          10.66704273223877
         ]
        },
        {
         "hovertemplate": "Ville=Niort<br>0=%{x}<br>1=%{y}<br>2=%{z}<extra></extra>",
         "legendgroup": "Niort",
         "marker": {
          "color": "#B6E880",
          "size": 5,
          "symbol": "circle"
         },
         "mode": "markers",
         "name": "Niort",
         "scene": "scene",
         "showlegend": true,
         "type": "scatter3d",
         "x": [
          10.82395076751709
         ],
         "y": [
          5.345856666564941
         ],
         "z": [
          6.853902816772461
         ]
        },
        {
         "hovertemplate": "Ville=Orleans<br>0=%{x}<br>1=%{y}<br>2=%{z}<extra></extra>",
         "legendgroup": "Orleans",
         "marker": {
          "color": "#FF97FF",
          "size": 5,
          "symbol": "circle"
         },
         "mode": "markers",
         "name": "Orleans",
         "scene": "scene",
         "showlegend": true,
         "type": "scatter3d",
         "x": [
          10.48009204864502
         ],
         "y": [
          6.0201215744018555
         ],
         "z": [
          6.44567346572876
         ]
        },
        {
         "hovertemplate": "Ville=Paris<br>0=%{x}<br>1=%{y}<br>2=%{z}<extra></extra>",
         "legendgroup": "Paris",
         "marker": {
          "color": "#FECB52",
          "size": 5,
          "symbol": "circle"
         },
         "mode": "markers",
         "name": "Paris",
         "scene": "scene",
         "showlegend": true,
         "type": "scatter3d",
         "x": [
          10.029229164123535
         ],
         "y": [
          7.363982200622559
         ],
         "z": [
          4.883153438568115
         ]
        },
        {
         "hovertemplate": "Ville=Pau<br>0=%{x}<br>1=%{y}<br>2=%{z}<extra></extra>",
         "legendgroup": "Pau",
         "marker": {
          "color": "#636efa",
          "size": 5,
          "symbol": "circle"
         },
         "mode": "markers",
         "name": "Pau",
         "scene": "scene",
         "showlegend": true,
         "type": "scatter3d",
         "x": [
          10.957687377929688
         ],
         "y": [
          5.169437408447266
         ],
         "z": [
          6.989968299865723
         ]
        },
        {
         "hovertemplate": "Ville=Perigueux<br>0=%{x}<br>1=%{y}<br>2=%{z}<extra></extra>",
         "legendgroup": "Perigueux",
         "marker": {
          "color": "#EF553B",
          "size": 5,
          "symbol": "circle"
         },
         "mode": "markers",
         "name": "Perigueux",
         "scene": "scene",
         "showlegend": true,
         "type": "scatter3d",
         "x": [
          11.95311164855957
         ],
         "y": [
          0.021448681131005287
         ],
         "z": [
          11.206412315368652
         ]
        },
        {
         "hovertemplate": "Ville=Perpignan<br>0=%{x}<br>1=%{y}<br>2=%{z}<extra></extra>",
         "legendgroup": "Perpignan",
         "marker": {
          "color": "#00cc96",
          "size": 5,
          "symbol": "circle"
         },
         "mode": "markers",
         "name": "Perpignan",
         "scene": "scene",
         "showlegend": true,
         "type": "scatter3d",
         "x": [
          11.683794021606445
         ],
         "y": [
          0.6513946056365967
         ],
         "z": [
          11.440969467163086
         ]
        },
        {
         "hovertemplate": "Ville=Poitiers<br>0=%{x}<br>1=%{y}<br>2=%{z}<extra></extra>",
         "legendgroup": "Poitiers",
         "marker": {
          "color": "#ab63fa",
          "size": 5,
          "symbol": "circle"
         },
         "mode": "markers",
         "name": "Poitiers",
         "scene": "scene",
         "showlegend": true,
         "type": "scatter3d",
         "x": [
          13.176701545715332
         ],
         "y": [
          2.686741590499878
         ],
         "z": [
          8.979823112487793
         ]
        },
        {
         "hovertemplate": "Ville=Quimper<br>0=%{x}<br>1=%{y}<br>2=%{z}<extra></extra>",
         "legendgroup": "Quimper",
         "marker": {
          "color": "#FFA15A",
          "size": 5,
          "symbol": "circle"
         },
         "mode": "markers",
         "name": "Quimper",
         "scene": "scene",
         "showlegend": true,
         "type": "scatter3d",
         "x": [
          13.025252342224121
         ],
         "y": [
          2.814624071121216
         ],
         "z": [
          8.50238037109375
         ]
        },
        {
         "hovertemplate": "Ville=Reims<br>0=%{x}<br>1=%{y}<br>2=%{z}<extra></extra>",
         "legendgroup": "Reims",
         "marker": {
          "color": "#19d3f3",
          "size": 5,
          "symbol": "circle"
         },
         "mode": "markers",
         "name": "Reims",
         "scene": "scene",
         "showlegend": true,
         "type": "scatter3d",
         "x": [
          12.174617767333984
         ],
         "y": [
          3.851828098297119
         ],
         "z": [
          7.7349138259887695
         ]
        },
        {
         "hovertemplate": "Ville=Rennes<br>0=%{x}<br>1=%{y}<br>2=%{z}<extra></extra>",
         "legendgroup": "Rennes",
         "marker": {
          "color": "#FF6692",
          "size": 5,
          "symbol": "circle"
         },
         "mode": "markers",
         "name": "Rennes",
         "scene": "scene",
         "showlegend": true,
         "type": "scatter3d",
         "x": [
          10.84266185760498
         ],
         "y": [
          6.032493591308594
         ],
         "z": [
          6.507293224334717
         ]
        },
        {
         "hovertemplate": "Ville=Rouen<br>0=%{x}<br>1=%{y}<br>2=%{z}<extra></extra>",
         "legendgroup": "Rouen",
         "marker": {
          "color": "#B6E880",
          "size": 5,
          "symbol": "circle"
         },
         "mode": "markers",
         "name": "Rouen",
         "scene": "scene",
         "showlegend": true,
         "type": "scatter3d",
         "x": [
          10.649267196655273
         ],
         "y": [
          5.773730754852295
         ],
         "z": [
          6.668272495269775
         ]
        },
        {
         "hovertemplate": "Ville=RueilMalmaison<br>0=%{x}<br>1=%{y}<br>2=%{z}<extra></extra>",
         "legendgroup": "RueilMalmaison",
         "marker": {
          "color": "#FF97FF",
          "size": 5,
          "symbol": "circle"
         },
         "mode": "markers",
         "name": "RueilMalmaison",
         "scene": "scene",
         "showlegend": true,
         "type": "scatter3d",
         "x": [
          9.945537567138672
         ],
         "y": [
          7.362427234649658
         ],
         "z": [
          4.849814414978027
         ]
        },
        {
         "hovertemplate": "Ville=SaintBrieuc<br>0=%{x}<br>1=%{y}<br>2=%{z}<extra></extra>",
         "legendgroup": "SaintBrieuc",
         "marker": {
          "color": "#FECB52",
          "size": 5,
          "symbol": "circle"
         },
         "mode": "markers",
         "name": "SaintBrieuc",
         "scene": "scene",
         "showlegend": true,
         "type": "scatter3d",
         "x": [
          12.742026329040527
         ],
         "y": [
          1.1061487197875977
         ],
         "z": [
          8.912199020385742
         ]
        },
        {
         "hovertemplate": "Ville=SaintDenis<br>0=%{x}<br>1=%{y}<br>2=%{z}<extra></extra>",
         "legendgroup": "SaintDenis",
         "marker": {
          "color": "#636efa",
          "size": 5,
          "symbol": "circle"
         },
         "mode": "markers",
         "name": "SaintDenis",
         "scene": "scene",
         "showlegend": true,
         "type": "scatter3d",
         "x": [
          12.304418563842773
         ],
         "y": [
          -0.47367003560066223
         ],
         "z": [
          10.750898361206055
         ]
        },
        {
         "hovertemplate": "Ville=SaintEtienne<br>0=%{x}<br>1=%{y}<br>2=%{z}<extra></extra>",
         "legendgroup": "SaintEtienne",
         "marker": {
          "color": "#EF553B",
          "size": 5,
          "symbol": "circle"
         },
         "mode": "markers",
         "name": "SaintEtienne",
         "scene": "scene",
         "showlegend": true,
         "type": "scatter3d",
         "x": [
          13.116621017456055
         ],
         "y": [
          0.841728925704956
         ],
         "z": [
          9.545171737670898
         ]
        },
        {
         "hovertemplate": "Ville=SaintGermainEnLaye<br>0=%{x}<br>1=%{y}<br>2=%{z}<extra></extra>",
         "legendgroup": "SaintGermainEnLaye",
         "marker": {
          "color": "#00cc96",
          "size": 5,
          "symbol": "circle"
         },
         "mode": "markers",
         "name": "SaintGermainEnLaye",
         "scene": "scene",
         "showlegend": true,
         "type": "scatter3d",
         "x": [
          9.847650527954102
         ],
         "y": [
          7.1930131912231445
         ],
         "z": [
          5.016386985778809
         ]
        },
        {
         "hovertemplate": "Ville=SaintMalo<br>0=%{x}<br>1=%{y}<br>2=%{z}<extra></extra>",
         "legendgroup": "SaintMalo",
         "marker": {
          "color": "#ab63fa",
          "size": 5,
          "symbol": "circle"
         },
         "mode": "markers",
         "name": "SaintMalo",
         "scene": "scene",
         "showlegend": true,
         "type": "scatter3d",
         "x": [
          12.27089786529541
         ],
         "y": [
          1.6591275930404663
         ],
         "z": [
          9.35205078125
         ]
        },
        {
         "hovertemplate": "Ville=SaintNazaire<br>0=%{x}<br>1=%{y}<br>2=%{z}<extra></extra>",
         "legendgroup": "SaintNazaire",
         "marker": {
          "color": "#FFA15A",
          "size": 5,
          "symbol": "circle"
         },
         "mode": "markers",
         "name": "SaintNazaire",
         "scene": "scene",
         "showlegend": true,
         "type": "scatter3d",
         "x": [
          12.507240295410156
         ],
         "y": [
          3.412144184112549
         ],
         "z": [
          8.355756759643555
         ]
        },
        {
         "hovertemplate": "Ville=SaintQuentin<br>0=%{x}<br>1=%{y}<br>2=%{z}<extra></extra>",
         "legendgroup": "SaintQuentin",
         "marker": {
          "color": "#19d3f3",
          "size": 5,
          "symbol": "circle"
         },
         "mode": "markers",
         "name": "SaintQuentin",
         "scene": "scene",
         "showlegend": true,
         "type": "scatter3d",
         "x": [
          12.734525680541992
         ],
         "y": [
          -0.4431096911430359
         ],
         "z": [
          10.797584533691406
         ]
        },
        {
         "hovertemplate": "Ville=Sarcelles<br>0=%{x}<br>1=%{y}<br>2=%{z}<extra></extra>",
         "legendgroup": "Sarcelles",
         "marker": {
          "color": "#FF6692",
          "size": 5,
          "symbol": "circle"
         },
         "mode": "markers",
         "name": "Sarcelles",
         "scene": "scene",
         "showlegend": true,
         "type": "scatter3d",
         "x": [
          12.225410461425781
         ],
         "y": [
          -0.5287619233131409
         ],
         "z": [
          10.79216480255127
         ]
        },
        {
         "hovertemplate": "Ville=Sete<br>0=%{x}<br>1=%{y}<br>2=%{z}<extra></extra>",
         "legendgroup": "Sete",
         "marker": {
          "color": "#B6E880",
          "size": 5,
          "symbol": "circle"
         },
         "mode": "markers",
         "name": "Sete",
         "scene": "scene",
         "showlegend": true,
         "type": "scatter3d",
         "x": [
          11.51607894897461
         ],
         "y": [
          1.1022891998291016
         ],
         "z": [
          11.379220962524414
         ]
        },
        {
         "hovertemplate": "Ville=Strasbourg<br>0=%{x}<br>1=%{y}<br>2=%{z}<extra></extra>",
         "legendgroup": "Strasbourg",
         "marker": {
          "color": "#FF97FF",
          "size": 5,
          "symbol": "circle"
         },
         "mode": "markers",
         "name": "Strasbourg",
         "scene": "scene",
         "showlegend": true,
         "type": "scatter3d",
         "x": [
          11.010388374328613
         ],
         "y": [
          5.7473955154418945
         ],
         "z": [
          6.747499942779541
         ]
        },
        {
         "hovertemplate": "Ville=Tarbes<br>0=%{x}<br>1=%{y}<br>2=%{z}<extra></extra>",
         "legendgroup": "Tarbes",
         "marker": {
          "color": "#FECB52",
          "size": 5,
          "symbol": "circle"
         },
         "mode": "markers",
         "name": "Tarbes",
         "scene": "scene",
         "showlegend": true,
         "type": "scatter3d",
         "x": [
          11.927488327026367
         ],
         "y": [
          -0.03270059451460838
         ],
         "z": [
          11.314453125
         ]
        },
        {
         "hovertemplate": "Ville=Toulon<br>0=%{x}<br>1=%{y}<br>2=%{z}<extra></extra>",
         "legendgroup": "Toulon",
         "marker": {
          "color": "#636efa",
          "size": 5,
          "symbol": "circle"
         },
         "mode": "markers",
         "name": "Toulon",
         "scene": "scene",
         "showlegend": true,
         "type": "scatter3d",
         "x": [
          11.560232162475586
         ],
         "y": [
          1.2800002098083496
         ],
         "z": [
          11.328327178955078
         ]
        },
        {
         "hovertemplate": "Ville=Toulouse<br>0=%{x}<br>1=%{y}<br>2=%{z}<extra></extra>",
         "legendgroup": "Toulouse",
         "marker": {
          "color": "#EF553B",
          "size": 5,
          "symbol": "circle"
         },
         "mode": "markers",
         "name": "Toulouse",
         "scene": "scene",
         "showlegend": true,
         "type": "scatter3d",
         "x": [
          10.270914077758789
         ],
         "y": [
          6.17702054977417
         ],
         "z": [
          6.270358562469482
         ]
        },
        {
         "hovertemplate": "Ville=Tours<br>0=%{x}<br>1=%{y}<br>2=%{z}<extra></extra>",
         "legendgroup": "Tours",
         "marker": {
          "color": "#00cc96",
          "size": 5,
          "symbol": "circle"
         },
         "mode": "markers",
         "name": "Tours",
         "scene": "scene",
         "showlegend": true,
         "type": "scatter3d",
         "x": [
          12.903989791870117
         ],
         "y": [
          2.695760488510132
         ],
         "z": [
          8.761116981506348
         ]
        },
        {
         "hovertemplate": "Ville=Troyes<br>0=%{x}<br>1=%{y}<br>2=%{z}<extra></extra>",
         "legendgroup": "Troyes",
         "marker": {
          "color": "#ab63fa",
          "size": 5,
          "symbol": "circle"
         },
         "mode": "markers",
         "name": "Troyes",
         "scene": "scene",
         "showlegend": true,
         "type": "scatter3d",
         "x": [
          11.867770195007324
         ],
         "y": [
          -0.25147441029548645
         ],
         "z": [
          11.349357604980469
         ]
        },
        {
         "hovertemplate": "Ville=Valence<br>0=%{x}<br>1=%{y}<br>2=%{z}<extra></extra>",
         "legendgroup": "Valence",
         "marker": {
          "color": "#FFA15A",
          "size": 5,
          "symbol": "circle"
         },
         "mode": "markers",
         "name": "Valence",
         "scene": "scene",
         "showlegend": true,
         "type": "scatter3d",
         "x": [
          12.126879692077637
         ],
         "y": [
          2.4518439769744873
         ],
         "z": [
          10.285676956176758
         ]
        },
        {
         "hovertemplate": "Ville=Valenciennes<br>0=%{x}<br>1=%{y}<br>2=%{z}<extra></extra>",
         "legendgroup": "Valenciennes",
         "marker": {
          "color": "#19d3f3",
          "size": 5,
          "symbol": "circle"
         },
         "mode": "markers",
         "name": "Valenciennes",
         "scene": "scene",
         "showlegend": true,
         "type": "scatter3d",
         "x": [
          11.080265998840332
         ],
         "y": [
          4.936884880065918
         ],
         "z": [
          7.2203264236450195
         ]
        },
        {
         "hovertemplate": "Ville=Vannes<br>0=%{x}<br>1=%{y}<br>2=%{z}<extra></extra>",
         "legendgroup": "Vannes",
         "marker": {
          "color": "#FF6692",
          "size": 5,
          "symbol": "circle"
         },
         "mode": "markers",
         "name": "Vannes",
         "scene": "scene",
         "showlegend": true,
         "type": "scatter3d",
         "x": [
          11.590012550354004
         ],
         "y": [
          4.599977970123291
         ],
         "z": [
          7.337255954742432
         ]
        },
        {
         "hovertemplate": "Ville=Versailles<br>0=%{x}<br>1=%{y}<br>2=%{z}<extra></extra>",
         "legendgroup": "Versailles",
         "marker": {
          "color": "#B6E880",
          "size": 5,
          "symbol": "circle"
         },
         "mode": "markers",
         "name": "Versailles",
         "scene": "scene",
         "showlegend": true,
         "type": "scatter3d",
         "x": [
          9.922098159790039
         ],
         "y": [
          7.330809593200684
         ],
         "z": [
          4.868345260620117
         ]
        },
        {
         "hovertemplate": "Ville=Vichy<br>0=%{x}<br>1=%{y}<br>2=%{z}<extra></extra>",
         "legendgroup": "Vichy",
         "marker": {
          "color": "#FF97FF",
          "size": 5,
          "symbol": "circle"
         },
         "mode": "markers",
         "name": "Vichy",
         "scene": "scene",
         "showlegend": true,
         "type": "scatter3d",
         "x": [
          12.777036666870117
         ],
         "y": [
          -0.23888200521469116
         ],
         "z": [
          10.906632423400879
         ]
        },
        {
         "hovertemplate": "Ville=Villeurbanne<br>0=%{x}<br>1=%{y}<br>2=%{z}<extra></extra>",
         "legendgroup": "Villeurbanne",
         "marker": {
          "color": "#FECB52",
          "size": 5,
          "symbol": "circle"
         },
         "mode": "markers",
         "name": "Villeurbanne",
         "scene": "scene",
         "showlegend": true,
         "type": "scatter3d",
         "x": [
          12.341239929199219
         ],
         "y": [
          3.6515567302703857
         ],
         "z": [
          8.378547668457031
         ]
        }
       ],
       "layout": {
        "legend": {
         "title": {
          "text": "Ville"
         },
         "tracegroupgap": 0
        },
        "margin": {
         "t": 60
        },
        "scene": {
         "domain": {
          "x": [
           0,
           1
          ],
          "y": [
           0,
           1
          ]
         },
         "xaxis": {
          "title": {
           "text": "0"
          }
         },
         "yaxis": {
          "title": {
           "text": "1"
          }
         },
         "zaxis": {
          "title": {
           "text": "2"
          }
         }
        },
        "template": {
         "data": {
          "bar": [
           {
            "error_x": {
             "color": "#2a3f5f"
            },
            "error_y": {
             "color": "#2a3f5f"
            },
            "marker": {
             "line": {
              "color": "#E5ECF6",
              "width": 0.5
             },
             "pattern": {
              "fillmode": "overlay",
              "size": 10,
              "solidity": 0.2
             }
            },
            "type": "bar"
           }
          ],
          "barpolar": [
           {
            "marker": {
             "line": {
              "color": "#E5ECF6",
              "width": 0.5
             },
             "pattern": {
              "fillmode": "overlay",
              "size": 10,
              "solidity": 0.2
             }
            },
            "type": "barpolar"
           }
          ],
          "carpet": [
           {
            "aaxis": {
             "endlinecolor": "#2a3f5f",
             "gridcolor": "white",
             "linecolor": "white",
             "minorgridcolor": "white",
             "startlinecolor": "#2a3f5f"
            },
            "baxis": {
             "endlinecolor": "#2a3f5f",
             "gridcolor": "white",
             "linecolor": "white",
             "minorgridcolor": "white",
             "startlinecolor": "#2a3f5f"
            },
            "type": "carpet"
           }
          ],
          "choropleth": [
           {
            "colorbar": {
             "outlinewidth": 0,
             "ticks": ""
            },
            "type": "choropleth"
           }
          ],
          "contour": [
           {
            "colorbar": {
             "outlinewidth": 0,
             "ticks": ""
            },
            "colorscale": [
             [
              0,
              "#0d0887"
             ],
             [
              0.1111111111111111,
              "#46039f"
             ],
             [
              0.2222222222222222,
              "#7201a8"
             ],
             [
              0.3333333333333333,
              "#9c179e"
             ],
             [
              0.4444444444444444,
              "#bd3786"
             ],
             [
              0.5555555555555556,
              "#d8576b"
             ],
             [
              0.6666666666666666,
              "#ed7953"
             ],
             [
              0.7777777777777778,
              "#fb9f3a"
             ],
             [
              0.8888888888888888,
              "#fdca26"
             ],
             [
              1,
              "#f0f921"
             ]
            ],
            "type": "contour"
           }
          ],
          "contourcarpet": [
           {
            "colorbar": {
             "outlinewidth": 0,
             "ticks": ""
            },
            "type": "contourcarpet"
           }
          ],
          "heatmap": [
           {
            "colorbar": {
             "outlinewidth": 0,
             "ticks": ""
            },
            "colorscale": [
             [
              0,
              "#0d0887"
             ],
             [
              0.1111111111111111,
              "#46039f"
             ],
             [
              0.2222222222222222,
              "#7201a8"
             ],
             [
              0.3333333333333333,
              "#9c179e"
             ],
             [
              0.4444444444444444,
              "#bd3786"
             ],
             [
              0.5555555555555556,
              "#d8576b"
             ],
             [
              0.6666666666666666,
              "#ed7953"
             ],
             [
              0.7777777777777778,
              "#fb9f3a"
             ],
             [
              0.8888888888888888,
              "#fdca26"
             ],
             [
              1,
              "#f0f921"
             ]
            ],
            "type": "heatmap"
           }
          ],
          "heatmapgl": [
           {
            "colorbar": {
             "outlinewidth": 0,
             "ticks": ""
            },
            "colorscale": [
             [
              0,
              "#0d0887"
             ],
             [
              0.1111111111111111,
              "#46039f"
             ],
             [
              0.2222222222222222,
              "#7201a8"
             ],
             [
              0.3333333333333333,
              "#9c179e"
             ],
             [
              0.4444444444444444,
              "#bd3786"
             ],
             [
              0.5555555555555556,
              "#d8576b"
             ],
             [
              0.6666666666666666,
              "#ed7953"
             ],
             [
              0.7777777777777778,
              "#fb9f3a"
             ],
             [
              0.8888888888888888,
              "#fdca26"
             ],
             [
              1,
              "#f0f921"
             ]
            ],
            "type": "heatmapgl"
           }
          ],
          "histogram": [
           {
            "marker": {
             "pattern": {
              "fillmode": "overlay",
              "size": 10,
              "solidity": 0.2
             }
            },
            "type": "histogram"
           }
          ],
          "histogram2d": [
           {
            "colorbar": {
             "outlinewidth": 0,
             "ticks": ""
            },
            "colorscale": [
             [
              0,
              "#0d0887"
             ],
             [
              0.1111111111111111,
              "#46039f"
             ],
             [
              0.2222222222222222,
              "#7201a8"
             ],
             [
              0.3333333333333333,
              "#9c179e"
             ],
             [
              0.4444444444444444,
              "#bd3786"
             ],
             [
              0.5555555555555556,
              "#d8576b"
             ],
             [
              0.6666666666666666,
              "#ed7953"
             ],
             [
              0.7777777777777778,
              "#fb9f3a"
             ],
             [
              0.8888888888888888,
              "#fdca26"
             ],
             [
              1,
              "#f0f921"
             ]
            ],
            "type": "histogram2d"
           }
          ],
          "histogram2dcontour": [
           {
            "colorbar": {
             "outlinewidth": 0,
             "ticks": ""
            },
            "colorscale": [
             [
              0,
              "#0d0887"
             ],
             [
              0.1111111111111111,
              "#46039f"
             ],
             [
              0.2222222222222222,
              "#7201a8"
             ],
             [
              0.3333333333333333,
              "#9c179e"
             ],
             [
              0.4444444444444444,
              "#bd3786"
             ],
             [
              0.5555555555555556,
              "#d8576b"
             ],
             [
              0.6666666666666666,
              "#ed7953"
             ],
             [
              0.7777777777777778,
              "#fb9f3a"
             ],
             [
              0.8888888888888888,
              "#fdca26"
             ],
             [
              1,
              "#f0f921"
             ]
            ],
            "type": "histogram2dcontour"
           }
          ],
          "mesh3d": [
           {
            "colorbar": {
             "outlinewidth": 0,
             "ticks": ""
            },
            "type": "mesh3d"
           }
          ],
          "parcoords": [
           {
            "line": {
             "colorbar": {
              "outlinewidth": 0,
              "ticks": ""
             }
            },
            "type": "parcoords"
           }
          ],
          "pie": [
           {
            "automargin": true,
            "type": "pie"
           }
          ],
          "scatter": [
           {
            "marker": {
             "colorbar": {
              "outlinewidth": 0,
              "ticks": ""
             }
            },
            "type": "scatter"
           }
          ],
          "scatter3d": [
           {
            "line": {
             "colorbar": {
              "outlinewidth": 0,
              "ticks": ""
             }
            },
            "marker": {
             "colorbar": {
              "outlinewidth": 0,
              "ticks": ""
             }
            },
            "type": "scatter3d"
           }
          ],
          "scattercarpet": [
           {
            "marker": {
             "colorbar": {
              "outlinewidth": 0,
              "ticks": ""
             }
            },
            "type": "scattercarpet"
           }
          ],
          "scattergeo": [
           {
            "marker": {
             "colorbar": {
              "outlinewidth": 0,
              "ticks": ""
             }
            },
            "type": "scattergeo"
           }
          ],
          "scattergl": [
           {
            "marker": {
             "colorbar": {
              "outlinewidth": 0,
              "ticks": ""
             }
            },
            "type": "scattergl"
           }
          ],
          "scattermapbox": [
           {
            "marker": {
             "colorbar": {
              "outlinewidth": 0,
              "ticks": ""
             }
            },
            "type": "scattermapbox"
           }
          ],
          "scatterpolar": [
           {
            "marker": {
             "colorbar": {
              "outlinewidth": 0,
              "ticks": ""
             }
            },
            "type": "scatterpolar"
           }
          ],
          "scatterpolargl": [
           {
            "marker": {
             "colorbar": {
              "outlinewidth": 0,
              "ticks": ""
             }
            },
            "type": "scatterpolargl"
           }
          ],
          "scatterternary": [
           {
            "marker": {
             "colorbar": {
              "outlinewidth": 0,
              "ticks": ""
             }
            },
            "type": "scatterternary"
           }
          ],
          "surface": [
           {
            "colorbar": {
             "outlinewidth": 0,
             "ticks": ""
            },
            "colorscale": [
             [
              0,
              "#0d0887"
             ],
             [
              0.1111111111111111,
              "#46039f"
             ],
             [
              0.2222222222222222,
              "#7201a8"
             ],
             [
              0.3333333333333333,
              "#9c179e"
             ],
             [
              0.4444444444444444,
              "#bd3786"
             ],
             [
              0.5555555555555556,
              "#d8576b"
             ],
             [
              0.6666666666666666,
              "#ed7953"
             ],
             [
              0.7777777777777778,
              "#fb9f3a"
             ],
             [
              0.8888888888888888,
              "#fdca26"
             ],
             [
              1,
              "#f0f921"
             ]
            ],
            "type": "surface"
           }
          ],
          "table": [
           {
            "cells": {
             "fill": {
              "color": "#EBF0F8"
             },
             "line": {
              "color": "white"
             }
            },
            "header": {
             "fill": {
              "color": "#C8D4E3"
             },
             "line": {
              "color": "white"
             }
            },
            "type": "table"
           }
          ]
         },
         "layout": {
          "annotationdefaults": {
           "arrowcolor": "#2a3f5f",
           "arrowhead": 0,
           "arrowwidth": 1
          },
          "autotypenumbers": "strict",
          "coloraxis": {
           "colorbar": {
            "outlinewidth": 0,
            "ticks": ""
           }
          },
          "colorscale": {
           "diverging": [
            [
             0,
             "#8e0152"
            ],
            [
             0.1,
             "#c51b7d"
            ],
            [
             0.2,
             "#de77ae"
            ],
            [
             0.3,
             "#f1b6da"
            ],
            [
             0.4,
             "#fde0ef"
            ],
            [
             0.5,
             "#f7f7f7"
            ],
            [
             0.6,
             "#e6f5d0"
            ],
            [
             0.7,
             "#b8e186"
            ],
            [
             0.8,
             "#7fbc41"
            ],
            [
             0.9,
             "#4d9221"
            ],
            [
             1,
             "#276419"
            ]
           ],
           "sequential": [
            [
             0,
             "#0d0887"
            ],
            [
             0.1111111111111111,
             "#46039f"
            ],
            [
             0.2222222222222222,
             "#7201a8"
            ],
            [
             0.3333333333333333,
             "#9c179e"
            ],
            [
             0.4444444444444444,
             "#bd3786"
            ],
            [
             0.5555555555555556,
             "#d8576b"
            ],
            [
             0.6666666666666666,
             "#ed7953"
            ],
            [
             0.7777777777777778,
             "#fb9f3a"
            ],
            [
             0.8888888888888888,
             "#fdca26"
            ],
            [
             1,
             "#f0f921"
            ]
           ],
           "sequentialminus": [
            [
             0,
             "#0d0887"
            ],
            [
             0.1111111111111111,
             "#46039f"
            ],
            [
             0.2222222222222222,
             "#7201a8"
            ],
            [
             0.3333333333333333,
             "#9c179e"
            ],
            [
             0.4444444444444444,
             "#bd3786"
            ],
            [
             0.5555555555555556,
             "#d8576b"
            ],
            [
             0.6666666666666666,
             "#ed7953"
            ],
            [
             0.7777777777777778,
             "#fb9f3a"
            ],
            [
             0.8888888888888888,
             "#fdca26"
            ],
            [
             1,
             "#f0f921"
            ]
           ]
          },
          "colorway": [
           "#636efa",
           "#EF553B",
           "#00cc96",
           "#ab63fa",
           "#FFA15A",
           "#19d3f3",
           "#FF6692",
           "#B6E880",
           "#FF97FF",
           "#FECB52"
          ],
          "font": {
           "color": "#2a3f5f"
          },
          "geo": {
           "bgcolor": "white",
           "lakecolor": "white",
           "landcolor": "#E5ECF6",
           "showlakes": true,
           "showland": true,
           "subunitcolor": "white"
          },
          "hoverlabel": {
           "align": "left"
          },
          "hovermode": "closest",
          "mapbox": {
           "style": "light"
          },
          "paper_bgcolor": "white",
          "plot_bgcolor": "#E5ECF6",
          "polar": {
           "angularaxis": {
            "gridcolor": "white",
            "linecolor": "white",
            "ticks": ""
           },
           "bgcolor": "#E5ECF6",
           "radialaxis": {
            "gridcolor": "white",
            "linecolor": "white",
            "ticks": ""
           }
          },
          "scene": {
           "xaxis": {
            "backgroundcolor": "#E5ECF6",
            "gridcolor": "white",
            "gridwidth": 2,
            "linecolor": "white",
            "showbackground": true,
            "ticks": "",
            "zerolinecolor": "white"
           },
           "yaxis": {
            "backgroundcolor": "#E5ECF6",
            "gridcolor": "white",
            "gridwidth": 2,
            "linecolor": "white",
            "showbackground": true,
            "ticks": "",
            "zerolinecolor": "white"
           },
           "zaxis": {
            "backgroundcolor": "#E5ECF6",
            "gridcolor": "white",
            "gridwidth": 2,
            "linecolor": "white",
            "showbackground": true,
            "ticks": "",
            "zerolinecolor": "white"
           }
          },
          "shapedefaults": {
           "line": {
            "color": "#2a3f5f"
           }
          },
          "ternary": {
           "aaxis": {
            "gridcolor": "white",
            "linecolor": "white",
            "ticks": ""
           },
           "baxis": {
            "gridcolor": "white",
            "linecolor": "white",
            "ticks": ""
           },
           "bgcolor": "#E5ECF6",
           "caxis": {
            "gridcolor": "white",
            "linecolor": "white",
            "ticks": ""
           }
          },
          "title": {
           "x": 0.05
          },
          "xaxis": {
           "automargin": true,
           "gridcolor": "white",
           "linecolor": "white",
           "ticks": "",
           "title": {
            "standoff": 15
           },
           "zerolinecolor": "white",
           "zerolinewidth": 2
          },
          "yaxis": {
           "automargin": true,
           "gridcolor": "white",
           "linecolor": "white",
           "ticks": "",
           "title": {
            "standoff": 15
           },
           "zerolinecolor": "white",
           "zerolinewidth": 2
          }
         }
        }
       }
      }
     },
     "metadata": {},
     "output_type": "display_data"
    }
   ],
   "source": [
    "from umap import UMAP\n",
    "import plotly.express as px\n",
    "\n",
    "\n",
    "features = df.loc[:,'Chomage':'AttiranceActifs']\n",
    "\n",
    "umap_2d = UMAP(n_components=2, init='random', random_state=0)\n",
    "umap_3d = UMAP(n_components=3, init='random', random_state=0)\n",
    "\n",
    "proj_2d = umap_2d.fit_transform(features)\n",
    "proj_3d = umap_3d.fit_transform(features)\n",
    "\n",
    "fig_2d = px.scatter(\n",
    "    proj_2d, x=0, y=1,\n",
    "    color=df.Ville, labels={'color': 'Ville'}\n",
    ")\n",
    "fig_3d = px.scatter_3d(\n",
    "    proj_3d, x=0, y=1, z=2,\n",
    "    color=df.Ville, labels={'color': 'Ville'}\n",
    ")\n",
    "fig_3d.update_traces(marker_size=5)\n",
    "\n",
    "fig_2d.show()\n",
    "fig_3d.show()"
   ]
  },
  {
   "cell_type": "markdown",
   "metadata": {},
   "source": [
    "UMAP essaye d'agreger les éléments d'une même classe en 2D et en 3D mais malheureusement elle n'arrive pas à le faire convenablement."
   ]
  }
 ],
 "metadata": {
  "kernelspec": {
   "display_name": "Python 3.9.12 ('base')",
   "language": "python",
   "name": "python3"
  },
  "language_info": {
   "codemirror_mode": {
    "name": "ipython",
    "version": 3
   },
   "file_extension": ".py",
   "mimetype": "text/x-python",
   "name": "python",
   "nbconvert_exporter": "python",
   "pygments_lexer": "ipython3",
   "version": "3.9.12"
  },
  "orig_nbformat": 4,
  "vscode": {
   "interpreter": {
    "hash": "5fe6031c1074f457b3fd347f0311d894b053018bbc6325eb758284aeacccf2d8"
   }
  }
 },
 "nbformat": 4,
 "nbformat_minor": 2
}
